{
 "cells": [
  {
   "cell_type": "markdown",
   "id": "14289240",
   "metadata": {},
   "source": [
    "# Исследование надежности заемщиков"
   ]
  },
  {
   "cell_type": "markdown",
   "id": "6a8b5d90",
   "metadata": {},
   "source": [
    "## Импорт библиотек и скачивание датасета"
   ]
  },
  {
   "cell_type": "code",
   "execution_count": 1,
   "id": "268b906b",
   "metadata": {},
   "outputs": [],
   "source": [
    "import pandas as pd\n",
    "import numpy as np\n",
    "\n",
    "import matplotlib.pyplot as plt\n",
    "import seaborn as sns"
   ]
  },
  {
   "cell_type": "code",
   "execution_count": 2,
   "id": "e08df173",
   "metadata": {},
   "outputs": [],
   "source": [
    "data = pd.read_csv('https://code.s3.yandex.net/datasets/data.csv')"
   ]
  },
  {
   "cell_type": "code",
   "execution_count": 3,
   "id": "1a68033d",
   "metadata": {},
   "outputs": [
    {
     "data": {
      "text/html": [
       "<div>\n",
       "<style scoped>\n",
       "    .dataframe tbody tr th:only-of-type {\n",
       "        vertical-align: middle;\n",
       "    }\n",
       "\n",
       "    .dataframe tbody tr th {\n",
       "        vertical-align: top;\n",
       "    }\n",
       "\n",
       "    .dataframe thead th {\n",
       "        text-align: right;\n",
       "    }\n",
       "</style>\n",
       "<table border=\"1\" class=\"dataframe\">\n",
       "  <thead>\n",
       "    <tr style=\"text-align: right;\">\n",
       "      <th></th>\n",
       "      <th>children</th>\n",
       "      <th>days_employed</th>\n",
       "      <th>dob_years</th>\n",
       "      <th>education</th>\n",
       "      <th>education_id</th>\n",
       "      <th>family_status</th>\n",
       "      <th>family_status_id</th>\n",
       "      <th>gender</th>\n",
       "      <th>income_type</th>\n",
       "      <th>debt</th>\n",
       "      <th>total_income</th>\n",
       "      <th>purpose</th>\n",
       "    </tr>\n",
       "  </thead>\n",
       "  <tbody>\n",
       "    <tr>\n",
       "      <th>0</th>\n",
       "      <td>1</td>\n",
       "      <td>-8437.673028</td>\n",
       "      <td>42</td>\n",
       "      <td>высшее</td>\n",
       "      <td>0</td>\n",
       "      <td>женат / замужем</td>\n",
       "      <td>0</td>\n",
       "      <td>F</td>\n",
       "      <td>сотрудник</td>\n",
       "      <td>0</td>\n",
       "      <td>253875.639453</td>\n",
       "      <td>покупка жилья</td>\n",
       "    </tr>\n",
       "    <tr>\n",
       "      <th>1</th>\n",
       "      <td>1</td>\n",
       "      <td>-4024.803754</td>\n",
       "      <td>36</td>\n",
       "      <td>среднее</td>\n",
       "      <td>1</td>\n",
       "      <td>женат / замужем</td>\n",
       "      <td>0</td>\n",
       "      <td>F</td>\n",
       "      <td>сотрудник</td>\n",
       "      <td>0</td>\n",
       "      <td>112080.014102</td>\n",
       "      <td>приобретение автомобиля</td>\n",
       "    </tr>\n",
       "    <tr>\n",
       "      <th>2</th>\n",
       "      <td>0</td>\n",
       "      <td>-5623.422610</td>\n",
       "      <td>33</td>\n",
       "      <td>Среднее</td>\n",
       "      <td>1</td>\n",
       "      <td>женат / замужем</td>\n",
       "      <td>0</td>\n",
       "      <td>M</td>\n",
       "      <td>сотрудник</td>\n",
       "      <td>0</td>\n",
       "      <td>145885.952297</td>\n",
       "      <td>покупка жилья</td>\n",
       "    </tr>\n",
       "    <tr>\n",
       "      <th>3</th>\n",
       "      <td>3</td>\n",
       "      <td>-4124.747207</td>\n",
       "      <td>32</td>\n",
       "      <td>среднее</td>\n",
       "      <td>1</td>\n",
       "      <td>женат / замужем</td>\n",
       "      <td>0</td>\n",
       "      <td>M</td>\n",
       "      <td>сотрудник</td>\n",
       "      <td>0</td>\n",
       "      <td>267628.550329</td>\n",
       "      <td>дополнительное образование</td>\n",
       "    </tr>\n",
       "    <tr>\n",
       "      <th>4</th>\n",
       "      <td>0</td>\n",
       "      <td>340266.072047</td>\n",
       "      <td>53</td>\n",
       "      <td>среднее</td>\n",
       "      <td>1</td>\n",
       "      <td>гражданский брак</td>\n",
       "      <td>1</td>\n",
       "      <td>F</td>\n",
       "      <td>пенсионер</td>\n",
       "      <td>0</td>\n",
       "      <td>158616.077870</td>\n",
       "      <td>сыграть свадьбу</td>\n",
       "    </tr>\n",
       "    <tr>\n",
       "      <th>5</th>\n",
       "      <td>0</td>\n",
       "      <td>-926.185831</td>\n",
       "      <td>27</td>\n",
       "      <td>высшее</td>\n",
       "      <td>0</td>\n",
       "      <td>гражданский брак</td>\n",
       "      <td>1</td>\n",
       "      <td>M</td>\n",
       "      <td>компаньон</td>\n",
       "      <td>0</td>\n",
       "      <td>255763.565419</td>\n",
       "      <td>покупка жилья</td>\n",
       "    </tr>\n",
       "    <tr>\n",
       "      <th>6</th>\n",
       "      <td>0</td>\n",
       "      <td>-2879.202052</td>\n",
       "      <td>43</td>\n",
       "      <td>высшее</td>\n",
       "      <td>0</td>\n",
       "      <td>женат / замужем</td>\n",
       "      <td>0</td>\n",
       "      <td>F</td>\n",
       "      <td>компаньон</td>\n",
       "      <td>0</td>\n",
       "      <td>240525.971920</td>\n",
       "      <td>операции с жильем</td>\n",
       "    </tr>\n",
       "    <tr>\n",
       "      <th>7</th>\n",
       "      <td>0</td>\n",
       "      <td>-152.779569</td>\n",
       "      <td>50</td>\n",
       "      <td>СРЕДНЕЕ</td>\n",
       "      <td>1</td>\n",
       "      <td>женат / замужем</td>\n",
       "      <td>0</td>\n",
       "      <td>M</td>\n",
       "      <td>сотрудник</td>\n",
       "      <td>0</td>\n",
       "      <td>135823.934197</td>\n",
       "      <td>образование</td>\n",
       "    </tr>\n",
       "    <tr>\n",
       "      <th>8</th>\n",
       "      <td>2</td>\n",
       "      <td>-6929.865299</td>\n",
       "      <td>35</td>\n",
       "      <td>ВЫСШЕЕ</td>\n",
       "      <td>0</td>\n",
       "      <td>гражданский брак</td>\n",
       "      <td>1</td>\n",
       "      <td>F</td>\n",
       "      <td>сотрудник</td>\n",
       "      <td>0</td>\n",
       "      <td>95856.832424</td>\n",
       "      <td>на проведение свадьбы</td>\n",
       "    </tr>\n",
       "    <tr>\n",
       "      <th>9</th>\n",
       "      <td>0</td>\n",
       "      <td>-2188.756445</td>\n",
       "      <td>41</td>\n",
       "      <td>среднее</td>\n",
       "      <td>1</td>\n",
       "      <td>женат / замужем</td>\n",
       "      <td>0</td>\n",
       "      <td>M</td>\n",
       "      <td>сотрудник</td>\n",
       "      <td>0</td>\n",
       "      <td>144425.938277</td>\n",
       "      <td>покупка жилья для семьи</td>\n",
       "    </tr>\n",
       "    <tr>\n",
       "      <th>10</th>\n",
       "      <td>2</td>\n",
       "      <td>-4171.483647</td>\n",
       "      <td>36</td>\n",
       "      <td>высшее</td>\n",
       "      <td>0</td>\n",
       "      <td>женат / замужем</td>\n",
       "      <td>0</td>\n",
       "      <td>M</td>\n",
       "      <td>компаньон</td>\n",
       "      <td>0</td>\n",
       "      <td>113943.491460</td>\n",
       "      <td>покупка недвижимости</td>\n",
       "    </tr>\n",
       "    <tr>\n",
       "      <th>11</th>\n",
       "      <td>0</td>\n",
       "      <td>-792.701887</td>\n",
       "      <td>40</td>\n",
       "      <td>среднее</td>\n",
       "      <td>1</td>\n",
       "      <td>женат / замужем</td>\n",
       "      <td>0</td>\n",
       "      <td>F</td>\n",
       "      <td>сотрудник</td>\n",
       "      <td>0</td>\n",
       "      <td>77069.234271</td>\n",
       "      <td>покупка коммерческой недвижимости</td>\n",
       "    </tr>\n",
       "    <tr>\n",
       "      <th>12</th>\n",
       "      <td>0</td>\n",
       "      <td>NaN</td>\n",
       "      <td>65</td>\n",
       "      <td>среднее</td>\n",
       "      <td>1</td>\n",
       "      <td>гражданский брак</td>\n",
       "      <td>1</td>\n",
       "      <td>M</td>\n",
       "      <td>пенсионер</td>\n",
       "      <td>0</td>\n",
       "      <td>NaN</td>\n",
       "      <td>сыграть свадьбу</td>\n",
       "    </tr>\n",
       "    <tr>\n",
       "      <th>13</th>\n",
       "      <td>0</td>\n",
       "      <td>-1846.641941</td>\n",
       "      <td>54</td>\n",
       "      <td>неоконченное высшее</td>\n",
       "      <td>2</td>\n",
       "      <td>женат / замужем</td>\n",
       "      <td>0</td>\n",
       "      <td>F</td>\n",
       "      <td>сотрудник</td>\n",
       "      <td>0</td>\n",
       "      <td>130458.228857</td>\n",
       "      <td>приобретение автомобиля</td>\n",
       "    </tr>\n",
       "    <tr>\n",
       "      <th>14</th>\n",
       "      <td>0</td>\n",
       "      <td>-1844.956182</td>\n",
       "      <td>56</td>\n",
       "      <td>высшее</td>\n",
       "      <td>0</td>\n",
       "      <td>гражданский брак</td>\n",
       "      <td>1</td>\n",
       "      <td>F</td>\n",
       "      <td>компаньон</td>\n",
       "      <td>1</td>\n",
       "      <td>165127.911772</td>\n",
       "      <td>покупка жилой недвижимости</td>\n",
       "    </tr>\n",
       "    <tr>\n",
       "      <th>15</th>\n",
       "      <td>1</td>\n",
       "      <td>-972.364419</td>\n",
       "      <td>26</td>\n",
       "      <td>среднее</td>\n",
       "      <td>1</td>\n",
       "      <td>женат / замужем</td>\n",
       "      <td>0</td>\n",
       "      <td>F</td>\n",
       "      <td>сотрудник</td>\n",
       "      <td>0</td>\n",
       "      <td>116820.904450</td>\n",
       "      <td>строительство собственной недвижимости</td>\n",
       "    </tr>\n",
       "    <tr>\n",
       "      <th>16</th>\n",
       "      <td>0</td>\n",
       "      <td>-1719.934226</td>\n",
       "      <td>35</td>\n",
       "      <td>среднее</td>\n",
       "      <td>1</td>\n",
       "      <td>женат / замужем</td>\n",
       "      <td>0</td>\n",
       "      <td>F</td>\n",
       "      <td>сотрудник</td>\n",
       "      <td>0</td>\n",
       "      <td>289202.704229</td>\n",
       "      <td>недвижимость</td>\n",
       "    </tr>\n",
       "    <tr>\n",
       "      <th>17</th>\n",
       "      <td>0</td>\n",
       "      <td>-2369.999720</td>\n",
       "      <td>33</td>\n",
       "      <td>высшее</td>\n",
       "      <td>0</td>\n",
       "      <td>гражданский брак</td>\n",
       "      <td>1</td>\n",
       "      <td>M</td>\n",
       "      <td>сотрудник</td>\n",
       "      <td>0</td>\n",
       "      <td>90410.586745</td>\n",
       "      <td>строительство недвижимости</td>\n",
       "    </tr>\n",
       "    <tr>\n",
       "      <th>18</th>\n",
       "      <td>0</td>\n",
       "      <td>400281.136913</td>\n",
       "      <td>53</td>\n",
       "      <td>среднее</td>\n",
       "      <td>1</td>\n",
       "      <td>вдовец / вдова</td>\n",
       "      <td>2</td>\n",
       "      <td>F</td>\n",
       "      <td>пенсионер</td>\n",
       "      <td>0</td>\n",
       "      <td>56823.777243</td>\n",
       "      <td>на покупку подержанного автомобиля</td>\n",
       "    </tr>\n",
       "    <tr>\n",
       "      <th>19</th>\n",
       "      <td>0</td>\n",
       "      <td>-10038.818549</td>\n",
       "      <td>48</td>\n",
       "      <td>СРЕДНЕЕ</td>\n",
       "      <td>1</td>\n",
       "      <td>в разводе</td>\n",
       "      <td>3</td>\n",
       "      <td>F</td>\n",
       "      <td>сотрудник</td>\n",
       "      <td>0</td>\n",
       "      <td>242831.107982</td>\n",
       "      <td>на покупку своего автомобиля</td>\n",
       "    </tr>\n",
       "  </tbody>\n",
       "</table>\n",
       "</div>"
      ],
      "text/plain": [
       "    children  days_employed  dob_years            education  education_id  \\\n",
       "0          1   -8437.673028         42               высшее             0   \n",
       "1          1   -4024.803754         36              среднее             1   \n",
       "2          0   -5623.422610         33              Среднее             1   \n",
       "3          3   -4124.747207         32              среднее             1   \n",
       "4          0  340266.072047         53              среднее             1   \n",
       "5          0    -926.185831         27               высшее             0   \n",
       "6          0   -2879.202052         43               высшее             0   \n",
       "7          0    -152.779569         50              СРЕДНЕЕ             1   \n",
       "8          2   -6929.865299         35               ВЫСШЕЕ             0   \n",
       "9          0   -2188.756445         41              среднее             1   \n",
       "10         2   -4171.483647         36               высшее             0   \n",
       "11         0    -792.701887         40              среднее             1   \n",
       "12         0            NaN         65              среднее             1   \n",
       "13         0   -1846.641941         54  неоконченное высшее             2   \n",
       "14         0   -1844.956182         56               высшее             0   \n",
       "15         1    -972.364419         26              среднее             1   \n",
       "16         0   -1719.934226         35              среднее             1   \n",
       "17         0   -2369.999720         33               высшее             0   \n",
       "18         0  400281.136913         53              среднее             1   \n",
       "19         0  -10038.818549         48              СРЕДНЕЕ             1   \n",
       "\n",
       "       family_status  family_status_id gender income_type  debt  \\\n",
       "0    женат / замужем                 0      F   сотрудник     0   \n",
       "1    женат / замужем                 0      F   сотрудник     0   \n",
       "2    женат / замужем                 0      M   сотрудник     0   \n",
       "3    женат / замужем                 0      M   сотрудник     0   \n",
       "4   гражданский брак                 1      F   пенсионер     0   \n",
       "5   гражданский брак                 1      M   компаньон     0   \n",
       "6    женат / замужем                 0      F   компаньон     0   \n",
       "7    женат / замужем                 0      M   сотрудник     0   \n",
       "8   гражданский брак                 1      F   сотрудник     0   \n",
       "9    женат / замужем                 0      M   сотрудник     0   \n",
       "10   женат / замужем                 0      M   компаньон     0   \n",
       "11   женат / замужем                 0      F   сотрудник     0   \n",
       "12  гражданский брак                 1      M   пенсионер     0   \n",
       "13   женат / замужем                 0      F   сотрудник     0   \n",
       "14  гражданский брак                 1      F   компаньон     1   \n",
       "15   женат / замужем                 0      F   сотрудник     0   \n",
       "16   женат / замужем                 0      F   сотрудник     0   \n",
       "17  гражданский брак                 1      M   сотрудник     0   \n",
       "18    вдовец / вдова                 2      F   пенсионер     0   \n",
       "19         в разводе                 3      F   сотрудник     0   \n",
       "\n",
       "     total_income                                 purpose  \n",
       "0   253875.639453                           покупка жилья  \n",
       "1   112080.014102                 приобретение автомобиля  \n",
       "2   145885.952297                           покупка жилья  \n",
       "3   267628.550329              дополнительное образование  \n",
       "4   158616.077870                         сыграть свадьбу  \n",
       "5   255763.565419                           покупка жилья  \n",
       "6   240525.971920                       операции с жильем  \n",
       "7   135823.934197                             образование  \n",
       "8    95856.832424                   на проведение свадьбы  \n",
       "9   144425.938277                 покупка жилья для семьи  \n",
       "10  113943.491460                    покупка недвижимости  \n",
       "11   77069.234271       покупка коммерческой недвижимости  \n",
       "12            NaN                         сыграть свадьбу  \n",
       "13  130458.228857                 приобретение автомобиля  \n",
       "14  165127.911772              покупка жилой недвижимости  \n",
       "15  116820.904450  строительство собственной недвижимости  \n",
       "16  289202.704229                            недвижимость  \n",
       "17   90410.586745              строительство недвижимости  \n",
       "18   56823.777243      на покупку подержанного автомобиля  \n",
       "19  242831.107982            на покупку своего автомобиля  "
      ]
     },
     "execution_count": 3,
     "metadata": {},
     "output_type": "execute_result"
    }
   ],
   "source": [
    "data.head(20)"
   ]
  },
  {
   "cell_type": "markdown",
   "id": "f4725e12",
   "metadata": {},
   "source": [
    "## Предобработка данных"
   ]
  },
  {
   "cell_type": "code",
   "execution_count": 4,
   "id": "7a36589c",
   "metadata": {},
   "outputs": [
    {
     "name": "stdout",
     "output_type": "stream",
     "text": [
      "<class 'pandas.core.frame.DataFrame'>\n",
      "RangeIndex: 21525 entries, 0 to 21524\n",
      "Data columns (total 12 columns):\n",
      " #   Column            Non-Null Count  Dtype  \n",
      "---  ------            --------------  -----  \n",
      " 0   children          21525 non-null  int64  \n",
      " 1   days_employed     19351 non-null  float64\n",
      " 2   dob_years         21525 non-null  int64  \n",
      " 3   education         21525 non-null  object \n",
      " 4   education_id      21525 non-null  int64  \n",
      " 5   family_status     21525 non-null  object \n",
      " 6   family_status_id  21525 non-null  int64  \n",
      " 7   gender            21525 non-null  object \n",
      " 8   income_type       21525 non-null  object \n",
      " 9   debt              21525 non-null  int64  \n",
      " 10  total_income      19351 non-null  float64\n",
      " 11  purpose           21525 non-null  object \n",
      "dtypes: float64(2), int64(5), object(5)\n",
      "memory usage: 2.0+ MB\n"
     ]
    }
   ],
   "source": [
    "data.info()"
   ]
  },
  {
   "cell_type": "markdown",
   "id": "298df1c8",
   "metadata": {},
   "source": [
    "В данных есть пропуски. Выведем информацию об их количестве."
   ]
  },
  {
   "cell_type": "code",
   "execution_count": 5,
   "id": "1c9e2f61",
   "metadata": {},
   "outputs": [
    {
     "data": {
      "text/plain": [
       "children               0\n",
       "days_employed       2174\n",
       "dob_years              0\n",
       "education              0\n",
       "education_id           0\n",
       "family_status          0\n",
       "family_status_id       0\n",
       "gender                 0\n",
       "income_type            0\n",
       "debt                   0\n",
       "total_income        2174\n",
       "purpose                0\n",
       "dtype: int64"
      ]
     },
     "execution_count": 5,
     "metadata": {},
     "output_type": "execute_result"
    }
   ],
   "source": [
    "data.isna().sum()"
   ]
  },
  {
   "cell_type": "markdown",
   "id": "03542619",
   "metadata": {},
   "source": [
    "### Определение возможных причин появления пропусков  в данных"
   ]
  },
  {
   "cell_type": "markdown",
   "id": "85a8b104",
   "metadata": {},
   "source": [
    "Заметим, что в обеих колонках (`days_employed` и `total_income`) одинаковое количество пропусков. Проверим, верно ли, что пропуски в этих колонках содержатся в одних и тех же строчках, то есть наличие пропуска в текущей строке в одной колонке гарантирует наличие пропуска в текущей строке в другой колонке"
   ]
  },
  {
   "cell_type": "code",
   "execution_count": 6,
   "id": "d7a929dd",
   "metadata": {},
   "outputs": [
    {
     "data": {
      "text/plain": [
       "array([ True])"
      ]
     },
     "execution_count": 6,
     "metadata": {},
     "output_type": "execute_result"
    }
   ],
   "source": [
    "check_series = data['days_employed'].isna() == data['total_income'].isna()\n",
    "check_series.unique()"
   ]
  },
  {
   "cell_type": "code",
   "execution_count": 7,
   "id": "fa25ddbc",
   "metadata": {},
   "outputs": [
    {
     "data": {
      "text/plain": [
       "income_type\n",
       "безработный            2\n",
       "в декрете              1\n",
       "госслужащий         1459\n",
       "компаньон           5085\n",
       "пенсионер           3856\n",
       "предприниматель        2\n",
       "сотрудник          11119\n",
       "студент                1\n",
       "Name: debt, dtype: int64"
      ]
     },
     "execution_count": 7,
     "metadata": {},
     "output_type": "execute_result"
    }
   ],
   "source": [
    "data.groupby('income_type')['debt'].count()"
   ]
  },
  {
   "cell_type": "markdown",
   "id": "bc4959de",
   "metadata": {},
   "source": [
    "При принятии решения о выдаче кредита банки обязательно оценивают платежеспособность потенциального заемщика. Для этого они смотрят на трудовой стаж и ежемесячный доход. Поэтому пропускать эти поля в анкете нельзя. Значит, пропуски там могли возникнуть либо случайно, либо по причине того, что человек не работает официально.\n",
    "\n",
    "Из вывода последней ячейки видно, что больше всего заемщиков относятся к категориям \"госслужащий\", \"компаньон\", \"пенсионер\", \"сотрудник\". Следовательно, основная масса пропусков будет именно у этих людей. Так как значения пропущены в колонке, показывающей трудовой стаж, на который банки смотрят обязательно (за исключением случаев, когда человек не работает официально), то единственно возможной категорией для неслучайных пропусков остаются пенсионеры. Но пенсионеры проработали много лет, значит, у них колоссальный трудовой стаж, а значит, пропуски в этой категории носят также случайный характер."
   ]
  },
  {
   "cell_type": "markdown",
   "id": "7aa1ea3b",
   "metadata": {},
   "source": [
    "### Удаление пропусков"
   ]
  },
  {
   "cell_type": "markdown",
   "id": "7d70bde0",
   "metadata": {},
   "source": [
    "Пропуски встречаются в столбцах `days_employed` и `total_income`, тип значений в которых является числовым. На сумму дохода сильнее всего влияет тип занятости, поэтому заполнить пропуски в этом столбце нужно медианным значением по каждому типу из столбца `income_type`."
   ]
  },
  {
   "cell_type": "code",
   "execution_count": 8,
   "id": "ca344ded",
   "metadata": {},
   "outputs": [],
   "source": [
    "median_income_type = data.groupby('income_type')['total_income'].median()\n",
    "for inc in data['income_type'].unique():\n",
    "    data.loc[(data['income_type'] == inc) & (data['total_income'].isna()), 'total_income'] = median_income_type.loc[inc]"
   ]
  },
  {
   "cell_type": "markdown",
   "id": "b16a8e98",
   "metadata": {},
   "source": [
    "### Обработка аномальных значений"
   ]
  },
  {
   "cell_type": "markdown",
   "id": "1a8a7116",
   "metadata": {},
   "source": [
    "В данных присутствуют аномальные значения, например, отрицательное значение трудового стажа. Обработаем их."
   ]
  },
  {
   "cell_type": "code",
   "execution_count": 9,
   "id": "afe176ed",
   "metadata": {},
   "outputs": [],
   "source": [
    "data['days_employed'] = data['days_employed'].apply(lambda x: abs(x))"
   ]
  },
  {
   "cell_type": "markdown",
   "id": "6fc8f6ad",
   "metadata": {},
   "source": [
    "Для каждого типа занятости выведем медианное значение трудового стажа `days_employed` в днях."
   ]
  },
  {
   "cell_type": "code",
   "execution_count": 10,
   "id": "f37ebb7f",
   "metadata": {},
   "outputs": [
    {
     "data": {
      "text/plain": [
       "income_type\n",
       "безработный        366413.652744\n",
       "в декрете            3296.759962\n",
       "госслужащий          2689.368353\n",
       "компаньон            1547.382223\n",
       "пенсионер          365213.306266\n",
       "предприниматель       520.848083\n",
       "сотрудник            1574.202821\n",
       "студент               578.751554\n",
       "Name: days_employed, dtype: float64"
      ]
     },
     "execution_count": 10,
     "metadata": {},
     "output_type": "execute_result"
    }
   ],
   "source": [
    "data.groupby('income_type')['days_employed'].median()"
   ]
  },
  {
   "cell_type": "markdown",
   "id": "fe1096bd",
   "metadata": {},
   "source": [
    "У двух типов (безработные и пенсионеры) получатся аномально большие значения. Исправить такие значения сложно, поэтому оставим их как есть. Тем более этот столбец не понадобится для исследования."
   ]
  },
  {
   "cell_type": "markdown",
   "id": "3000268c",
   "metadata": {},
   "source": [
    "Посмотрим теперь на столбец, содержащий информацию о количестве детей."
   ]
  },
  {
   "cell_type": "code",
   "execution_count": 11,
   "id": "abf509a3",
   "metadata": {},
   "outputs": [
    {
     "data": {
      "text/plain": [
       "array([ 1,  0,  3,  2, -1,  4, 20,  5], dtype=int64)"
      ]
     },
     "execution_count": 11,
     "metadata": {},
     "output_type": "execute_result"
    }
   ],
   "source": [
    "data['children'].unique()"
   ]
  },
  {
   "cell_type": "markdown",
   "id": "718d2695",
   "metadata": {},
   "source": [
    "В столбце `children` есть два аномальных значения. Посмотрим, как часто они встречаются"
   ]
  },
  {
   "cell_type": "code",
   "execution_count": 12,
   "id": "d1a542d7",
   "metadata": {},
   "outputs": [
    {
     "data": {
      "text/plain": [
       "123"
      ]
     },
     "execution_count": 12,
     "metadata": {},
     "output_type": "execute_result"
    }
   ],
   "source": [
    "data.loc[(data['children'] == -1) | (data['children'] == 20), :].shape[0]"
   ]
  },
  {
   "cell_type": "markdown",
   "id": "37a277a5",
   "metadata": {},
   "source": [
    "Таких значений всего 123. В сравнении с 21000 это небольшое количество. Удалим соответствующие строки. (Хотя, вообще говоря, 123 строки - это довольно много информации, поэтому можно было бы рассмотреть еще 2 пути решения: замена -1 на 1, а 20 на 2 или замена их самыми часто встречающимися значениями)"
   ]
  },
  {
   "cell_type": "code",
   "execution_count": 13,
   "id": "fd03cbb2",
   "metadata": {},
   "outputs": [],
   "source": [
    "data = data.loc[(data['children'] != -1) & (data['children'] != 20), :].reset_index(drop=True)"
   ]
  },
  {
   "cell_type": "code",
   "execution_count": 14,
   "id": "98cad8de",
   "metadata": {},
   "outputs": [
    {
     "data": {
      "text/plain": [
       "array([1, 0, 3, 2, 4, 5], dtype=int64)"
      ]
     },
     "execution_count": 14,
     "metadata": {},
     "output_type": "execute_result"
    }
   ],
   "source": [
    "data['children'].unique()"
   ]
  },
  {
   "cell_type": "markdown",
   "id": "aaa3082d",
   "metadata": {},
   "source": [
    "### Продолжим обрабатывать пропуски"
   ]
  },
  {
   "cell_type": "markdown",
   "id": "95bb7aea",
   "metadata": {},
   "source": [
    "Заполним пропуски в столбце `days_employed` медианными значениями по каждому типу занятости `income_type`."
   ]
  },
  {
   "cell_type": "code",
   "execution_count": 15,
   "id": "bcb9fb89",
   "metadata": {},
   "outputs": [],
   "source": [
    "for inc in data['income_type'].unique():\n",
    "    data.loc[(data['income_type'] == inc) & (data['days_employed'].isna()), 'days_employed'] = \\\n",
    "    data.loc[data['income_type'] == inc, 'days_employed'].median()"
   ]
  },
  {
   "cell_type": "code",
   "execution_count": 16,
   "id": "8c333d90",
   "metadata": {},
   "outputs": [
    {
     "data": {
      "text/plain": [
       "children            0\n",
       "days_employed       0\n",
       "dob_years           0\n",
       "education           0\n",
       "education_id        0\n",
       "family_status       0\n",
       "family_status_id    0\n",
       "gender              0\n",
       "income_type         0\n",
       "debt                0\n",
       "total_income        0\n",
       "purpose             0\n",
       "dtype: int64"
      ]
     },
     "execution_count": 16,
     "metadata": {},
     "output_type": "execute_result"
    }
   ],
   "source": [
    "data.isna().sum()"
   ]
  },
  {
   "cell_type": "markdown",
   "id": "665b965c",
   "metadata": {},
   "source": [
    "### Изменение типов данных"
   ]
  },
  {
   "cell_type": "code",
   "execution_count": 17,
   "id": "6682c936",
   "metadata": {},
   "outputs": [],
   "source": [
    "data['total_income'] = data['total_income'].astype('int')"
   ]
  },
  {
   "cell_type": "markdown",
   "id": "52878e18",
   "metadata": {},
   "source": [
    "### Обработка дубликатов"
   ]
  },
  {
   "cell_type": "markdown",
   "id": "3c803991",
   "metadata": {},
   "source": [
    "Обработаем сначала неявные дубликаты. В столбце `education` есть одни и те же значения, записанные по-разному: с использованием заглавных и строчных букв. Приведем их к нижнему регистру"
   ]
  },
  {
   "cell_type": "code",
   "execution_count": 18,
   "id": "ee25e1df",
   "metadata": {},
   "outputs": [],
   "source": [
    "data['education'] = data['education'].str.lower()"
   ]
  },
  {
   "cell_type": "markdown",
   "id": "72c54901",
   "metadata": {},
   "source": [
    "Теперь удалим явные дубликаты"
   ]
  },
  {
   "cell_type": "code",
   "execution_count": 19,
   "id": "2c919b9d",
   "metadata": {},
   "outputs": [
    {
     "data": {
      "text/plain": [
       "71"
      ]
     },
     "execution_count": 19,
     "metadata": {},
     "output_type": "execute_result"
    }
   ],
   "source": [
    "data.duplicated().sum()"
   ]
  },
  {
   "cell_type": "code",
   "execution_count": 20,
   "id": "c7b934c2",
   "metadata": {},
   "outputs": [],
   "source": [
    "data = data.drop_duplicates(keep='first')"
   ]
  },
  {
   "cell_type": "markdown",
   "id": "f138a288",
   "metadata": {},
   "source": [
    "### Категоризация данных"
   ]
  },
  {
   "cell_type": "markdown",
   "id": "b0bb558a",
   "metadata": {},
   "source": [
    "Создадим столбец `total_income_category`, в котором разобьем всех заемщиков на категории по уровню дохода следующим образом:\n",
    "\n",
    "* 0–30000 — `'E'`;\n",
    "* 30001–50000 — `'D'`;\n",
    "* 50001–200000 — `'C'`;\n",
    "* 200001–1000000 — `'B'`;\n",
    "* 1000001 и выше — `'A'`."
   ]
  },
  {
   "cell_type": "code",
   "execution_count": 21,
   "id": "2923cfa9",
   "metadata": {},
   "outputs": [],
   "source": [
    "def categorize_income(income):\n",
    "    if 0 <= income <= 30000:\n",
    "        return 'E'\n",
    "    if 30001 <= income <= 50000:\n",
    "        return 'D'\n",
    "    if 50001 <= income <= 200000:\n",
    "        return 'C'\n",
    "    if 200001 <= income <= 1000000:\n",
    "        return 'B'\n",
    "    if income > 1000000:\n",
    "        return 'A'"
   ]
  },
  {
   "cell_type": "code",
   "execution_count": 22,
   "id": "423bd2a6",
   "metadata": {},
   "outputs": [],
   "source": [
    "data['total_income_category'] = data['total_income'].apply(categorize_income)"
   ]
  },
  {
   "cell_type": "markdown",
   "id": "c4a62bff",
   "metadata": {},
   "source": [
    "Выведем перечень уникальных целей взятия кредита из столбца `purpose`."
   ]
  },
  {
   "cell_type": "code",
   "execution_count": 23,
   "id": "5a5a9481",
   "metadata": {},
   "outputs": [
    {
     "data": {
      "text/plain": [
       "array(['покупка жилья', 'приобретение автомобиля',\n",
       "       'дополнительное образование', 'сыграть свадьбу',\n",
       "       'операции с жильем', 'образование', 'на проведение свадьбы',\n",
       "       'покупка жилья для семьи', 'покупка недвижимости',\n",
       "       'покупка коммерческой недвижимости', 'покупка жилой недвижимости',\n",
       "       'строительство собственной недвижимости', 'недвижимость',\n",
       "       'строительство недвижимости', 'на покупку подержанного автомобиля',\n",
       "       'на покупку своего автомобиля',\n",
       "       'операции с коммерческой недвижимостью',\n",
       "       'строительство жилой недвижимости', 'жилье',\n",
       "       'операции со своей недвижимостью', 'автомобили',\n",
       "       'заняться образованием', 'сделка с подержанным автомобилем',\n",
       "       'получение образования', 'автомобиль', 'свадьба',\n",
       "       'получение дополнительного образования', 'покупка своего жилья',\n",
       "       'операции с недвижимостью', 'получение высшего образования',\n",
       "       'свой автомобиль', 'сделка с автомобилем',\n",
       "       'профильное образование', 'высшее образование',\n",
       "       'покупка жилья для сдачи', 'на покупку автомобиля', 'ремонт жилью',\n",
       "       'заняться высшим образованием'], dtype=object)"
      ]
     },
     "execution_count": 23,
     "metadata": {},
     "output_type": "execute_result"
    }
   ],
   "source": [
    "data['purpose'].unique()"
   ]
  },
  {
   "cell_type": "markdown",
   "id": "db9359bb",
   "metadata": {},
   "source": [
    "На основании данных из столбца `purpose` сформируем новый столбец `purpose_category`, в который войдут следующие категории:\n",
    "\n",
    "* `'операции с автомобилем'`,\n",
    "* `'операции с недвижимостью'`,\n",
    "* `'проведение свадьбы'`,\n",
    "* `'получение образования'`."
   ]
  },
  {
   "cell_type": "code",
   "execution_count": 24,
   "id": "ba26ff03",
   "metadata": {},
   "outputs": [],
   "source": [
    "def categorize_purpose(purpose):\n",
    "    if 'жиль' in purpose or 'недвижимост' in purpose:\n",
    "        return 'операции с недвижимостью'\n",
    "    if 'авто' in purpose:\n",
    "        return 'операции с автомобилем'\n",
    "    if 'свадьб' in purpose:\n",
    "        return 'проведение свадьбы'\n",
    "    if 'образован' in purpose:\n",
    "        return 'получение образования'"
   ]
  },
  {
   "cell_type": "code",
   "execution_count": 25,
   "id": "24eaea5f",
   "metadata": {},
   "outputs": [],
   "source": [
    "data['purpose_category'] = data['purpose'].apply(categorize_purpose)"
   ]
  },
  {
   "cell_type": "markdown",
   "id": "a7ac6224",
   "metadata": {},
   "source": [
    "На этом этапе предобработка данных завершена. Выведем итоговый датафрейм"
   ]
  },
  {
   "cell_type": "code",
   "execution_count": 26,
   "id": "99997281",
   "metadata": {},
   "outputs": [
    {
     "data": {
      "text/html": [
       "<div>\n",
       "<style scoped>\n",
       "    .dataframe tbody tr th:only-of-type {\n",
       "        vertical-align: middle;\n",
       "    }\n",
       "\n",
       "    .dataframe tbody tr th {\n",
       "        vertical-align: top;\n",
       "    }\n",
       "\n",
       "    .dataframe thead th {\n",
       "        text-align: right;\n",
       "    }\n",
       "</style>\n",
       "<table border=\"1\" class=\"dataframe\">\n",
       "  <thead>\n",
       "    <tr style=\"text-align: right;\">\n",
       "      <th></th>\n",
       "      <th>children</th>\n",
       "      <th>days_employed</th>\n",
       "      <th>dob_years</th>\n",
       "      <th>education</th>\n",
       "      <th>education_id</th>\n",
       "      <th>family_status</th>\n",
       "      <th>family_status_id</th>\n",
       "      <th>gender</th>\n",
       "      <th>income_type</th>\n",
       "      <th>debt</th>\n",
       "      <th>total_income</th>\n",
       "      <th>purpose</th>\n",
       "      <th>total_income_category</th>\n",
       "      <th>purpose_category</th>\n",
       "    </tr>\n",
       "  </thead>\n",
       "  <tbody>\n",
       "    <tr>\n",
       "      <th>0</th>\n",
       "      <td>1</td>\n",
       "      <td>8437.673028</td>\n",
       "      <td>42</td>\n",
       "      <td>высшее</td>\n",
       "      <td>0</td>\n",
       "      <td>женат / замужем</td>\n",
       "      <td>0</td>\n",
       "      <td>F</td>\n",
       "      <td>сотрудник</td>\n",
       "      <td>0</td>\n",
       "      <td>253875</td>\n",
       "      <td>покупка жилья</td>\n",
       "      <td>B</td>\n",
       "      <td>операции с недвижимостью</td>\n",
       "    </tr>\n",
       "    <tr>\n",
       "      <th>1</th>\n",
       "      <td>1</td>\n",
       "      <td>4024.803754</td>\n",
       "      <td>36</td>\n",
       "      <td>среднее</td>\n",
       "      <td>1</td>\n",
       "      <td>женат / замужем</td>\n",
       "      <td>0</td>\n",
       "      <td>F</td>\n",
       "      <td>сотрудник</td>\n",
       "      <td>0</td>\n",
       "      <td>112080</td>\n",
       "      <td>приобретение автомобиля</td>\n",
       "      <td>C</td>\n",
       "      <td>операции с автомобилем</td>\n",
       "    </tr>\n",
       "    <tr>\n",
       "      <th>2</th>\n",
       "      <td>0</td>\n",
       "      <td>5623.422610</td>\n",
       "      <td>33</td>\n",
       "      <td>среднее</td>\n",
       "      <td>1</td>\n",
       "      <td>женат / замужем</td>\n",
       "      <td>0</td>\n",
       "      <td>M</td>\n",
       "      <td>сотрудник</td>\n",
       "      <td>0</td>\n",
       "      <td>145885</td>\n",
       "      <td>покупка жилья</td>\n",
       "      <td>C</td>\n",
       "      <td>операции с недвижимостью</td>\n",
       "    </tr>\n",
       "    <tr>\n",
       "      <th>3</th>\n",
       "      <td>3</td>\n",
       "      <td>4124.747207</td>\n",
       "      <td>32</td>\n",
       "      <td>среднее</td>\n",
       "      <td>1</td>\n",
       "      <td>женат / замужем</td>\n",
       "      <td>0</td>\n",
       "      <td>M</td>\n",
       "      <td>сотрудник</td>\n",
       "      <td>0</td>\n",
       "      <td>267628</td>\n",
       "      <td>дополнительное образование</td>\n",
       "      <td>B</td>\n",
       "      <td>получение образования</td>\n",
       "    </tr>\n",
       "    <tr>\n",
       "      <th>4</th>\n",
       "      <td>0</td>\n",
       "      <td>340266.072047</td>\n",
       "      <td>53</td>\n",
       "      <td>среднее</td>\n",
       "      <td>1</td>\n",
       "      <td>гражданский брак</td>\n",
       "      <td>1</td>\n",
       "      <td>F</td>\n",
       "      <td>пенсионер</td>\n",
       "      <td>0</td>\n",
       "      <td>158616</td>\n",
       "      <td>сыграть свадьбу</td>\n",
       "      <td>C</td>\n",
       "      <td>проведение свадьбы</td>\n",
       "    </tr>\n",
       "  </tbody>\n",
       "</table>\n",
       "</div>"
      ],
      "text/plain": [
       "   children  days_employed  dob_years education  education_id  \\\n",
       "0         1    8437.673028         42    высшее             0   \n",
       "1         1    4024.803754         36   среднее             1   \n",
       "2         0    5623.422610         33   среднее             1   \n",
       "3         3    4124.747207         32   среднее             1   \n",
       "4         0  340266.072047         53   среднее             1   \n",
       "\n",
       "      family_status  family_status_id gender income_type  debt  total_income  \\\n",
       "0   женат / замужем                 0      F   сотрудник     0        253875   \n",
       "1   женат / замужем                 0      F   сотрудник     0        112080   \n",
       "2   женат / замужем                 0      M   сотрудник     0        145885   \n",
       "3   женат / замужем                 0      M   сотрудник     0        267628   \n",
       "4  гражданский брак                 1      F   пенсионер     0        158616   \n",
       "\n",
       "                      purpose total_income_category          purpose_category  \n",
       "0               покупка жилья                     B  операции с недвижимостью  \n",
       "1     приобретение автомобиля                     C    операции с автомобилем  \n",
       "2               покупка жилья                     C  операции с недвижимостью  \n",
       "3  дополнительное образование                     B     получение образования  \n",
       "4             сыграть свадьбу                     C        проведение свадьбы  "
      ]
     },
     "execution_count": 26,
     "metadata": {},
     "output_type": "execute_result"
    }
   ],
   "source": [
    "data.head()"
   ]
  },
  {
   "cell_type": "markdown",
   "id": "94d0edc0",
   "metadata": {},
   "source": [
    "## Исследование данных"
   ]
  },
  {
   "cell_type": "markdown",
   "id": "ad106c9e",
   "metadata": {},
   "source": [
    "### Зависимость между количеством детей и возвратом кредита в срок"
   ]
  },
  {
   "cell_type": "markdown",
   "id": "1badac06",
   "metadata": {},
   "source": [
    "Для начала разобьем заемщиков на категории по количеству детей. Номер категории - количество детей.\n",
    "\n",
    "*Примечание*: Столбец mean показывает долю заемщиков, имевших задолженность, от общего числа потенциальных заемщиков по каждой категории"
   ]
  },
  {
   "cell_type": "code",
   "execution_count": 27,
   "id": "4ef9a4c4",
   "metadata": {},
   "outputs": [
    {
     "data": {
      "text/html": [
       "<div>\n",
       "<style scoped>\n",
       "    .dataframe tbody tr th:only-of-type {\n",
       "        vertical-align: middle;\n",
       "    }\n",
       "\n",
       "    .dataframe tbody tr th {\n",
       "        vertical-align: top;\n",
       "    }\n",
       "\n",
       "    .dataframe thead th {\n",
       "        text-align: right;\n",
       "    }\n",
       "</style>\n",
       "<table border=\"1\" class=\"dataframe\">\n",
       "  <thead>\n",
       "    <tr style=\"text-align: right;\">\n",
       "      <th></th>\n",
       "      <th>count</th>\n",
       "      <th>sum</th>\n",
       "      <th>mean</th>\n",
       "    </tr>\n",
       "    <tr>\n",
       "      <th>children</th>\n",
       "      <th></th>\n",
       "      <th></th>\n",
       "      <th></th>\n",
       "    </tr>\n",
       "  </thead>\n",
       "  <tbody>\n",
       "    <tr>\n",
       "      <th>0</th>\n",
       "      <td>14091</td>\n",
       "      <td>1063</td>\n",
       "      <td>7.543822</td>\n",
       "    </tr>\n",
       "    <tr>\n",
       "      <th>1</th>\n",
       "      <td>4808</td>\n",
       "      <td>444</td>\n",
       "      <td>9.234609</td>\n",
       "    </tr>\n",
       "    <tr>\n",
       "      <th>2</th>\n",
       "      <td>2052</td>\n",
       "      <td>194</td>\n",
       "      <td>9.454191</td>\n",
       "    </tr>\n",
       "    <tr>\n",
       "      <th>3</th>\n",
       "      <td>330</td>\n",
       "      <td>27</td>\n",
       "      <td>8.181818</td>\n",
       "    </tr>\n",
       "    <tr>\n",
       "      <th>4</th>\n",
       "      <td>41</td>\n",
       "      <td>4</td>\n",
       "      <td>9.756098</td>\n",
       "    </tr>\n",
       "    <tr>\n",
       "      <th>5</th>\n",
       "      <td>9</td>\n",
       "      <td>0</td>\n",
       "      <td>0.000000</td>\n",
       "    </tr>\n",
       "  </tbody>\n",
       "</table>\n",
       "</div>"
      ],
      "text/plain": [
       "          count   sum      mean\n",
       "children                       \n",
       "0         14091  1063  7.543822\n",
       "1          4808   444  9.234609\n",
       "2          2052   194  9.454191\n",
       "3           330    27  8.181818\n",
       "4            41     4  9.756098\n",
       "5             9     0  0.000000"
      ]
     },
     "execution_count": 27,
     "metadata": {},
     "output_type": "execute_result"
    }
   ],
   "source": [
    "children_pivot = data.pivot_table(index='children', values='debt', aggfunc=['count', 'sum', 'mean'])\n",
    "children_pivot.columns = children_pivot.columns.droplevel(1)\n",
    "children_pivot['mean'] *= 100\n",
    "children_pivot"
   ]
  },
  {
   "cell_type": "markdown",
   "id": "719eb5e3",
   "metadata": {},
   "source": [
    "Видно, что больше всего заемщиков, у которых детей нет совсем, и с ростом количества детей число заемщиков уменьшается. Количество наблюдений по категориям сильно отличается, поэтому имеет смысл смотреть на долю заемщиков (в процентах), имевших задолженность, по каждой категории отдельно.\n",
    "\n",
    "Чтобы лучше понять, есть ли зависимость, построим график. По оси Ox отложено количество детей, а по оси Oy - доля людей с таким количеством детей, имевших задолженность по кредиту."
   ]
  },
  {
   "cell_type": "code",
   "execution_count": 28,
   "id": "3bd467db",
   "metadata": {},
   "outputs": [
    {
     "data": {
      "image/png": "[encoded data removed]",
      "text/plain": [
       "<Figure size 432x288 with 1 Axes>"
      ]
     },
     "metadata": {
      "needs_background": "light"
     },
     "output_type": "display_data"
    }
   ],
   "source": [
    "graph = sns.scatterplot(x=children_pivot.index, y=children_pivot['mean'])\n",
    "graph.set(xlabel='children', ylabel='debt')\n",
    "\n",
    "plt.show()"
   ]
  },
  {
   "cell_type": "markdown",
   "id": "d217a418",
   "metadata": {},
   "source": [
    "График и сводная таблица наглядно показывают, что у тех людей, у которых детей нет, и у тех, у кого 3 ребенка, задолженностей меньше, чем у тех, у кого 1, 2, 4 ребенка. А те, у кого 5 детей, задолженностей не имеют вообще. Последнее может быть связано с тем, что эти лица имеют хороший ежемесячный доход. Проверим это."
   ]
  },
  {
   "cell_type": "code",
   "execution_count": 29,
   "id": "68e6881d",
   "metadata": {},
   "outputs": [
    {
     "name": "stderr",
     "output_type": "stream",
     "text": [
      "C:\\Users\\gturk\\anaconda3\\lib\\site-packages\\seaborn\\_decorators.py:36: FutureWarning: Pass the following variable as a keyword arg: x. From version 0.12, the only valid positional argument will be `data`, and passing other arguments without an explicit keyword will result in an error or misinterpretation.\n",
      "  warnings.warn(\n"
     ]
    },
    {
     "data": {
      "image/png": "[encoded data removed]",
      "text/plain": [
       "<Figure size 432x288 with 1 Axes>"
      ]
     },
     "metadata": {
      "needs_background": "light"
     },
     "output_type": "display_data"
    }
   ],
   "source": [
    "five_children = data[data['children'] == 5]\n",
    "\n",
    "sns.countplot(five_children['total_income_category'])\n",
    "\n",
    "plt.show()"
   ]
  },
  {
   "cell_type": "markdown",
   "id": "5c097dec",
   "metadata": {},
   "source": [
    "Из гистограммы видно, что примерно половина людей, у которых 5 детей, имеют ежемесячный доход в диапазоне от 200000 до 1000000 рублей. Еще 4 человека из 9 имеют доход от 50000 до 20000 рублей в месяц. И только 1 человек имеет доход от 30000 до 50000 рублей в месяц.\n",
    "\n",
    "Чтобы более точно проверить гипотезу, рассмотрим отдельно тех, кто относится к категории C, то есть имеет доход от 50000 до 200000 рублей в месяц. Для этого посмотрим на их зарплаты."
   ]
  },
  {
   "cell_type": "code",
   "execution_count": 30,
   "id": "eaf24cd5",
   "metadata": {},
   "outputs": [
    {
     "data": {
      "text/plain": [
       "3959     142594\n",
       "4376     168460\n",
       "15733     77552\n",
       "16120    126102\n",
       "Name: total_income, dtype: int32"
      ]
     },
     "execution_count": 30,
     "metadata": {},
     "output_type": "execute_result"
    }
   ],
   "source": [
    "data.loc[(data['children'] == 5) & (data['total_income_category'] == 'C'), 'total_income']"
   ]
  },
  {
   "cell_type": "markdown",
   "id": "4ba12c8c",
   "metadata": {},
   "source": [
    "Видно, что их доходы в основном больше 120000 рублей, что составляет вполне достаточную сумму, чтобы гасить кредиты вовремя. Гипотеза подтвердилась."
   ]
  },
  {
   "cell_type": "markdown",
   "id": "3f1c2158",
   "metadata": {},
   "source": [
    "**Вывод:**\n",
    "\n",
    "Больше всего заемщиков - это лица, у которых детей нет. С ростом количества детей количество заемщиков падает. Аналогичным образом ведет себя абсолютное количество заемщиков, не погасивших кредит в срок. Однако при рассмотрении каждой категории заемщиков в отдельности выяснилось, что у тех людей, у которых детей нет совсем, и у тех, у кого 3 ребенка, задолженностей в среднем меньше, чем у тех, кто имеет 1, 2 или 4 детей.\n",
    "\n",
    "Те, у кого 5 детей, не имеют задолженностей вообще. Это может быть связано с тем, что они имеют хороший доход и потому могут погасить кредит в срок."
   ]
  },
  {
   "cell_type": "markdown",
   "id": "0281a773",
   "metadata": {},
   "source": [
    "### Зависимость между семейным положением и возвратом кредита в срок"
   ]
  },
  {
   "cell_type": "markdown",
   "id": "a9473afe",
   "metadata": {},
   "source": [
    "Посмотрим, каким семейным положением обладают заемщики."
   ]
  },
  {
   "cell_type": "code",
   "execution_count": 31,
   "id": "251dd9a1",
   "metadata": {},
   "outputs": [
    {
     "data": {
      "text/plain": [
       "array([0, 1, 2, 3, 4], dtype=int64)"
      ]
     },
     "execution_count": 31,
     "metadata": {},
     "output_type": "execute_result"
    }
   ],
   "source": [
    "data['family_status_id'].unique()"
   ]
  },
  {
   "cell_type": "code",
   "execution_count": 32,
   "id": "8de11a1f",
   "metadata": {},
   "outputs": [
    {
     "name": "stdout",
     "output_type": "stream",
     "text": [
      "Категория 0: женат / замужем\n",
      "Категория 1: гражданский брак\n",
      "Категория 2: вдовец / вдова\n",
      "Категория 3: в разводе\n",
      "Категория 4: Не женат / не замужем\n"
     ]
    }
   ],
   "source": [
    "for i in range(5):\n",
    "    print(f'Категория {i}:', data.loc[data['family_status_id'] == i, 'family_status'].unique()[0])"
   ]
  },
  {
   "cell_type": "markdown",
   "id": "15009bc8",
   "metadata": {},
   "source": [
    "Теперь создадим сводную таблицу по категориям семейного положения и отобразим зависимость на графике"
   ]
  },
  {
   "cell_type": "code",
   "execution_count": 33,
   "id": "cee23cda",
   "metadata": {},
   "outputs": [
    {
     "data": {
      "text/html": [
       "<div>\n",
       "<style scoped>\n",
       "    .dataframe tbody tr th:only-of-type {\n",
       "        vertical-align: middle;\n",
       "    }\n",
       "\n",
       "    .dataframe tbody tr th {\n",
       "        vertical-align: top;\n",
       "    }\n",
       "\n",
       "    .dataframe thead th {\n",
       "        text-align: right;\n",
       "    }\n",
       "</style>\n",
       "<table border=\"1\" class=\"dataframe\">\n",
       "  <thead>\n",
       "    <tr style=\"text-align: right;\">\n",
       "      <th></th>\n",
       "      <th>count</th>\n",
       "      <th>sum</th>\n",
       "      <th>mean</th>\n",
       "    </tr>\n",
       "    <tr>\n",
       "      <th>family_status_id</th>\n",
       "      <th></th>\n",
       "      <th></th>\n",
       "      <th></th>\n",
       "    </tr>\n",
       "  </thead>\n",
       "  <tbody>\n",
       "    <tr>\n",
       "      <th>0</th>\n",
       "      <td>12261</td>\n",
       "      <td>927</td>\n",
       "      <td>7.560558</td>\n",
       "    </tr>\n",
       "    <tr>\n",
       "      <th>1</th>\n",
       "      <td>4134</td>\n",
       "      <td>385</td>\n",
       "      <td>9.313014</td>\n",
       "    </tr>\n",
       "    <tr>\n",
       "      <th>2</th>\n",
       "      <td>951</td>\n",
       "      <td>63</td>\n",
       "      <td>6.624606</td>\n",
       "    </tr>\n",
       "    <tr>\n",
       "      <th>3</th>\n",
       "      <td>1189</td>\n",
       "      <td>84</td>\n",
       "      <td>7.064760</td>\n",
       "    </tr>\n",
       "    <tr>\n",
       "      <th>4</th>\n",
       "      <td>2796</td>\n",
       "      <td>273</td>\n",
       "      <td>9.763948</td>\n",
       "    </tr>\n",
       "  </tbody>\n",
       "</table>\n",
       "</div>"
      ],
      "text/plain": [
       "                  count  sum      mean\n",
       "family_status_id                      \n",
       "0                 12261  927  7.560558\n",
       "1                  4134  385  9.313014\n",
       "2                   951   63  6.624606\n",
       "3                  1189   84  7.064760\n",
       "4                  2796  273  9.763948"
      ]
     },
     "execution_count": 33,
     "metadata": {},
     "output_type": "execute_result"
    }
   ],
   "source": [
    "family_status_pivot = data.pivot_table(index='family_status_id', values='debt', aggfunc=['count', 'sum', 'mean'])\n",
    "family_status_pivot.columns = family_status_pivot.columns.droplevel(1)\n",
    "family_status_pivot['mean'] *= 100\n",
    "family_status_pivot"
   ]
  },
  {
   "cell_type": "markdown",
   "id": "8e2e0c0d",
   "metadata": {},
   "source": [
    "Из сводной таблицы видно, что больше всего заемщиков - это люди, состоящие в законном браке, а меньше всего среди заемщиков вдов и людей в разводе. Промежуточное положени занимают те, кто не женат (не замужем) и те, кто состоит в гражданском браке."
   ]
  },
  {
   "cell_type": "code",
   "execution_count": 34,
   "id": "08cbf1dd",
   "metadata": {},
   "outputs": [
    {
     "data": {
      "image/png": "[encoded data removed]",
      "text/plain": [
       "<Figure size 432x288 with 1 Axes>"
      ]
     },
     "metadata": {
      "needs_background": "light"
     },
     "output_type": "display_data"
    }
   ],
   "source": [
    "graph = sns.scatterplot(x=family_status_pivot.index, y=family_status_pivot['mean'])\n",
    "graph.set(xlabel='family_status_id', ylabel='debt', yticks=range(0, 13, 2), xticks=family_status_pivot.index)\n",
    "\n",
    "plt.show()"
   ]
  },
  {
   "cell_type": "markdown",
   "id": "f0dae227",
   "metadata": {},
   "source": [
    "График позволяет сказать, что люди, находящиеся в так называемом \"гражданском браке\", и люди, которые не женаты (не замужем), чаще имеют задолженности, чем те, кто относится к категориям 0, 2, 3 (женат/замужем, вдовец/вдова, в разводе)"
   ]
  },
  {
   "cell_type": "markdown",
   "id": "feea922d",
   "metadata": {},
   "source": [
    "**Вывод:**\n",
    "\n",
    "Влияние семейного положения на факт погашения кредита в срок определенно есть. Из таблицы и графика видно, больше всего задолженностей у лиц, которые не женаты (не замужем), и у тех, кто состоит в гражданском браке. Меньше всего задолженностей у вдов (вдовцов). Среднее положение занимают те, кто женат (замужем) или в разводе."
   ]
  },
  {
   "cell_type": "markdown",
   "id": "5ddd94a9",
   "metadata": {},
   "source": [
    "### Зависимость между уровнем дохода и возвратом кредита в срок"
   ]
  },
  {
   "cell_type": "markdown",
   "id": "1aa003a6",
   "metadata": {},
   "source": [
    "Все заемщики были разделены на категории по уровню дохода, как описано выше. Для удобства продублируем эти категории:\n",
    "\n",
    "* 0–30000 — `'E'`;\n",
    "* 30001–50000 — `'D'`;\n",
    "* 50001–200000 — `'C'`;\n",
    "* 200001–1000000 — `'B'`;\n",
    "* 1000001 и выше — `'A'`.\n",
    "\n",
    "Построим сводную таблицу и график"
   ]
  },
  {
   "cell_type": "code",
   "execution_count": 35,
   "id": "0bf1a0b4",
   "metadata": {},
   "outputs": [
    {
     "data": {
      "text/html": [
       "<div>\n",
       "<style scoped>\n",
       "    .dataframe tbody tr th:only-of-type {\n",
       "        vertical-align: middle;\n",
       "    }\n",
       "\n",
       "    .dataframe tbody tr th {\n",
       "        vertical-align: top;\n",
       "    }\n",
       "\n",
       "    .dataframe thead th {\n",
       "        text-align: right;\n",
       "    }\n",
       "</style>\n",
       "<table border=\"1\" class=\"dataframe\">\n",
       "  <thead>\n",
       "    <tr style=\"text-align: right;\">\n",
       "      <th></th>\n",
       "      <th>count</th>\n",
       "      <th>sum</th>\n",
       "      <th>mean</th>\n",
       "    </tr>\n",
       "    <tr>\n",
       "      <th>total_income_category</th>\n",
       "      <th></th>\n",
       "      <th></th>\n",
       "      <th></th>\n",
       "    </tr>\n",
       "  </thead>\n",
       "  <tbody>\n",
       "    <tr>\n",
       "      <th>A</th>\n",
       "      <td>25</td>\n",
       "      <td>2</td>\n",
       "      <td>8.000000</td>\n",
       "    </tr>\n",
       "    <tr>\n",
       "      <th>B</th>\n",
       "      <td>5014</td>\n",
       "      <td>354</td>\n",
       "      <td>7.060231</td>\n",
       "    </tr>\n",
       "    <tr>\n",
       "      <th>C</th>\n",
       "      <td>15921</td>\n",
       "      <td>1353</td>\n",
       "      <td>8.498210</td>\n",
       "    </tr>\n",
       "    <tr>\n",
       "      <th>D</th>\n",
       "      <td>349</td>\n",
       "      <td>21</td>\n",
       "      <td>6.017192</td>\n",
       "    </tr>\n",
       "    <tr>\n",
       "      <th>E</th>\n",
       "      <td>22</td>\n",
       "      <td>2</td>\n",
       "      <td>9.090909</td>\n",
       "    </tr>\n",
       "  </tbody>\n",
       "</table>\n",
       "</div>"
      ],
      "text/plain": [
       "                       count   sum      mean\n",
       "total_income_category                       \n",
       "A                         25     2  8.000000\n",
       "B                       5014   354  7.060231\n",
       "C                      15921  1353  8.498210\n",
       "D                        349    21  6.017192\n",
       "E                         22     2  9.090909"
      ]
     },
     "execution_count": 35,
     "metadata": {},
     "output_type": "execute_result"
    }
   ],
   "source": [
    "total_income_pivot = data.pivot_table(index='total_income_category', values='debt', aggfunc=['count', 'sum', 'mean'])\n",
    "total_income_pivot.columns = total_income_pivot.columns.droplevel(1)\n",
    "total_income_pivot['mean'] *= 100\n",
    "total_income_pivot"
   ]
  },
  {
   "cell_type": "markdown",
   "id": "ef6860c7",
   "metadata": {},
   "source": [
    "Неудивительно, что людей, имеющих слишком маленький (до 30000) доход и людей, имеющих внушительный (1000000+) доход, среди заемщиков немного: первые, скорее всего, не смогут платить, а вторым редко нужно брать кредиты (да и вообще таких людей немного), а если и нужно, то для каких-то масштабных целей."
   ]
  },
  {
   "cell_type": "code",
   "execution_count": 36,
   "id": "168601c3",
   "metadata": {},
   "outputs": [
    {
     "data": {
      "image/png": "[encoded data removed]",
      "text/plain": [
       "<Figure size 432x288 with 1 Axes>"
      ]
     },
     "metadata": {
      "needs_background": "light"
     },
     "output_type": "display_data"
    }
   ],
   "source": [
    "graph = sns.scatterplot(x=total_income_pivot.index, y=total_income_pivot['mean'])\n",
    "graph.set(xlabel='total_income_category', ylabel='debt', yticks=range(0, 11, 2), xticks=total_income_pivot.index)\n",
    "\n",
    "plt.show()"
   ]
  },
  {
   "cell_type": "markdown",
   "id": "8bbc4cdd",
   "metadata": {},
   "source": [
    "Интересно, однако, то, что меньше всего задолженностей у тех, чей ежемесячный доход лежит в диапазоне от 30000 до 50000. Второе место занимают те, чей доход варьируется в диапазоне от 200000 до 1000000. Среднее положение - люди с доходом больше 1000000 и люди с доходом от 50000 до 200000. А больше всего задолженностей у тех, чей ежемесячный доход меньше 30000, что вполне объяснимо: этим людям сложнее всего возвращать кредиты по причине невысокого дохода.\n",
    "\n",
    "Давайте посмотрим, на какие цели берут кредиты самые богатые и самые бедные люди. Для этого построим сводные таблицы"
   ]
  },
  {
   "cell_type": "markdown",
   "id": "8b5ebeb5",
   "metadata": {},
   "source": [
    "Для самых богатых:"
   ]
  },
  {
   "cell_type": "code",
   "execution_count": 37,
   "id": "80c127de",
   "metadata": {},
   "outputs": [
    {
     "data": {
      "text/html": [
       "<div>\n",
       "<style scoped>\n",
       "    .dataframe tbody tr th:only-of-type {\n",
       "        vertical-align: middle;\n",
       "    }\n",
       "\n",
       "    .dataframe tbody tr th {\n",
       "        vertical-align: top;\n",
       "    }\n",
       "\n",
       "    .dataframe thead th {\n",
       "        text-align: right;\n",
       "    }\n",
       "</style>\n",
       "<table border=\"1\" class=\"dataframe\">\n",
       "  <thead>\n",
       "    <tr style=\"text-align: right;\">\n",
       "      <th></th>\n",
       "      <th>count</th>\n",
       "      <th>sum</th>\n",
       "      <th>mean</th>\n",
       "    </tr>\n",
       "    <tr>\n",
       "      <th>purpose_category</th>\n",
       "      <th></th>\n",
       "      <th></th>\n",
       "      <th></th>\n",
       "    </tr>\n",
       "  </thead>\n",
       "  <tbody>\n",
       "    <tr>\n",
       "      <th>операции с автомобилем</th>\n",
       "      <td>2</td>\n",
       "      <td>0</td>\n",
       "      <td>0.000000</td>\n",
       "    </tr>\n",
       "    <tr>\n",
       "      <th>операции с недвижимостью</th>\n",
       "      <td>17</td>\n",
       "      <td>1</td>\n",
       "      <td>5.882353</td>\n",
       "    </tr>\n",
       "    <tr>\n",
       "      <th>получение образования</th>\n",
       "      <td>4</td>\n",
       "      <td>1</td>\n",
       "      <td>25.000000</td>\n",
       "    </tr>\n",
       "    <tr>\n",
       "      <th>проведение свадьбы</th>\n",
       "      <td>2</td>\n",
       "      <td>0</td>\n",
       "      <td>0.000000</td>\n",
       "    </tr>\n",
       "  </tbody>\n",
       "</table>\n",
       "</div>"
      ],
      "text/plain": [
       "                          count  sum       mean\n",
       "purpose_category                               \n",
       "операции с автомобилем        2    0   0.000000\n",
       "операции с недвижимостью     17    1   5.882353\n",
       "получение образования         4    1  25.000000\n",
       "проведение свадьбы            2    0   0.000000"
      ]
     },
     "execution_count": 37,
     "metadata": {},
     "output_type": "execute_result"
    }
   ],
   "source": [
    "rich_pivot = data[data['total_income_category'] == 'A'].pivot_table(index='purpose_category', values='debt', aggfunc=['count', 'sum', 'mean'])\n",
    "rich_pivot.columns = rich_pivot.columns.droplevel(1)\n",
    "rich_pivot['mean'] *= 100\n",
    "rich_pivot"
   ]
  },
  {
   "cell_type": "markdown",
   "id": "224a38fe",
   "metadata": {},
   "source": [
    "Для самых бедных:"
   ]
  },
  {
   "cell_type": "code",
   "execution_count": 38,
   "id": "ff09e507",
   "metadata": {},
   "outputs": [
    {
     "data": {
      "text/html": [
       "<div>\n",
       "<style scoped>\n",
       "    .dataframe tbody tr th:only-of-type {\n",
       "        vertical-align: middle;\n",
       "    }\n",
       "\n",
       "    .dataframe tbody tr th {\n",
       "        vertical-align: top;\n",
       "    }\n",
       "\n",
       "    .dataframe thead th {\n",
       "        text-align: right;\n",
       "    }\n",
       "</style>\n",
       "<table border=\"1\" class=\"dataframe\">\n",
       "  <thead>\n",
       "    <tr style=\"text-align: right;\">\n",
       "      <th></th>\n",
       "      <th>count</th>\n",
       "      <th>sum</th>\n",
       "      <th>mean</th>\n",
       "    </tr>\n",
       "    <tr>\n",
       "      <th>purpose_category</th>\n",
       "      <th></th>\n",
       "      <th></th>\n",
       "      <th></th>\n",
       "    </tr>\n",
       "  </thead>\n",
       "  <tbody>\n",
       "    <tr>\n",
       "      <th>операции с автомобилем</th>\n",
       "      <td>2</td>\n",
       "      <td>0</td>\n",
       "      <td>0.000000</td>\n",
       "    </tr>\n",
       "    <tr>\n",
       "      <th>операции с недвижимостью</th>\n",
       "      <td>11</td>\n",
       "      <td>2</td>\n",
       "      <td>18.181818</td>\n",
       "    </tr>\n",
       "    <tr>\n",
       "      <th>получение образования</th>\n",
       "      <td>5</td>\n",
       "      <td>0</td>\n",
       "      <td>0.000000</td>\n",
       "    </tr>\n",
       "    <tr>\n",
       "      <th>проведение свадьбы</th>\n",
       "      <td>4</td>\n",
       "      <td>0</td>\n",
       "      <td>0.000000</td>\n",
       "    </tr>\n",
       "  </tbody>\n",
       "</table>\n",
       "</div>"
      ],
      "text/plain": [
       "                          count  sum       mean\n",
       "purpose_category                               \n",
       "операции с автомобилем        2    0   0.000000\n",
       "операции с недвижимостью     11    2  18.181818\n",
       "получение образования         5    0   0.000000\n",
       "проведение свадьбы            4    0   0.000000"
      ]
     },
     "execution_count": 38,
     "metadata": {},
     "output_type": "execute_result"
    }
   ],
   "source": [
    "poor_pivot = data[data['total_income_category'] == 'E'].pivot_table(index='purpose_category', values='debt', aggfunc=['count', 'sum', 'mean'])\n",
    "poor_pivot.columns = poor_pivot.columns.droplevel(1)\n",
    "poor_pivot['mean'] *= 100\n",
    "poor_pivot"
   ]
  },
  {
   "cell_type": "markdown",
   "id": "29d16c5b",
   "metadata": {},
   "source": [
    "Из этих таблиц хорошо видно, что и те, и другие чаще всего берут кредиты для проведения различных операций с недвижимостью, второе место занимают кредиты на образование. У бедных на третьем месте проведение свадьбы, а на четвертом - операции с автомобилем. У богатых эти категории занимают одинаковое положение в \"рейтинге\".\n",
    "\n",
    "Также следует заметить, что у бедных задолженности есть только по кредитам на операции с недвижимостью, а у богатых - на операции с недвижимостью и на образование."
   ]
  },
  {
   "cell_type": "markdown",
   "id": "0d0e25cc",
   "metadata": {},
   "source": [
    "**Вывод:**\n",
    "\n",
    "Таким образом, выяснилось, что меньше всего задолженностей по кредитам имеют те, чей ежемесячный доход составляет 30000-50000 или 200000-1000000. А больше всего задолженностей у тех, чей доход меньше 30000, что полне объяснимо: у них низкий ежемесячный доход. Также было замечено, что среди заемщиков больше всего лиц с доходом 50000-1000000, а меньше всего - миллионеров и лиц с доходом ниже 30000. Интересно, что и миллионеры, и лица с самым низким ежемесячным доходом чаще всего берут кредиты для проведения операций с недвижимостью, на втором месте - кредиты на получение образования, причем задолженности по кредитам на операции с недвижимостью есть и у богатых, и у бедных, а задолженности на получение образования - только у богатых."
   ]
  },
  {
   "cell_type": "markdown",
   "id": "7683f01f",
   "metadata": {},
   "source": [
    "### Влияние разных целей кредита на его возврат в срок"
   ]
  },
  {
   "cell_type": "markdown",
   "id": "3f39c4b7",
   "metadata": {},
   "source": [
    "Построим сводную таблицу по целям кредитов и несколько диаграмм для удобства визуального анализа"
   ]
  },
  {
   "cell_type": "code",
   "execution_count": 39,
   "id": "c7f5c48b",
   "metadata": {},
   "outputs": [
    {
     "data": {
      "text/html": [
       "<div>\n",
       "<style scoped>\n",
       "    .dataframe tbody tr th:only-of-type {\n",
       "        vertical-align: middle;\n",
       "    }\n",
       "\n",
       "    .dataframe tbody tr th {\n",
       "        vertical-align: top;\n",
       "    }\n",
       "\n",
       "    .dataframe thead th {\n",
       "        text-align: right;\n",
       "    }\n",
       "</style>\n",
       "<table border=\"1\" class=\"dataframe\">\n",
       "  <thead>\n",
       "    <tr style=\"text-align: right;\">\n",
       "      <th></th>\n",
       "      <th>count</th>\n",
       "      <th>sum</th>\n",
       "      <th>mean</th>\n",
       "    </tr>\n",
       "    <tr>\n",
       "      <th>purpose_category</th>\n",
       "      <th></th>\n",
       "      <th></th>\n",
       "      <th></th>\n",
       "    </tr>\n",
       "  </thead>\n",
       "  <tbody>\n",
       "    <tr>\n",
       "      <th>операции с автомобилем</th>\n",
       "      <td>4279</td>\n",
       "      <td>400</td>\n",
       "      <td>9.347978</td>\n",
       "    </tr>\n",
       "    <tr>\n",
       "      <th>операции с недвижимостью</th>\n",
       "      <td>10751</td>\n",
       "      <td>780</td>\n",
       "      <td>7.255139</td>\n",
       "    </tr>\n",
       "    <tr>\n",
       "      <th>получение образования</th>\n",
       "      <td>3988</td>\n",
       "      <td>369</td>\n",
       "      <td>9.252758</td>\n",
       "    </tr>\n",
       "    <tr>\n",
       "      <th>проведение свадьбы</th>\n",
       "      <td>2313</td>\n",
       "      <td>183</td>\n",
       "      <td>7.911803</td>\n",
       "    </tr>\n",
       "  </tbody>\n",
       "</table>\n",
       "</div>"
      ],
      "text/plain": [
       "                          count  sum      mean\n",
       "purpose_category                              \n",
       "операции с автомобилем     4279  400  9.347978\n",
       "операции с недвижимостью  10751  780  7.255139\n",
       "получение образования      3988  369  9.252758\n",
       "проведение свадьбы         2313  183  7.911803"
      ]
     },
     "execution_count": 39,
     "metadata": {},
     "output_type": "execute_result"
    }
   ],
   "source": [
    "purpose_pivot = data.pivot_table(index='purpose_category', values='debt',  aggfunc=['count', 'sum', 'mean'])\n",
    "purpose_pivot.columns = purpose_pivot.columns.droplevel(1)\n",
    "purpose_pivot['mean'] *= 100\n",
    "purpose_pivot"
   ]
  },
  {
   "cell_type": "code",
   "execution_count": 40,
   "id": "56905c8e",
   "metadata": {},
   "outputs": [
    {
     "data": {
      "image/png": "[encoded data removed]",
      "text/plain": [
       "<Figure size 432x288 with 1 Axes>"
      ]
     },
     "metadata": {
      "needs_background": "light"
     },
     "output_type": "display_data"
    }
   ],
   "source": [
    "graph_count = sns.barplot(x=purpose_pivot.index, y=purpose_pivot['count'])\n",
    "graph_count.set_xticklabels(graph_count.get_xticklabels(), rotation = 60)\n",
    "\n",
    "plt.show()"
   ]
  },
  {
   "cell_type": "code",
   "execution_count": 41,
   "id": "79059448",
   "metadata": {},
   "outputs": [
    {
     "data": {
      "image/png": "[encoded data removed]",
      "text/plain": [
       "<Figure size 432x288 with 1 Axes>"
      ]
     },
     "metadata": {
      "needs_background": "light"
     },
     "output_type": "display_data"
    }
   ],
   "source": [
    "graph_sum = sns.barplot(x=purpose_pivot.index, y=purpose_pivot['sum'])\n",
    "graph_sum.set_xticklabels(graph_sum.get_xticklabels(), rotation = 60)\n",
    "\n",
    "plt.show()"
   ]
  },
  {
   "cell_type": "code",
   "execution_count": 42,
   "id": "0bfe6a70",
   "metadata": {},
   "outputs": [
    {
     "data": {
      "image/png": "[encoded data removed]",
      "text/plain": [
       "<Figure size 432x288 with 1 Axes>"
      ]
     },
     "metadata": {
      "needs_background": "light"
     },
     "output_type": "display_data"
    }
   ],
   "source": [
    "graph_mean = sns.scatterplot(x=purpose_pivot.index, y=purpose_pivot['mean'])\n",
    "graph_mean.set(xlabel='purpose_category', ylabel='debt', yticks=range(0, 11), xticks=purpose_pivot.index)\n",
    "graph_mean.set_xticklabels(purpose_pivot.index, rotation = 60)\n",
    "\n",
    "plt.show()"
   ]
  },
  {
   "cell_type": "markdown",
   "id": "d4da64d5",
   "metadata": {},
   "source": [
    "**Вывод:**\n",
    "\n",
    "Из первых двух гистограмм видно, что больше всего берут кредиты на операции с недвижимостью. По ним же больше всего долгов. Распределение абсолютного количества должников по категориям такое же, как общее распределение заемщиков.\n",
    "\n",
    "Однако в процентном отношении должников по кредитам на операции с недвижимостью меньше всего. Больше всего должников по кредитам на операции с автомобилями и на получение образования. Доля задолженностей по кредитам на проведение свадьбы занимает промежуточное положение."
   ]
  },
  {
   "cell_type": "markdown",
   "id": "0b8843c2",
   "metadata": {},
   "source": [
    "## Общий вывод"
   ]
  },
  {
   "cell_type": "markdown",
   "id": "ca9ebcd9",
   "metadata": {},
   "source": [
    "**_В ходе исследования были получены следующие результаты:_**\n",
    "\n",
    "1) Связь между количеством детей и фактом погашения кредита в срок\n",
    "  * Заемщики, у которых по 5 детей не имеют долгов вообще. Это может быть связано с их хорошим доходом.\n",
    "  * У заемщиков, у которых либо 3 ребенка, либо нет детей вообще в среднем имеют меньше задолженностей, чем те, у кого 1, 2 или 4 ребенка\n",
    "\n",
    "2) Связь между семейным положением и фактом погашения кредита в срок\n",
    "  * Больше всего задолженностей у лиц, которые не женаты (не замужем), и у тех, кто состоит в гражданском браке. Меньше всего задолженностей у вдов (вдовцов). Среднее положение занимают те, кто женат (замужем) или в разводе.\n",
    "\n",
    "3) Связь между ежемесячным доходом и фактом погашения кредита в срок\n",
    "  * Среди заемщиков больше всего лиц с доходом 50000-1000000, а меньше всего - миллионеров и лиц с доходом ниже 30000\n",
    "  * Меньше всего задолженностей по кредитам имеют те, чей ежемесячный доход составляет 30000-50000 или 200000-1000000\n",
    "  * Больше всего задолженностей у тех, чей доход меньше 30000, что полне объяснимо: у них низкий ежемесячный доход. Это же объясняет малое абсолютное количество таких заемщиков\n",
    "  * И миллионеры, и лица с самым низким ежемесячным доходом чаще всего берут кредиты для проведения операций с недвижимостью, на втором месте - кредиты на получение образования, причем задолженности по кредитам на операции с недвижимостью есть и у богатых, и у бедных, а задолженности на получение образования - только у богатых\n",
    "\n",
    "4) Связь между целью кредита и фактом его погашения в срок\n",
    "  * Больше всего берут кредиты на операции с недвижимостью. По ним же больше всего долгов. Имеется в виду абсолютное количество\n",
    "  * В процентном отношении должников по кредитам на операции с недвижимостью меньше всего. Больше всего должников по кредитам на операции с автомобилями и на получение образования. Доля задолженностей по кредитам на проведение свадьбы занимает промежуточное положение\n",
    "\n",
    "На основании этих результатов можно сформировать образ \"идеального\" заемщика. Это человек, у которого пятеро детей, который либо женат (замужем), либо вдовец (вдова). Его ежемесячный доход составляет 200000-1000000 рублей. Цель его кредита - проведение операций с недвижимостью.\n",
    "\n",
    "Теперь что касается образа \"плохого\" заемщика. У него 1, 2 или 4 ребенка. Он либот холост, либо состоит в так называемом \"гражданском браке\" и имеет доход до 30000 в месяц. Цель его кредита - получение образования или проведение операций с автомобилем."
   ]
  }
 ],
 "metadata": {
  "kernelspec": {
   "display_name": "Python 3 (ipykernel)",
   "language": "python",
   "name": "python3"
  },
  "language_info": {
   "codemirror_mode": {
    "name": "ipython",
    "version": 3
   },
   "file_extension": ".py",
   "mimetype": "text/x-python",
   "name": "python",
   "nbconvert_exporter": "python",
   "pygments_lexer": "ipython3",
   "version": "3.9.12"
  }
 },
 "nbformat": 4,
 "nbformat_minor": 5
}
