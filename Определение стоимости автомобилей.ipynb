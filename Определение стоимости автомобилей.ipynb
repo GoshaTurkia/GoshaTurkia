{
 "cells": [
  {
   "cell_type": "markdown",
   "id": "24310116",
   "metadata": {},
   "source": [
    "# Определение стоимости автомобилей\n",
    "\n",
    "\n",
    "## Описание проекта\n",
    "\n",
    "Сервис по продаже автомобилей с пробегом «Не бит, не крашен» разрабатывает приложение, чтобы привлечь новых клиентов. В нём можно будет узнать рыночную стоимость своего автомобиля. Необходимо построить модель, которая умеет её определять.\n",
    "\n",
    "**Признаки**\n",
    "\n",
    "* `DateCrawled` — дата скачивания анкеты из базы\n",
    "\n",
    "* `VehicleType` — тип автомобильного кузова\n",
    "\n",
    "* `RegistrationYear` — год регистрации автомобиля\n",
    "\n",
    "* `Gearbox` — тип коробки передач\n",
    "\n",
    "* `Power` — мощность (л. с.)\n",
    "\n",
    "* `Model` — модель автомобиля\n",
    "\n",
    "* `Kilometer` — пробег (км)\n",
    "\n",
    "* `RegistrationMonth` — месяц регистрации автомобиля\n",
    "\n",
    "* `FuelType` — тип топлива\n",
    "\n",
    "* `Brand` — марка автомобиля\n",
    "\n",
    "* `Repaired` — была машина в ремонте или нет\n",
    "\n",
    "* `DateCreated` — дата создания анкеты\n",
    "\n",
    "* `NumberOfPictures` — количество фотографий автомобиля\n",
    "\n",
    "* `PostalCode` — почтовый индекс владельца анкеты (пользователя)\n",
    "\n",
    "* `LastSeen` — дата последней активности пользователя\n",
    "\n",
    "**Целевой признак**\n",
    "\n",
    "* `Price` — цена (евро)"
   ]
  },
  {
   "cell_type": "code",
   "execution_count": 1,
   "id": "b1de5dfc",
   "metadata": {},
   "outputs": [
    {
     "name": "stderr",
     "output_type": "stream",
     "text": [
      "C:\\Users\\gturk\\anaconda3\\lib\\site-packages\\xgboost\\compat.py:36: FutureWarning: pandas.Int64Index is deprecated and will be removed from pandas in a future version. Use pandas.Index with the appropriate dtype instead.\n",
      "  from pandas import MultiIndex, Int64Index\n"
     ]
    }
   ],
   "source": [
    "import pandas as pd\n",
    "import numpy as np\n",
    "\n",
    "import seaborn as sns\n",
    "import matplotlib.pyplot as plt\n",
    "%matplotlib inline\n",
    "\n",
    "from sklearn.metrics import mean_squared_error, r2_score\n",
    "from sklearn.model_selection import train_test_split\n",
    "from sklearn.preprocessing import OrdinalEncoder, StandardScaler\n",
    "\n",
    "from sklearn.linear_model import LinearRegression\n",
    "from sklearn.tree import DecisionTreeRegressor\n",
    "from sklearn.ensemble import RandomForestRegressor\n",
    "from sklearn.dummy import DummyRegressor\n",
    "\n",
    "from catboost import CatBoostRegressor\n",
    "from lightgbm import LGBMRegressor"
   ]
  },
  {
   "cell_type": "markdown",
   "id": "88b817f0",
   "metadata": {},
   "source": [
    "## Изучение и предобработка данных"
   ]
  },
  {
   "cell_type": "code",
   "execution_count": 2,
   "id": "760d0673",
   "metadata": {},
   "outputs": [
    {
     "data": {
      "text/html": [
       "<div>\n",
       "<style scoped>\n",
       "    .dataframe tbody tr th:only-of-type {\n",
       "        vertical-align: middle;\n",
       "    }\n",
       "\n",
       "    .dataframe tbody tr th {\n",
       "        vertical-align: top;\n",
       "    }\n",
       "\n",
       "    .dataframe thead th {\n",
       "        text-align: right;\n",
       "    }\n",
       "</style>\n",
       "<table border=\"1\" class=\"dataframe\">\n",
       "  <thead>\n",
       "    <tr style=\"text-align: right;\">\n",
       "      <th></th>\n",
       "      <th>DateCrawled</th>\n",
       "      <th>Price</th>\n",
       "      <th>VehicleType</th>\n",
       "      <th>RegistrationYear</th>\n",
       "      <th>Gearbox</th>\n",
       "      <th>Power</th>\n",
       "      <th>Model</th>\n",
       "      <th>Kilometer</th>\n",
       "      <th>RegistrationMonth</th>\n",
       "      <th>FuelType</th>\n",
       "      <th>Brand</th>\n",
       "      <th>Repaired</th>\n",
       "      <th>DateCreated</th>\n",
       "      <th>NumberOfPictures</th>\n",
       "      <th>PostalCode</th>\n",
       "      <th>LastSeen</th>\n",
       "    </tr>\n",
       "  </thead>\n",
       "  <tbody>\n",
       "    <tr>\n",
       "      <th>0</th>\n",
       "      <td>2016-03-24 11:52:17</td>\n",
       "      <td>480</td>\n",
       "      <td>NaN</td>\n",
       "      <td>1993</td>\n",
       "      <td>manual</td>\n",
       "      <td>0</td>\n",
       "      <td>golf</td>\n",
       "      <td>150000</td>\n",
       "      <td>0</td>\n",
       "      <td>petrol</td>\n",
       "      <td>volkswagen</td>\n",
       "      <td>NaN</td>\n",
       "      <td>2016-03-24 00:00:00</td>\n",
       "      <td>0</td>\n",
       "      <td>70435</td>\n",
       "      <td>2016-04-07 03:16:57</td>\n",
       "    </tr>\n",
       "    <tr>\n",
       "      <th>1</th>\n",
       "      <td>2016-03-24 10:58:45</td>\n",
       "      <td>18300</td>\n",
       "      <td>coupe</td>\n",
       "      <td>2011</td>\n",
       "      <td>manual</td>\n",
       "      <td>190</td>\n",
       "      <td>NaN</td>\n",
       "      <td>125000</td>\n",
       "      <td>5</td>\n",
       "      <td>gasoline</td>\n",
       "      <td>audi</td>\n",
       "      <td>yes</td>\n",
       "      <td>2016-03-24 00:00:00</td>\n",
       "      <td>0</td>\n",
       "      <td>66954</td>\n",
       "      <td>2016-04-07 01:46:50</td>\n",
       "    </tr>\n",
       "    <tr>\n",
       "      <th>2</th>\n",
       "      <td>2016-03-14 12:52:21</td>\n",
       "      <td>9800</td>\n",
       "      <td>suv</td>\n",
       "      <td>2004</td>\n",
       "      <td>auto</td>\n",
       "      <td>163</td>\n",
       "      <td>grand</td>\n",
       "      <td>125000</td>\n",
       "      <td>8</td>\n",
       "      <td>gasoline</td>\n",
       "      <td>jeep</td>\n",
       "      <td>NaN</td>\n",
       "      <td>2016-03-14 00:00:00</td>\n",
       "      <td>0</td>\n",
       "      <td>90480</td>\n",
       "      <td>2016-04-05 12:47:46</td>\n",
       "    </tr>\n",
       "    <tr>\n",
       "      <th>3</th>\n",
       "      <td>2016-03-17 16:54:04</td>\n",
       "      <td>1500</td>\n",
       "      <td>small</td>\n",
       "      <td>2001</td>\n",
       "      <td>manual</td>\n",
       "      <td>75</td>\n",
       "      <td>golf</td>\n",
       "      <td>150000</td>\n",
       "      <td>6</td>\n",
       "      <td>petrol</td>\n",
       "      <td>volkswagen</td>\n",
       "      <td>no</td>\n",
       "      <td>2016-03-17 00:00:00</td>\n",
       "      <td>0</td>\n",
       "      <td>91074</td>\n",
       "      <td>2016-03-17 17:40:17</td>\n",
       "    </tr>\n",
       "    <tr>\n",
       "      <th>4</th>\n",
       "      <td>2016-03-31 17:25:20</td>\n",
       "      <td>3600</td>\n",
       "      <td>small</td>\n",
       "      <td>2008</td>\n",
       "      <td>manual</td>\n",
       "      <td>69</td>\n",
       "      <td>fabia</td>\n",
       "      <td>90000</td>\n",
       "      <td>7</td>\n",
       "      <td>gasoline</td>\n",
       "      <td>skoda</td>\n",
       "      <td>no</td>\n",
       "      <td>2016-03-31 00:00:00</td>\n",
       "      <td>0</td>\n",
       "      <td>60437</td>\n",
       "      <td>2016-04-06 10:17:21</td>\n",
       "    </tr>\n",
       "  </tbody>\n",
       "</table>\n",
       "</div>"
      ],
      "text/plain": [
       "           DateCrawled  Price VehicleType  RegistrationYear Gearbox  Power  \\\n",
       "0  2016-03-24 11:52:17    480         NaN              1993  manual      0   \n",
       "1  2016-03-24 10:58:45  18300       coupe              2011  manual    190   \n",
       "2  2016-03-14 12:52:21   9800         suv              2004    auto    163   \n",
       "3  2016-03-17 16:54:04   1500       small              2001  manual     75   \n",
       "4  2016-03-31 17:25:20   3600       small              2008  manual     69   \n",
       "\n",
       "   Model  Kilometer  RegistrationMonth  FuelType       Brand Repaired  \\\n",
       "0   golf     150000                  0    petrol  volkswagen      NaN   \n",
       "1    NaN     125000                  5  gasoline        audi      yes   \n",
       "2  grand     125000                  8  gasoline        jeep      NaN   \n",
       "3   golf     150000                  6    petrol  volkswagen       no   \n",
       "4  fabia      90000                  7  gasoline       skoda       no   \n",
       "\n",
       "           DateCreated  NumberOfPictures  PostalCode             LastSeen  \n",
       "0  2016-03-24 00:00:00                 0       70435  2016-04-07 03:16:57  \n",
       "1  2016-03-24 00:00:00                 0       66954  2016-04-07 01:46:50  \n",
       "2  2016-03-14 00:00:00                 0       90480  2016-04-05 12:47:46  \n",
       "3  2016-03-17 00:00:00                 0       91074  2016-03-17 17:40:17  \n",
       "4  2016-03-31 00:00:00                 0       60437  2016-04-06 10:17:21  "
      ]
     },
     "execution_count": 2,
     "metadata": {},
     "output_type": "execute_result"
    }
   ],
   "source": [
    "data = pd.read_csv('autos.csv')\n",
    "data.head()"
   ]
  },
  {
   "cell_type": "code",
   "execution_count": 3,
   "id": "38870299",
   "metadata": {},
   "outputs": [
    {
     "name": "stdout",
     "output_type": "stream",
     "text": [
      "<class 'pandas.core.frame.DataFrame'>\n",
      "RangeIndex: 354369 entries, 0 to 354368\n",
      "Data columns (total 16 columns):\n",
      " #   Column             Non-Null Count   Dtype \n",
      "---  ------             --------------   ----- \n",
      " 0   DateCrawled        354369 non-null  object\n",
      " 1   Price              354369 non-null  int64 \n",
      " 2   VehicleType        316879 non-null  object\n",
      " 3   RegistrationYear   354369 non-null  int64 \n",
      " 4   Gearbox            334536 non-null  object\n",
      " 5   Power              354369 non-null  int64 \n",
      " 6   Model              334664 non-null  object\n",
      " 7   Kilometer          354369 non-null  int64 \n",
      " 8   RegistrationMonth  354369 non-null  int64 \n",
      " 9   FuelType           321474 non-null  object\n",
      " 10  Brand              354369 non-null  object\n",
      " 11  Repaired           283215 non-null  object\n",
      " 12  DateCreated        354369 non-null  object\n",
      " 13  NumberOfPictures   354369 non-null  int64 \n",
      " 14  PostalCode         354369 non-null  int64 \n",
      " 15  LastSeen           354369 non-null  object\n",
      "dtypes: int64(7), object(9)\n",
      "memory usage: 43.3+ MB\n"
     ]
    }
   ],
   "source": [
    "data.info()"
   ]
  },
  {
   "cell_type": "markdown",
   "id": "3aeee12c",
   "metadata": {},
   "source": [
    "После первичного анализа у меня возникли следующие мысли: во-первых, в данных есть неинформативные признаки (например, `PostalCode`, `LastSeen`, последний, на мой взгляд, неинформативен, так как совеременные системы позволяют настраивать, к примеру, оповещения на почту, если кто-то заинтересовался вашим товаром); во-вторых, некоторые признаки, возможно, стоит заменить, например, количество фотографий можно заменить на признак, показывающий наличие/отсутствие фотографий.\n",
    "\n",
    "Изучим данные"
   ]
  },
  {
   "cell_type": "markdown",
   "id": "7fae51be",
   "metadata": {},
   "source": [
    "### Изучение данных, удаление неинформативных признаков, обработка аномалий"
   ]
  },
  {
   "cell_type": "code",
   "execution_count": 4,
   "id": "28f05b87",
   "metadata": {
    "scrolled": false
   },
   "outputs": [
    {
     "data": {
      "image/png": "[encoded data removed]",
      "text/plain": [
       "<Figure size 864x504 with 1 Axes>"
      ]
     },
     "metadata": {
      "needs_background": "light"
     },
     "output_type": "display_data"
    },
    {
     "data": {
      "image/png": "[encoded data removed]",
      "text/plain": [
       "<Figure size 864x504 with 1 Axes>"
      ]
     },
     "metadata": {
      "needs_background": "light"
     },
     "output_type": "display_data"
    },
    {
     "data": {
      "image/png": "[encoded data removed]",
      "text/plain": [
       "<Figure size 864x504 with 1 Axes>"
      ]
     },
     "metadata": {
      "needs_background": "light"
     },
     "output_type": "display_data"
    },
    {
     "data": {
      "image/png": "[encoded data removed]",
      "text/plain": [
       "<Figure size 864x504 with 1 Axes>"
      ]
     },
     "metadata": {
      "needs_background": "light"
     },
     "output_type": "display_data"
    },
    {
     "data": {
      "image/png": "[encoded data removed]",
      "text/plain": [
       "<Figure size 864x504 with 1 Axes>"
      ]
     },
     "metadata": {
      "needs_background": "light"
     },
     "output_type": "display_data"
    },
    {
     "data": {
      "image/png": "[encoded data removed]",
      "text/plain": [
       "<Figure size 864x504 with 1 Axes>"
      ]
     },
     "metadata": {
      "needs_background": "light"
     },
     "output_type": "display_data"
    },
    {
     "data": {
      "image/png": "[encoded data removed]",
      "text/plain": [
       "<Figure size 864x504 with 1 Axes>"
      ]
     },
     "metadata": {
      "needs_background": "light"
     },
     "output_type": "display_data"
    }
   ],
   "source": [
    "cols_to_plot = [\n",
    "    'VehicleType',\n",
    "    'Gearbox',\n",
    "    'Kilometer',\n",
    "    'RegistrationMonth',\n",
    "    'FuelType',\n",
    "    'Brand',\n",
    "    'Repaired'\n",
    "]\n",
    "\n",
    "for col in cols_to_plot:\n",
    "    pivot = data.pivot_table(index=col, values='Price', aggfunc='count').rename(columns={'Price':'count'})\n",
    "    pivot = pivot.sort_values(by='count', ascending=False) #.reset_index()\n",
    "    \n",
    "    fig, ax = plt.subplots(figsize = (12, 7))\n",
    "    graph = sns.barplot(x=pivot.index, y=pivot['count'], ax=ax)\n",
    "    graph.set_xticklabels(graph.get_xticklabels(), rotation=60)\n",
    "    graph.set_title(col)\n",
    "    plt.show()"
   ]
  },
  {
   "cell_type": "markdown",
   "id": "4f83e06f",
   "metadata": {},
   "source": [
    "Из полученных графиков видно:\n",
    "\n",
    "* Среди типов автомобильного кузова преобладают sedan, small и wagon\n",
    "\n",
    "* Что касается, коробки - машин с ручной коробкой передач значительно больше, чем машин с автоматической\n",
    "\n",
    "* Большинство автомобилей имеют пробег более 100 тыс км\n",
    "\n",
    "* С месяцем регистрации произошло что-то странное: нумерация 0 - 12, то есть всего 13 месяцев, при этом больше всего автомобилей было зарегистрировано именно в месяц с номером 0\n",
    "\n",
    "* Самый популярный тип топлива - бензин, следом за ним идет газ, правда, автомобилей на газовом топливе значительно меньше\n",
    "\n",
    "* Лидирующий по количеству автомобилей бренд - volkswagen, последний - lada\n",
    "\n",
    "* Также, согласно нашим данным, большинство автомобилей в ремонт не попадали\n",
    "\n",
    "Теперь займемся поиском и обработкой пропусков"
   ]
  },
  {
   "cell_type": "markdown",
   "id": "fd117c40",
   "metadata": {},
   "source": [
    "### Деление на выборки"
   ]
  },
  {
   "cell_type": "code",
   "execution_count": 5,
   "id": "29ea894b",
   "metadata": {},
   "outputs": [],
   "source": [
    "features, target = data.drop('Price', axis=1), data['Price']\n",
    "\n",
    "X_train, X_prom, y_train, y_prom = train_test_split(features, target, test_size=0.4, stratify=features['Brand'], \n",
    "                                                    random_state=42)\n",
    "X_val, X_test, y_val, y_test = train_test_split(X_prom, y_prom, test_size=0.5, stratify=X_prom['Brand'], \n",
    "                                                random_state=42)"
   ]
  },
  {
   "cell_type": "code",
   "execution_count": 6,
   "id": "836676ec",
   "metadata": {},
   "outputs": [
    {
     "data": {
      "text/html": [
       "<div>\n",
       "<style scoped>\n",
       "    .dataframe tbody tr th:only-of-type {\n",
       "        vertical-align: middle;\n",
       "    }\n",
       "\n",
       "    .dataframe tbody tr th {\n",
       "        vertical-align: top;\n",
       "    }\n",
       "\n",
       "    .dataframe thead th {\n",
       "        text-align: right;\n",
       "    }\n",
       "</style>\n",
       "<table border=\"1\" class=\"dataframe\">\n",
       "  <thead>\n",
       "    <tr style=\"text-align: right;\">\n",
       "      <th></th>\n",
       "      <th>DateCrawled</th>\n",
       "      <th>VehicleType</th>\n",
       "      <th>RegistrationYear</th>\n",
       "      <th>Gearbox</th>\n",
       "      <th>Power</th>\n",
       "      <th>Model</th>\n",
       "      <th>Kilometer</th>\n",
       "      <th>RegistrationMonth</th>\n",
       "      <th>FuelType</th>\n",
       "      <th>Brand</th>\n",
       "      <th>Repaired</th>\n",
       "      <th>DateCreated</th>\n",
       "      <th>NumberOfPictures</th>\n",
       "      <th>PostalCode</th>\n",
       "      <th>LastSeen</th>\n",
       "    </tr>\n",
       "  </thead>\n",
       "  <tbody>\n",
       "    <tr>\n",
       "      <th>107447</th>\n",
       "      <td>2016-03-29 20:55:55</td>\n",
       "      <td>sedan</td>\n",
       "      <td>1995</td>\n",
       "      <td>manual</td>\n",
       "      <td>75</td>\n",
       "      <td>golf</td>\n",
       "      <td>150000</td>\n",
       "      <td>5</td>\n",
       "      <td>petrol</td>\n",
       "      <td>volkswagen</td>\n",
       "      <td>no</td>\n",
       "      <td>2016-03-29 00:00:00</td>\n",
       "      <td>0</td>\n",
       "      <td>91174</td>\n",
       "      <td>2016-04-06 07:17:24</td>\n",
       "    </tr>\n",
       "    <tr>\n",
       "      <th>161380</th>\n",
       "      <td>2016-03-08 03:59:48</td>\n",
       "      <td>sedan</td>\n",
       "      <td>2006</td>\n",
       "      <td>auto</td>\n",
       "      <td>298</td>\n",
       "      <td>s_type</td>\n",
       "      <td>90000</td>\n",
       "      <td>3</td>\n",
       "      <td>petrol</td>\n",
       "      <td>jaguar</td>\n",
       "      <td>no</td>\n",
       "      <td>2016-03-08 00:00:00</td>\n",
       "      <td>0</td>\n",
       "      <td>77652</td>\n",
       "      <td>2016-03-25 08:47:13</td>\n",
       "    </tr>\n",
       "    <tr>\n",
       "      <th>210313</th>\n",
       "      <td>2016-03-26 13:47:37</td>\n",
       "      <td>NaN</td>\n",
       "      <td>2018</td>\n",
       "      <td>manual</td>\n",
       "      <td>75</td>\n",
       "      <td>NaN</td>\n",
       "      <td>150000</td>\n",
       "      <td>0</td>\n",
       "      <td>petrol</td>\n",
       "      <td>volkswagen</td>\n",
       "      <td>NaN</td>\n",
       "      <td>2016-03-26 00:00:00</td>\n",
       "      <td>0</td>\n",
       "      <td>45968</td>\n",
       "      <td>2016-04-06 01:46:38</td>\n",
       "    </tr>\n",
       "    <tr>\n",
       "      <th>194039</th>\n",
       "      <td>2016-03-14 16:44:28</td>\n",
       "      <td>sedan</td>\n",
       "      <td>2008</td>\n",
       "      <td>manual</td>\n",
       "      <td>143</td>\n",
       "      <td>a4</td>\n",
       "      <td>80000</td>\n",
       "      <td>11</td>\n",
       "      <td>gasoline</td>\n",
       "      <td>audi</td>\n",
       "      <td>NaN</td>\n",
       "      <td>2016-03-14 00:00:00</td>\n",
       "      <td>0</td>\n",
       "      <td>74226</td>\n",
       "      <td>2016-03-31 03:46:52</td>\n",
       "    </tr>\n",
       "    <tr>\n",
       "      <th>269188</th>\n",
       "      <td>2016-03-15 08:53:19</td>\n",
       "      <td>small</td>\n",
       "      <td>2012</td>\n",
       "      <td>manual</td>\n",
       "      <td>68</td>\n",
       "      <td>spark</td>\n",
       "      <td>60000</td>\n",
       "      <td>4</td>\n",
       "      <td>petrol</td>\n",
       "      <td>chevrolet</td>\n",
       "      <td>no</td>\n",
       "      <td>2016-03-15 00:00:00</td>\n",
       "      <td>0</td>\n",
       "      <td>63165</td>\n",
       "      <td>2016-04-05 18:15:25</td>\n",
       "    </tr>\n",
       "  </tbody>\n",
       "</table>\n",
       "</div>"
      ],
      "text/plain": [
       "                DateCrawled VehicleType  RegistrationYear Gearbox  Power  \\\n",
       "107447  2016-03-29 20:55:55       sedan              1995  manual     75   \n",
       "161380  2016-03-08 03:59:48       sedan              2006    auto    298   \n",
       "210313  2016-03-26 13:47:37         NaN              2018  manual     75   \n",
       "194039  2016-03-14 16:44:28       sedan              2008  manual    143   \n",
       "269188  2016-03-15 08:53:19       small              2012  manual     68   \n",
       "\n",
       "         Model  Kilometer  RegistrationMonth  FuelType       Brand Repaired  \\\n",
       "107447    golf     150000                  5    petrol  volkswagen       no   \n",
       "161380  s_type      90000                  3    petrol      jaguar       no   \n",
       "210313     NaN     150000                  0    petrol  volkswagen      NaN   \n",
       "194039      a4      80000                 11  gasoline        audi      NaN   \n",
       "269188   spark      60000                  4    petrol   chevrolet       no   \n",
       "\n",
       "                DateCreated  NumberOfPictures  PostalCode             LastSeen  \n",
       "107447  2016-03-29 00:00:00                 0       91174  2016-04-06 07:17:24  \n",
       "161380  2016-03-08 00:00:00                 0       77652  2016-03-25 08:47:13  \n",
       "210313  2016-03-26 00:00:00                 0       45968  2016-04-06 01:46:38  \n",
       "194039  2016-03-14 00:00:00                 0       74226  2016-03-31 03:46:52  \n",
       "269188  2016-03-15 00:00:00                 0       63165  2016-04-05 18:15:25  "
      ]
     },
     "execution_count": 6,
     "metadata": {},
     "output_type": "execute_result"
    }
   ],
   "source": [
    "X_train.head()"
   ]
  },
  {
   "cell_type": "code",
   "execution_count": 7,
   "id": "a182c00a",
   "metadata": {},
   "outputs": [
    {
     "data": {
      "text/html": [
       "<div>\n",
       "<style scoped>\n",
       "    .dataframe tbody tr th:only-of-type {\n",
       "        vertical-align: middle;\n",
       "    }\n",
       "\n",
       "    .dataframe tbody tr th {\n",
       "        vertical-align: top;\n",
       "    }\n",
       "\n",
       "    .dataframe thead th {\n",
       "        text-align: right;\n",
       "    }\n",
       "</style>\n",
       "<table border=\"1\" class=\"dataframe\">\n",
       "  <thead>\n",
       "    <tr style=\"text-align: right;\">\n",
       "      <th></th>\n",
       "      <th>DateCrawled</th>\n",
       "      <th>VehicleType</th>\n",
       "      <th>RegistrationYear</th>\n",
       "      <th>Gearbox</th>\n",
       "      <th>Power</th>\n",
       "      <th>Model</th>\n",
       "      <th>Kilometer</th>\n",
       "      <th>RegistrationMonth</th>\n",
       "      <th>FuelType</th>\n",
       "      <th>Brand</th>\n",
       "      <th>Repaired</th>\n",
       "      <th>DateCreated</th>\n",
       "      <th>NumberOfPictures</th>\n",
       "      <th>PostalCode</th>\n",
       "      <th>LastSeen</th>\n",
       "    </tr>\n",
       "  </thead>\n",
       "  <tbody>\n",
       "    <tr>\n",
       "      <th>112005</th>\n",
       "      <td>2016-03-15 16:53:52</td>\n",
       "      <td>NaN</td>\n",
       "      <td>1995</td>\n",
       "      <td>NaN</td>\n",
       "      <td>0</td>\n",
       "      <td>NaN</td>\n",
       "      <td>150000</td>\n",
       "      <td>11</td>\n",
       "      <td>NaN</td>\n",
       "      <td>opel</td>\n",
       "      <td>NaN</td>\n",
       "      <td>2016-03-15 00:00:00</td>\n",
       "      <td>0</td>\n",
       "      <td>44623</td>\n",
       "      <td>2016-03-19 11:16:58</td>\n",
       "    </tr>\n",
       "    <tr>\n",
       "      <th>49235</th>\n",
       "      <td>2016-03-23 15:48:10</td>\n",
       "      <td>NaN</td>\n",
       "      <td>2016</td>\n",
       "      <td>manual</td>\n",
       "      <td>116</td>\n",
       "      <td>cooper</td>\n",
       "      <td>150000</td>\n",
       "      <td>11</td>\n",
       "      <td>petrol</td>\n",
       "      <td>mini</td>\n",
       "      <td>no</td>\n",
       "      <td>2016-03-23 00:00:00</td>\n",
       "      <td>0</td>\n",
       "      <td>89275</td>\n",
       "      <td>2016-04-03 18:17:40</td>\n",
       "    </tr>\n",
       "    <tr>\n",
       "      <th>74535</th>\n",
       "      <td>2016-04-04 21:51:41</td>\n",
       "      <td>wagon</td>\n",
       "      <td>2012</td>\n",
       "      <td>auto</td>\n",
       "      <td>122</td>\n",
       "      <td>passat</td>\n",
       "      <td>125000</td>\n",
       "      <td>5</td>\n",
       "      <td>petrol</td>\n",
       "      <td>volkswagen</td>\n",
       "      <td>no</td>\n",
       "      <td>2016-04-04 00:00:00</td>\n",
       "      <td>0</td>\n",
       "      <td>23738</td>\n",
       "      <td>2016-04-07 00:45:04</td>\n",
       "    </tr>\n",
       "    <tr>\n",
       "      <th>127976</th>\n",
       "      <td>2016-03-29 20:46:51</td>\n",
       "      <td>sedan</td>\n",
       "      <td>2008</td>\n",
       "      <td>auto</td>\n",
       "      <td>250</td>\n",
       "      <td>golf</td>\n",
       "      <td>150000</td>\n",
       "      <td>9</td>\n",
       "      <td>petrol</td>\n",
       "      <td>volkswagen</td>\n",
       "      <td>no</td>\n",
       "      <td>2016-03-29 00:00:00</td>\n",
       "      <td>0</td>\n",
       "      <td>89429</td>\n",
       "      <td>2016-04-06 06:46:58</td>\n",
       "    </tr>\n",
       "    <tr>\n",
       "      <th>262653</th>\n",
       "      <td>2016-04-03 14:53:23</td>\n",
       "      <td>wagon</td>\n",
       "      <td>2003</td>\n",
       "      <td>auto</td>\n",
       "      <td>0</td>\n",
       "      <td>a4</td>\n",
       "      <td>150000</td>\n",
       "      <td>4</td>\n",
       "      <td>petrol</td>\n",
       "      <td>audi</td>\n",
       "      <td>no</td>\n",
       "      <td>2016-04-03 00:00:00</td>\n",
       "      <td>0</td>\n",
       "      <td>92693</td>\n",
       "      <td>2016-04-05 14:15:29</td>\n",
       "    </tr>\n",
       "  </tbody>\n",
       "</table>\n",
       "</div>"
      ],
      "text/plain": [
       "                DateCrawled VehicleType  RegistrationYear Gearbox  Power  \\\n",
       "112005  2016-03-15 16:53:52         NaN              1995     NaN      0   \n",
       "49235   2016-03-23 15:48:10         NaN              2016  manual    116   \n",
       "74535   2016-04-04 21:51:41       wagon              2012    auto    122   \n",
       "127976  2016-03-29 20:46:51       sedan              2008    auto    250   \n",
       "262653  2016-04-03 14:53:23       wagon              2003    auto      0   \n",
       "\n",
       "         Model  Kilometer  RegistrationMonth FuelType       Brand Repaired  \\\n",
       "112005     NaN     150000                 11      NaN        opel      NaN   \n",
       "49235   cooper     150000                 11   petrol        mini       no   \n",
       "74535   passat     125000                  5   petrol  volkswagen       no   \n",
       "127976    golf     150000                  9   petrol  volkswagen       no   \n",
       "262653      a4     150000                  4   petrol        audi       no   \n",
       "\n",
       "                DateCreated  NumberOfPictures  PostalCode             LastSeen  \n",
       "112005  2016-03-15 00:00:00                 0       44623  2016-03-19 11:16:58  \n",
       "49235   2016-03-23 00:00:00                 0       89275  2016-04-03 18:17:40  \n",
       "74535   2016-04-04 00:00:00                 0       23738  2016-04-07 00:45:04  \n",
       "127976  2016-03-29 00:00:00                 0       89429  2016-04-06 06:46:58  \n",
       "262653  2016-04-03 00:00:00                 0       92693  2016-04-05 14:15:29  "
      ]
     },
     "execution_count": 7,
     "metadata": {},
     "output_type": "execute_result"
    }
   ],
   "source": [
    "X_val.head()"
   ]
  },
  {
   "cell_type": "code",
   "execution_count": 8,
   "id": "0837dc35",
   "metadata": {},
   "outputs": [
    {
     "data": {
      "text/html": [
       "<div>\n",
       "<style scoped>\n",
       "    .dataframe tbody tr th:only-of-type {\n",
       "        vertical-align: middle;\n",
       "    }\n",
       "\n",
       "    .dataframe tbody tr th {\n",
       "        vertical-align: top;\n",
       "    }\n",
       "\n",
       "    .dataframe thead th {\n",
       "        text-align: right;\n",
       "    }\n",
       "</style>\n",
       "<table border=\"1\" class=\"dataframe\">\n",
       "  <thead>\n",
       "    <tr style=\"text-align: right;\">\n",
       "      <th></th>\n",
       "      <th>DateCrawled</th>\n",
       "      <th>VehicleType</th>\n",
       "      <th>RegistrationYear</th>\n",
       "      <th>Gearbox</th>\n",
       "      <th>Power</th>\n",
       "      <th>Model</th>\n",
       "      <th>Kilometer</th>\n",
       "      <th>RegistrationMonth</th>\n",
       "      <th>FuelType</th>\n",
       "      <th>Brand</th>\n",
       "      <th>Repaired</th>\n",
       "      <th>DateCreated</th>\n",
       "      <th>NumberOfPictures</th>\n",
       "      <th>PostalCode</th>\n",
       "      <th>LastSeen</th>\n",
       "    </tr>\n",
       "  </thead>\n",
       "  <tbody>\n",
       "    <tr>\n",
       "      <th>177202</th>\n",
       "      <td>2016-03-12 21:06:20</td>\n",
       "      <td>other</td>\n",
       "      <td>2008</td>\n",
       "      <td>manual</td>\n",
       "      <td>136</td>\n",
       "      <td>other</td>\n",
       "      <td>150000</td>\n",
       "      <td>0</td>\n",
       "      <td>gasoline</td>\n",
       "      <td>renault</td>\n",
       "      <td>NaN</td>\n",
       "      <td>2016-03-12 00:00:00</td>\n",
       "      <td>0</td>\n",
       "      <td>65205</td>\n",
       "      <td>2016-04-05 11:50:17</td>\n",
       "    </tr>\n",
       "    <tr>\n",
       "      <th>234024</th>\n",
       "      <td>2016-03-16 11:57:06</td>\n",
       "      <td>small</td>\n",
       "      <td>1998</td>\n",
       "      <td>manual</td>\n",
       "      <td>54</td>\n",
       "      <td>corsa</td>\n",
       "      <td>150000</td>\n",
       "      <td>9</td>\n",
       "      <td>petrol</td>\n",
       "      <td>opel</td>\n",
       "      <td>no</td>\n",
       "      <td>2016-03-16 00:00:00</td>\n",
       "      <td>0</td>\n",
       "      <td>58791</td>\n",
       "      <td>2016-03-17 10:15:29</td>\n",
       "    </tr>\n",
       "    <tr>\n",
       "      <th>75426</th>\n",
       "      <td>2016-03-10 13:48:15</td>\n",
       "      <td>sedan</td>\n",
       "      <td>2002</td>\n",
       "      <td>manual</td>\n",
       "      <td>116</td>\n",
       "      <td>147</td>\n",
       "      <td>150000</td>\n",
       "      <td>12</td>\n",
       "      <td>gasoline</td>\n",
       "      <td>alfa_romeo</td>\n",
       "      <td>no</td>\n",
       "      <td>2016-03-10 00:00:00</td>\n",
       "      <td>0</td>\n",
       "      <td>48531</td>\n",
       "      <td>2016-03-12 03:16:16</td>\n",
       "    </tr>\n",
       "    <tr>\n",
       "      <th>18850</th>\n",
       "      <td>2016-04-05 19:25:36</td>\n",
       "      <td>sedan</td>\n",
       "      <td>1998</td>\n",
       "      <td>manual</td>\n",
       "      <td>90</td>\n",
       "      <td>golf</td>\n",
       "      <td>150000</td>\n",
       "      <td>8</td>\n",
       "      <td>gasoline</td>\n",
       "      <td>volkswagen</td>\n",
       "      <td>yes</td>\n",
       "      <td>2016-04-05 00:00:00</td>\n",
       "      <td>0</td>\n",
       "      <td>65428</td>\n",
       "      <td>2016-04-05 19:25:36</td>\n",
       "    </tr>\n",
       "    <tr>\n",
       "      <th>170213</th>\n",
       "      <td>2016-03-11 11:50:51</td>\n",
       "      <td>sedan</td>\n",
       "      <td>2004</td>\n",
       "      <td>auto</td>\n",
       "      <td>205</td>\n",
       "      <td>e_klasse</td>\n",
       "      <td>150000</td>\n",
       "      <td>2</td>\n",
       "      <td>gasoline</td>\n",
       "      <td>mercedes_benz</td>\n",
       "      <td>NaN</td>\n",
       "      <td>2016-03-11 00:00:00</td>\n",
       "      <td>0</td>\n",
       "      <td>65428</td>\n",
       "      <td>2016-03-25 00:17:58</td>\n",
       "    </tr>\n",
       "  </tbody>\n",
       "</table>\n",
       "</div>"
      ],
      "text/plain": [
       "                DateCrawled VehicleType  RegistrationYear Gearbox  Power  \\\n",
       "177202  2016-03-12 21:06:20       other              2008  manual    136   \n",
       "234024  2016-03-16 11:57:06       small              1998  manual     54   \n",
       "75426   2016-03-10 13:48:15       sedan              2002  manual    116   \n",
       "18850   2016-04-05 19:25:36       sedan              1998  manual     90   \n",
       "170213  2016-03-11 11:50:51       sedan              2004    auto    205   \n",
       "\n",
       "           Model  Kilometer  RegistrationMonth  FuelType          Brand  \\\n",
       "177202     other     150000                  0  gasoline        renault   \n",
       "234024     corsa     150000                  9    petrol           opel   \n",
       "75426        147     150000                 12  gasoline     alfa_romeo   \n",
       "18850       golf     150000                  8  gasoline     volkswagen   \n",
       "170213  e_klasse     150000                  2  gasoline  mercedes_benz   \n",
       "\n",
       "       Repaired          DateCreated  NumberOfPictures  PostalCode  \\\n",
       "177202      NaN  2016-03-12 00:00:00                 0       65205   \n",
       "234024       no  2016-03-16 00:00:00                 0       58791   \n",
       "75426        no  2016-03-10 00:00:00                 0       48531   \n",
       "18850       yes  2016-04-05 00:00:00                 0       65428   \n",
       "170213      NaN  2016-03-11 00:00:00                 0       65428   \n",
       "\n",
       "                   LastSeen  \n",
       "177202  2016-04-05 11:50:17  \n",
       "234024  2016-03-17 10:15:29  \n",
       "75426   2016-03-12 03:16:16  \n",
       "18850   2016-04-05 19:25:36  \n",
       "170213  2016-03-25 00:17:58  "
      ]
     },
     "execution_count": 8,
     "metadata": {},
     "output_type": "execute_result"
    }
   ],
   "source": [
    "X_test.head()"
   ]
  },
  {
   "cell_type": "code",
   "execution_count": 9,
   "id": "cd743331",
   "metadata": {},
   "outputs": [
    {
     "data": {
      "text/plain": [
       "(107447      799\n",
       " 161380    10000\n",
       " 210313     1250\n",
       " 194039    15999\n",
       " 269188     5000\n",
       " Name: Price, dtype: int64,\n",
       " 112005      750\n",
       " 49235      3500\n",
       " 74535     16250\n",
       " 127976    12567\n",
       " 262653     4850\n",
       " Name: Price, dtype: int64,\n",
       " 177202    6250\n",
       " 234024     850\n",
       " 75426     1100\n",
       " 18850     1300\n",
       " 170213    6900\n",
       " Name: Price, dtype: int64)"
      ]
     },
     "execution_count": 9,
     "metadata": {},
     "output_type": "execute_result"
    }
   ],
   "source": [
    "y_train.head(), y_val.head(), y_test.head()"
   ]
  },
  {
   "cell_type": "markdown",
   "id": "f71cb6df",
   "metadata": {},
   "source": [
    "### Обработка пропусков"
   ]
  },
  {
   "cell_type": "code",
   "execution_count": 10,
   "id": "9573f421",
   "metadata": {},
   "outputs": [
    {
     "data": {
      "text/plain": [
       "DateCrawled              0\n",
       "VehicleType          22413\n",
       "RegistrationYear         0\n",
       "Gearbox              11934\n",
       "Power                    0\n",
       "Model                11761\n",
       "Kilometer                0\n",
       "RegistrationMonth        0\n",
       "FuelType             19694\n",
       "Brand                    0\n",
       "Repaired             42766\n",
       "DateCreated              0\n",
       "NumberOfPictures         0\n",
       "PostalCode               0\n",
       "LastSeen                 0\n",
       "dtype: int64"
      ]
     },
     "execution_count": 10,
     "metadata": {},
     "output_type": "execute_result"
    }
   ],
   "source": [
    "X_train.isna().sum()"
   ]
  },
  {
   "cell_type": "code",
   "execution_count": 11,
   "id": "c1d06db3",
   "metadata": {},
   "outputs": [
    {
     "data": {
      "text/plain": [
       "DateCrawled              0\n",
       "VehicleType           7630\n",
       "RegistrationYear         0\n",
       "Gearbox               3987\n",
       "Power                    0\n",
       "Model                 3948\n",
       "Kilometer                0\n",
       "RegistrationMonth        0\n",
       "FuelType              6567\n",
       "Brand                    0\n",
       "Repaired             14226\n",
       "DateCreated              0\n",
       "NumberOfPictures         0\n",
       "PostalCode               0\n",
       "LastSeen                 0\n",
       "dtype: int64"
      ]
     },
     "execution_count": 11,
     "metadata": {},
     "output_type": "execute_result"
    }
   ],
   "source": [
    "X_val.isna().sum()"
   ]
  },
  {
   "cell_type": "code",
   "execution_count": 12,
   "id": "c1c1366b",
   "metadata": {},
   "outputs": [
    {
     "data": {
      "text/plain": [
       "DateCrawled              0\n",
       "VehicleType           7447\n",
       "RegistrationYear         0\n",
       "Gearbox               3912\n",
       "Power                    0\n",
       "Model                 3996\n",
       "Kilometer                0\n",
       "RegistrationMonth        0\n",
       "FuelType              6634\n",
       "Brand                    0\n",
       "Repaired             14162\n",
       "DateCreated              0\n",
       "NumberOfPictures         0\n",
       "PostalCode               0\n",
       "LastSeen                 0\n",
       "dtype: int64"
      ]
     },
     "execution_count": 12,
     "metadata": {},
     "output_type": "execute_result"
    }
   ],
   "source": [
    "X_test.isna().sum()"
   ]
  },
  {
   "cell_type": "markdown",
   "id": "41d18a93",
   "metadata": {},
   "source": [
    "Пропуски имеются в пяти колонках. Начнем с колонки `'Repaired'`, которая содержит информацию о том, была ли машина в ремонте. Большинство машин в ремонте не было, однако про часть машин (примерно 70 тыс строк - около 20% данных) мы не знаем ничего про ремонт. Мне кажется, уместно заполнить эти пропуски значением `'unknown'`"
   ]
  },
  {
   "cell_type": "code",
   "execution_count": 13,
   "id": "7f2501f6",
   "metadata": {},
   "outputs": [],
   "source": [
    "X_train['Repaired'] = X_train['Repaired'].fillna('unknown')\n",
    "X_val['Repaired'] = X_val['Repaired'].fillna('unknown')\n",
    "X_test['Repaired'] = X_test['Repaired'].fillna('unknown')"
   ]
  },
  {
   "cell_type": "markdown",
   "id": "88aed47f",
   "metadata": {},
   "source": [
    "Теперь поработаем с пропусками в колонках `'VehicleType', 'Gearbox', 'FuelType'`, содержащих информацию о некоторых технических характеристиках автомобилей. Заполнять будем следующим образом: сгруппируем машины по маркам и моделям, в каждой группе найдем моду, используем ее для заполнения соответствующих пропусков"
   ]
  },
  {
   "cell_type": "code",
   "execution_count": 14,
   "id": "b31342e9",
   "metadata": {},
   "outputs": [
    {
     "data": {
      "text/html": [
       "<div>\n",
       "<style scoped>\n",
       "    .dataframe tbody tr th:only-of-type {\n",
       "        vertical-align: middle;\n",
       "    }\n",
       "\n",
       "    .dataframe tbody tr th {\n",
       "        vertical-align: top;\n",
       "    }\n",
       "\n",
       "    .dataframe thead th {\n",
       "        text-align: right;\n",
       "    }\n",
       "</style>\n",
       "<table border=\"1\" class=\"dataframe\">\n",
       "  <thead>\n",
       "    <tr style=\"text-align: right;\">\n",
       "      <th></th>\n",
       "      <th></th>\n",
       "      <th>FuelType</th>\n",
       "      <th>Gearbox</th>\n",
       "      <th>VehicleType</th>\n",
       "    </tr>\n",
       "    <tr>\n",
       "      <th>Brand</th>\n",
       "      <th>Model</th>\n",
       "      <th></th>\n",
       "      <th></th>\n",
       "      <th></th>\n",
       "    </tr>\n",
       "  </thead>\n",
       "  <tbody>\n",
       "    <tr>\n",
       "      <th rowspan=\"6\" valign=\"top\">alfa_romeo</th>\n",
       "      <th>145</th>\n",
       "      <td>petrol</td>\n",
       "      <td>manual</td>\n",
       "      <td>small</td>\n",
       "    </tr>\n",
       "    <tr>\n",
       "      <th>147</th>\n",
       "      <td>petrol</td>\n",
       "      <td>manual</td>\n",
       "      <td>sedan</td>\n",
       "    </tr>\n",
       "    <tr>\n",
       "      <th>156</th>\n",
       "      <td>petrol</td>\n",
       "      <td>manual</td>\n",
       "      <td>wagon</td>\n",
       "    </tr>\n",
       "    <tr>\n",
       "      <th>159</th>\n",
       "      <td>gasoline</td>\n",
       "      <td>manual</td>\n",
       "      <td>wagon</td>\n",
       "    </tr>\n",
       "    <tr>\n",
       "      <th>other</th>\n",
       "      <td>petrol</td>\n",
       "      <td>manual</td>\n",
       "      <td>sedan</td>\n",
       "    </tr>\n",
       "    <tr>\n",
       "      <th>spider</th>\n",
       "      <td>petrol</td>\n",
       "      <td>manual</td>\n",
       "      <td>convertible</td>\n",
       "    </tr>\n",
       "    <tr>\n",
       "      <th rowspan=\"9\" valign=\"top\">audi</th>\n",
       "      <th>100</th>\n",
       "      <td>petrol</td>\n",
       "      <td>manual</td>\n",
       "      <td>sedan</td>\n",
       "    </tr>\n",
       "    <tr>\n",
       "      <th>200</th>\n",
       "      <td>petrol</td>\n",
       "      <td>manual</td>\n",
       "      <td>sedan</td>\n",
       "    </tr>\n",
       "    <tr>\n",
       "      <th>80</th>\n",
       "      <td>petrol</td>\n",
       "      <td>manual</td>\n",
       "      <td>sedan</td>\n",
       "    </tr>\n",
       "    <tr>\n",
       "      <th>90</th>\n",
       "      <td>petrol</td>\n",
       "      <td>manual</td>\n",
       "      <td>sedan</td>\n",
       "    </tr>\n",
       "    <tr>\n",
       "      <th>a1</th>\n",
       "      <td>petrol</td>\n",
       "      <td>manual</td>\n",
       "      <td>small</td>\n",
       "    </tr>\n",
       "    <tr>\n",
       "      <th>a2</th>\n",
       "      <td>petrol</td>\n",
       "      <td>manual</td>\n",
       "      <td>small</td>\n",
       "    </tr>\n",
       "    <tr>\n",
       "      <th>a3</th>\n",
       "      <td>petrol</td>\n",
       "      <td>manual</td>\n",
       "      <td>sedan</td>\n",
       "    </tr>\n",
       "    <tr>\n",
       "      <th>a4</th>\n",
       "      <td>gasoline</td>\n",
       "      <td>manual</td>\n",
       "      <td>wagon</td>\n",
       "    </tr>\n",
       "    <tr>\n",
       "      <th>a5</th>\n",
       "      <td>gasoline</td>\n",
       "      <td>manual</td>\n",
       "      <td>coupe</td>\n",
       "    </tr>\n",
       "  </tbody>\n",
       "</table>\n",
       "</div>"
      ],
      "text/plain": [
       "                   FuelType Gearbox  VehicleType\n",
       "Brand      Model                                \n",
       "alfa_romeo 145       petrol  manual        small\n",
       "           147       petrol  manual        sedan\n",
       "           156       petrol  manual        wagon\n",
       "           159     gasoline  manual        wagon\n",
       "           other     petrol  manual        sedan\n",
       "           spider    petrol  manual  convertible\n",
       "audi       100       petrol  manual        sedan\n",
       "           200       petrol  manual        sedan\n",
       "           80        petrol  manual        sedan\n",
       "           90        petrol  manual        sedan\n",
       "           a1        petrol  manual        small\n",
       "           a2        petrol  manual        small\n",
       "           a3        petrol  manual        sedan\n",
       "           a4      gasoline  manual        wagon\n",
       "           a5      gasoline  manual        coupe"
      ]
     },
     "execution_count": 14,
     "metadata": {},
     "output_type": "execute_result"
    }
   ],
   "source": [
    "total_pivot = X_train.pivot_table(\n",
    "    index=['Brand', 'Model'],\n",
    "    values=['VehicleType', 'FuelType', 'Gearbox'],\n",
    "    aggfunc=pd.Series.mode\n",
    ")\n",
    "\n",
    "total_pivot.head(15)"
   ]
  },
  {
   "cell_type": "code",
   "execution_count": 15,
   "id": "5ee565ae",
   "metadata": {},
   "outputs": [
    {
     "name": "stdout",
     "output_type": "stream",
     "text": [
      "115 ['sedan' 'wagon']\n",
      "132 []\n",
      "217 ['convertible' 'suv']\n",
      "220 ['small' 'suv']\n"
     ]
    }
   ],
   "source": [
    "for i in range(total_pivot.shape[0]):\n",
    "    if isinstance(total_pivot['VehicleType'].iloc[i], np.ndarray):\n",
    "        print(i, total_pivot['VehicleType'].iloc[i])"
   ]
  },
  {
   "cell_type": "code",
   "execution_count": 16,
   "id": "ead21364",
   "metadata": {},
   "outputs": [],
   "source": [
    "total_pivot['VehicleType'].iloc[115] = 'sedan'\n",
    "total_pivot['VehicleType'].iloc[217] = 'convertible'\n",
    "total_pivot['VehicleType'].iloc[220] = 'small'"
   ]
  },
  {
   "cell_type": "code",
   "execution_count": 17,
   "id": "ee72f3f7",
   "metadata": {},
   "outputs": [
    {
     "data": {
      "text/plain": [
       "FuelType       petrol\n",
       "Gearbox            []\n",
       "VehicleType        []\n",
       "Name: (land_rover, serie_1), dtype: object"
      ]
     },
     "execution_count": 17,
     "metadata": {},
     "output_type": "execute_result"
    }
   ],
   "source": [
    "total_pivot.iloc[132]"
   ]
  },
  {
   "cell_type": "markdown",
   "id": "dc11cfe2",
   "metadata": {},
   "source": [
    "Заполним этот пропуск в сводной таблице модой по всей марке `'land_rover'`"
   ]
  },
  {
   "cell_type": "code",
   "execution_count": 18,
   "id": "b8677a16",
   "metadata": {},
   "outputs": [
    {
     "data": {
      "text/plain": [
       "0    suv\n",
       "Name: VehicleType, dtype: object"
      ]
     },
     "execution_count": 18,
     "metadata": {},
     "output_type": "execute_result"
    }
   ],
   "source": [
    "X_train.loc[X_train['Brand'] == 'land_rover', 'VehicleType'].mode()"
   ]
  },
  {
   "cell_type": "code",
   "execution_count": 19,
   "id": "0504be71",
   "metadata": {},
   "outputs": [],
   "source": [
    "total_pivot['VehicleType'].iloc[132] = 'suv'"
   ]
  },
  {
   "cell_type": "code",
   "execution_count": 20,
   "id": "a9ca69f0",
   "metadata": {},
   "outputs": [],
   "source": [
    "def find_value_in_pivot(row, col):\n",
    "    try:\n",
    "        return total_pivot.loc[row['Brand'], row['Model']][col]\n",
    "    except:\n",
    "        return 'unknown'"
   ]
  },
  {
   "cell_type": "code",
   "execution_count": 21,
   "id": "db6c77d3",
   "metadata": {},
   "outputs": [],
   "source": [
    "X_train.loc[~X_train['Model'].isna(), 'VehicleType'] = X_train.loc[~X_train['Model'].isna(), 'VehicleType'].fillna(\n",
    "    X_train[~X_train['Model'].isna()].apply(\n",
    "        lambda row: find_value_in_pivot(row, 'VehicleType'), axis=1\n",
    "    )\n",
    ")"
   ]
  },
  {
   "cell_type": "code",
   "execution_count": 22,
   "id": "80050ff8",
   "metadata": {},
   "outputs": [],
   "source": [
    "X_val.loc[~X_val['Model'].isna(), 'VehicleType'] = X_val.loc[~X_val['Model'].isna(), 'VehicleType'].fillna(\n",
    "    X_val[~X_val['Model'].isna()].apply(\n",
    "        lambda row: find_value_in_pivot(row, 'VehicleType'), axis=1\n",
    "    )\n",
    ")"
   ]
  },
  {
   "cell_type": "code",
   "execution_count": 23,
   "id": "6e0f4e45",
   "metadata": {},
   "outputs": [],
   "source": [
    "X_test.loc[~X_test['Model'].isna(), 'VehicleType'] = X_test.loc[~X_test['Model'].isna(), 'VehicleType'].fillna(\n",
    "    X_test[~X_test['Model'].isna()].apply(\n",
    "        lambda row: find_value_in_pivot(row, 'VehicleType'), axis=1\n",
    "    )\n",
    ")"
   ]
  },
  {
   "cell_type": "code",
   "execution_count": 24,
   "id": "2aa66a7e",
   "metadata": {},
   "outputs": [
    {
     "name": "stdout",
     "output_type": "stream",
     "text": [
      "0\n",
      "0\n",
      "0\n"
     ]
    }
   ],
   "source": [
    "print(X_train.loc[~X_train['Model'].isna(), 'VehicleType'].isna().sum())\n",
    "print(X_val.loc[~X_val['Model'].isna(), 'VehicleType'].isna().sum())\n",
    "print(X_test.loc[~X_test['Model'].isna(), 'VehicleType'].isna().sum())"
   ]
  },
  {
   "cell_type": "code",
   "execution_count": 25,
   "id": "4064f773",
   "metadata": {},
   "outputs": [
    {
     "name": "stdout",
     "output_type": "stream",
     "text": [
      "132 []\n"
     ]
    }
   ],
   "source": [
    "for i in range(total_pivot.shape[0]):\n",
    "    if isinstance(total_pivot['Gearbox'].iloc[i], np.ndarray):\n",
    "        print(i, total_pivot['Gearbox'].iloc[i])"
   ]
  },
  {
   "cell_type": "markdown",
   "id": "4a00db81",
   "metadata": {},
   "source": [
    "С этой ячейкой мы уже встречались. Марка - `'land_rover'`"
   ]
  },
  {
   "cell_type": "code",
   "execution_count": 26,
   "id": "40d1b1bc",
   "metadata": {},
   "outputs": [
    {
     "data": {
      "text/plain": [
       "0    manual\n",
       "Name: Gearbox, dtype: object"
      ]
     },
     "execution_count": 26,
     "metadata": {},
     "output_type": "execute_result"
    }
   ],
   "source": [
    "X_train.loc[X_train['Brand'] == 'land_rover', 'Gearbox'].mode()"
   ]
  },
  {
   "cell_type": "code",
   "execution_count": 27,
   "id": "366f24a2",
   "metadata": {},
   "outputs": [],
   "source": [
    "total_pivot['Gearbox'].iloc[132] = 'manual'"
   ]
  },
  {
   "cell_type": "code",
   "execution_count": 28,
   "id": "efd11f6f",
   "metadata": {},
   "outputs": [],
   "source": [
    "X_train.loc[~X_train['Model'].isna(), 'Gearbox'] = X_train.loc[~X_train['Model'].isna(), 'Gearbox'].fillna(\n",
    "    X_train[~X_train['Model'].isna()].apply(\n",
    "        lambda row: find_value_in_pivot(row, 'Gearbox'), axis=1\n",
    "    )\n",
    ")"
   ]
  },
  {
   "cell_type": "code",
   "execution_count": 29,
   "id": "8ad394f0",
   "metadata": {},
   "outputs": [],
   "source": [
    "X_val.loc[~X_val['Model'].isna(), 'Gearbox'] = X_val.loc[~X_val['Model'].isna(), 'Gearbox'].fillna(\n",
    "    X_val[~X_val['Model'].isna()].apply(\n",
    "        lambda row: find_value_in_pivot(row, 'Gearbox'), axis=1\n",
    "    )\n",
    ")"
   ]
  },
  {
   "cell_type": "code",
   "execution_count": 30,
   "id": "c1aac8f2",
   "metadata": {},
   "outputs": [],
   "source": [
    "X_test.loc[~X_test['Model'].isna(), 'Gearbox'] = X_test.loc[~X_test['Model'].isna(), 'Gearbox'].fillna(\n",
    "    X_test[~X_test['Model'].isna()].apply(\n",
    "        lambda row: find_value_in_pivot(row, 'Gearbox'), axis=1\n",
    "    )\n",
    ")"
   ]
  },
  {
   "cell_type": "code",
   "execution_count": 31,
   "id": "3d2676e0",
   "metadata": {},
   "outputs": [
    {
     "name": "stdout",
     "output_type": "stream",
     "text": [
      "0\n",
      "0\n",
      "0\n"
     ]
    }
   ],
   "source": [
    "print(X_train.loc[~X_train['Model'].isna(), 'Gearbox'].isna().sum())\n",
    "print(X_val.loc[~X_val['Model'].isna(), 'Gearbox'].isna().sum())\n",
    "print(X_test.loc[~X_test['Model'].isna(), 'Gearbox'].isna().sum())"
   ]
  },
  {
   "cell_type": "code",
   "execution_count": 32,
   "id": "342f22c3",
   "metadata": {},
   "outputs": [
    {
     "name": "stdout",
     "output_type": "stream",
     "text": [
      "217 ['gasoline' 'petrol']\n",
      "218 ['gasoline' 'petrol']\n",
      "220 ['gasoline' 'petrol']\n",
      "240 ['gasoline' 'petrol']\n"
     ]
    }
   ],
   "source": [
    "for i in range(total_pivot.shape[0]):\n",
    "    if isinstance(total_pivot['FuelType'].iloc[i], np.ndarray):\n",
    "        print(i, total_pivot['FuelType'].iloc[i])"
   ]
  },
  {
   "cell_type": "code",
   "execution_count": 33,
   "id": "cc0a69a9",
   "metadata": {},
   "outputs": [],
   "source": [
    "total_pivot['FuelType'].iloc[217] = 'gasoline'\n",
    "total_pivot['FuelType'].iloc[218] = 'gasoline'\n",
    "total_pivot['FuelType'].iloc[220] = 'gasoline'\n",
    "total_pivot['FuelType'].iloc[240] = 'gasoline'"
   ]
  },
  {
   "cell_type": "code",
   "execution_count": 34,
   "id": "e81039da",
   "metadata": {},
   "outputs": [],
   "source": [
    "X_train.loc[~X_train['Model'].isna(), 'FuelType'] = X_train.loc[~X_train['Model'].isna(), 'FuelType'].fillna(\n",
    "    X_train[~X_train['Model'].isna()].apply(\n",
    "        lambda row: find_value_in_pivot(row, 'FuelType'), axis=1\n",
    "    )\n",
    ")"
   ]
  },
  {
   "cell_type": "code",
   "execution_count": 35,
   "id": "4b6f1689",
   "metadata": {},
   "outputs": [],
   "source": [
    "X_val.loc[~X_val['Model'].isna(), 'FuelType'] = X_val.loc[~X_val['Model'].isna(), 'FuelType'].fillna(\n",
    "    X_val[~X_val['Model'].isna()].apply(\n",
    "        lambda row: find_value_in_pivot(row, 'FuelType'), axis=1\n",
    "    )\n",
    ")"
   ]
  },
  {
   "cell_type": "code",
   "execution_count": 36,
   "id": "cfc06ae7",
   "metadata": {},
   "outputs": [],
   "source": [
    "X_test.loc[~X_test['Model'].isna(), 'FuelType'] = X_test.loc[~X_test['Model'].isna(), 'FuelType'].fillna(\n",
    "    X_test[~X_test['Model'].isna()].apply(\n",
    "        lambda row: find_value_in_pivot(row, 'FuelType'), axis=1\n",
    "    )\n",
    ")"
   ]
  },
  {
   "cell_type": "code",
   "execution_count": 37,
   "id": "8d10344a",
   "metadata": {},
   "outputs": [
    {
     "name": "stdout",
     "output_type": "stream",
     "text": [
      "0\n",
      "0\n",
      "0\n"
     ]
    }
   ],
   "source": [
    "print(X_train.loc[~X_train['Model'].isna(), 'FuelType'].isna().sum())\n",
    "print(X_val.loc[~X_val['Model'].isna(), 'FuelType'].isna().sum())\n",
    "print(X_test.loc[~X_test['Model'].isna(), 'FuelType'].isna().sum())"
   ]
  },
  {
   "cell_type": "markdown",
   "id": "c171aa45",
   "metadata": {},
   "source": [
    "Теперь заполним пропуски в колонке с моделью. Для этого сгруппируем по марке и для каждой марки найдем самую часто встречающуюся модель. После выполнения этой процедуры заполним те пропуски в колонках с типами топлива, кузова, коробки передач, которые не получилось заполнить при первом проходе"
   ]
  },
  {
   "cell_type": "code",
   "execution_count": 38,
   "id": "2273310e",
   "metadata": {},
   "outputs": [
    {
     "data": {
      "text/html": [
       "<div>\n",
       "<style scoped>\n",
       "    .dataframe tbody tr th:only-of-type {\n",
       "        vertical-align: middle;\n",
       "    }\n",
       "\n",
       "    .dataframe tbody tr th {\n",
       "        vertical-align: top;\n",
       "    }\n",
       "\n",
       "    .dataframe thead th {\n",
       "        text-align: right;\n",
       "    }\n",
       "</style>\n",
       "<table border=\"1\" class=\"dataframe\">\n",
       "  <thead>\n",
       "    <tr style=\"text-align: right;\">\n",
       "      <th></th>\n",
       "      <th>Model</th>\n",
       "    </tr>\n",
       "    <tr>\n",
       "      <th>Brand</th>\n",
       "      <th></th>\n",
       "    </tr>\n",
       "  </thead>\n",
       "  <tbody>\n",
       "    <tr>\n",
       "      <th>alfa_romeo</th>\n",
       "      <td>156</td>\n",
       "    </tr>\n",
       "    <tr>\n",
       "      <th>audi</th>\n",
       "      <td>a4</td>\n",
       "    </tr>\n",
       "    <tr>\n",
       "      <th>bmw</th>\n",
       "      <td>3er</td>\n",
       "    </tr>\n",
       "    <tr>\n",
       "      <th>chevrolet</th>\n",
       "      <td>other</td>\n",
       "    </tr>\n",
       "    <tr>\n",
       "      <th>chrysler</th>\n",
       "      <td>other</td>\n",
       "    </tr>\n",
       "    <tr>\n",
       "      <th>citroen</th>\n",
       "      <td>other</td>\n",
       "    </tr>\n",
       "    <tr>\n",
       "      <th>dacia</th>\n",
       "      <td>logan</td>\n",
       "    </tr>\n",
       "    <tr>\n",
       "      <th>daewoo</th>\n",
       "      <td>matiz</td>\n",
       "    </tr>\n",
       "    <tr>\n",
       "      <th>daihatsu</th>\n",
       "      <td>cuore</td>\n",
       "    </tr>\n",
       "    <tr>\n",
       "      <th>fiat</th>\n",
       "      <td>punto</td>\n",
       "    </tr>\n",
       "    <tr>\n",
       "      <th>ford</th>\n",
       "      <td>focus</td>\n",
       "    </tr>\n",
       "    <tr>\n",
       "      <th>honda</th>\n",
       "      <td>civic</td>\n",
       "    </tr>\n",
       "    <tr>\n",
       "      <th>hyundai</th>\n",
       "      <td>i_reihe</td>\n",
       "    </tr>\n",
       "    <tr>\n",
       "      <th>jaguar</th>\n",
       "      <td>other</td>\n",
       "    </tr>\n",
       "    <tr>\n",
       "      <th>jeep</th>\n",
       "      <td>grand</td>\n",
       "    </tr>\n",
       "    <tr>\n",
       "      <th>kia</th>\n",
       "      <td>other</td>\n",
       "    </tr>\n",
       "    <tr>\n",
       "      <th>lada</th>\n",
       "      <td>niva</td>\n",
       "    </tr>\n",
       "    <tr>\n",
       "      <th>lancia</th>\n",
       "      <td>ypsilon</td>\n",
       "    </tr>\n",
       "    <tr>\n",
       "      <th>land_rover</th>\n",
       "      <td>freelander</td>\n",
       "    </tr>\n",
       "    <tr>\n",
       "      <th>mazda</th>\n",
       "      <td>3_reihe</td>\n",
       "    </tr>\n",
       "    <tr>\n",
       "      <th>mercedes_benz</th>\n",
       "      <td>c_klasse</td>\n",
       "    </tr>\n",
       "    <tr>\n",
       "      <th>mini</th>\n",
       "      <td>cooper</td>\n",
       "    </tr>\n",
       "    <tr>\n",
       "      <th>mitsubishi</th>\n",
       "      <td>colt</td>\n",
       "    </tr>\n",
       "    <tr>\n",
       "      <th>nissan</th>\n",
       "      <td>micra</td>\n",
       "    </tr>\n",
       "    <tr>\n",
       "      <th>opel</th>\n",
       "      <td>corsa</td>\n",
       "    </tr>\n",
       "    <tr>\n",
       "      <th>peugeot</th>\n",
       "      <td>2_reihe</td>\n",
       "    </tr>\n",
       "    <tr>\n",
       "      <th>porsche</th>\n",
       "      <td>cayenne</td>\n",
       "    </tr>\n",
       "    <tr>\n",
       "      <th>renault</th>\n",
       "      <td>twingo</td>\n",
       "    </tr>\n",
       "    <tr>\n",
       "      <th>rover</th>\n",
       "      <td>other</td>\n",
       "    </tr>\n",
       "    <tr>\n",
       "      <th>saab</th>\n",
       "      <td>other</td>\n",
       "    </tr>\n",
       "    <tr>\n",
       "      <th>seat</th>\n",
       "      <td>ibiza</td>\n",
       "    </tr>\n",
       "    <tr>\n",
       "      <th>skoda</th>\n",
       "      <td>octavia</td>\n",
       "    </tr>\n",
       "    <tr>\n",
       "      <th>smart</th>\n",
       "      <td>fortwo</td>\n",
       "    </tr>\n",
       "    <tr>\n",
       "      <th>sonstige_autos</th>\n",
       "      <td>[]</td>\n",
       "    </tr>\n",
       "    <tr>\n",
       "      <th>subaru</th>\n",
       "      <td>impreza</td>\n",
       "    </tr>\n",
       "    <tr>\n",
       "      <th>suzuki</th>\n",
       "      <td>other</td>\n",
       "    </tr>\n",
       "    <tr>\n",
       "      <th>toyota</th>\n",
       "      <td>yaris</td>\n",
       "    </tr>\n",
       "    <tr>\n",
       "      <th>trabant</th>\n",
       "      <td>601</td>\n",
       "    </tr>\n",
       "    <tr>\n",
       "      <th>volkswagen</th>\n",
       "      <td>golf</td>\n",
       "    </tr>\n",
       "    <tr>\n",
       "      <th>volvo</th>\n",
       "      <td>v40</td>\n",
       "    </tr>\n",
       "  </tbody>\n",
       "</table>\n",
       "</div>"
      ],
      "text/plain": [
       "                     Model\n",
       "Brand                     \n",
       "alfa_romeo             156\n",
       "audi                    a4\n",
       "bmw                    3er\n",
       "chevrolet            other\n",
       "chrysler             other\n",
       "citroen              other\n",
       "dacia                logan\n",
       "daewoo               matiz\n",
       "daihatsu             cuore\n",
       "fiat                 punto\n",
       "ford                 focus\n",
       "honda                civic\n",
       "hyundai            i_reihe\n",
       "jaguar               other\n",
       "jeep                 grand\n",
       "kia                  other\n",
       "lada                  niva\n",
       "lancia             ypsilon\n",
       "land_rover      freelander\n",
       "mazda              3_reihe\n",
       "mercedes_benz     c_klasse\n",
       "mini                cooper\n",
       "mitsubishi            colt\n",
       "nissan               micra\n",
       "opel                 corsa\n",
       "peugeot            2_reihe\n",
       "porsche            cayenne\n",
       "renault             twingo\n",
       "rover                other\n",
       "saab                 other\n",
       "seat                 ibiza\n",
       "skoda              octavia\n",
       "smart               fortwo\n",
       "sonstige_autos          []\n",
       "subaru             impreza\n",
       "suzuki               other\n",
       "toyota               yaris\n",
       "trabant                601\n",
       "volkswagen            golf\n",
       "volvo                  v40"
      ]
     },
     "execution_count": 38,
     "metadata": {},
     "output_type": "execute_result"
    }
   ],
   "source": [
    "model_pivot = X_train.pivot_table(index='Brand', values='Model', aggfunc=pd.Series.mode)\n",
    "model_pivot"
   ]
  },
  {
   "cell_type": "markdown",
   "id": "d3cd27ce",
   "metadata": {},
   "source": [
    "Во всех брендах значения вполне нормальные, только вот `sonstige_autos` подвел: самое частое значение - nan. Посмотрим, какие еще значения соответствуют этому бренду и в каком процентном соотношении"
   ]
  },
  {
   "cell_type": "code",
   "execution_count": 39,
   "id": "d6ae2104",
   "metadata": {},
   "outputs": [
    {
     "data": {
      "text/plain": [
       "array([nan], dtype=object)"
      ]
     },
     "execution_count": 39,
     "metadata": {},
     "output_type": "execute_result"
    }
   ],
   "source": [
    "X_train.loc[X_train['Brand'] == 'sonstige_autos', 'Model'].unique()"
   ]
  },
  {
   "cell_type": "markdown",
   "id": "0f075b40",
   "metadata": {},
   "source": [
    "Оказывается, nan - единственное значение... Возможно, все машины этой марки были одной модели. Заполним пропуски значением 'unknown'"
   ]
  },
  {
   "cell_type": "code",
   "execution_count": 40,
   "id": "b8e4f095",
   "metadata": {},
   "outputs": [],
   "source": [
    "X_train.loc[X_train['Brand'] == 'sonstige_autos', 'Model'] = 'unknown'"
   ]
  },
  {
   "cell_type": "code",
   "execution_count": 41,
   "id": "569042bc",
   "metadata": {},
   "outputs": [
    {
     "name": "stdout",
     "output_type": "stream",
     "text": [
      "[nan]\n",
      "[nan]\n"
     ]
    }
   ],
   "source": [
    "print(X_val.loc[X_val['Brand'] == 'sonstige_autos', 'Model'].unique())\n",
    "print(X_test.loc[X_test['Brand'] == 'sonstige_autos', 'Model'].unique())"
   ]
  },
  {
   "cell_type": "code",
   "execution_count": 42,
   "id": "d7b9be25",
   "metadata": {},
   "outputs": [],
   "source": [
    "X_val.loc[X_val['Brand'] == 'sonstige_autos', 'Model'] = 'unknown'\n",
    "X_test.loc[X_test['Brand'] == 'sonstige_autos', 'Model'] = 'unknown'"
   ]
  },
  {
   "cell_type": "markdown",
   "id": "9f5a5bcc",
   "metadata": {},
   "source": [
    "Приступим к заполнению основной массы пропусков"
   ]
  },
  {
   "cell_type": "code",
   "execution_count": 43,
   "id": "b76a1998",
   "metadata": {},
   "outputs": [],
   "source": [
    "X_train['Model'] = X_train['Model'].fillna(\n",
    "    X_train.apply(lambda row: model_pivot.loc[row['Brand'], 'Model'], axis=1)\n",
    ")\n",
    "\n",
    "X_val['Model'] = X_val['Model'].fillna(\n",
    "    X_val.apply(lambda row: model_pivot.loc[row['Brand'], 'Model'], axis=1)\n",
    ")\n",
    "\n",
    "X_test['Model'] = X_test['Model'].fillna(\n",
    "    X_test.apply(lambda row: model_pivot.loc[row['Brand'], 'Model'], axis=1)\n",
    ")"
   ]
  },
  {
   "cell_type": "code",
   "execution_count": 44,
   "id": "aa4f2aeb",
   "metadata": {},
   "outputs": [
    {
     "data": {
      "text/plain": [
       "(0, 0, 0)"
      ]
     },
     "execution_count": 44,
     "metadata": {},
     "output_type": "execute_result"
    }
   ],
   "source": [
    "X_train['Model'].isna().sum(), X_val['Model'].isna().sum(), X_test['Model'].isna().sum()"
   ]
  },
  {
   "cell_type": "markdown",
   "id": "32dc11ca",
   "metadata": {},
   "source": [
    "Теперь дозаполним пропуски в колонках `'FuelType', 'Gearbox', 'VehicleType'`. Сначала отдельно добавим марку `'sonstige_autos'`, потому что ее нет в общей сводной таблице, так как на момент формирования таблицы у всех машин этой марки в колонке `'Model'` стояли nan."
   ]
  },
  {
   "cell_type": "code",
   "execution_count": 45,
   "id": "4392778e",
   "metadata": {},
   "outputs": [
    {
     "data": {
      "text/html": [
       "<div>\n",
       "<style scoped>\n",
       "    .dataframe tbody tr th:only-of-type {\n",
       "        vertical-align: middle;\n",
       "    }\n",
       "\n",
       "    .dataframe tbody tr th {\n",
       "        vertical-align: top;\n",
       "    }\n",
       "\n",
       "    .dataframe thead th {\n",
       "        text-align: right;\n",
       "    }\n",
       "</style>\n",
       "<table border=\"1\" class=\"dataframe\">\n",
       "  <thead>\n",
       "    <tr style=\"text-align: right;\">\n",
       "      <th></th>\n",
       "      <th></th>\n",
       "      <th>FuelType</th>\n",
       "      <th>Gearbox</th>\n",
       "      <th>VehicleType</th>\n",
       "    </tr>\n",
       "    <tr>\n",
       "      <th>Brand</th>\n",
       "      <th>Model</th>\n",
       "      <th></th>\n",
       "      <th></th>\n",
       "      <th></th>\n",
       "    </tr>\n",
       "  </thead>\n",
       "  <tbody>\n",
       "    <tr>\n",
       "      <th>sonstige_autos</th>\n",
       "      <th>unknown</th>\n",
       "      <td>petrol</td>\n",
       "      <td>manual</td>\n",
       "      <td>sedan</td>\n",
       "    </tr>\n",
       "  </tbody>\n",
       "</table>\n",
       "</div>"
      ],
      "text/plain": [
       "                       FuelType Gearbox VehicleType\n",
       "Brand          Model                               \n",
       "sonstige_autos unknown   petrol  manual       sedan"
      ]
     },
     "execution_count": 45,
     "metadata": {},
     "output_type": "execute_result"
    }
   ],
   "source": [
    "sonstige_autos_info = X_train.loc[X_train['Brand'] == 'sonstige_autos', ['FuelType', 'Gearbox', 'VehicleType']].mode()\n",
    "sonstige_autos_info[['Brand', 'Model']] = ['sonstige_autos', 'unknown']\n",
    "sonstige_autos_info = sonstige_autos_info.set_index(['Brand', 'Model'])\n",
    "sonstige_autos_info"
   ]
  },
  {
   "cell_type": "code",
   "execution_count": 46,
   "id": "d26ef8cd",
   "metadata": {},
   "outputs": [
    {
     "name": "stderr",
     "output_type": "stream",
     "text": [
      "C:\\Users\\gturk\\AppData\\Local\\Temp\\ipykernel_15996\\2171991642.py:1: FutureWarning: The frame.append method is deprecated and will be removed from pandas in a future version. Use pandas.concat instead.\n",
      "  total_pivot = total_pivot.append(sonstige_autos_info)\n"
     ]
    }
   ],
   "source": [
    "total_pivot = total_pivot.append(sonstige_autos_info)"
   ]
  },
  {
   "cell_type": "code",
   "execution_count": 47,
   "id": "a808b0a6",
   "metadata": {},
   "outputs": [],
   "source": [
    "X_train['VehicleType'] = X_train['VehicleType'].fillna(\n",
    "    X_train.apply(lambda row: find_value_in_pivot(row, 'VehicleType'), axis=1)\n",
    ")"
   ]
  },
  {
   "cell_type": "code",
   "execution_count": 48,
   "id": "261349ae",
   "metadata": {},
   "outputs": [],
   "source": [
    "X_train['Gearbox'] = X_train['Gearbox'].fillna(\n",
    "    X_train.apply(lambda row: find_value_in_pivot(row, 'Gearbox'), axis=1)\n",
    ")"
   ]
  },
  {
   "cell_type": "code",
   "execution_count": 49,
   "id": "7e3bd8ca",
   "metadata": {},
   "outputs": [],
   "source": [
    "X_train['FuelType'] = X_train['FuelType'].fillna(\n",
    "    X_train.apply(lambda row: find_value_in_pivot(row, 'FuelType'), axis=1)\n",
    ")"
   ]
  },
  {
   "cell_type": "code",
   "execution_count": 50,
   "id": "1affc7a9",
   "metadata": {},
   "outputs": [],
   "source": [
    "X_val['VehicleType'] = X_val['VehicleType'].fillna(\n",
    "    X_val.apply(lambda row: find_value_in_pivot(row, 'VehicleType'), axis=1)\n",
    ")\n",
    "\n",
    "X_val['Gearbox'] = X_val['Gearbox'].fillna(\n",
    "    X_val.apply(lambda row: find_value_in_pivot(row, 'Gearbox'), axis=1)\n",
    ")\n",
    "\n",
    "X_val['FuelType'] = X_val['FuelType'].fillna(\n",
    "    X_val.apply(lambda row: find_value_in_pivot(row, 'FuelType'), axis=1)\n",
    ")"
   ]
  },
  {
   "cell_type": "code",
   "execution_count": 51,
   "id": "8723d333",
   "metadata": {},
   "outputs": [],
   "source": [
    "X_test['VehicleType'] = X_test['VehicleType'].fillna(\n",
    "    X_test.apply(lambda row: find_value_in_pivot(row, 'VehicleType'), axis=1)\n",
    ")\n",
    "\n",
    "X_test['Gearbox'] = X_test['Gearbox'].fillna(\n",
    "    X_test.apply(lambda row: find_value_in_pivot(row, 'Gearbox'), axis=1)\n",
    ")\n",
    "\n",
    "X_test['FuelType'] = X_test['FuelType'].fillna(\n",
    "    X_test.apply(lambda row: find_value_in_pivot(row, 'FuelType'), axis=1)\n",
    ")"
   ]
  },
  {
   "cell_type": "markdown",
   "id": "d20788ce",
   "metadata": {},
   "source": [
    "Проверим, остались ли пропуски в данных"
   ]
  },
  {
   "cell_type": "code",
   "execution_count": 52,
   "id": "72fcd4ba",
   "metadata": {
    "scrolled": true
   },
   "outputs": [
    {
     "data": {
      "text/plain": [
       "DateCrawled          0\n",
       "VehicleType          0\n",
       "RegistrationYear     0\n",
       "Gearbox              0\n",
       "Power                0\n",
       "Model                0\n",
       "Kilometer            0\n",
       "RegistrationMonth    0\n",
       "FuelType             0\n",
       "Brand                0\n",
       "Repaired             0\n",
       "DateCreated          0\n",
       "NumberOfPictures     0\n",
       "PostalCode           0\n",
       "LastSeen             0\n",
       "dtype: int64"
      ]
     },
     "execution_count": 52,
     "metadata": {},
     "output_type": "execute_result"
    }
   ],
   "source": [
    "X_train.isna().sum()"
   ]
  },
  {
   "cell_type": "code",
   "execution_count": 53,
   "id": "d6b521a7",
   "metadata": {},
   "outputs": [
    {
     "data": {
      "text/plain": [
       "DateCrawled          0\n",
       "VehicleType          0\n",
       "RegistrationYear     0\n",
       "Gearbox              0\n",
       "Power                0\n",
       "Model                0\n",
       "Kilometer            0\n",
       "RegistrationMonth    0\n",
       "FuelType             0\n",
       "Brand                0\n",
       "Repaired             0\n",
       "DateCreated          0\n",
       "NumberOfPictures     0\n",
       "PostalCode           0\n",
       "LastSeen             0\n",
       "dtype: int64"
      ]
     },
     "execution_count": 53,
     "metadata": {},
     "output_type": "execute_result"
    }
   ],
   "source": [
    "X_val.isna().sum()"
   ]
  },
  {
   "cell_type": "code",
   "execution_count": 54,
   "id": "7be6dee5",
   "metadata": {},
   "outputs": [
    {
     "data": {
      "text/plain": [
       "DateCrawled          0\n",
       "VehicleType          0\n",
       "RegistrationYear     0\n",
       "Gearbox              0\n",
       "Power                0\n",
       "Model                0\n",
       "Kilometer            0\n",
       "RegistrationMonth    0\n",
       "FuelType             0\n",
       "Brand                0\n",
       "Repaired             0\n",
       "DateCreated          0\n",
       "NumberOfPictures     0\n",
       "PostalCode           0\n",
       "LastSeen             0\n",
       "dtype: int64"
      ]
     },
     "execution_count": 54,
     "metadata": {},
     "output_type": "execute_result"
    }
   ],
   "source": [
    "X_test.isna().sum()"
   ]
  },
  {
   "cell_type": "markdown",
   "id": "7491c724",
   "metadata": {},
   "source": [
    "С пропусками разобрались. Переходим к следующему этапу - работе с дубликатами"
   ]
  },
  {
   "cell_type": "markdown",
   "id": "4e13e1ab",
   "metadata": {},
   "source": [
    "### Работа с дубликатами"
   ]
  },
  {
   "cell_type": "code",
   "execution_count": 55,
   "id": "bb6f3525",
   "metadata": {},
   "outputs": [
    {
     "data": {
      "text/plain": [
       "1"
      ]
     },
     "execution_count": 55,
     "metadata": {},
     "output_type": "execute_result"
    }
   ],
   "source": [
    "X_train.duplicated().sum()"
   ]
  },
  {
   "cell_type": "code",
   "execution_count": 56,
   "id": "8dce673a",
   "metadata": {},
   "outputs": [
    {
     "data": {
      "text/plain": [
       "Int64Index([231258], dtype='int64')"
      ]
     },
     "execution_count": 56,
     "metadata": {},
     "output_type": "execute_result"
    }
   ],
   "source": [
    "X_train[X_train.duplicated()].index"
   ]
  },
  {
   "cell_type": "code",
   "execution_count": 57,
   "id": "7d6e1dba",
   "metadata": {},
   "outputs": [],
   "source": [
    "y_train = y_train.drop(index=231258)"
   ]
  },
  {
   "cell_type": "code",
   "execution_count": 58,
   "id": "f2d85d13",
   "metadata": {},
   "outputs": [],
   "source": [
    "X_train = X_train.drop_duplicates()"
   ]
  },
  {
   "cell_type": "markdown",
   "id": "7c907cf0",
   "metadata": {},
   "source": [
    "### Изучение аномалий и выбросов, удаление неинформативных столбцов"
   ]
  },
  {
   "cell_type": "code",
   "execution_count": 59,
   "id": "31c7259b",
   "metadata": {},
   "outputs": [
    {
     "name": "stdout",
     "output_type": "stream",
     "text": [
      "<class 'pandas.core.frame.DataFrame'>\n",
      "Int64Index: 212620 entries, 107447 to 66796\n",
      "Data columns (total 15 columns):\n",
      " #   Column             Non-Null Count   Dtype \n",
      "---  ------             --------------   ----- \n",
      " 0   DateCrawled        212620 non-null  object\n",
      " 1   VehicleType        212620 non-null  object\n",
      " 2   RegistrationYear   212620 non-null  int64 \n",
      " 3   Gearbox            212620 non-null  object\n",
      " 4   Power              212620 non-null  int64 \n",
      " 5   Model              212620 non-null  object\n",
      " 6   Kilometer          212620 non-null  int64 \n",
      " 7   RegistrationMonth  212620 non-null  int64 \n",
      " 8   FuelType           212620 non-null  object\n",
      " 9   Brand              212620 non-null  object\n",
      " 10  Repaired           212620 non-null  object\n",
      " 11  DateCreated        212620 non-null  object\n",
      " 12  NumberOfPictures   212620 non-null  int64 \n",
      " 13  PostalCode         212620 non-null  int64 \n",
      " 14  LastSeen           212620 non-null  object\n",
      "dtypes: int64(6), object(9)\n",
      "memory usage: 26.0+ MB\n"
     ]
    }
   ],
   "source": [
    "X_train.info()"
   ]
  },
  {
   "cell_type": "markdown",
   "id": "6114580e",
   "metadata": {},
   "source": [
    "Избавимся от неинформативных столбцов. Подозрительными на неинформативность являются столбцы `'DateCreated', 'DateCrawled', 'NumberOfPictures', 'PostalCode', 'LastSeen'`. "
   ]
  },
  {
   "cell_type": "code",
   "execution_count": 60,
   "id": "5e729b02",
   "metadata": {},
   "outputs": [
    {
     "data": {
      "text/plain": [
       "count                           212620\n",
       "mean     2016-03-20 19:03:41.397798656\n",
       "min                2014-03-10 00:00:00\n",
       "25%                2016-03-13 00:00:00\n",
       "50%                2016-03-21 00:00:00\n",
       "75%                2016-03-29 00:00:00\n",
       "max                2016-04-07 00:00:00\n",
       "Name: DateCreated, dtype: object"
      ]
     },
     "execution_count": 60,
     "metadata": {},
     "output_type": "execute_result"
    }
   ],
   "source": [
    "pd.to_datetime(X_train['DateCreated'], format='%Y-%m-%d %H:%M:%S').round('1d').describe(datetime_is_numeric=True)"
   ]
  },
  {
   "cell_type": "code",
   "execution_count": 61,
   "id": "e14daa54",
   "metadata": {},
   "outputs": [
    {
     "data": {
      "text/plain": [
       "count                           212620\n",
       "mean     2016-03-21 15:24:00.338632192\n",
       "min                2016-03-06 00:00:00\n",
       "25%                2016-03-14 00:00:00\n",
       "50%                2016-03-22 00:00:00\n",
       "75%                2016-03-30 00:00:00\n",
       "max                2016-04-08 00:00:00\n",
       "Name: DateCrawled, dtype: object"
      ]
     },
     "execution_count": 61,
     "metadata": {},
     "output_type": "execute_result"
    }
   ],
   "source": [
    "pd.to_datetime(X_train['DateCrawled'], format='%Y-%m-%d %H:%M:%S').round('1d').describe(datetime_is_numeric=True)"
   ]
  },
  {
   "cell_type": "code",
   "execution_count": 62,
   "id": "39a9cedb",
   "metadata": {},
   "outputs": [
    {
     "data": {
      "text/plain": [
       "count                           212620\n",
       "mean     2016-03-30 00:06:14.256420096\n",
       "min                2016-03-06 00:00:00\n",
       "25%                2016-03-23 00:00:00\n",
       "50%                2016-04-04 00:00:00\n",
       "75%                2016-04-06 00:00:00\n",
       "max                2016-04-08 00:00:00\n",
       "Name: LastSeen, dtype: object"
      ]
     },
     "execution_count": 62,
     "metadata": {},
     "output_type": "execute_result"
    }
   ],
   "source": [
    "pd.to_datetime(X_train['LastSeen'], format='%Y-%m-%d %H:%M:%S').round('1d').describe(datetime_is_numeric=True)"
   ]
  },
  {
   "cell_type": "markdown",
   "id": "48471d58",
   "metadata": {},
   "source": [
    "Все анкеты были созданы и скачаны примерно в одно время. Данные признаки не являются информативными. Также неинформативными признаками являются `'PostalCode', 'LastSeen'` (последний, на мой взгляд не является информативным хотя бы потому, что современные системы позволяют настраивать оповещения на почту или в соцсети, если товаром кто-то заинтересовался, кроме того, значения в этой колонке также не имеют большого разброса). Теперь изучим признак `'NumberOfPictures'`."
   ]
  },
  {
   "cell_type": "code",
   "execution_count": 63,
   "id": "e38cf44e",
   "metadata": {},
   "outputs": [
    {
     "data": {
      "text/plain": [
       "0    212620\n",
       "Name: NumberOfPictures, dtype: int64"
      ]
     },
     "execution_count": 63,
     "metadata": {},
     "output_type": "execute_result"
    }
   ],
   "source": [
    "X_train['NumberOfPictures'].value_counts()"
   ]
  },
  {
   "cell_type": "markdown",
   "id": "0f63db83",
   "metadata": {},
   "source": [
    "Видно, что он не несет в себе никакой информации. Также считаю необходимым удалить признак `'RegistrationMonth'`, так как с ним есть некоторая путаница, которая, очевидно, возникла из-за того, что в части данных нумерация месяца происходила от 0 до 11, а в другой части - от 1 до 12. Проверим отсутствие корреляции между этим и целевым признаками"
   ]
  },
  {
   "cell_type": "code",
   "execution_count": 64,
   "id": "eb7fd1a7",
   "metadata": {},
   "outputs": [
    {
     "data": {
      "text/plain": [
       "0.10866786961241598"
      ]
     },
     "execution_count": 64,
     "metadata": {},
     "output_type": "execute_result"
    }
   ],
   "source": [
    "y_train.corr(X_train['RegistrationMonth'])"
   ]
  },
  {
   "cell_type": "markdown",
   "id": "19ee281c",
   "metadata": {},
   "source": [
    "Корреляция отсутствует. График в начале исследования также подтверждает отсутствие серьезных взаимосвязей. Признак не является информативным.\n",
    "\n",
    "Что касается года регистрации, то его нужно оставить, так как стоимость автомобиля напрямую зависит от его возраста: часто чем старше автомобиль, тем дешевле он стоит"
   ]
  },
  {
   "cell_type": "code",
   "execution_count": 65,
   "id": "eda7bf59",
   "metadata": {},
   "outputs": [],
   "source": [
    "cols_to_delete = ['NumberOfPictures', 'PostalCode', 'LastSeen', 'DateCreated', 'DateCrawled', 'RegistrationMonth']\n",
    "X_train = X_train.drop(cols_to_delete, axis=1)\n",
    "X_val = X_val.drop(cols_to_delete, axis=1)\n",
    "X_test = X_test.drop(cols_to_delete, axis=1)"
   ]
  },
  {
   "cell_type": "markdown",
   "id": "e6e9b1f5",
   "metadata": {},
   "source": [
    "Теперь еще раз взглянем на данные и обработаем аномалии"
   ]
  },
  {
   "cell_type": "code",
   "execution_count": 66,
   "id": "a1586ebb",
   "metadata": {},
   "outputs": [
    {
     "data": {
      "text/html": [
       "<div>\n",
       "<style scoped>\n",
       "    .dataframe tbody tr th:only-of-type {\n",
       "        vertical-align: middle;\n",
       "    }\n",
       "\n",
       "    .dataframe tbody tr th {\n",
       "        vertical-align: top;\n",
       "    }\n",
       "\n",
       "    .dataframe thead th {\n",
       "        text-align: right;\n",
       "    }\n",
       "</style>\n",
       "<table border=\"1\" class=\"dataframe\">\n",
       "  <thead>\n",
       "    <tr style=\"text-align: right;\">\n",
       "      <th></th>\n",
       "      <th>VehicleType</th>\n",
       "      <th>RegistrationYear</th>\n",
       "      <th>Gearbox</th>\n",
       "      <th>Power</th>\n",
       "      <th>Model</th>\n",
       "      <th>Kilometer</th>\n",
       "      <th>FuelType</th>\n",
       "      <th>Brand</th>\n",
       "      <th>Repaired</th>\n",
       "    </tr>\n",
       "  </thead>\n",
       "  <tbody>\n",
       "    <tr>\n",
       "      <th>107447</th>\n",
       "      <td>sedan</td>\n",
       "      <td>1995</td>\n",
       "      <td>manual</td>\n",
       "      <td>75</td>\n",
       "      <td>golf</td>\n",
       "      <td>150000</td>\n",
       "      <td>petrol</td>\n",
       "      <td>volkswagen</td>\n",
       "      <td>no</td>\n",
       "    </tr>\n",
       "    <tr>\n",
       "      <th>161380</th>\n",
       "      <td>sedan</td>\n",
       "      <td>2006</td>\n",
       "      <td>auto</td>\n",
       "      <td>298</td>\n",
       "      <td>s_type</td>\n",
       "      <td>90000</td>\n",
       "      <td>petrol</td>\n",
       "      <td>jaguar</td>\n",
       "      <td>no</td>\n",
       "    </tr>\n",
       "    <tr>\n",
       "      <th>210313</th>\n",
       "      <td>sedan</td>\n",
       "      <td>2018</td>\n",
       "      <td>manual</td>\n",
       "      <td>75</td>\n",
       "      <td>golf</td>\n",
       "      <td>150000</td>\n",
       "      <td>petrol</td>\n",
       "      <td>volkswagen</td>\n",
       "      <td>unknown</td>\n",
       "    </tr>\n",
       "    <tr>\n",
       "      <th>194039</th>\n",
       "      <td>sedan</td>\n",
       "      <td>2008</td>\n",
       "      <td>manual</td>\n",
       "      <td>143</td>\n",
       "      <td>a4</td>\n",
       "      <td>80000</td>\n",
       "      <td>gasoline</td>\n",
       "      <td>audi</td>\n",
       "      <td>unknown</td>\n",
       "    </tr>\n",
       "    <tr>\n",
       "      <th>269188</th>\n",
       "      <td>small</td>\n",
       "      <td>2012</td>\n",
       "      <td>manual</td>\n",
       "      <td>68</td>\n",
       "      <td>spark</td>\n",
       "      <td>60000</td>\n",
       "      <td>petrol</td>\n",
       "      <td>chevrolet</td>\n",
       "      <td>no</td>\n",
       "    </tr>\n",
       "  </tbody>\n",
       "</table>\n",
       "</div>"
      ],
      "text/plain": [
       "       VehicleType  RegistrationYear Gearbox  Power   Model  Kilometer  \\\n",
       "107447       sedan              1995  manual     75    golf     150000   \n",
       "161380       sedan              2006    auto    298  s_type      90000   \n",
       "210313       sedan              2018  manual     75    golf     150000   \n",
       "194039       sedan              2008  manual    143      a4      80000   \n",
       "269188       small              2012  manual     68   spark      60000   \n",
       "\n",
       "        FuelType       Brand Repaired  \n",
       "107447    petrol  volkswagen       no  \n",
       "161380    petrol      jaguar       no  \n",
       "210313    petrol  volkswagen  unknown  \n",
       "194039  gasoline        audi  unknown  \n",
       "269188    petrol   chevrolet       no  "
      ]
     },
     "execution_count": 66,
     "metadata": {},
     "output_type": "execute_result"
    }
   ],
   "source": [
    "X_train.head()"
   ]
  },
  {
   "cell_type": "code",
   "execution_count": 67,
   "id": "682cb087",
   "metadata": {},
   "outputs": [
    {
     "name": "stdout",
     "output_type": "stream",
     "text": [
      "<class 'pandas.core.frame.DataFrame'>\n",
      "Int64Index: 212620 entries, 107447 to 66796\n",
      "Data columns (total 9 columns):\n",
      " #   Column            Non-Null Count   Dtype \n",
      "---  ------            --------------   ----- \n",
      " 0   VehicleType       212620 non-null  object\n",
      " 1   RegistrationYear  212620 non-null  int64 \n",
      " 2   Gearbox           212620 non-null  object\n",
      " 3   Power             212620 non-null  int64 \n",
      " 4   Model             212620 non-null  object\n",
      " 5   Kilometer         212620 non-null  int64 \n",
      " 6   FuelType          212620 non-null  object\n",
      " 7   Brand             212620 non-null  object\n",
      " 8   Repaired          212620 non-null  object\n",
      "dtypes: int64(3), object(6)\n",
      "memory usage: 16.2+ MB\n"
     ]
    }
   ],
   "source": [
    "X_train.info()"
   ]
  },
  {
   "cell_type": "code",
   "execution_count": 68,
   "id": "ed4cfc0e",
   "metadata": {},
   "outputs": [
    {
     "data": {
      "text/html": [
       "<div>\n",
       "<style scoped>\n",
       "    .dataframe tbody tr th:only-of-type {\n",
       "        vertical-align: middle;\n",
       "    }\n",
       "\n",
       "    .dataframe tbody tr th {\n",
       "        vertical-align: top;\n",
       "    }\n",
       "\n",
       "    .dataframe thead th {\n",
       "        text-align: right;\n",
       "    }\n",
       "</style>\n",
       "<table border=\"1\" class=\"dataframe\">\n",
       "  <thead>\n",
       "    <tr style=\"text-align: right;\">\n",
       "      <th></th>\n",
       "      <th>RegistrationYear</th>\n",
       "      <th>Power</th>\n",
       "      <th>Kilometer</th>\n",
       "    </tr>\n",
       "  </thead>\n",
       "  <tbody>\n",
       "    <tr>\n",
       "      <th>count</th>\n",
       "      <td>212620.000000</td>\n",
       "      <td>212620.000000</td>\n",
       "      <td>212620.000000</td>\n",
       "    </tr>\n",
       "    <tr>\n",
       "      <th>mean</th>\n",
       "      <td>2004.444121</td>\n",
       "      <td>109.949624</td>\n",
       "      <td>128156.711504</td>\n",
       "    </tr>\n",
       "    <tr>\n",
       "      <th>std</th>\n",
       "      <td>98.264778</td>\n",
       "      <td>183.262693</td>\n",
       "      <td>37933.179403</td>\n",
       "    </tr>\n",
       "    <tr>\n",
       "      <th>min</th>\n",
       "      <td>1000.000000</td>\n",
       "      <td>0.000000</td>\n",
       "      <td>5000.000000</td>\n",
       "    </tr>\n",
       "    <tr>\n",
       "      <th>25%</th>\n",
       "      <td>1999.000000</td>\n",
       "      <td>68.000000</td>\n",
       "      <td>125000.000000</td>\n",
       "    </tr>\n",
       "    <tr>\n",
       "      <th>50%</th>\n",
       "      <td>2003.000000</td>\n",
       "      <td>105.000000</td>\n",
       "      <td>150000.000000</td>\n",
       "    </tr>\n",
       "    <tr>\n",
       "      <th>75%</th>\n",
       "      <td>2008.000000</td>\n",
       "      <td>143.000000</td>\n",
       "      <td>150000.000000</td>\n",
       "    </tr>\n",
       "    <tr>\n",
       "      <th>max</th>\n",
       "      <td>9999.000000</td>\n",
       "      <td>19312.000000</td>\n",
       "      <td>150000.000000</td>\n",
       "    </tr>\n",
       "  </tbody>\n",
       "</table>\n",
       "</div>"
      ],
      "text/plain": [
       "       RegistrationYear          Power      Kilometer\n",
       "count     212620.000000  212620.000000  212620.000000\n",
       "mean        2004.444121     109.949624  128156.711504\n",
       "std           98.264778     183.262693   37933.179403\n",
       "min         1000.000000       0.000000    5000.000000\n",
       "25%         1999.000000      68.000000  125000.000000\n",
       "50%         2003.000000     105.000000  150000.000000\n",
       "75%         2008.000000     143.000000  150000.000000\n",
       "max         9999.000000   19312.000000  150000.000000"
      ]
     },
     "execution_count": 68,
     "metadata": {},
     "output_type": "execute_result"
    }
   ],
   "source": [
    "X_train.describe()"
   ]
  },
  {
   "cell_type": "markdown",
   "id": "612b0236",
   "metadata": {},
   "source": [
    "Аномалии стоит искать только в числовых столбцах. Из вывода ячейки выше видно, что у нас слишком странные максимальное и минимальное значения года регистрации. Также есть автомобили с нереально маленькой и нереально большой мощностью двигателя. Про пробег ничего пока сказать нельзя. Построим графики"
   ]
  },
  {
   "cell_type": "markdown",
   "id": "1cb6baa6",
   "metadata": {},
   "source": [
    "###### RegistrationYear"
   ]
  },
  {
   "cell_type": "code",
   "execution_count": 69,
   "id": "21681ec9",
   "metadata": {},
   "outputs": [
    {
     "data": {
      "image/png": "[encoded data removed]",
      "text/plain": [
       "<Figure size 1224x144 with 1 Axes>"
      ]
     },
     "metadata": {
      "needs_background": "light"
     },
     "output_type": "display_data"
    }
   ],
   "source": [
    "fig, ax = plt.subplots(figsize = (17,2))\n",
    "ax = X_train[['RegistrationYear']].boxplot(vert=False, ax=ax)\n",
    "ax.set_xlim(1800, 2100);"
   ]
  },
  {
   "cell_type": "code",
   "execution_count": 70,
   "id": "f7937467",
   "metadata": {},
   "outputs": [],
   "source": [
    "Q1 = X_train['RegistrationYear'].quantile(0.25)\n",
    "Q3 = X_train['RegistrationYear'].quantile(0.75)\n",
    "IQR = Q3 - Q1\n",
    "upper = int(Q3 + 1.5 * IQR)\n",
    "lower = int(Q1 - 1.5 * IQR)"
   ]
  },
  {
   "cell_type": "code",
   "execution_count": 71,
   "id": "3e625063",
   "metadata": {},
   "outputs": [
    {
     "data": {
      "text/plain": [
       "(1985, 2021)"
      ]
     },
     "execution_count": 71,
     "metadata": {},
     "output_type": "execute_result"
    }
   ],
   "source": [
    "lower, upper"
   ]
  },
  {
   "cell_type": "markdown",
   "id": "ce534494",
   "metadata": {},
   "source": [
    "Однако в наших данных анкеты по всем машинам были выгружены в 2016 году. Поэтому этот год мы и возьмем в качестве верхней границы"
   ]
  },
  {
   "cell_type": "code",
   "execution_count": 72,
   "id": "52de1781",
   "metadata": {},
   "outputs": [],
   "source": [
    "upper = 2016"
   ]
  },
  {
   "cell_type": "code",
   "execution_count": 73,
   "id": "15f48fea",
   "metadata": {},
   "outputs": [
    {
     "data": {
      "text/html": [
       "<div>\n",
       "<style scoped>\n",
       "    .dataframe tbody tr th:only-of-type {\n",
       "        vertical-align: middle;\n",
       "    }\n",
       "\n",
       "    .dataframe tbody tr th {\n",
       "        vertical-align: top;\n",
       "    }\n",
       "\n",
       "    .dataframe thead th {\n",
       "        text-align: right;\n",
       "    }\n",
       "</style>\n",
       "<table border=\"1\" class=\"dataframe\">\n",
       "  <thead>\n",
       "    <tr style=\"text-align: right;\">\n",
       "      <th></th>\n",
       "      <th>VehicleType</th>\n",
       "      <th>RegistrationYear</th>\n",
       "      <th>Gearbox</th>\n",
       "      <th>Power</th>\n",
       "      <th>Model</th>\n",
       "      <th>Kilometer</th>\n",
       "      <th>FuelType</th>\n",
       "      <th>Brand</th>\n",
       "      <th>Repaired</th>\n",
       "    </tr>\n",
       "  </thead>\n",
       "  <tbody>\n",
       "    <tr>\n",
       "      <th>210313</th>\n",
       "      <td>sedan</td>\n",
       "      <td>2018</td>\n",
       "      <td>manual</td>\n",
       "      <td>75</td>\n",
       "      <td>golf</td>\n",
       "      <td>150000</td>\n",
       "      <td>petrol</td>\n",
       "      <td>volkswagen</td>\n",
       "      <td>unknown</td>\n",
       "    </tr>\n",
       "    <tr>\n",
       "      <th>123158</th>\n",
       "      <td>coupe</td>\n",
       "      <td>2017</td>\n",
       "      <td>manual</td>\n",
       "      <td>180</td>\n",
       "      <td>tt</td>\n",
       "      <td>150000</td>\n",
       "      <td>petrol</td>\n",
       "      <td>audi</td>\n",
       "      <td>no</td>\n",
       "    </tr>\n",
       "    <tr>\n",
       "      <th>102740</th>\n",
       "      <td>sedan</td>\n",
       "      <td>2018</td>\n",
       "      <td>manual</td>\n",
       "      <td>139</td>\n",
       "      <td>golf</td>\n",
       "      <td>150000</td>\n",
       "      <td>petrol</td>\n",
       "      <td>volkswagen</td>\n",
       "      <td>no</td>\n",
       "    </tr>\n",
       "    <tr>\n",
       "      <th>32648</th>\n",
       "      <td>sedan</td>\n",
       "      <td>2017</td>\n",
       "      <td>manual</td>\n",
       "      <td>0</td>\n",
       "      <td>3er</td>\n",
       "      <td>150000</td>\n",
       "      <td>petrol</td>\n",
       "      <td>bmw</td>\n",
       "      <td>no</td>\n",
       "    </tr>\n",
       "    <tr>\n",
       "      <th>13087</th>\n",
       "      <td>sedan</td>\n",
       "      <td>2017</td>\n",
       "      <td>auto</td>\n",
       "      <td>0</td>\n",
       "      <td>a_klasse</td>\n",
       "      <td>5000</td>\n",
       "      <td>gasoline</td>\n",
       "      <td>mercedes_benz</td>\n",
       "      <td>unknown</td>\n",
       "    </tr>\n",
       "    <tr>\n",
       "      <th>...</th>\n",
       "      <td>...</td>\n",
       "      <td>...</td>\n",
       "      <td>...</td>\n",
       "      <td>...</td>\n",
       "      <td>...</td>\n",
       "      <td>...</td>\n",
       "      <td>...</td>\n",
       "      <td>...</td>\n",
       "      <td>...</td>\n",
       "    </tr>\n",
       "    <tr>\n",
       "      <th>321852</th>\n",
       "      <td>coupe</td>\n",
       "      <td>2018</td>\n",
       "      <td>auto</td>\n",
       "      <td>170</td>\n",
       "      <td>clk</td>\n",
       "      <td>150000</td>\n",
       "      <td>petrol</td>\n",
       "      <td>mercedes_benz</td>\n",
       "      <td>unknown</td>\n",
       "    </tr>\n",
       "    <tr>\n",
       "      <th>179530</th>\n",
       "      <td>small</td>\n",
       "      <td>2018</td>\n",
       "      <td>manual</td>\n",
       "      <td>71</td>\n",
       "      <td>twingo</td>\n",
       "      <td>20000</td>\n",
       "      <td>petrol</td>\n",
       "      <td>renault</td>\n",
       "      <td>no</td>\n",
       "    </tr>\n",
       "    <tr>\n",
       "      <th>36310</th>\n",
       "      <td>sedan</td>\n",
       "      <td>2018</td>\n",
       "      <td>manual</td>\n",
       "      <td>101</td>\n",
       "      <td>golf</td>\n",
       "      <td>150000</td>\n",
       "      <td>petrol</td>\n",
       "      <td>volkswagen</td>\n",
       "      <td>unknown</td>\n",
       "    </tr>\n",
       "    <tr>\n",
       "      <th>245126</th>\n",
       "      <td>wagon</td>\n",
       "      <td>2017</td>\n",
       "      <td>manual</td>\n",
       "      <td>101</td>\n",
       "      <td>a4</td>\n",
       "      <td>150000</td>\n",
       "      <td>gasoline</td>\n",
       "      <td>audi</td>\n",
       "      <td>no</td>\n",
       "    </tr>\n",
       "    <tr>\n",
       "      <th>181683</th>\n",
       "      <td>sedan</td>\n",
       "      <td>2017</td>\n",
       "      <td>manual</td>\n",
       "      <td>0</td>\n",
       "      <td>golf</td>\n",
       "      <td>150000</td>\n",
       "      <td>petrol</td>\n",
       "      <td>volkswagen</td>\n",
       "      <td>unknown</td>\n",
       "    </tr>\n",
       "  </tbody>\n",
       "</table>\n",
       "<p>11978 rows × 9 columns</p>\n",
       "</div>"
      ],
      "text/plain": [
       "       VehicleType  RegistrationYear Gearbox  Power     Model  Kilometer  \\\n",
       "210313       sedan              2018  manual     75      golf     150000   \n",
       "123158       coupe              2017  manual    180        tt     150000   \n",
       "102740       sedan              2018  manual    139      golf     150000   \n",
       "32648        sedan              2017  manual      0       3er     150000   \n",
       "13087        sedan              2017    auto      0  a_klasse       5000   \n",
       "...            ...               ...     ...    ...       ...        ...   \n",
       "321852       coupe              2018    auto    170       clk     150000   \n",
       "179530       small              2018  manual     71    twingo      20000   \n",
       "36310        sedan              2018  manual    101      golf     150000   \n",
       "245126       wagon              2017  manual    101        a4     150000   \n",
       "181683       sedan              2017  manual      0      golf     150000   \n",
       "\n",
       "        FuelType          Brand Repaired  \n",
       "210313    petrol     volkswagen  unknown  \n",
       "123158    petrol           audi       no  \n",
       "102740    petrol     volkswagen       no  \n",
       "32648     petrol            bmw       no  \n",
       "13087   gasoline  mercedes_benz  unknown  \n",
       "...          ...            ...      ...  \n",
       "321852    petrol  mercedes_benz  unknown  \n",
       "179530    petrol        renault       no  \n",
       "36310     petrol     volkswagen  unknown  \n",
       "245126  gasoline           audi       no  \n",
       "181683    petrol     volkswagen  unknown  \n",
       "\n",
       "[11978 rows x 9 columns]"
      ]
     },
     "execution_count": 73,
     "metadata": {},
     "output_type": "execute_result"
    }
   ],
   "source": [
    "X_train.query(\"RegistrationYear > @upper or RegistrationYear < @lower\")"
   ]
  },
  {
   "cell_type": "code",
   "execution_count": 74,
   "id": "90771f71",
   "metadata": {},
   "outputs": [],
   "source": [
    "X_train['RegistrationYear'] = X_train['RegistrationYear'].clip(lower=lower, upper=upper)\n",
    "X_val['RegistrationYear'] = X_val['RegistrationYear'].clip(lower=lower, upper=upper)\n",
    "X_test['RegistrationYear'] = X_test['RegistrationYear'].clip(lower=lower, upper=upper)"
   ]
  },
  {
   "cell_type": "markdown",
   "id": "fe6ab4b3",
   "metadata": {},
   "source": [
    "###### Kilometer"
   ]
  },
  {
   "cell_type": "code",
   "execution_count": 75,
   "id": "d873ed40",
   "metadata": {},
   "outputs": [
    {
     "data": {
      "text/plain": [
       "<AxesSubplot:>"
      ]
     },
     "execution_count": 75,
     "metadata": {},
     "output_type": "execute_result"
    },
    {
     "data": {
      "image/png": "[encoded data removed]",
      "text/plain": [
       "<Figure size 432x288 with 1 Axes>"
      ]
     },
     "metadata": {
      "needs_background": "light"
     },
     "output_type": "display_data"
    }
   ],
   "source": [
    "X_train['Kilometer'].hist(bins=50);"
   ]
  },
  {
   "cell_type": "code",
   "execution_count": 76,
   "id": "5086a78c",
   "metadata": {},
   "outputs": [
    {
     "data": {
      "image/png": "[encoded data removed]",
      "text/plain": [
       "<Figure size 1224x144 with 1 Axes>"
      ]
     },
     "metadata": {
      "needs_background": "light"
     },
     "output_type": "display_data"
    }
   ],
   "source": [
    "fig, ax = plt.subplots(figsize = (17,2))\n",
    "ax = X_train[['Kilometer']].boxplot(vert=False, ax=ax)\n",
    "ax.set_xlim(0, 160000);"
   ]
  },
  {
   "cell_type": "markdown",
   "id": "dc2e6137",
   "metadata": {},
   "source": [
    "Распределение явно скошено влево, поэтому определим только нижнюю границу для обработки аномалий"
   ]
  },
  {
   "cell_type": "code",
   "execution_count": 77,
   "id": "7fea4c55",
   "metadata": {},
   "outputs": [
    {
     "data": {
      "text/plain": [
       "87500"
      ]
     },
     "execution_count": 77,
     "metadata": {},
     "output_type": "execute_result"
    }
   ],
   "source": [
    "Q1 = X_train['Kilometer'].quantile(0.25)\n",
    "Q3 = X_train['Kilometer'].quantile(0.75)\n",
    "IQR = Q3 - Q1\n",
    "lower = int(Q1 - 1.5 * IQR)\n",
    "lower"
   ]
  },
  {
   "cell_type": "code",
   "execution_count": 78,
   "id": "b07fbe27",
   "metadata": {},
   "outputs": [
    {
     "data": {
      "text/html": [
       "<div>\n",
       "<style scoped>\n",
       "    .dataframe tbody tr th:only-of-type {\n",
       "        vertical-align: middle;\n",
       "    }\n",
       "\n",
       "    .dataframe tbody tr th {\n",
       "        vertical-align: top;\n",
       "    }\n",
       "\n",
       "    .dataframe thead th {\n",
       "        text-align: right;\n",
       "    }\n",
       "</style>\n",
       "<table border=\"1\" class=\"dataframe\">\n",
       "  <thead>\n",
       "    <tr style=\"text-align: right;\">\n",
       "      <th></th>\n",
       "      <th>VehicleType</th>\n",
       "      <th>RegistrationYear</th>\n",
       "      <th>Gearbox</th>\n",
       "      <th>Power</th>\n",
       "      <th>Model</th>\n",
       "      <th>Kilometer</th>\n",
       "      <th>FuelType</th>\n",
       "      <th>Brand</th>\n",
       "      <th>Repaired</th>\n",
       "    </tr>\n",
       "  </thead>\n",
       "  <tbody>\n",
       "    <tr>\n",
       "      <th>194039</th>\n",
       "      <td>sedan</td>\n",
       "      <td>2008</td>\n",
       "      <td>manual</td>\n",
       "      <td>143</td>\n",
       "      <td>a4</td>\n",
       "      <td>80000</td>\n",
       "      <td>gasoline</td>\n",
       "      <td>audi</td>\n",
       "      <td>unknown</td>\n",
       "    </tr>\n",
       "    <tr>\n",
       "      <th>269188</th>\n",
       "      <td>small</td>\n",
       "      <td>2012</td>\n",
       "      <td>manual</td>\n",
       "      <td>68</td>\n",
       "      <td>spark</td>\n",
       "      <td>60000</td>\n",
       "      <td>petrol</td>\n",
       "      <td>chevrolet</td>\n",
       "      <td>no</td>\n",
       "    </tr>\n",
       "    <tr>\n",
       "      <th>226245</th>\n",
       "      <td>bus</td>\n",
       "      <td>2005</td>\n",
       "      <td>manual</td>\n",
       "      <td>101</td>\n",
       "      <td>meriva</td>\n",
       "      <td>50000</td>\n",
       "      <td>petrol</td>\n",
       "      <td>opel</td>\n",
       "      <td>no</td>\n",
       "    </tr>\n",
       "    <tr>\n",
       "      <th>259085</th>\n",
       "      <td>small</td>\n",
       "      <td>2011</td>\n",
       "      <td>auto</td>\n",
       "      <td>61</td>\n",
       "      <td>fortwo</td>\n",
       "      <td>50000</td>\n",
       "      <td>petrol</td>\n",
       "      <td>smart</td>\n",
       "      <td>no</td>\n",
       "    </tr>\n",
       "    <tr>\n",
       "      <th>312721</th>\n",
       "      <td>small</td>\n",
       "      <td>2008</td>\n",
       "      <td>manual</td>\n",
       "      <td>58</td>\n",
       "      <td>twingo</td>\n",
       "      <td>50000</td>\n",
       "      <td>petrol</td>\n",
       "      <td>renault</td>\n",
       "      <td>no</td>\n",
       "    </tr>\n",
       "    <tr>\n",
       "      <th>...</th>\n",
       "      <td>...</td>\n",
       "      <td>...</td>\n",
       "      <td>...</td>\n",
       "      <td>...</td>\n",
       "      <td>...</td>\n",
       "      <td>...</td>\n",
       "      <td>...</td>\n",
       "      <td>...</td>\n",
       "      <td>...</td>\n",
       "    </tr>\n",
       "    <tr>\n",
       "      <th>263961</th>\n",
       "      <td>wagon</td>\n",
       "      <td>2000</td>\n",
       "      <td>auto</td>\n",
       "      <td>180</td>\n",
       "      <td>a6</td>\n",
       "      <td>5000</td>\n",
       "      <td>gasoline</td>\n",
       "      <td>audi</td>\n",
       "      <td>no</td>\n",
       "    </tr>\n",
       "    <tr>\n",
       "      <th>69884</th>\n",
       "      <td>sedan</td>\n",
       "      <td>2007</td>\n",
       "      <td>manual</td>\n",
       "      <td>109</td>\n",
       "      <td>ceed</td>\n",
       "      <td>70000</td>\n",
       "      <td>petrol</td>\n",
       "      <td>kia</td>\n",
       "      <td>no</td>\n",
       "    </tr>\n",
       "    <tr>\n",
       "      <th>333070</th>\n",
       "      <td>small</td>\n",
       "      <td>2002</td>\n",
       "      <td>manual</td>\n",
       "      <td>54</td>\n",
       "      <td>polo</td>\n",
       "      <td>70000</td>\n",
       "      <td>petrol</td>\n",
       "      <td>volkswagen</td>\n",
       "      <td>no</td>\n",
       "    </tr>\n",
       "    <tr>\n",
       "      <th>184079</th>\n",
       "      <td>small</td>\n",
       "      <td>1999</td>\n",
       "      <td>manual</td>\n",
       "      <td>54</td>\n",
       "      <td>corsa</td>\n",
       "      <td>30000</td>\n",
       "      <td>petrol</td>\n",
       "      <td>opel</td>\n",
       "      <td>no</td>\n",
       "    </tr>\n",
       "    <tr>\n",
       "      <th>272061</th>\n",
       "      <td>sedan</td>\n",
       "      <td>2012</td>\n",
       "      <td>manual</td>\n",
       "      <td>105</td>\n",
       "      <td>golf</td>\n",
       "      <td>70000</td>\n",
       "      <td>gasoline</td>\n",
       "      <td>volkswagen</td>\n",
       "      <td>no</td>\n",
       "    </tr>\n",
       "  </tbody>\n",
       "</table>\n",
       "<p>32008 rows × 9 columns</p>\n",
       "</div>"
      ],
      "text/plain": [
       "       VehicleType  RegistrationYear Gearbox  Power   Model  Kilometer  \\\n",
       "194039       sedan              2008  manual    143      a4      80000   \n",
       "269188       small              2012  manual     68   spark      60000   \n",
       "226245         bus              2005  manual    101  meriva      50000   \n",
       "259085       small              2011    auto     61  fortwo      50000   \n",
       "312721       small              2008  manual     58  twingo      50000   \n",
       "...            ...               ...     ...    ...     ...        ...   \n",
       "263961       wagon              2000    auto    180      a6       5000   \n",
       "69884        sedan              2007  manual    109    ceed      70000   \n",
       "333070       small              2002  manual     54    polo      70000   \n",
       "184079       small              1999  manual     54   corsa      30000   \n",
       "272061       sedan              2012  manual    105    golf      70000   \n",
       "\n",
       "        FuelType       Brand Repaired  \n",
       "194039  gasoline        audi  unknown  \n",
       "269188    petrol   chevrolet       no  \n",
       "226245    petrol        opel       no  \n",
       "259085    petrol       smart       no  \n",
       "312721    petrol     renault       no  \n",
       "...          ...         ...      ...  \n",
       "263961  gasoline        audi       no  \n",
       "69884     petrol         kia       no  \n",
       "333070    petrol  volkswagen       no  \n",
       "184079    petrol        opel       no  \n",
       "272061  gasoline  volkswagen       no  \n",
       "\n",
       "[32008 rows x 9 columns]"
      ]
     },
     "execution_count": 78,
     "metadata": {},
     "output_type": "execute_result"
    }
   ],
   "source": [
    "X_train[X_train['Kilometer'] < lower]"
   ]
  },
  {
   "cell_type": "code",
   "execution_count": 79,
   "id": "55019026",
   "metadata": {},
   "outputs": [],
   "source": [
    "X_train['Kilometer'] = X_train['Kilometer'].clip(lower=lower)\n",
    "X_val['Kilometer'] = X_val['Kilometer'].clip(lower=lower)\n",
    "X_test['Kilometer'] = X_test['Kilometer'].clip(lower=lower)"
   ]
  },
  {
   "cell_type": "markdown",
   "id": "067b3417",
   "metadata": {},
   "source": [
    "###### Power"
   ]
  },
  {
   "cell_type": "code",
   "execution_count": 80,
   "id": "f58522ea",
   "metadata": {},
   "outputs": [
    {
     "data": {
      "image/png": "[encoded data removed]",
      "text/plain": [
       "<Figure size 1224x144 with 1 Axes>"
      ]
     },
     "metadata": {
      "needs_background": "light"
     },
     "output_type": "display_data"
    }
   ],
   "source": [
    "fig, ax = plt.subplots(figsize = (17,2))\n",
    "ax = X_train[['Power']].boxplot(vert=False, ax=ax)\n",
    "ax.set_xlim(0, 2500);"
   ]
  },
  {
   "cell_type": "markdown",
   "id": "a4654d49",
   "metadata": {},
   "source": [
    "Первый в истории автомобиль был выпущен в 1885 году. Его мощность составляла 0.75 л.с. Примем это значение в качестве нижней границы, так как наше распределение скошено вправо, причем при расчете методом IQR значение нижней границы получается отрицательным..."
   ]
  },
  {
   "cell_type": "code",
   "execution_count": 81,
   "id": "c8159f14",
   "metadata": {},
   "outputs": [
    {
     "data": {
      "text/plain": [
       "(0.75, 255.5)"
      ]
     },
     "execution_count": 81,
     "metadata": {},
     "output_type": "execute_result"
    }
   ],
   "source": [
    "Q1 = X_train['Power'].quantile(0.25)\n",
    "Q3 = X_train['Power'].quantile(0.75)\n",
    "IQR = Q3 - Q1\n",
    "upper = Q3 + 1.5 * IQR\n",
    "lower = 0.75\n",
    "lower, upper"
   ]
  },
  {
   "cell_type": "markdown",
   "id": "7ddfa60d",
   "metadata": {},
   "source": [
    "Современные автомобили могут иметь уже гораздо большую мощность, чем та, которую мы получили в качестве верхней границы. Примем верхнюю границу равной 500 л.с. Все, что выше будем считать слишком мощными автомобилями"
   ]
  },
  {
   "cell_type": "code",
   "execution_count": 82,
   "id": "4206942b",
   "metadata": {},
   "outputs": [],
   "source": [
    "upper = 500"
   ]
  },
  {
   "cell_type": "code",
   "execution_count": 83,
   "id": "b6d5b439",
   "metadata": {},
   "outputs": [
    {
     "data": {
      "text/html": [
       "<div>\n",
       "<style scoped>\n",
       "    .dataframe tbody tr th:only-of-type {\n",
       "        vertical-align: middle;\n",
       "    }\n",
       "\n",
       "    .dataframe tbody tr th {\n",
       "        vertical-align: top;\n",
       "    }\n",
       "\n",
       "    .dataframe thead th {\n",
       "        text-align: right;\n",
       "    }\n",
       "</style>\n",
       "<table border=\"1\" class=\"dataframe\">\n",
       "  <thead>\n",
       "    <tr style=\"text-align: right;\">\n",
       "      <th></th>\n",
       "      <th>VehicleType</th>\n",
       "      <th>RegistrationYear</th>\n",
       "      <th>Gearbox</th>\n",
       "      <th>Power</th>\n",
       "      <th>Model</th>\n",
       "      <th>Kilometer</th>\n",
       "      <th>FuelType</th>\n",
       "      <th>Brand</th>\n",
       "      <th>Repaired</th>\n",
       "    </tr>\n",
       "  </thead>\n",
       "  <tbody>\n",
       "    <tr>\n",
       "      <th>94960</th>\n",
       "      <td>bus</td>\n",
       "      <td>2008</td>\n",
       "      <td>manual</td>\n",
       "      <td>0</td>\n",
       "      <td>other</td>\n",
       "      <td>100000</td>\n",
       "      <td>petrol</td>\n",
       "      <td>volkswagen</td>\n",
       "      <td>unknown</td>\n",
       "    </tr>\n",
       "    <tr>\n",
       "      <th>111991</th>\n",
       "      <td>small</td>\n",
       "      <td>1999</td>\n",
       "      <td>manual</td>\n",
       "      <td>0</td>\n",
       "      <td>corsa</td>\n",
       "      <td>150000</td>\n",
       "      <td>petrol</td>\n",
       "      <td>opel</td>\n",
       "      <td>no</td>\n",
       "    </tr>\n",
       "    <tr>\n",
       "      <th>198222</th>\n",
       "      <td>other</td>\n",
       "      <td>1999</td>\n",
       "      <td>auto</td>\n",
       "      <td>0</td>\n",
       "      <td>fortwo</td>\n",
       "      <td>150000</td>\n",
       "      <td>petrol</td>\n",
       "      <td>smart</td>\n",
       "      <td>yes</td>\n",
       "    </tr>\n",
       "    <tr>\n",
       "      <th>117617</th>\n",
       "      <td>wagon</td>\n",
       "      <td>1996</td>\n",
       "      <td>manual</td>\n",
       "      <td>0</td>\n",
       "      <td>unknown</td>\n",
       "      <td>150000</td>\n",
       "      <td>petrol</td>\n",
       "      <td>sonstige_autos</td>\n",
       "      <td>no</td>\n",
       "    </tr>\n",
       "    <tr>\n",
       "      <th>86704</th>\n",
       "      <td>wagon</td>\n",
       "      <td>2001</td>\n",
       "      <td>manual</td>\n",
       "      <td>0</td>\n",
       "      <td>v40</td>\n",
       "      <td>150000</td>\n",
       "      <td>petrol</td>\n",
       "      <td>volvo</td>\n",
       "      <td>unknown</td>\n",
       "    </tr>\n",
       "    <tr>\n",
       "      <th>...</th>\n",
       "      <td>...</td>\n",
       "      <td>...</td>\n",
       "      <td>...</td>\n",
       "      <td>...</td>\n",
       "      <td>...</td>\n",
       "      <td>...</td>\n",
       "      <td>...</td>\n",
       "      <td>...</td>\n",
       "      <td>...</td>\n",
       "    </tr>\n",
       "    <tr>\n",
       "      <th>40541</th>\n",
       "      <td>suv</td>\n",
       "      <td>2009</td>\n",
       "      <td>auto</td>\n",
       "      <td>0</td>\n",
       "      <td>cl</td>\n",
       "      <td>150000</td>\n",
       "      <td>petrol</td>\n",
       "      <td>mercedes_benz</td>\n",
       "      <td>yes</td>\n",
       "    </tr>\n",
       "    <tr>\n",
       "      <th>301641</th>\n",
       "      <td>wagon</td>\n",
       "      <td>2000</td>\n",
       "      <td>manual</td>\n",
       "      <td>0</td>\n",
       "      <td>4_reihe</td>\n",
       "      <td>150000</td>\n",
       "      <td>gasoline</td>\n",
       "      <td>peugeot</td>\n",
       "      <td>unknown</td>\n",
       "    </tr>\n",
       "    <tr>\n",
       "      <th>207794</th>\n",
       "      <td>sedan</td>\n",
       "      <td>2001</td>\n",
       "      <td>manual</td>\n",
       "      <td>0</td>\n",
       "      <td>3er</td>\n",
       "      <td>150000</td>\n",
       "      <td>petrol</td>\n",
       "      <td>bmw</td>\n",
       "      <td>no</td>\n",
       "    </tr>\n",
       "    <tr>\n",
       "      <th>344993</th>\n",
       "      <td>small</td>\n",
       "      <td>2002</td>\n",
       "      <td>manual</td>\n",
       "      <td>0</td>\n",
       "      <td>twingo</td>\n",
       "      <td>125000</td>\n",
       "      <td>petrol</td>\n",
       "      <td>renault</td>\n",
       "      <td>no</td>\n",
       "    </tr>\n",
       "    <tr>\n",
       "      <th>181683</th>\n",
       "      <td>sedan</td>\n",
       "      <td>2016</td>\n",
       "      <td>manual</td>\n",
       "      <td>0</td>\n",
       "      <td>golf</td>\n",
       "      <td>150000</td>\n",
       "      <td>petrol</td>\n",
       "      <td>volkswagen</td>\n",
       "      <td>unknown</td>\n",
       "    </tr>\n",
       "  </tbody>\n",
       "</table>\n",
       "<p>24528 rows × 9 columns</p>\n",
       "</div>"
      ],
      "text/plain": [
       "       VehicleType  RegistrationYear Gearbox  Power    Model  Kilometer  \\\n",
       "94960          bus              2008  manual      0    other     100000   \n",
       "111991       small              1999  manual      0    corsa     150000   \n",
       "198222       other              1999    auto      0   fortwo     150000   \n",
       "117617       wagon              1996  manual      0  unknown     150000   \n",
       "86704        wagon              2001  manual      0      v40     150000   \n",
       "...            ...               ...     ...    ...      ...        ...   \n",
       "40541          suv              2009    auto      0       cl     150000   \n",
       "301641       wagon              2000  manual      0  4_reihe     150000   \n",
       "207794       sedan              2001  manual      0      3er     150000   \n",
       "344993       small              2002  manual      0   twingo     125000   \n",
       "181683       sedan              2016  manual      0     golf     150000   \n",
       "\n",
       "        FuelType           Brand Repaired  \n",
       "94960     petrol      volkswagen  unknown  \n",
       "111991    petrol            opel       no  \n",
       "198222    petrol           smart      yes  \n",
       "117617    petrol  sonstige_autos       no  \n",
       "86704     petrol           volvo  unknown  \n",
       "...          ...             ...      ...  \n",
       "40541     petrol   mercedes_benz      yes  \n",
       "301641  gasoline         peugeot  unknown  \n",
       "207794    petrol             bmw       no  \n",
       "344993    petrol         renault       no  \n",
       "181683    petrol      volkswagen  unknown  \n",
       "\n",
       "[24528 rows x 9 columns]"
      ]
     },
     "execution_count": 83,
     "metadata": {},
     "output_type": "execute_result"
    }
   ],
   "source": [
    "X_train.query(\"Power < @lower or Power > @upper\")"
   ]
  },
  {
   "cell_type": "code",
   "execution_count": 84,
   "id": "b200b733",
   "metadata": {},
   "outputs": [],
   "source": [
    "X_train['Power'] = X_train['Power'].clip(lower=lower, upper=upper)\n",
    "X_val['Power'] = X_val['Power'].clip(lower=lower, upper=upper)\n",
    "X_test['Power'] = X_test['Power'].clip(lower=lower, upper=upper)"
   ]
  },
  {
   "cell_type": "markdown",
   "id": "01295d30",
   "metadata": {},
   "source": [
    "###### Price"
   ]
  },
  {
   "cell_type": "markdown",
   "id": "c5e25808",
   "metadata": {},
   "source": [
    "Посмотрим на распределение целевого признака"
   ]
  },
  {
   "cell_type": "code",
   "execution_count": 87,
   "id": "468c9c86",
   "metadata": {},
   "outputs": [
    {
     "data": {
      "image/png": "[encoded data removed]",
      "text/plain": [
       "<Figure size 432x288 with 1 Axes>"
      ]
     },
     "metadata": {
      "needs_background": "light"
     },
     "output_type": "display_data"
    }
   ],
   "source": [
    "y_train.hist(bins=100);"
   ]
  },
  {
   "cell_type": "markdown",
   "id": "79e5b467",
   "metadata": {},
   "source": [
    "Распределение явно скошено вправо. Причем имеются значительные пики около нуля. Посмотрим на описание этой колонки"
   ]
  },
  {
   "cell_type": "code",
   "execution_count": 88,
   "id": "fcfd4adb",
   "metadata": {},
   "outputs": [
    {
     "data": {
      "text/plain": [
       "count    212620.000000\n",
       "mean       4425.403217\n",
       "std        4525.404370\n",
       "min           0.000000\n",
       "25%        1050.000000\n",
       "50%        2750.000000\n",
       "75%        6400.000000\n",
       "max       20000.000000\n",
       "Name: Price, dtype: float64"
      ]
     },
     "execution_count": 88,
     "metadata": {},
     "output_type": "execute_result"
    }
   ],
   "source": [
    "y_train.describe()"
   ]
  },
  {
   "cell_type": "markdown",
   "id": "24eb8215",
   "metadata": {},
   "source": [
    "Стоимость большинства автомобилей лежит в пределах 6400 евро, однако есть автомобили, стоящие даже в три раза дороже... Также имеются автомобили, которые почему-то имеют нулевую стоимость..."
   ]
  },
  {
   "cell_type": "code",
   "execution_count": 89,
   "id": "298f0fb9",
   "metadata": {},
   "outputs": [
    {
     "data": {
      "text/plain": [
       "0        6516\n",
       "500      3412\n",
       "1500     3261\n",
       "1000     2842\n",
       "1200     2702\n",
       "         ... \n",
       "19495       1\n",
       "834         1\n",
       "3009        1\n",
       "17255       1\n",
       "1009        1\n",
       "Name: Price, Length: 3058, dtype: int64"
      ]
     },
     "execution_count": 89,
     "metadata": {},
     "output_type": "execute_result"
    }
   ],
   "source": [
    "y_train.value_counts()"
   ]
  },
  {
   "cell_type": "code",
   "execution_count": 90,
   "id": "1f8b1116",
   "metadata": {},
   "outputs": [
    {
     "data": {
      "text/plain": [
       "[0,\n",
       " 1,\n",
       " 2,\n",
       " 3,\n",
       " 4,\n",
       " 5,\n",
       " 7,\n",
       " 8,\n",
       " 9,\n",
       " 10,\n",
       " 11,\n",
       " 12,\n",
       " 13,\n",
       " 14,\n",
       " 15,\n",
       " 16,\n",
       " 17,\n",
       " 18,\n",
       " 19,\n",
       " 20,\n",
       " 25,\n",
       " 26,\n",
       " 27,\n",
       " 30,\n",
       " 33,\n",
       " 35,\n",
       " 38,\n",
       " 39,\n",
       " 40,\n",
       " 45,\n",
       " 49,\n",
       " 50,\n",
       " 55,\n",
       " 59,\n",
       " 60,\n",
       " 65,\n",
       " 69,\n",
       " 70,\n",
       " 75,\n",
       " 77,\n",
       " 79,\n",
       " 80,\n",
       " 85,\n",
       " 88,\n",
       " 89,\n",
       " 90,\n",
       " 95,\n",
       " 98,\n",
       " 99,\n",
       " 100,\n",
       " 105,\n",
       " 110,\n",
       " 111,\n",
       " 112,\n",
       " 115,\n",
       " 117,\n",
       " 119,\n",
       " 120,\n",
       " 121,\n",
       " 122,\n",
       " 123,\n",
       " 125,\n",
       " 126,\n",
       " 128,\n",
       " 129,\n",
       " 130,\n",
       " 132,\n",
       " 133,\n",
       " 135,\n",
       " 140,\n",
       " 142,\n",
       " 145,\n",
       " 149,\n",
       " 150,\n",
       " 155,\n",
       " 156,\n",
       " 157,\n",
       " 158,\n",
       " 159,\n",
       " 160,\n",
       " 165,\n",
       " 166,\n",
       " 169,\n",
       " 170,\n",
       " 173,\n",
       " 175,\n",
       " 177,\n",
       " 179,\n",
       " 180,\n",
       " 181,\n",
       " 185,\n",
       " 188,\n",
       " 189,\n",
       " 190,\n",
       " 193,\n",
       " 195,\n",
       " 198,\n",
       " 199,\n",
       " 200,\n",
       " 202,\n",
       " 205,\n",
       " 209,\n",
       " 210,\n",
       " 215,\n",
       " 217,\n",
       " 219,\n",
       " 220,\n",
       " 222,\n",
       " 224,\n",
       " 225,\n",
       " 229,\n",
       " 230,\n",
       " 235,\n",
       " 240,\n",
       " 243,\n",
       " 245,\n",
       " 248,\n",
       " 249,\n",
       " 250,\n",
       " 251,\n",
       " 252,\n",
       " 253,\n",
       " 255,\n",
       " 259,\n",
       " 260,\n",
       " 261,\n",
       " 263,\n",
       " 265,\n",
       " 266,\n",
       " 269,\n",
       " 270,\n",
       " 272,\n",
       " 273,\n",
       " 274,\n",
       " 275,\n",
       " 277,\n",
       " 278,\n",
       " 279,\n",
       " 280,\n",
       " 281,\n",
       " 285,\n",
       " 289,\n",
       " 290,\n",
       " 293,\n",
       " 295,\n",
       " 298,\n",
       " 299,\n",
       " 300,\n",
       " 301,\n",
       " 309]"
      ]
     },
     "execution_count": 90,
     "metadata": {},
     "output_type": "execute_result"
    }
   ],
   "source": [
    "sorted(y_train.unique())[:150]"
   ]
  },
  {
   "cell_type": "code",
   "execution_count": 91,
   "id": "1a67eeeb",
   "metadata": {},
   "outputs": [
    {
     "data": {
      "text/plain": [
       "18384"
      ]
     },
     "execution_count": 91,
     "metadata": {},
     "output_type": "execute_result"
    }
   ],
   "source": [
    "y_train[y_train > 12000].shape[0]"
   ]
  },
  {
   "cell_type": "markdown",
   "id": "570d7d39",
   "metadata": {},
   "source": [
    "Нулей довольно много - аж 6,5 тысяч. В процентном соотношении это около 3%. Также в данных автомобили стоимостью ниже 300 евро... Это крайне мало. Изменим нижнюю границу на 300 евро. Верхнюю границу трогать не будем по нескольким причинам: во-первых, стоимость автомобилей менялась со временем (у нас данные с 1985 по 2016 годы), во-вторых, всегда были какие-то автомобили, выделявшиеся среди других и, в-третьих, автомобилей стоимостью больше 12000 евро (это примерно 75-й квантиль плюс 1.5 IQR) около 10% от всех данных, а это значительная часть данных "
   ]
  },
  {
   "cell_type": "code",
   "execution_count": 92,
   "id": "61cca343",
   "metadata": {},
   "outputs": [],
   "source": [
    "lower = 300\n",
    "y_train = y_train.clip(lower=lower)"
   ]
  },
  {
   "cell_type": "markdown",
   "id": "9722068e",
   "metadata": {},
   "source": [
    "Итак, пропуски и аномалии обработаны, дубликаты и неинформативные признаки удалены. Проверим типы данных, при необходимости приведем их"
   ]
  },
  {
   "cell_type": "code",
   "execution_count": 93,
   "id": "7ad3e61f",
   "metadata": {},
   "outputs": [
    {
     "name": "stdout",
     "output_type": "stream",
     "text": [
      "<class 'pandas.core.frame.DataFrame'>\n",
      "Int64Index: 212620 entries, 107447 to 66796\n",
      "Data columns (total 9 columns):\n",
      " #   Column            Non-Null Count   Dtype  \n",
      "---  ------            --------------   -----  \n",
      " 0   VehicleType       212620 non-null  object \n",
      " 1   RegistrationYear  212620 non-null  int64  \n",
      " 2   Gearbox           212620 non-null  object \n",
      " 3   Power             212620 non-null  float64\n",
      " 4   Model             212620 non-null  object \n",
      " 5   Kilometer         212620 non-null  int64  \n",
      " 6   FuelType          212620 non-null  object \n",
      " 7   Brand             212620 non-null  object \n",
      " 8   Repaired          212620 non-null  object \n",
      "dtypes: float64(1), int64(2), object(6)\n",
      "memory usage: 16.2+ MB\n"
     ]
    }
   ],
   "source": [
    "X_train.info()"
   ]
  },
  {
   "cell_type": "markdown",
   "id": "73e84857",
   "metadata": {},
   "source": [
    "С типами все в порядке. Можно переходить к следующему этапу - к кодированию категориальных переменных и масштабированию количественных"
   ]
  },
  {
   "cell_type": "markdown",
   "id": "f8170645",
   "metadata": {},
   "source": [
    "### Кодирование категориальных и масштабирование количественных переменных"
   ]
  },
  {
   "cell_type": "markdown",
   "id": "85bd6065",
   "metadata": {},
   "source": [
    "Если применять кодирование техникой one-hot encoding, то размерность датасета очень сильно возрастет. Поэтому применим ordinal encoding"
   ]
  },
  {
   "cell_type": "code",
   "execution_count": 94,
   "id": "7b332c26",
   "metadata": {},
   "outputs": [],
   "source": [
    "var_categorical = ['VehicleType', 'Gearbox', 'Model', 'FuelType', 'Brand', 'Repaired']\n",
    "\n",
    "encoder = OrdinalEncoder(handle_unknown='use_encoded_value', unknown_value=-1)\n",
    "\n",
    "X_train_ordinal = pd.DataFrame(\n",
    "    encoder.fit_transform(X_train[var_categorical]),\n",
    "    columns=var_categorical\n",
    ")\n",
    "\n",
    "X_val_ordinal = pd.DataFrame(\n",
    "    encoder.transform(X_val[var_categorical]),\n",
    "    columns=var_categorical\n",
    ")\n",
    "\n",
    "X_test_ordinal = pd.DataFrame(\n",
    "    encoder.transform(X_test[var_categorical]),\n",
    "    columns=var_categorical\n",
    ")"
   ]
  },
  {
   "cell_type": "code",
   "execution_count": 95,
   "id": "f4667bd3",
   "metadata": {
    "scrolled": true
   },
   "outputs": [
    {
     "data": {
      "text/html": [
       "<div>\n",
       "<style scoped>\n",
       "    .dataframe tbody tr th:only-of-type {\n",
       "        vertical-align: middle;\n",
       "    }\n",
       "\n",
       "    .dataframe tbody tr th {\n",
       "        vertical-align: top;\n",
       "    }\n",
       "\n",
       "    .dataframe thead th {\n",
       "        text-align: right;\n",
       "    }\n",
       "</style>\n",
       "<table border=\"1\" class=\"dataframe\">\n",
       "  <thead>\n",
       "    <tr style=\"text-align: right;\">\n",
       "      <th></th>\n",
       "      <th>VehicleType</th>\n",
       "      <th>Gearbox</th>\n",
       "      <th>Model</th>\n",
       "      <th>FuelType</th>\n",
       "      <th>Brand</th>\n",
       "      <th>Repaired</th>\n",
       "    </tr>\n",
       "  </thead>\n",
       "  <tbody>\n",
       "    <tr>\n",
       "      <th>0</th>\n",
       "      <td>4.0</td>\n",
       "      <td>1.0</td>\n",
       "      <td>116.0</td>\n",
       "      <td>6.0</td>\n",
       "      <td>38.0</td>\n",
       "      <td>0.0</td>\n",
       "    </tr>\n",
       "    <tr>\n",
       "      <th>1</th>\n",
       "      <td>4.0</td>\n",
       "      <td>0.0</td>\n",
       "      <td>193.0</td>\n",
       "      <td>6.0</td>\n",
       "      <td>13.0</td>\n",
       "      <td>0.0</td>\n",
       "    </tr>\n",
       "    <tr>\n",
       "      <th>2</th>\n",
       "      <td>4.0</td>\n",
       "      <td>1.0</td>\n",
       "      <td>116.0</td>\n",
       "      <td>6.0</td>\n",
       "      <td>38.0</td>\n",
       "      <td>1.0</td>\n",
       "    </tr>\n",
       "    <tr>\n",
       "      <th>3</th>\n",
       "      <td>4.0</td>\n",
       "      <td>1.0</td>\n",
       "      <td>29.0</td>\n",
       "      <td>2.0</td>\n",
       "      <td>1.0</td>\n",
       "      <td>1.0</td>\n",
       "    </tr>\n",
       "    <tr>\n",
       "      <th>4</th>\n",
       "      <td>5.0</td>\n",
       "      <td>1.0</td>\n",
       "      <td>209.0</td>\n",
       "      <td>6.0</td>\n",
       "      <td>3.0</td>\n",
       "      <td>0.0</td>\n",
       "    </tr>\n",
       "  </tbody>\n",
       "</table>\n",
       "</div>"
      ],
      "text/plain": [
       "   VehicleType  Gearbox  Model  FuelType  Brand  Repaired\n",
       "0          4.0      1.0  116.0       6.0   38.0       0.0\n",
       "1          4.0      0.0  193.0       6.0   13.0       0.0\n",
       "2          4.0      1.0  116.0       6.0   38.0       1.0\n",
       "3          4.0      1.0   29.0       2.0    1.0       1.0\n",
       "4          5.0      1.0  209.0       6.0    3.0       0.0"
      ]
     },
     "execution_count": 95,
     "metadata": {},
     "output_type": "execute_result"
    }
   ],
   "source": [
    "X_train_ordinal.head()"
   ]
  },
  {
   "cell_type": "code",
   "execution_count": 96,
   "id": "76a0de80",
   "metadata": {},
   "outputs": [
    {
     "data": {
      "text/html": [
       "<div>\n",
       "<style scoped>\n",
       "    .dataframe tbody tr th:only-of-type {\n",
       "        vertical-align: middle;\n",
       "    }\n",
       "\n",
       "    .dataframe tbody tr th {\n",
       "        vertical-align: top;\n",
       "    }\n",
       "\n",
       "    .dataframe thead th {\n",
       "        text-align: right;\n",
       "    }\n",
       "</style>\n",
       "<table border=\"1\" class=\"dataframe\">\n",
       "  <thead>\n",
       "    <tr style=\"text-align: right;\">\n",
       "      <th></th>\n",
       "      <th>VehicleType</th>\n",
       "      <th>Gearbox</th>\n",
       "      <th>Model</th>\n",
       "      <th>FuelType</th>\n",
       "      <th>Brand</th>\n",
       "      <th>Repaired</th>\n",
       "    </tr>\n",
       "  </thead>\n",
       "  <tbody>\n",
       "    <tr>\n",
       "      <th>0</th>\n",
       "      <td>5.0</td>\n",
       "      <td>1.0</td>\n",
       "      <td>83.0</td>\n",
       "      <td>6.0</td>\n",
       "      <td>24.0</td>\n",
       "      <td>1.0</td>\n",
       "    </tr>\n",
       "    <tr>\n",
       "      <th>1</th>\n",
       "      <td>5.0</td>\n",
       "      <td>1.0</td>\n",
       "      <td>80.0</td>\n",
       "      <td>6.0</td>\n",
       "      <td>21.0</td>\n",
       "      <td>0.0</td>\n",
       "    </tr>\n",
       "    <tr>\n",
       "      <th>2</th>\n",
       "      <td>7.0</td>\n",
       "      <td>0.0</td>\n",
       "      <td>170.0</td>\n",
       "      <td>6.0</td>\n",
       "      <td>38.0</td>\n",
       "      <td>0.0</td>\n",
       "    </tr>\n",
       "    <tr>\n",
       "      <th>3</th>\n",
       "      <td>4.0</td>\n",
       "      <td>0.0</td>\n",
       "      <td>116.0</td>\n",
       "      <td>6.0</td>\n",
       "      <td>38.0</td>\n",
       "      <td>0.0</td>\n",
       "    </tr>\n",
       "    <tr>\n",
       "      <th>4</th>\n",
       "      <td>7.0</td>\n",
       "      <td>0.0</td>\n",
       "      <td>29.0</td>\n",
       "      <td>6.0</td>\n",
       "      <td>1.0</td>\n",
       "      <td>0.0</td>\n",
       "    </tr>\n",
       "  </tbody>\n",
       "</table>\n",
       "</div>"
      ],
      "text/plain": [
       "   VehicleType  Gearbox  Model  FuelType  Brand  Repaired\n",
       "0          5.0      1.0   83.0       6.0   24.0       1.0\n",
       "1          5.0      1.0   80.0       6.0   21.0       0.0\n",
       "2          7.0      0.0  170.0       6.0   38.0       0.0\n",
       "3          4.0      0.0  116.0       6.0   38.0       0.0\n",
       "4          7.0      0.0   29.0       6.0    1.0       0.0"
      ]
     },
     "execution_count": 96,
     "metadata": {},
     "output_type": "execute_result"
    }
   ],
   "source": [
    "X_val_ordinal.head()"
   ]
  },
  {
   "cell_type": "code",
   "execution_count": 97,
   "id": "588ebc1f",
   "metadata": {},
   "outputs": [
    {
     "data": {
      "text/html": [
       "<div>\n",
       "<style scoped>\n",
       "    .dataframe tbody tr th:only-of-type {\n",
       "        vertical-align: middle;\n",
       "    }\n",
       "\n",
       "    .dataframe tbody tr th {\n",
       "        vertical-align: top;\n",
       "    }\n",
       "\n",
       "    .dataframe thead th {\n",
       "        text-align: right;\n",
       "    }\n",
       "</style>\n",
       "<table border=\"1\" class=\"dataframe\">\n",
       "  <thead>\n",
       "    <tr style=\"text-align: right;\">\n",
       "      <th></th>\n",
       "      <th>VehicleType</th>\n",
       "      <th>Gearbox</th>\n",
       "      <th>Model</th>\n",
       "      <th>FuelType</th>\n",
       "      <th>Brand</th>\n",
       "      <th>Repaired</th>\n",
       "    </tr>\n",
       "  </thead>\n",
       "  <tbody>\n",
       "    <tr>\n",
       "      <th>0</th>\n",
       "      <td>3.0</td>\n",
       "      <td>1.0</td>\n",
       "      <td>166.0</td>\n",
       "      <td>2.0</td>\n",
       "      <td>27.0</td>\n",
       "      <td>1.0</td>\n",
       "    </tr>\n",
       "    <tr>\n",
       "      <th>1</th>\n",
       "      <td>5.0</td>\n",
       "      <td>1.0</td>\n",
       "      <td>83.0</td>\n",
       "      <td>6.0</td>\n",
       "      <td>24.0</td>\n",
       "      <td>0.0</td>\n",
       "    </tr>\n",
       "    <tr>\n",
       "      <th>2</th>\n",
       "      <td>4.0</td>\n",
       "      <td>1.0</td>\n",
       "      <td>2.0</td>\n",
       "      <td>2.0</td>\n",
       "      <td>0.0</td>\n",
       "      <td>0.0</td>\n",
       "    </tr>\n",
       "    <tr>\n",
       "      <th>3</th>\n",
       "      <td>4.0</td>\n",
       "      <td>1.0</td>\n",
       "      <td>116.0</td>\n",
       "      <td>2.0</td>\n",
       "      <td>38.0</td>\n",
       "      <td>2.0</td>\n",
       "    </tr>\n",
       "    <tr>\n",
       "      <th>4</th>\n",
       "      <td>4.0</td>\n",
       "      <td>0.0</td>\n",
       "      <td>95.0</td>\n",
       "      <td>2.0</td>\n",
       "      <td>20.0</td>\n",
       "      <td>1.0</td>\n",
       "    </tr>\n",
       "  </tbody>\n",
       "</table>\n",
       "</div>"
      ],
      "text/plain": [
       "   VehicleType  Gearbox  Model  FuelType  Brand  Repaired\n",
       "0          3.0      1.0  166.0       2.0   27.0       1.0\n",
       "1          5.0      1.0   83.0       6.0   24.0       0.0\n",
       "2          4.0      1.0    2.0       2.0    0.0       0.0\n",
       "3          4.0      1.0  116.0       2.0   38.0       2.0\n",
       "4          4.0      0.0   95.0       2.0   20.0       1.0"
      ]
     },
     "execution_count": 97,
     "metadata": {},
     "output_type": "execute_result"
    }
   ],
   "source": [
    "X_test_ordinal.head()"
   ]
  },
  {
   "cell_type": "code",
   "execution_count": 98,
   "id": "c36630ad",
   "metadata": {},
   "outputs": [],
   "source": [
    "var_numeric = ['RegistrationYear', 'Power', 'Kilometer']\n",
    "\n",
    "scaler = StandardScaler()\n",
    "\n",
    "X_train_numeric = pd.DataFrame(\n",
    "    scaler.fit_transform(X_train[var_numeric]),\n",
    "    columns=var_numeric\n",
    ")\n",
    "X_val_numeric = pd.DataFrame(\n",
    "    scaler.transform(X_val[var_numeric]),\n",
    "    columns=var_numeric\n",
    ")\n",
    "X_test_numeric = pd.DataFrame(\n",
    "    scaler.transform(X_test[var_numeric]),\n",
    "    columns=var_numeric\n",
    ")"
   ]
  },
  {
   "cell_type": "code",
   "execution_count": 99,
   "id": "86d6bc2a",
   "metadata": {},
   "outputs": [
    {
     "data": {
      "text/plain": [
       "((212620, 9), (70874, 9), (70874, 9))"
      ]
     },
     "execution_count": 99,
     "metadata": {},
     "output_type": "execute_result"
    }
   ],
   "source": [
    "X_train_enc = X_train_ordinal.join(X_train_numeric)\n",
    "X_val_enc = X_val_ordinal.join(X_val_numeric)\n",
    "X_test_enc = X_test_ordinal.join(X_test_numeric)\n",
    "\n",
    "X_train_enc.shape, X_val_enc.shape, X_test_enc.shape"
   ]
  },
  {
   "cell_type": "code",
   "execution_count": 100,
   "id": "89f9c5a8",
   "metadata": {},
   "outputs": [],
   "source": [
    "y_train = y_train.reset_index(drop=True)\n",
    "y_val = y_val.reset_index(drop=True)\n",
    "y_test = y_test.reset_index(drop=True)"
   ]
  },
  {
   "cell_type": "markdown",
   "id": "00facedc",
   "metadata": {},
   "source": [
    "Некоторые модели, например, catboost и lightgbm позволяют напрямую работать с категориальными данными. Для них создадим еще один набор данных, в котором категориальные признаки останутся нетронутыми, а количественные будут отмасштабированы"
   ]
  },
  {
   "cell_type": "code",
   "execution_count": 101,
   "id": "f5f6782b",
   "metadata": {},
   "outputs": [],
   "source": [
    "X_train_scaled = X_train[var_categorical].reset_index(drop=True).join(X_train_numeric)\n",
    "X_val_scaled = X_val[var_categorical].reset_index(drop=True).join(X_val_numeric)\n",
    "X_test_scaled = X_test[var_categorical].reset_index(drop=True).join(X_test_numeric)"
   ]
  },
  {
   "cell_type": "code",
   "execution_count": 102,
   "id": "dfe16eb3",
   "metadata": {},
   "outputs": [
    {
     "data": {
      "text/plain": [
       "((212620, 9), (70874, 9), (70874, 9))"
      ]
     },
     "execution_count": 102,
     "metadata": {},
     "output_type": "execute_result"
    }
   ],
   "source": [
    "X_train_scaled.shape, X_val_scaled.shape, X_test_scaled.shape"
   ]
  },
  {
   "cell_type": "markdown",
   "id": "5d486b76",
   "metadata": {},
   "source": [
    "## Работа с моделями машинного обучения"
   ]
  },
  {
   "cell_type": "code",
   "execution_count": 103,
   "id": "57053b73",
   "metadata": {},
   "outputs": [],
   "source": [
    "def RMSE(y_true, y_pred):\n",
    "    return mean_squared_error(y_true, y_pred) ** 0.5"
   ]
  },
  {
   "cell_type": "markdown",
   "id": "1a8557d2",
   "metadata": {},
   "source": [
    "Для последующей проверки адекватности моделей обучим базовую модель - `DummyRegressor`\n",
    "\n",
    "#### DummyRegressor"
   ]
  },
  {
   "cell_type": "code",
   "execution_count": 104,
   "id": "aa9bb59d",
   "metadata": {},
   "outputs": [
    {
     "name": "stdout",
     "output_type": "stream",
     "text": [
      "CPU times: total: 0 ns\n",
      "Wall time: 1 ms\n",
      "CPU times: total: 0 ns\n",
      "Wall time: 0 ns\n",
      "RMSE:  4498.52\n"
     ]
    }
   ],
   "source": [
    "dummy = DummyRegressor()\n",
    "%time dummy.fit(X_train_enc, y_train)\n",
    "%time dummy_pred = dummy.predict(X_val_enc)\n",
    "print(f'RMSE: {RMSE(y_val, dummy_pred) : .2f}')"
   ]
  },
  {
   "cell_type": "markdown",
   "id": "37206b2c",
   "metadata": {},
   "source": [
    "#### DecisionTreeRegressor"
   ]
  },
  {
   "cell_type": "code",
   "execution_count": 111,
   "id": "ee2b85a1",
   "metadata": {},
   "outputs": [
    {
     "name": "stdout",
     "output_type": "stream",
     "text": [
      "Оптимальная глубина: 6\n",
      "Метрика RMSE:  2403.81\n"
     ]
    }
   ],
   "source": [
    "best_score = 99999999999999999\n",
    "best_depth = 0\n",
    "for depth in range(1, 7):\n",
    "    tree = DecisionTreeRegressor(max_depth=depth, random_state=42)\n",
    "    tree.fit(X_train_enc, y_train)\n",
    "    rmse = RMSE(y_val, tree.predict(X_val_enc))\n",
    "    if rmse < best_score:\n",
    "        best_score = rmse\n",
    "        best_depth = depth\n",
    "\n",
    "print('Оптимальная глубина:', best_depth)\n",
    "print(f'Метрика RMSE: {best_score : .2f}')"
   ]
  },
  {
   "cell_type": "markdown",
   "id": "17245bd0",
   "metadata": {},
   "source": [
    "По итогам подбора параметров лучший результат показала модель с глубиной 6. Ее RMSE > 2500, то есть она не удовлетворяет требованиям заказчика. Посмотрим, сколько времени требуется ей, чтобы обучиться и выполнить предсказания"
   ]
  },
  {
   "cell_type": "code",
   "execution_count": 112,
   "id": "03bd3d64",
   "metadata": {},
   "outputs": [
    {
     "name": "stdout",
     "output_type": "stream",
     "text": [
      "CPU times: total: 172 ms\n",
      "Wall time: 200 ms\n"
     ]
    },
    {
     "data": {
      "text/html": [
       "<style>#sk-container-id-3 {color: black;background-color: white;}#sk-container-id-3 pre{padding: 0;}#sk-container-id-3 div.sk-toggleable {background-color: white;}#sk-container-id-3 label.sk-toggleable__label {cursor: pointer;display: block;width: 100%;margin-bottom: 0;padding: 0.3em;box-sizing: border-box;text-align: center;}#sk-container-id-3 label.sk-toggleable__label-arrow:before {content: \"▸\";float: left;margin-right: 0.25em;color: #696969;}#sk-container-id-3 label.sk-toggleable__label-arrow:hover:before {color: black;}#sk-container-id-3 div.sk-estimator:hover label.sk-toggleable__label-arrow:before {color: black;}#sk-container-id-3 div.sk-toggleable__content {max-height: 0;max-width: 0;overflow: hidden;text-align: left;background-color: #f0f8ff;}#sk-container-id-3 div.sk-toggleable__content pre {margin: 0.2em;color: black;border-radius: 0.25em;background-color: #f0f8ff;}#sk-container-id-3 input.sk-toggleable__control:checked~div.sk-toggleable__content {max-height: 200px;max-width: 100%;overflow: auto;}#sk-container-id-3 input.sk-toggleable__control:checked~label.sk-toggleable__label-arrow:before {content: \"▾\";}#sk-container-id-3 div.sk-estimator input.sk-toggleable__control:checked~label.sk-toggleable__label {background-color: #d4ebff;}#sk-container-id-3 div.sk-label input.sk-toggleable__control:checked~label.sk-toggleable__label {background-color: #d4ebff;}#sk-container-id-3 input.sk-hidden--visually {border: 0;clip: rect(1px 1px 1px 1px);clip: rect(1px, 1px, 1px, 1px);height: 1px;margin: -1px;overflow: hidden;padding: 0;position: absolute;width: 1px;}#sk-container-id-3 div.sk-estimator {font-family: monospace;background-color: #f0f8ff;border: 1px dotted black;border-radius: 0.25em;box-sizing: border-box;margin-bottom: 0.5em;}#sk-container-id-3 div.sk-estimator:hover {background-color: #d4ebff;}#sk-container-id-3 div.sk-parallel-item::after {content: \"\";width: 100%;border-bottom: 1px solid gray;flex-grow: 1;}#sk-container-id-3 div.sk-label:hover label.sk-toggleable__label {background-color: #d4ebff;}#sk-container-id-3 div.sk-serial::before {content: \"\";position: absolute;border-left: 1px solid gray;box-sizing: border-box;top: 0;bottom: 0;left: 50%;z-index: 0;}#sk-container-id-3 div.sk-serial {display: flex;flex-direction: column;align-items: center;background-color: white;padding-right: 0.2em;padding-left: 0.2em;position: relative;}#sk-container-id-3 div.sk-item {position: relative;z-index: 1;}#sk-container-id-3 div.sk-parallel {display: flex;align-items: stretch;justify-content: center;background-color: white;position: relative;}#sk-container-id-3 div.sk-item::before, #sk-container-id-3 div.sk-parallel-item::before {content: \"\";position: absolute;border-left: 1px solid gray;box-sizing: border-box;top: 0;bottom: 0;left: 50%;z-index: -1;}#sk-container-id-3 div.sk-parallel-item {display: flex;flex-direction: column;z-index: 1;position: relative;background-color: white;}#sk-container-id-3 div.sk-parallel-item:first-child::after {align-self: flex-end;width: 50%;}#sk-container-id-3 div.sk-parallel-item:last-child::after {align-self: flex-start;width: 50%;}#sk-container-id-3 div.sk-parallel-item:only-child::after {width: 0;}#sk-container-id-3 div.sk-dashed-wrapped {border: 1px dashed gray;margin: 0 0.4em 0.5em 0.4em;box-sizing: border-box;padding-bottom: 0.4em;background-color: white;}#sk-container-id-3 div.sk-label label {font-family: monospace;font-weight: bold;display: inline-block;line-height: 1.2em;}#sk-container-id-3 div.sk-label-container {text-align: center;}#sk-container-id-3 div.sk-container {/* jupyter's `normalize.less` sets `[hidden] { display: none; }` but bootstrap.min.css set `[hidden] { display: none !important; }` so we also need the `!important` here to be able to override the default hidden behavior on the sphinx rendered scikit-learn.org. See: https://github.com/scikit-learn/scikit-learn/issues/21755 */display: inline-block !important;position: relative;}#sk-container-id-3 div.sk-text-repr-fallback {display: none;}</style><div id=\"sk-container-id-3\" class=\"sk-top-container\"><div class=\"sk-text-repr-fallback\"><pre>DecisionTreeRegressor(max_depth=6, random_state=42)</pre><b>In a Jupyter environment, please rerun this cell to show the HTML representation or trust the notebook. <br />On GitHub, the HTML representation is unable to render, please try loading this page with nbviewer.org.</b></div><div class=\"sk-container\" hidden><div class=\"sk-item\"><div class=\"sk-estimator sk-toggleable\"><input class=\"sk-toggleable__control sk-hidden--visually\" id=\"sk-estimator-id-3\" type=\"checkbox\" checked><label for=\"sk-estimator-id-3\" class=\"sk-toggleable__label sk-toggleable__label-arrow\">DecisionTreeRegressor</label><div class=\"sk-toggleable__content\"><pre>DecisionTreeRegressor(max_depth=6, random_state=42)</pre></div></div></div></div></div>"
      ],
      "text/plain": [
       "DecisionTreeRegressor(max_depth=6, random_state=42)"
      ]
     },
     "execution_count": 112,
     "metadata": {},
     "output_type": "execute_result"
    }
   ],
   "source": [
    "tree = DecisionTreeRegressor(max_depth=6, random_state=42)\n",
    "%time tree.fit(X_train_enc, y_train)"
   ]
  },
  {
   "cell_type": "code",
   "execution_count": 113,
   "id": "f9206d75",
   "metadata": {},
   "outputs": [
    {
     "name": "stdout",
     "output_type": "stream",
     "text": [
      "CPU times: total: 0 ns\n",
      "Wall time: 5 ms\n"
     ]
    }
   ],
   "source": [
    "%time tree_pred = tree.predict(X_val_enc)"
   ]
  },
  {
   "cell_type": "code",
   "execution_count": 114,
   "id": "1f2402c0",
   "metadata": {},
   "outputs": [
    {
     "name": "stdout",
     "output_type": "stream",
     "text": [
      "RMSE:  2403.81\n"
     ]
    }
   ],
   "source": [
    "print(f'RMSE: {RMSE(y_val, tree_pred) : .2f}')"
   ]
  },
  {
   "cell_type": "markdown",
   "id": "dc9add41",
   "metadata": {},
   "source": [
    "Безусловно, эта модель учится и предсказывает немного дольше, чем константная, но она сильно выигрывает в качестве. Однако это качество все еще не является приемлемым"
   ]
  },
  {
   "cell_type": "markdown",
   "id": "f4b37425",
   "metadata": {},
   "source": [
    "#### RandomForestRegressor"
   ]
  },
  {
   "cell_type": "code",
   "execution_count": 115,
   "id": "bd1cd95e",
   "metadata": {},
   "outputs": [
    {
     "name": "stdout",
     "output_type": "stream",
     "text": [
      "Оптимальная глубина: 6\n",
      "Оптимальное количество деревьев: 150\n",
      "Метрика RMSE:  2345.54\n"
     ]
    }
   ],
   "source": [
    "numbers = list(range(10, 151, 10)) + [200]\n",
    "\n",
    "best_score = 9999999999999999999999\n",
    "best_number = 0\n",
    "best_depth = 0\n",
    "for number in numbers:\n",
    "    for depth in range(1, 7):\n",
    "        rf = RandomForestRegressor(n_estimators=number, max_depth=depth, random_state=42)\n",
    "        rf.fit(X_train_enc, y_train)\n",
    "        rmse = RMSE(y_val, rf.predict(X_val_enc))\n",
    "        if rmse < best_score:\n",
    "            best_score = rmse\n",
    "            best_number = number\n",
    "            best_depth = depth\n",
    "\n",
    "print('Оптимальная глубина:', best_depth)\n",
    "print('Оптимальное количество деревьев:', best_number)\n",
    "print(f'Метрика RMSE: {best_score : .2f}')"
   ]
  },
  {
   "cell_type": "markdown",
   "id": "27f66313",
   "metadata": {},
   "source": [
    "По итогам подбора параметров лучший результат показала модель с глубиной 6 и количеством деревьев 150. RMSE < 2500"
   ]
  },
  {
   "cell_type": "code",
   "execution_count": 116,
   "id": "d639c5e7",
   "metadata": {},
   "outputs": [
    {
     "name": "stdout",
     "output_type": "stream",
     "text": [
      "CPU times: total: 15.7 s\n",
      "Wall time: 18.3 s\n"
     ]
    },
    {
     "data": {
      "text/html": [
       "<style>#sk-container-id-4 {color: black;background-color: white;}#sk-container-id-4 pre{padding: 0;}#sk-container-id-4 div.sk-toggleable {background-color: white;}#sk-container-id-4 label.sk-toggleable__label {cursor: pointer;display: block;width: 100%;margin-bottom: 0;padding: 0.3em;box-sizing: border-box;text-align: center;}#sk-container-id-4 label.sk-toggleable__label-arrow:before {content: \"▸\";float: left;margin-right: 0.25em;color: #696969;}#sk-container-id-4 label.sk-toggleable__label-arrow:hover:before {color: black;}#sk-container-id-4 div.sk-estimator:hover label.sk-toggleable__label-arrow:before {color: black;}#sk-container-id-4 div.sk-toggleable__content {max-height: 0;max-width: 0;overflow: hidden;text-align: left;background-color: #f0f8ff;}#sk-container-id-4 div.sk-toggleable__content pre {margin: 0.2em;color: black;border-radius: 0.25em;background-color: #f0f8ff;}#sk-container-id-4 input.sk-toggleable__control:checked~div.sk-toggleable__content {max-height: 200px;max-width: 100%;overflow: auto;}#sk-container-id-4 input.sk-toggleable__control:checked~label.sk-toggleable__label-arrow:before {content: \"▾\";}#sk-container-id-4 div.sk-estimator input.sk-toggleable__control:checked~label.sk-toggleable__label {background-color: #d4ebff;}#sk-container-id-4 div.sk-label input.sk-toggleable__control:checked~label.sk-toggleable__label {background-color: #d4ebff;}#sk-container-id-4 input.sk-hidden--visually {border: 0;clip: rect(1px 1px 1px 1px);clip: rect(1px, 1px, 1px, 1px);height: 1px;margin: -1px;overflow: hidden;padding: 0;position: absolute;width: 1px;}#sk-container-id-4 div.sk-estimator {font-family: monospace;background-color: #f0f8ff;border: 1px dotted black;border-radius: 0.25em;box-sizing: border-box;margin-bottom: 0.5em;}#sk-container-id-4 div.sk-estimator:hover {background-color: #d4ebff;}#sk-container-id-4 div.sk-parallel-item::after {content: \"\";width: 100%;border-bottom: 1px solid gray;flex-grow: 1;}#sk-container-id-4 div.sk-label:hover label.sk-toggleable__label {background-color: #d4ebff;}#sk-container-id-4 div.sk-serial::before {content: \"\";position: absolute;border-left: 1px solid gray;box-sizing: border-box;top: 0;bottom: 0;left: 50%;z-index: 0;}#sk-container-id-4 div.sk-serial {display: flex;flex-direction: column;align-items: center;background-color: white;padding-right: 0.2em;padding-left: 0.2em;position: relative;}#sk-container-id-4 div.sk-item {position: relative;z-index: 1;}#sk-container-id-4 div.sk-parallel {display: flex;align-items: stretch;justify-content: center;background-color: white;position: relative;}#sk-container-id-4 div.sk-item::before, #sk-container-id-4 div.sk-parallel-item::before {content: \"\";position: absolute;border-left: 1px solid gray;box-sizing: border-box;top: 0;bottom: 0;left: 50%;z-index: -1;}#sk-container-id-4 div.sk-parallel-item {display: flex;flex-direction: column;z-index: 1;position: relative;background-color: white;}#sk-container-id-4 div.sk-parallel-item:first-child::after {align-self: flex-end;width: 50%;}#sk-container-id-4 div.sk-parallel-item:last-child::after {align-self: flex-start;width: 50%;}#sk-container-id-4 div.sk-parallel-item:only-child::after {width: 0;}#sk-container-id-4 div.sk-dashed-wrapped {border: 1px dashed gray;margin: 0 0.4em 0.5em 0.4em;box-sizing: border-box;padding-bottom: 0.4em;background-color: white;}#sk-container-id-4 div.sk-label label {font-family: monospace;font-weight: bold;display: inline-block;line-height: 1.2em;}#sk-container-id-4 div.sk-label-container {text-align: center;}#sk-container-id-4 div.sk-container {/* jupyter's `normalize.less` sets `[hidden] { display: none; }` but bootstrap.min.css set `[hidden] { display: none !important; }` so we also need the `!important` here to be able to override the default hidden behavior on the sphinx rendered scikit-learn.org. See: https://github.com/scikit-learn/scikit-learn/issues/21755 */display: inline-block !important;position: relative;}#sk-container-id-4 div.sk-text-repr-fallback {display: none;}</style><div id=\"sk-container-id-4\" class=\"sk-top-container\"><div class=\"sk-text-repr-fallback\"><pre>RandomForestRegressor(max_depth=6, n_estimators=150, random_state=42)</pre><b>In a Jupyter environment, please rerun this cell to show the HTML representation or trust the notebook. <br />On GitHub, the HTML representation is unable to render, please try loading this page with nbviewer.org.</b></div><div class=\"sk-container\" hidden><div class=\"sk-item\"><div class=\"sk-estimator sk-toggleable\"><input class=\"sk-toggleable__control sk-hidden--visually\" id=\"sk-estimator-id-4\" type=\"checkbox\" checked><label for=\"sk-estimator-id-4\" class=\"sk-toggleable__label sk-toggleable__label-arrow\">RandomForestRegressor</label><div class=\"sk-toggleable__content\"><pre>RandomForestRegressor(max_depth=6, n_estimators=150, random_state=42)</pre></div></div></div></div></div>"
      ],
      "text/plain": [
       "RandomForestRegressor(max_depth=6, n_estimators=150, random_state=42)"
      ]
     },
     "execution_count": 116,
     "metadata": {},
     "output_type": "execute_result"
    }
   ],
   "source": [
    "rf = RandomForestRegressor(max_depth=6, n_estimators=150, random_state=42)\n",
    "%time rf.fit(X_train_enc, y_train)"
   ]
  },
  {
   "cell_type": "code",
   "execution_count": 117,
   "id": "841d2e91",
   "metadata": {},
   "outputs": [
    {
     "name": "stdout",
     "output_type": "stream",
     "text": [
      "CPU times: total: 328 ms\n",
      "Wall time: 417 ms\n"
     ]
    }
   ],
   "source": [
    "%time rf_pred = rf.predict(X_val_enc)"
   ]
  },
  {
   "cell_type": "code",
   "execution_count": 118,
   "id": "2a0b6cdf",
   "metadata": {},
   "outputs": [
    {
     "name": "stdout",
     "output_type": "stream",
     "text": [
      "RMSE:  2345.54\n"
     ]
    }
   ],
   "source": [
    "print(f'RMSE: {RMSE(y_val, rf_pred) : .2f}')"
   ]
  },
  {
   "cell_type": "markdown",
   "id": "905d0500",
   "metadata": {},
   "source": [
    "RMSE лучшей модели случайного леса меньше, чем RMSE одного дерева, однако время обучения и предсказания сильно выросло."
   ]
  },
  {
   "cell_type": "markdown",
   "id": "de233d29",
   "metadata": {},
   "source": [
    "#### CatBoostRegressor на X_train_enc"
   ]
  },
  {
   "cell_type": "code",
   "execution_count": 119,
   "id": "fbb6198f",
   "metadata": {},
   "outputs": [
    {
     "name": "stdout",
     "output_type": "stream",
     "text": [
      "Оптимальная глубина: 7\n",
      "Оптимальное количество деревьев: 200\n",
      "Метрика RMSE:  1792.52\n"
     ]
    }
   ],
   "source": [
    "numbers = list(range(10, 151, 10)) + [200]\n",
    "\n",
    "best_score = 9999999999999999999999\n",
    "best_number = 0\n",
    "best_depth = 0\n",
    "for number in numbers:\n",
    "    for depth in range(1, 8):\n",
    "        cb = CatBoostRegressor(n_estimators=number, depth=depth, random_seed=42, verbose=False)\n",
    "        cb.fit(X_train_enc, y_train)\n",
    "        rmse = RMSE(y_val, cb.predict(X_val_enc))\n",
    "        if rmse < best_score:\n",
    "            best_score = rmse\n",
    "            best_number = number\n",
    "            best_depth = depth\n",
    "\n",
    "print('Оптимальная глубина:', best_depth)\n",
    "print('Оптимальное количество деревьев:', best_number)\n",
    "print(f'Метрика RMSE: {best_score : .2f}')"
   ]
  },
  {
   "cell_type": "code",
   "execution_count": 120,
   "id": "f0721feb",
   "metadata": {},
   "outputs": [
    {
     "name": "stdout",
     "output_type": "stream",
     "text": [
      "CPU times: total: 2.23 s\n",
      "Wall time: 2.39 s\n"
     ]
    },
    {
     "data": {
      "text/plain": [
       "<catboost.core.CatBoostRegressor at 0x203d526f490>"
      ]
     },
     "execution_count": 120,
     "metadata": {},
     "output_type": "execute_result"
    }
   ],
   "source": [
    "cb = CatBoostRegressor(n_estimators=200, depth=7, random_seed=42, verbose=False)\n",
    "%time cb.fit(X_train_enc, y_train)"
   ]
  },
  {
   "cell_type": "code",
   "execution_count": 121,
   "id": "2a1cc4d1",
   "metadata": {},
   "outputs": [
    {
     "name": "stdout",
     "output_type": "stream",
     "text": [
      "CPU times: total: 0 ns\n",
      "Wall time: 10 ms\n"
     ]
    }
   ],
   "source": [
    "%time cb_pred = cb.predict(X_val_enc)"
   ]
  },
  {
   "cell_type": "code",
   "execution_count": 122,
   "id": "06d266a9",
   "metadata": {},
   "outputs": [
    {
     "name": "stdout",
     "output_type": "stream",
     "text": [
      "RMSE:  1792.52\n"
     ]
    }
   ],
   "source": [
    "print(f'RMSE: {RMSE(y_val, cb_pred) : .2f}')"
   ]
  },
  {
   "cell_type": "markdown",
   "id": "dc31b94a",
   "metadata": {},
   "source": [
    "Видно, что результаты, которые выдает catboost, гораздо лучше результатов всех предыдущих моделей: самое низкое значение RMSE, причем оно существенно ниже, чем у всех предыдущих моделей, время обучения в 6 раз ниже, чем у лучшей модели RandomForest, а время предсказания - аж в 40 раз!"
   ]
  },
  {
   "cell_type": "markdown",
   "id": "93494169",
   "metadata": {},
   "source": [
    "#### CatBoostRegressor на X_train_scaled"
   ]
  },
  {
   "cell_type": "code",
   "execution_count": 123,
   "id": "67390323",
   "metadata": {},
   "outputs": [
    {
     "name": "stdout",
     "output_type": "stream",
     "text": [
      "Оптимальная глубина: 7\n",
      "Оптимальное количество деревьев: 200\n",
      "Метрика RMSE:  1787.30\n"
     ]
    }
   ],
   "source": [
    "numbers = list(range(10, 151, 10)) + [200]\n",
    "\n",
    "best_score = 9999999999999999999999\n",
    "best_number = 0\n",
    "best_depth = 0\n",
    "for number in numbers:\n",
    "    for depth in range(1, 8):\n",
    "        cb = CatBoostRegressor(\n",
    "            n_estimators=number,\n",
    "            depth=depth,\n",
    "            cat_features=var_categorical,\n",
    "            random_seed=42,\n",
    "            verbose=False\n",
    "        )\n",
    "        cb.fit(X_train_scaled, y_train)\n",
    "        rmse = RMSE(y_val, cb.predict(X_val_scaled))\n",
    "        if rmse < best_score:\n",
    "            best_score = rmse\n",
    "            best_number = number\n",
    "            best_depth = depth\n",
    "\n",
    "print('Оптимальная глубина:', best_depth)\n",
    "print('Оптимальное количество деревьев:', best_number)\n",
    "print(f'Метрика RMSE: {best_score : .2f}')"
   ]
  },
  {
   "cell_type": "code",
   "execution_count": 124,
   "id": "0095cd7d",
   "metadata": {},
   "outputs": [
    {
     "name": "stdout",
     "output_type": "stream",
     "text": [
      "CPU times: total: 14.2 s\n",
      "Wall time: 18.9 s\n"
     ]
    },
    {
     "data": {
      "text/plain": [
       "<catboost.core.CatBoostRegressor at 0x203ce3e7ac0>"
      ]
     },
     "execution_count": 124,
     "metadata": {},
     "output_type": "execute_result"
    }
   ],
   "source": [
    "cb = CatBoostRegressor(n_estimators=200, depth=7, cat_features=var_categorical, random_seed=42, verbose=False)\n",
    "%time cb.fit(X_train_scaled, y_train)"
   ]
  },
  {
   "cell_type": "code",
   "execution_count": 125,
   "id": "35be8d3a",
   "metadata": {},
   "outputs": [
    {
     "name": "stdout",
     "output_type": "stream",
     "text": [
      "CPU times: total: 266 ms\n",
      "Wall time: 160 ms\n"
     ]
    }
   ],
   "source": [
    "%time cb_pred = cb.predict(X_val_scaled)"
   ]
  },
  {
   "cell_type": "code",
   "execution_count": 126,
   "id": "77f85aa2",
   "metadata": {},
   "outputs": [
    {
     "name": "stdout",
     "output_type": "stream",
     "text": [
      "RMSE:  1787.30\n"
     ]
    }
   ],
   "source": [
    "print(f'RMSE: {RMSE(y_val, cb_pred) : .2f}')"
   ]
  },
  {
   "cell_type": "markdown",
   "id": "7428c68d",
   "metadata": {},
   "source": [
    "RMSE этой модели практически не отличается от RMSE предыдущей. Однако время обучения значительно выше (примерно в 6 раз). Лучше обучать catboost на закодированных данных"
   ]
  },
  {
   "cell_type": "markdown",
   "id": "6d6d2111",
   "metadata": {},
   "source": [
    "#### LGBMRegressor на X_train_enc"
   ]
  },
  {
   "cell_type": "code",
   "execution_count": 127,
   "id": "7192a744",
   "metadata": {},
   "outputs": [
    {
     "name": "stdout",
     "output_type": "stream",
     "text": [
      "Оптимальная глубина: 7\n",
      "Оптимальное количество деревьев: 200\n",
      "Метрика RMSE:  1821.46\n"
     ]
    }
   ],
   "source": [
    "numbers = list(range(10, 151, 10)) + [200]\n",
    "\n",
    "best_score = 9999999999999999999999\n",
    "best_number = 0\n",
    "best_depth = 0\n",
    "for number in numbers:\n",
    "    for depth in range(1, 8):\n",
    "        lgb = LGBMRegressor(metric='rmse', max_depth=depth, n_estimators=number, verbosity=-1, random_state=42)\n",
    "        lgb.fit(X_train_enc, y_train)\n",
    "        rmse = RMSE(y_val, lgb.predict(X_val_enc))\n",
    "        if rmse < best_score:\n",
    "            best_score = rmse\n",
    "            best_number = number\n",
    "            best_depth = depth\n",
    "\n",
    "print('Оптимальная глубина:', best_depth)\n",
    "print('Оптимальное количество деревьев:', best_number)\n",
    "print(f'Метрика RMSE: {best_score : .2f}')"
   ]
  },
  {
   "cell_type": "code",
   "execution_count": 128,
   "id": "ce80970d",
   "metadata": {},
   "outputs": [
    {
     "name": "stdout",
     "output_type": "stream",
     "text": [
      "CPU times: total: 6.06 s\n",
      "Wall time: 563 ms\n"
     ]
    },
    {
     "data": {
      "text/html": [
       "<style>#sk-container-id-5 {color: black;background-color: white;}#sk-container-id-5 pre{padding: 0;}#sk-container-id-5 div.sk-toggleable {background-color: white;}#sk-container-id-5 label.sk-toggleable__label {cursor: pointer;display: block;width: 100%;margin-bottom: 0;padding: 0.3em;box-sizing: border-box;text-align: center;}#sk-container-id-5 label.sk-toggleable__label-arrow:before {content: \"▸\";float: left;margin-right: 0.25em;color: #696969;}#sk-container-id-5 label.sk-toggleable__label-arrow:hover:before {color: black;}#sk-container-id-5 div.sk-estimator:hover label.sk-toggleable__label-arrow:before {color: black;}#sk-container-id-5 div.sk-toggleable__content {max-height: 0;max-width: 0;overflow: hidden;text-align: left;background-color: #f0f8ff;}#sk-container-id-5 div.sk-toggleable__content pre {margin: 0.2em;color: black;border-radius: 0.25em;background-color: #f0f8ff;}#sk-container-id-5 input.sk-toggleable__control:checked~div.sk-toggleable__content {max-height: 200px;max-width: 100%;overflow: auto;}#sk-container-id-5 input.sk-toggleable__control:checked~label.sk-toggleable__label-arrow:before {content: \"▾\";}#sk-container-id-5 div.sk-estimator input.sk-toggleable__control:checked~label.sk-toggleable__label {background-color: #d4ebff;}#sk-container-id-5 div.sk-label input.sk-toggleable__control:checked~label.sk-toggleable__label {background-color: #d4ebff;}#sk-container-id-5 input.sk-hidden--visually {border: 0;clip: rect(1px 1px 1px 1px);clip: rect(1px, 1px, 1px, 1px);height: 1px;margin: -1px;overflow: hidden;padding: 0;position: absolute;width: 1px;}#sk-container-id-5 div.sk-estimator {font-family: monospace;background-color: #f0f8ff;border: 1px dotted black;border-radius: 0.25em;box-sizing: border-box;margin-bottom: 0.5em;}#sk-container-id-5 div.sk-estimator:hover {background-color: #d4ebff;}#sk-container-id-5 div.sk-parallel-item::after {content: \"\";width: 100%;border-bottom: 1px solid gray;flex-grow: 1;}#sk-container-id-5 div.sk-label:hover label.sk-toggleable__label {background-color: #d4ebff;}#sk-container-id-5 div.sk-serial::before {content: \"\";position: absolute;border-left: 1px solid gray;box-sizing: border-box;top: 0;bottom: 0;left: 50%;z-index: 0;}#sk-container-id-5 div.sk-serial {display: flex;flex-direction: column;align-items: center;background-color: white;padding-right: 0.2em;padding-left: 0.2em;position: relative;}#sk-container-id-5 div.sk-item {position: relative;z-index: 1;}#sk-container-id-5 div.sk-parallel {display: flex;align-items: stretch;justify-content: center;background-color: white;position: relative;}#sk-container-id-5 div.sk-item::before, #sk-container-id-5 div.sk-parallel-item::before {content: \"\";position: absolute;border-left: 1px solid gray;box-sizing: border-box;top: 0;bottom: 0;left: 50%;z-index: -1;}#sk-container-id-5 div.sk-parallel-item {display: flex;flex-direction: column;z-index: 1;position: relative;background-color: white;}#sk-container-id-5 div.sk-parallel-item:first-child::after {align-self: flex-end;width: 50%;}#sk-container-id-5 div.sk-parallel-item:last-child::after {align-self: flex-start;width: 50%;}#sk-container-id-5 div.sk-parallel-item:only-child::after {width: 0;}#sk-container-id-5 div.sk-dashed-wrapped {border: 1px dashed gray;margin: 0 0.4em 0.5em 0.4em;box-sizing: border-box;padding-bottom: 0.4em;background-color: white;}#sk-container-id-5 div.sk-label label {font-family: monospace;font-weight: bold;display: inline-block;line-height: 1.2em;}#sk-container-id-5 div.sk-label-container {text-align: center;}#sk-container-id-5 div.sk-container {/* jupyter's `normalize.less` sets `[hidden] { display: none; }` but bootstrap.min.css set `[hidden] { display: none !important; }` so we also need the `!important` here to be able to override the default hidden behavior on the sphinx rendered scikit-learn.org. See: https://github.com/scikit-learn/scikit-learn/issues/21755 */display: inline-block !important;position: relative;}#sk-container-id-5 div.sk-text-repr-fallback {display: none;}</style><div id=\"sk-container-id-5\" class=\"sk-top-container\"><div class=\"sk-text-repr-fallback\"><pre>LGBMRegressor(max_depth=7, metric=&#x27;rmse&#x27;, n_estimators=200, random_state=42,\n",
       "              verbosity=-1)</pre><b>In a Jupyter environment, please rerun this cell to show the HTML representation or trust the notebook. <br />On GitHub, the HTML representation is unable to render, please try loading this page with nbviewer.org.</b></div><div class=\"sk-container\" hidden><div class=\"sk-item\"><div class=\"sk-estimator sk-toggleable\"><input class=\"sk-toggleable__control sk-hidden--visually\" id=\"sk-estimator-id-5\" type=\"checkbox\" checked><label for=\"sk-estimator-id-5\" class=\"sk-toggleable__label sk-toggleable__label-arrow\">LGBMRegressor</label><div class=\"sk-toggleable__content\"><pre>LGBMRegressor(max_depth=7, metric=&#x27;rmse&#x27;, n_estimators=200, random_state=42,\n",
       "              verbosity=-1)</pre></div></div></div></div></div>"
      ],
      "text/plain": [
       "LGBMRegressor(max_depth=7, metric='rmse', n_estimators=200, random_state=42,\n",
       "              verbosity=-1)"
      ]
     },
     "execution_count": 128,
     "metadata": {},
     "output_type": "execute_result"
    }
   ],
   "source": [
    "lgb = LGBMRegressor(metric='rmse', max_depth=7, n_estimators=200, verbosity=-1, random_state=42)\n",
    "%time lgb.fit(X_train_enc, y_train)"
   ]
  },
  {
   "cell_type": "code",
   "execution_count": 129,
   "id": "7b8f2410",
   "metadata": {},
   "outputs": [
    {
     "name": "stdout",
     "output_type": "stream",
     "text": [
      "CPU times: total: 1.45 s\n",
      "Wall time: 135 ms\n"
     ]
    }
   ],
   "source": [
    "%time lgb_pred = lgb.predict(X_val_enc)"
   ]
  },
  {
   "cell_type": "code",
   "execution_count": 130,
   "id": "4b8d43fc",
   "metadata": {},
   "outputs": [
    {
     "name": "stdout",
     "output_type": "stream",
     "text": [
      "RMSE:  1821.46\n"
     ]
    }
   ],
   "source": [
    "print(f'RMSE: {RMSE(y_val, lgb_pred) : .2f}')"
   ]
  },
  {
   "cell_type": "markdown",
   "id": "37bda9d8",
   "metadata": {},
   "source": [
    "Качество ниже, чем у catboost, обученного на `X_train_enc`, зато время обучения ниже"
   ]
  },
  {
   "cell_type": "markdown",
   "id": "8c080e6f",
   "metadata": {},
   "source": [
    "#### LGBMRegressor на X_train_cat"
   ]
  },
  {
   "cell_type": "markdown",
   "id": "f517c035",
   "metadata": {},
   "source": [
    "Чтобы передать в `LGBMRegressor()` незакодированные категориальные данные, их необходимо перевести в специальный тип: `'category'`."
   ]
  },
  {
   "cell_type": "code",
   "execution_count": 131,
   "id": "7d26b4c2",
   "metadata": {},
   "outputs": [
    {
     "name": "stdout",
     "output_type": "stream",
     "text": [
      "<class 'pandas.core.frame.DataFrame'>\n",
      "RangeIndex: 212620 entries, 0 to 212619\n",
      "Data columns (total 9 columns):\n",
      " #   Column            Non-Null Count   Dtype   \n",
      "---  ------            --------------   -----   \n",
      " 0   VehicleType       212620 non-null  category\n",
      " 1   Gearbox           212620 non-null  category\n",
      " 2   Model             212620 non-null  category\n",
      " 3   FuelType          212620 non-null  category\n",
      " 4   Brand             212620 non-null  category\n",
      " 5   Repaired          212620 non-null  category\n",
      " 6   RegistrationYear  212620 non-null  float64 \n",
      " 7   Power             212620 non-null  float64 \n",
      " 8   Kilometer         212620 non-null  float64 \n",
      "dtypes: category(6), float64(3)\n",
      "memory usage: 6.3 MB\n"
     ]
    }
   ],
   "source": [
    "X_train_cat = X_train_scaled.copy()\n",
    "X_train_cat[var_categorical] = X_train_cat[var_categorical].astype(\"category\")\n",
    "X_train_cat.info()"
   ]
  },
  {
   "cell_type": "code",
   "execution_count": 132,
   "id": "ba34da0c",
   "metadata": {},
   "outputs": [
    {
     "name": "stdout",
     "output_type": "stream",
     "text": [
      "<class 'pandas.core.frame.DataFrame'>\n",
      "RangeIndex: 70874 entries, 0 to 70873\n",
      "Data columns (total 9 columns):\n",
      " #   Column            Non-Null Count  Dtype   \n",
      "---  ------            --------------  -----   \n",
      " 0   VehicleType       70874 non-null  category\n",
      " 1   Gearbox           70874 non-null  category\n",
      " 2   Model             70874 non-null  category\n",
      " 3   FuelType          70874 non-null  category\n",
      " 4   Brand             70874 non-null  category\n",
      " 5   Repaired          70874 non-null  category\n",
      " 6   RegistrationYear  70874 non-null  float64 \n",
      " 7   Power             70874 non-null  float64 \n",
      " 8   Kilometer         70874 non-null  float64 \n",
      "dtypes: category(6), float64(3)\n",
      "memory usage: 2.1 MB\n"
     ]
    }
   ],
   "source": [
    "X_val_cat = X_val_scaled.copy()\n",
    "X_val_cat[var_categorical] = X_val_cat[var_categorical].astype(\"category\")\n",
    "X_val_cat.info()"
   ]
  },
  {
   "cell_type": "code",
   "execution_count": 133,
   "id": "f8d5ed6e",
   "metadata": {},
   "outputs": [
    {
     "name": "stdout",
     "output_type": "stream",
     "text": [
      "<class 'pandas.core.frame.DataFrame'>\n",
      "RangeIndex: 70874 entries, 0 to 70873\n",
      "Data columns (total 9 columns):\n",
      " #   Column            Non-Null Count  Dtype   \n",
      "---  ------            --------------  -----   \n",
      " 0   VehicleType       70874 non-null  category\n",
      " 1   Gearbox           70874 non-null  category\n",
      " 2   Model             70874 non-null  category\n",
      " 3   FuelType          70874 non-null  category\n",
      " 4   Brand             70874 non-null  category\n",
      " 5   Repaired          70874 non-null  category\n",
      " 6   RegistrationYear  70874 non-null  float64 \n",
      " 7   Power             70874 non-null  float64 \n",
      " 8   Kilometer         70874 non-null  float64 \n",
      "dtypes: category(6), float64(3)\n",
      "memory usage: 2.1 MB\n"
     ]
    }
   ],
   "source": [
    "X_test_cat = X_test_scaled.copy()\n",
    "X_test_cat[var_categorical] = X_test_cat[var_categorical].astype(\"category\")\n",
    "X_test_cat.info()"
   ]
  },
  {
   "cell_type": "code",
   "execution_count": 134,
   "id": "923d6fec",
   "metadata": {},
   "outputs": [
    {
     "name": "stdout",
     "output_type": "stream",
     "text": [
      "Оптимальная глубина: 7\n",
      "Оптимальное количество деревьев: 200\n",
      "Метрика RMSE:  1770.04\n"
     ]
    }
   ],
   "source": [
    "numbers = list(range(10, 151, 10)) + [200]\n",
    "\n",
    "best_score = 9999999999999999999999\n",
    "best_number = 0\n",
    "best_depth = 0\n",
    "for number in numbers:\n",
    "    for depth in range(1, 8):\n",
    "        lgb = LGBMRegressor(metric='rmse', max_depth=depth, n_estimators=number, verbosity=-1, random_state=42)\n",
    "        lgb.fit(X_train_cat, y_train)\n",
    "        rmse = RMSE(y_val, lgb.predict(X_val_cat))\n",
    "        if rmse < best_score:\n",
    "            best_score = rmse\n",
    "            best_number = number\n",
    "            best_depth = depth\n",
    "\n",
    "print('Оптимальная глубина:', best_depth)\n",
    "print('Оптимальное количество деревьев:', best_number)\n",
    "print(f'Метрика RMSE: {best_score : .2f}')"
   ]
  },
  {
   "cell_type": "code",
   "execution_count": 135,
   "id": "fc7e17bb",
   "metadata": {},
   "outputs": [
    {
     "name": "stdout",
     "output_type": "stream",
     "text": [
      "CPU times: total: 7.19 s\n",
      "Wall time: 660 ms\n"
     ]
    },
    {
     "data": {
      "text/html": [
       "<style>#sk-container-id-6 {color: black;background-color: white;}#sk-container-id-6 pre{padding: 0;}#sk-container-id-6 div.sk-toggleable {background-color: white;}#sk-container-id-6 label.sk-toggleable__label {cursor: pointer;display: block;width: 100%;margin-bottom: 0;padding: 0.3em;box-sizing: border-box;text-align: center;}#sk-container-id-6 label.sk-toggleable__label-arrow:before {content: \"▸\";float: left;margin-right: 0.25em;color: #696969;}#sk-container-id-6 label.sk-toggleable__label-arrow:hover:before {color: black;}#sk-container-id-6 div.sk-estimator:hover label.sk-toggleable__label-arrow:before {color: black;}#sk-container-id-6 div.sk-toggleable__content {max-height: 0;max-width: 0;overflow: hidden;text-align: left;background-color: #f0f8ff;}#sk-container-id-6 div.sk-toggleable__content pre {margin: 0.2em;color: black;border-radius: 0.25em;background-color: #f0f8ff;}#sk-container-id-6 input.sk-toggleable__control:checked~div.sk-toggleable__content {max-height: 200px;max-width: 100%;overflow: auto;}#sk-container-id-6 input.sk-toggleable__control:checked~label.sk-toggleable__label-arrow:before {content: \"▾\";}#sk-container-id-6 div.sk-estimator input.sk-toggleable__control:checked~label.sk-toggleable__label {background-color: #d4ebff;}#sk-container-id-6 div.sk-label input.sk-toggleable__control:checked~label.sk-toggleable__label {background-color: #d4ebff;}#sk-container-id-6 input.sk-hidden--visually {border: 0;clip: rect(1px 1px 1px 1px);clip: rect(1px, 1px, 1px, 1px);height: 1px;margin: -1px;overflow: hidden;padding: 0;position: absolute;width: 1px;}#sk-container-id-6 div.sk-estimator {font-family: monospace;background-color: #f0f8ff;border: 1px dotted black;border-radius: 0.25em;box-sizing: border-box;margin-bottom: 0.5em;}#sk-container-id-6 div.sk-estimator:hover {background-color: #d4ebff;}#sk-container-id-6 div.sk-parallel-item::after {content: \"\";width: 100%;border-bottom: 1px solid gray;flex-grow: 1;}#sk-container-id-6 div.sk-label:hover label.sk-toggleable__label {background-color: #d4ebff;}#sk-container-id-6 div.sk-serial::before {content: \"\";position: absolute;border-left: 1px solid gray;box-sizing: border-box;top: 0;bottom: 0;left: 50%;z-index: 0;}#sk-container-id-6 div.sk-serial {display: flex;flex-direction: column;align-items: center;background-color: white;padding-right: 0.2em;padding-left: 0.2em;position: relative;}#sk-container-id-6 div.sk-item {position: relative;z-index: 1;}#sk-container-id-6 div.sk-parallel {display: flex;align-items: stretch;justify-content: center;background-color: white;position: relative;}#sk-container-id-6 div.sk-item::before, #sk-container-id-6 div.sk-parallel-item::before {content: \"\";position: absolute;border-left: 1px solid gray;box-sizing: border-box;top: 0;bottom: 0;left: 50%;z-index: -1;}#sk-container-id-6 div.sk-parallel-item {display: flex;flex-direction: column;z-index: 1;position: relative;background-color: white;}#sk-container-id-6 div.sk-parallel-item:first-child::after {align-self: flex-end;width: 50%;}#sk-container-id-6 div.sk-parallel-item:last-child::after {align-self: flex-start;width: 50%;}#sk-container-id-6 div.sk-parallel-item:only-child::after {width: 0;}#sk-container-id-6 div.sk-dashed-wrapped {border: 1px dashed gray;margin: 0 0.4em 0.5em 0.4em;box-sizing: border-box;padding-bottom: 0.4em;background-color: white;}#sk-container-id-6 div.sk-label label {font-family: monospace;font-weight: bold;display: inline-block;line-height: 1.2em;}#sk-container-id-6 div.sk-label-container {text-align: center;}#sk-container-id-6 div.sk-container {/* jupyter's `normalize.less` sets `[hidden] { display: none; }` but bootstrap.min.css set `[hidden] { display: none !important; }` so we also need the `!important` here to be able to override the default hidden behavior on the sphinx rendered scikit-learn.org. See: https://github.com/scikit-learn/scikit-learn/issues/21755 */display: inline-block !important;position: relative;}#sk-container-id-6 div.sk-text-repr-fallback {display: none;}</style><div id=\"sk-container-id-6\" class=\"sk-top-container\"><div class=\"sk-text-repr-fallback\"><pre>LGBMRegressor(max_depth=7, metric=&#x27;rmse&#x27;, n_estimators=200, random_state=42,\n",
       "              verbosity=-1)</pre><b>In a Jupyter environment, please rerun this cell to show the HTML representation or trust the notebook. <br />On GitHub, the HTML representation is unable to render, please try loading this page with nbviewer.org.</b></div><div class=\"sk-container\" hidden><div class=\"sk-item\"><div class=\"sk-estimator sk-toggleable\"><input class=\"sk-toggleable__control sk-hidden--visually\" id=\"sk-estimator-id-6\" type=\"checkbox\" checked><label for=\"sk-estimator-id-6\" class=\"sk-toggleable__label sk-toggleable__label-arrow\">LGBMRegressor</label><div class=\"sk-toggleable__content\"><pre>LGBMRegressor(max_depth=7, metric=&#x27;rmse&#x27;, n_estimators=200, random_state=42,\n",
       "              verbosity=-1)</pre></div></div></div></div></div>"
      ],
      "text/plain": [
       "LGBMRegressor(max_depth=7, metric='rmse', n_estimators=200, random_state=42,\n",
       "              verbosity=-1)"
      ]
     },
     "execution_count": 135,
     "metadata": {},
     "output_type": "execute_result"
    }
   ],
   "source": [
    "lgb = LGBMRegressor(metric='rmse', max_depth=7, n_estimators=200, verbosity=-1, random_state=42)\n",
    "%time lgb.fit(X_train_cat, y_train)"
   ]
  },
  {
   "cell_type": "code",
   "execution_count": 136,
   "id": "51b32e28",
   "metadata": {},
   "outputs": [
    {
     "name": "stdout",
     "output_type": "stream",
     "text": [
      "CPU times: total: 1.75 s\n",
      "Wall time: 174 ms\n"
     ]
    }
   ],
   "source": [
    "%time lgb_pred = lgb.predict(X_val_cat)"
   ]
  },
  {
   "cell_type": "code",
   "execution_count": 137,
   "id": "c8e3cbe5",
   "metadata": {},
   "outputs": [
    {
     "name": "stdout",
     "output_type": "stream",
     "text": [
      "RMSE:  1770.04\n"
     ]
    }
   ],
   "source": [
    "print(f'RMSE: {RMSE(y_val, lgb_pred) : .2f}')"
   ]
  },
  {
   "cell_type": "markdown",
   "id": "e1f1227c",
   "metadata": {},
   "source": [
    "Убедимся в отсутствии переобучения"
   ]
  },
  {
   "cell_type": "code",
   "execution_count": 138,
   "id": "42b75111",
   "metadata": {},
   "outputs": [
    {
     "name": "stdout",
     "output_type": "stream",
     "text": [
      "CPU times: total: 4.75 s\n",
      "Wall time: 424 ms\n"
     ]
    }
   ],
   "source": [
    "%time lgb_pred = lgb.predict(X_train_cat)"
   ]
  },
  {
   "cell_type": "code",
   "execution_count": 139,
   "id": "f6acfb74",
   "metadata": {},
   "outputs": [
    {
     "name": "stdout",
     "output_type": "stream",
     "text": [
      "RMSE:  1704.06\n"
     ]
    }
   ],
   "source": [
    "print(f'RMSE: {RMSE(y_train, lgb_pred) : .2f}')"
   ]
  },
  {
   "cell_type": "markdown",
   "id": "0905043f",
   "metadata": {},
   "source": [
    "Данная модель `LGBMregressor` выигрывает у `CatBoostRegressor` по качеству и по времени обучения, но проигрывает по времени предсказания."
   ]
  },
  {
   "cell_type": "markdown",
   "id": "d83ddfb2",
   "metadata": {},
   "source": [
    "## Выбор лучшей модели и проведение итогового тестирования"
   ]
  },
  {
   "cell_type": "markdown",
   "id": "c23e356c",
   "metadata": {},
   "source": [
    "Составим небольшую сводку по характеристикам моделей\n",
    "\n",
    "\n",
    "| Модель                               | RMSE            | Время обучения     | Время предсказания |\n",
    ":--------------------------------------|:---------------:|:------------------:|:------------------:|\n",
    "| DecisionTreeRegressor                | 2749.26         | 191 ms             | 10.4 ms            |\n",
    "| RandomForestRegressor                | 2697.92         | 8.49 s             | 190 ms             |\n",
    "| CatBoostRegressor на X_train_enc     | 2012.15         | 2.68 s             | 10.4 ms            |\n",
    "| CatBoostRegressor на X_train_scaled  | 2012.04         | 32.3 s             | 201 ms             |\n",
    "| LGBMRegressor на X_train_enc         | 2053.22         | 707 ms             | 141 ms             |\n",
    "| LGBMRegressor на X_train_cat         | 1966.37         | 675 ms             | 168 ms             |\n",
    "\n",
    "\n",
    "Для финального тестирования выберем модель `LGBMRegressor` на X_train_cat. Во-первых, эта модель выдала лучшее значение RMSE. Во-вторых, она обучается значительно быстрее `CatBoostRegressor` - единственного класса моделей, составившего конкуренцию. При этом, несмотря на то, что время предсказания у `CatBoostRegressor` на порядок меньше, данная модель предсказывает достаточно быстро, чтобы ее можно было использовать даже в real-time-сервисах"
   ]
  },
  {
   "cell_type": "markdown",
   "id": "e8a931a4",
   "metadata": {},
   "source": [
    "Соединим тренировочную и валидационную выборки в одну и протестируем нашу модель"
   ]
  },
  {
   "cell_type": "code",
   "execution_count": 151,
   "id": "7ae15fd3",
   "metadata": {},
   "outputs": [],
   "source": [
    "features_train = pd.concat([X_train_cat, X_val_cat]).reset_index(drop=True)\n",
    "target_train = pd.concat([y_train, y_val]).reset_index(drop=True)"
   ]
  },
  {
   "cell_type": "code",
   "execution_count": 152,
   "id": "95a05b1f",
   "metadata": {},
   "outputs": [
    {
     "data": {
      "text/html": [
       "<div>\n",
       "<style scoped>\n",
       "    .dataframe tbody tr th:only-of-type {\n",
       "        vertical-align: middle;\n",
       "    }\n",
       "\n",
       "    .dataframe tbody tr th {\n",
       "        vertical-align: top;\n",
       "    }\n",
       "\n",
       "    .dataframe thead th {\n",
       "        text-align: right;\n",
       "    }\n",
       "</style>\n",
       "<table border=\"1\" class=\"dataframe\">\n",
       "  <thead>\n",
       "    <tr style=\"text-align: right;\">\n",
       "      <th></th>\n",
       "      <th>VehicleType</th>\n",
       "      <th>Gearbox</th>\n",
       "      <th>Model</th>\n",
       "      <th>FuelType</th>\n",
       "      <th>Brand</th>\n",
       "      <th>Repaired</th>\n",
       "      <th>RegistrationYear</th>\n",
       "      <th>Power</th>\n",
       "      <th>Kilometer</th>\n",
       "    </tr>\n",
       "  </thead>\n",
       "  <tbody>\n",
       "    <tr>\n",
       "      <th>0</th>\n",
       "      <td>sedan</td>\n",
       "      <td>manual</td>\n",
       "      <td>golf</td>\n",
       "      <td>petrol</td>\n",
       "      <td>volkswagen</td>\n",
       "      <td>no</td>\n",
       "      <td>-1.232933</td>\n",
       "      <td>-0.018479</td>\n",
       "      <td>0.646188</td>\n",
       "    </tr>\n",
       "    <tr>\n",
       "      <th>1</th>\n",
       "      <td>sedan</td>\n",
       "      <td>auto</td>\n",
       "      <td>s_type</td>\n",
       "      <td>petrol</td>\n",
       "      <td>jaguar</td>\n",
       "      <td>no</td>\n",
       "      <td>0.417870</td>\n",
       "      <td>-0.018479</td>\n",
       "      <td>-1.767210</td>\n",
       "    </tr>\n",
       "    <tr>\n",
       "      <th>2</th>\n",
       "      <td>sedan</td>\n",
       "      <td>manual</td>\n",
       "      <td>golf</td>\n",
       "      <td>petrol</td>\n",
       "      <td>volkswagen</td>\n",
       "      <td>unknown</td>\n",
       "      <td>1.918601</td>\n",
       "      <td>-0.018479</td>\n",
       "      <td>0.646188</td>\n",
       "    </tr>\n",
       "    <tr>\n",
       "      <th>3</th>\n",
       "      <td>sedan</td>\n",
       "      <td>manual</td>\n",
       "      <td>a4</td>\n",
       "      <td>gasoline</td>\n",
       "      <td>audi</td>\n",
       "      <td>unknown</td>\n",
       "      <td>0.718016</td>\n",
       "      <td>-0.018479</td>\n",
       "      <td>-1.867769</td>\n",
       "    </tr>\n",
       "    <tr>\n",
       "      <th>4</th>\n",
       "      <td>small</td>\n",
       "      <td>manual</td>\n",
       "      <td>spark</td>\n",
       "      <td>petrol</td>\n",
       "      <td>chevrolet</td>\n",
       "      <td>no</td>\n",
       "      <td>1.318309</td>\n",
       "      <td>-0.018479</td>\n",
       "      <td>-1.867769</td>\n",
       "    </tr>\n",
       "  </tbody>\n",
       "</table>\n",
       "</div>"
      ],
      "text/plain": [
       "  VehicleType Gearbox   Model  FuelType       Brand Repaired  \\\n",
       "0       sedan  manual    golf    petrol  volkswagen       no   \n",
       "1       sedan    auto  s_type    petrol      jaguar       no   \n",
       "2       sedan  manual    golf    petrol  volkswagen  unknown   \n",
       "3       sedan  manual      a4  gasoline        audi  unknown   \n",
       "4       small  manual   spark    petrol   chevrolet       no   \n",
       "\n",
       "   RegistrationYear     Power  Kilometer  \n",
       "0         -1.232933 -0.018479   0.646188  \n",
       "1          0.417870 -0.018479  -1.767210  \n",
       "2          1.918601 -0.018479   0.646188  \n",
       "3          0.718016 -0.018479  -1.867769  \n",
       "4          1.318309 -0.018479  -1.867769  "
      ]
     },
     "execution_count": 152,
     "metadata": {},
     "output_type": "execute_result"
    }
   ],
   "source": [
    "features_train.head()"
   ]
  },
  {
   "cell_type": "code",
   "execution_count": 153,
   "id": "5669b335",
   "metadata": {},
   "outputs": [
    {
     "name": "stdout",
     "output_type": "stream",
     "text": [
      "<class 'pandas.core.frame.DataFrame'>\n",
      "RangeIndex: 283494 entries, 0 to 283493\n",
      "Data columns (total 9 columns):\n",
      " #   Column            Non-Null Count   Dtype   \n",
      "---  ------            --------------   -----   \n",
      " 0   VehicleType       283494 non-null  category\n",
      " 1   Gearbox           283494 non-null  category\n",
      " 2   Model             283494 non-null  object  \n",
      " 3   FuelType          283494 non-null  category\n",
      " 4   Brand             283494 non-null  category\n",
      " 5   Repaired          283494 non-null  category\n",
      " 6   RegistrationYear  283494 non-null  float64 \n",
      " 7   Power             283494 non-null  float64 \n",
      " 8   Kilometer         283494 non-null  float64 \n",
      "dtypes: category(5), float64(3), object(1)\n",
      "memory usage: 10.0+ MB\n"
     ]
    }
   ],
   "source": [
    "features_train.info()"
   ]
  },
  {
   "cell_type": "code",
   "execution_count": 154,
   "id": "f5b778e8",
   "metadata": {},
   "outputs": [],
   "source": [
    "features_train['Model'] = features_train['Model'].astype('category')"
   ]
  },
  {
   "cell_type": "code",
   "execution_count": 155,
   "id": "9417c1b2",
   "metadata": {},
   "outputs": [
    {
     "data": {
      "text/plain": [
       "CategoricalDtype(categories=['100', '145', '147', '156', '159', '1_reihe', '1er', '200',\n",
       "                  '2_reihe', '300c',\n",
       "                  ...\n",
       "                  'wrangler', 'x_reihe', 'x_trail', 'x_type', 'xc_reihe',\n",
       "                  'yaris', 'yeti', 'ypsilon', 'z_reihe', 'zafira'],\n",
       ", ordered=False)"
      ]
     },
     "execution_count": 155,
     "metadata": {},
     "output_type": "execute_result"
    }
   ],
   "source": [
    "features_train['Model'].dtype"
   ]
  },
  {
   "cell_type": "code",
   "execution_count": 156,
   "id": "86968f71",
   "metadata": {},
   "outputs": [
    {
     "data": {
      "text/plain": [
       "0      799\n",
       "1    10000\n",
       "2     1250\n",
       "3    15999\n",
       "4     5000\n",
       "Name: Price, dtype: int64"
      ]
     },
     "execution_count": 156,
     "metadata": {},
     "output_type": "execute_result"
    }
   ],
   "source": [
    "target_train.head()"
   ]
  },
  {
   "cell_type": "code",
   "execution_count": 157,
   "id": "4f6d0274",
   "metadata": {},
   "outputs": [
    {
     "name": "stdout",
     "output_type": "stream",
     "text": [
      "<class 'pandas.core.series.Series'>\n",
      "RangeIndex: 283494 entries, 0 to 283493\n",
      "Series name: Price\n",
      "Non-Null Count   Dtype\n",
      "--------------   -----\n",
      "283494 non-null  int64\n",
      "dtypes: int64(1)\n",
      "memory usage: 2.2 MB\n"
     ]
    }
   ],
   "source": [
    "target_train.info()"
   ]
  },
  {
   "cell_type": "code",
   "execution_count": 158,
   "id": "b87187cd",
   "metadata": {},
   "outputs": [
    {
     "name": "stdout",
     "output_type": "stream",
     "text": [
      "CPU times: total: 10.4 s\n",
      "Wall time: 975 ms\n"
     ]
    },
    {
     "data": {
      "text/plain": [
       "LGBMRegressor(max_depth=7, metric='rmse', n_estimators=200, random_state=42,\n",
       "              verbosity=-1)"
      ]
     },
     "execution_count": 158,
     "metadata": {},
     "output_type": "execute_result"
    }
   ],
   "source": [
    "model = LGBMRegressor(metric='rmse', max_depth=7, n_estimators=200, verbosity=-1, random_state=42)\n",
    "%time model.fit(features_train, target_train)"
   ]
  },
  {
   "cell_type": "code",
   "execution_count": 159,
   "id": "287cba75",
   "metadata": {},
   "outputs": [
    {
     "name": "stdout",
     "output_type": "stream",
     "text": [
      "CPU times: total: 1.8 s\n",
      "Wall time: 188 ms\n"
     ]
    }
   ],
   "source": [
    "%time model_pred = model.predict(X_test_cat)"
   ]
  },
  {
   "cell_type": "code",
   "execution_count": 160,
   "id": "ed316001",
   "metadata": {},
   "outputs": [
    {
     "name": "stdout",
     "output_type": "stream",
     "text": [
      "RMSE:  1968.18\n"
     ]
    }
   ],
   "source": [
    "print(f'RMSE: {RMSE(y_test, model_pred) : .2f}')"
   ]
  },
  {
   "cell_type": "markdown",
   "id": "e8892aab",
   "metadata": {},
   "source": [
    "Убедимся в отсутствии переобучения"
   ]
  },
  {
   "cell_type": "code",
   "execution_count": 161,
   "id": "52257a18",
   "metadata": {},
   "outputs": [
    {
     "name": "stdout",
     "output_type": "stream",
     "text": [
      "CPU times: total: 6.36 s\n",
      "Wall time: 591 ms\n"
     ]
    }
   ],
   "source": [
    "%time model_pred = model.predict(features_train)"
   ]
  },
  {
   "cell_type": "code",
   "execution_count": 162,
   "id": "098e5fc4",
   "metadata": {},
   "outputs": [
    {
     "name": "stdout",
     "output_type": "stream",
     "text": [
      "RMSE:  1918.05\n"
     ]
    }
   ],
   "source": [
    "print(f'RMSE: {RMSE(target_train, model_pred) : .2f}')"
   ]
  },
  {
   "cell_type": "markdown",
   "id": "651d5774",
   "metadata": {},
   "source": [
    "Модель показала практически тот же результат, что и на валидационной выборке.\n",
    "\n",
    "Посмотрим, какие признаки оказались важны в итоге"
   ]
  },
  {
   "cell_type": "code",
   "execution_count": 166,
   "id": "bd446883",
   "metadata": {},
   "outputs": [
    {
     "data": {
      "image/png": "[encoded data removed]",
      "text/plain": [
       "<Figure size 720x504 with 1 Axes>"
      ]
     },
     "metadata": {
      "needs_background": "light"
     },
     "output_type": "display_data"
    }
   ],
   "source": [
    "feat_imp = pd.Series(model.feature_importances_, features_train.columns)\n",
    "\n",
    "fig, ax = plt.subplots(figsize=(10,7))\n",
    "feat_imp.plot.bar(ax=ax)\n",
    "ax.set_title(\"Важность признаков\")\n",
    "ax.set_ylabel('Важность')\n",
    "fig.tight_layout()"
   ]
  },
  {
   "cell_type": "markdown",
   "id": "bbc065a9",
   "metadata": {},
   "source": [
    "Видим, что наиболее значимыми оказались `'Model'` и `'RegistrationYear'`, далее идут `'Vehicletype', 'Brand', 'Kilometer'`. Остальные признаки менее значимы."
   ]
  },
  {
   "cell_type": "markdown",
   "id": "329c63fb",
   "metadata": {},
   "source": [
    "## Вывод\n",
    "\n",
    "\n",
    "* В ходе исследования были изучены разные модели машинного обучения, начиная от простейших - `DecisionTree` и кончая различными реализациями градиентного бустинга\n",
    "\n",
    "* Основными конкурентами на протяжении всего исследования являлись `CatBoostRegressor` и `LGBMRegressor`. В конечном итоге предпочтение было отдано модели `LGBMRegressor`, обученной на незакодированных данных, так как ее метрика RMSE оказалась самой маленькой, а время обучения было существенно меньше, чем у `CatBoostRegressor`, последний, однако, справляется с выполнением предсказаний значительно быстрее\n",
    "\n",
    "* Что касается других моделей, их качество было существенно ниже, чем у бустинга, с другой стороны, они выигрывали в скорости\n",
    "\n",
    "* Результаты итогового тестирования лучшей модели:\n",
    "  \n",
    "    * параметры: `metric='rmse', max_depth=7, n_estimators=200, verbosity=-1, random_state=42`\n",
    "    \n",
    "    * RMSE: 1968.18\n",
    "    \n",
    "    * Время обучения: 975 ms\n",
    "    \n",
    "    * Время предсказания: 188 ms\n",
    "\n",
    "* Наиболее значимые признаки: `'Model'` и `'RegistrationYear'`, далее идут `'Vehicletype', 'Brand', 'Kilometer'`"
   ]
  }
 ],
 "metadata": {
  "kernelspec": {
   "display_name": "Python 3 (ipykernel)",
   "language": "python",
   "name": "python3"
  },
  "language_info": {
   "codemirror_mode": {
    "name": "ipython",
    "version": 3
   },
   "file_extension": ".py",
   "mimetype": "text/x-python",
   "name": "python",
   "nbconvert_exporter": "python",
   "pygments_lexer": "ipython3",
   "version": "3.9.12"
  },
  "toc": {
   "base_numbering": 1,
   "nav_menu": {},
   "number_sections": true,
   "sideBar": true,
   "skip_h1_title": true,
   "title_cell": "Table of Contents",
   "title_sidebar": "Contents",
   "toc_cell": false,
   "toc_position": {},
   "toc_section_display": true,
   "toc_window_display": false
  }
 },
 "nbformat": 4,
 "nbformat_minor": 5
}
