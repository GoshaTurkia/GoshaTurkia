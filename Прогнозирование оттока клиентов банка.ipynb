{
 "cells": [
  {
   "cell_type": "markdown",
   "id": "66d3a35b",
   "metadata": {},
   "source": [
    "# Прогнозирование оттока клиентов банка"
   ]
  },
  {
   "cell_type": "markdown",
   "id": "4f3d5d84",
   "metadata": {},
   "source": [
    "## Описание проекта. Цели и задачи. Описание данных"
   ]
  },
  {
   "cell_type": "markdown",
   "id": "ea16e16b",
   "metadata": {},
   "source": [
    "**Задача:** Из «Бета-Банка» стали уходить клиенты. Каждый месяц. Немного, но заметно. Банковские маркетологи посчитали: сохранять текущих клиентов дешевле, чем привлекать новых.\n",
    "\n",
    "На основе исторических данных о поведении клиентов и расторжении договоров с банком нужно спрогнозировать, уйдёт клиент из банка в ближайшее время или нет.\n",
    "\n",
    "**Целевые метрики:** F1-мера (главная метрика) и AUC-ROC\n",
    "\n",
    "**Описание данных:**\n",
    "* Признаки\n",
    "\n",
    "  * `RowNumber` — индекс строки в данных\n",
    "  \n",
    "  * `CustomerId` — уникальный идентификатор клиента\n",
    "  \n",
    "  * `Surname` — фамилия\n",
    "  \n",
    "  * `CreditScore` — кредитный рейтинг\n",
    "  \n",
    "  * `Geography` — страна проживания\n",
    "  \n",
    "  * `Gender` — пол\n",
    "  \n",
    "  * `Age` — возраст\n",
    "  \n",
    "  * `Tenure` — сколько лет человек является клиентом банка\n",
    "  \n",
    "  * `Balance` — баланс на счёте\n",
    "  \n",
    "  * `NumOfProducts` — количество продуктов банка, используемых клиентом\n",
    "  \n",
    "  * `HasCrCard` — наличие кредитной карты\n",
    "  \n",
    "  * `IsActiveMember` — активность клиента\n",
    "  \n",
    "  * `EstimatedSalary` — предполагаемая зарплата\n",
    "\n",
    "* Целевой признак\n",
    "\n",
    "  * `Exited` — факт ухода клиента"
   ]
  },
  {
   "cell_type": "code",
   "execution_count": 75,
   "id": "a2171bf0",
   "metadata": {},
   "outputs": [
    {
     "name": "stdout",
     "output_type": "stream",
     "text": [
      "Collecting imblearn\n",
      "  Downloading imblearn-0.0-py2.py3-none-any.whl (1.9 kB)\n",
      "Collecting imbalanced-learn\n",
      "  Downloading imbalanced_learn-0.10.1-py3-none-any.whl (226 kB)\n",
      "Requirement already satisfied: threadpoolctl>=2.0.0 in c:\\users\\gturk\\anaconda3\\lib\\site-packages (from imbalanced-learn->imblearn) (2.2.0)\n",
      "Requirement already satisfied: scipy>=1.3.2 in c:\\users\\gturk\\anaconda3\\lib\\site-packages (from imbalanced-learn->imblearn) (1.7.3)\n",
      "Collecting joblib>=1.1.1\n",
      "  Downloading joblib-1.2.0-py3-none-any.whl (297 kB)\n",
      "Requirement already satisfied: numpy>=1.17.3 in c:\\users\\gturk\\anaconda3\\lib\\site-packages (from imbalanced-learn->imblearn) (1.21.5)\n",
      "Requirement already satisfied: scikit-learn>=1.0.2 in c:\\users\\gturk\\anaconda3\\lib\\site-packages (from imbalanced-learn->imblearn) (1.0.2)\n",
      "Installing collected packages: joblib, imbalanced-learn, imblearn\n",
      "  Attempting uninstall: joblib\n",
      "    Found existing installation: joblib 1.1.0\n",
      "    Uninstalling joblib-1.1.0:\n",
      "      Successfully uninstalled joblib-1.1.0\n",
      "Successfully installed imbalanced-learn-0.10.1 imblearn-0.0 joblib-1.2.0\n"
     ]
    }
   ],
   "source": [
    "!pip install imblearn"
   ]
  },
  {
   "cell_type": "code",
   "execution_count": 1,
   "id": "69531cfb",
   "metadata": {},
   "outputs": [],
   "source": [
    "import pandas as pd\n",
    "import numpy as np\n",
    "\n",
    "import seaborn as sns\n",
    "import matplotlib.pyplot as plt\n",
    "\n",
    "from sklearn.model_selection import train_test_split\n",
    "from sklearn.metrics import f1_score, roc_auc_score\n",
    "from sklearn.preprocessing import OneHotEncoder, StandardScaler\n",
    "from sklearn.utils import shuffle\n",
    "from imblearn.over_sampling import SMOTE\n",
    "from imblearn.under_sampling import RandomUnderSampler\n",
    "\n",
    "from sklearn.linear_model import LogisticRegression\n",
    "from sklearn.ensemble import RandomForestClassifier\n",
    "from sklearn.tree import DecisionTreeClassifier"
   ]
  },
  {
   "cell_type": "markdown",
   "id": "55a62c93",
   "metadata": {},
   "source": [
    "## Загрузка и предобработка данных"
   ]
  },
  {
   "cell_type": "code",
   "execution_count": 2,
   "id": "3c7ed3b0",
   "metadata": {},
   "outputs": [
    {
     "data": {
      "text/html": [
       "<div>\n",
       "<style scoped>\n",
       "    .dataframe tbody tr th:only-of-type {\n",
       "        vertical-align: middle;\n",
       "    }\n",
       "\n",
       "    .dataframe tbody tr th {\n",
       "        vertical-align: top;\n",
       "    }\n",
       "\n",
       "    .dataframe thead th {\n",
       "        text-align: right;\n",
       "    }\n",
       "</style>\n",
       "<table border=\"1\" class=\"dataframe\">\n",
       "  <thead>\n",
       "    <tr style=\"text-align: right;\">\n",
       "      <th></th>\n",
       "      <th>RowNumber</th>\n",
       "      <th>CustomerId</th>\n",
       "      <th>Surname</th>\n",
       "      <th>CreditScore</th>\n",
       "      <th>Geography</th>\n",
       "      <th>Gender</th>\n",
       "      <th>Age</th>\n",
       "      <th>Tenure</th>\n",
       "      <th>Balance</th>\n",
       "      <th>NumOfProducts</th>\n",
       "      <th>HasCrCard</th>\n",
       "      <th>IsActiveMember</th>\n",
       "      <th>EstimatedSalary</th>\n",
       "      <th>Exited</th>\n",
       "    </tr>\n",
       "  </thead>\n",
       "  <tbody>\n",
       "    <tr>\n",
       "      <th>0</th>\n",
       "      <td>1</td>\n",
       "      <td>15634602</td>\n",
       "      <td>Hargrave</td>\n",
       "      <td>619</td>\n",
       "      <td>France</td>\n",
       "      <td>Female</td>\n",
       "      <td>42</td>\n",
       "      <td>2.0</td>\n",
       "      <td>0.00</td>\n",
       "      <td>1</td>\n",
       "      <td>1</td>\n",
       "      <td>1</td>\n",
       "      <td>101348.88</td>\n",
       "      <td>1</td>\n",
       "    </tr>\n",
       "    <tr>\n",
       "      <th>1</th>\n",
       "      <td>2</td>\n",
       "      <td>15647311</td>\n",
       "      <td>Hill</td>\n",
       "      <td>608</td>\n",
       "      <td>Spain</td>\n",
       "      <td>Female</td>\n",
       "      <td>41</td>\n",
       "      <td>1.0</td>\n",
       "      <td>83807.86</td>\n",
       "      <td>1</td>\n",
       "      <td>0</td>\n",
       "      <td>1</td>\n",
       "      <td>112542.58</td>\n",
       "      <td>0</td>\n",
       "    </tr>\n",
       "    <tr>\n",
       "      <th>2</th>\n",
       "      <td>3</td>\n",
       "      <td>15619304</td>\n",
       "      <td>Onio</td>\n",
       "      <td>502</td>\n",
       "      <td>France</td>\n",
       "      <td>Female</td>\n",
       "      <td>42</td>\n",
       "      <td>8.0</td>\n",
       "      <td>159660.80</td>\n",
       "      <td>3</td>\n",
       "      <td>1</td>\n",
       "      <td>0</td>\n",
       "      <td>113931.57</td>\n",
       "      <td>1</td>\n",
       "    </tr>\n",
       "    <tr>\n",
       "      <th>3</th>\n",
       "      <td>4</td>\n",
       "      <td>15701354</td>\n",
       "      <td>Boni</td>\n",
       "      <td>699</td>\n",
       "      <td>France</td>\n",
       "      <td>Female</td>\n",
       "      <td>39</td>\n",
       "      <td>1.0</td>\n",
       "      <td>0.00</td>\n",
       "      <td>2</td>\n",
       "      <td>0</td>\n",
       "      <td>0</td>\n",
       "      <td>93826.63</td>\n",
       "      <td>0</td>\n",
       "    </tr>\n",
       "    <tr>\n",
       "      <th>4</th>\n",
       "      <td>5</td>\n",
       "      <td>15737888</td>\n",
       "      <td>Mitchell</td>\n",
       "      <td>850</td>\n",
       "      <td>Spain</td>\n",
       "      <td>Female</td>\n",
       "      <td>43</td>\n",
       "      <td>2.0</td>\n",
       "      <td>125510.82</td>\n",
       "      <td>1</td>\n",
       "      <td>1</td>\n",
       "      <td>1</td>\n",
       "      <td>79084.10</td>\n",
       "      <td>0</td>\n",
       "    </tr>\n",
       "  </tbody>\n",
       "</table>\n",
       "</div>"
      ],
      "text/plain": [
       "   RowNumber  CustomerId   Surname  CreditScore Geography  Gender  Age  \\\n",
       "0          1    15634602  Hargrave          619    France  Female   42   \n",
       "1          2    15647311      Hill          608     Spain  Female   41   \n",
       "2          3    15619304      Onio          502    France  Female   42   \n",
       "3          4    15701354      Boni          699    France  Female   39   \n",
       "4          5    15737888  Mitchell          850     Spain  Female   43   \n",
       "\n",
       "   Tenure    Balance  NumOfProducts  HasCrCard  IsActiveMember  \\\n",
       "0     2.0       0.00              1          1               1   \n",
       "1     1.0   83807.86              1          0               1   \n",
       "2     8.0  159660.80              3          1               0   \n",
       "3     1.0       0.00              2          0               0   \n",
       "4     2.0  125510.82              1          1               1   \n",
       "\n",
       "   EstimatedSalary  Exited  \n",
       "0        101348.88       1  \n",
       "1        112542.58       0  \n",
       "2        113931.57       1  \n",
       "3         93826.63       0  \n",
       "4         79084.10       0  "
      ]
     },
     "execution_count": 2,
     "metadata": {},
     "output_type": "execute_result"
    }
   ],
   "source": [
    "data = pd.read_csv('churn.csv')\n",
    "data.head()"
   ]
  },
  {
   "cell_type": "code",
   "execution_count": 3,
   "id": "0159c180",
   "metadata": {},
   "outputs": [
    {
     "name": "stdout",
     "output_type": "stream",
     "text": [
      "<class 'pandas.core.frame.DataFrame'>\n",
      "RangeIndex: 10000 entries, 0 to 9999\n",
      "Data columns (total 14 columns):\n",
      " #   Column           Non-Null Count  Dtype  \n",
      "---  ------           --------------  -----  \n",
      " 0   RowNumber        10000 non-null  int64  \n",
      " 1   CustomerId       10000 non-null  int64  \n",
      " 2   Surname          10000 non-null  object \n",
      " 3   CreditScore      10000 non-null  int64  \n",
      " 4   Geography        10000 non-null  object \n",
      " 5   Gender           10000 non-null  object \n",
      " 6   Age              10000 non-null  int64  \n",
      " 7   Tenure           9091 non-null   float64\n",
      " 8   Balance          10000 non-null  float64\n",
      " 9   NumOfProducts    10000 non-null  int64  \n",
      " 10  HasCrCard        10000 non-null  int64  \n",
      " 11  IsActiveMember   10000 non-null  int64  \n",
      " 12  EstimatedSalary  10000 non-null  float64\n",
      " 13  Exited           10000 non-null  int64  \n",
      "dtypes: float64(3), int64(8), object(3)\n",
      "memory usage: 1.1+ MB\n"
     ]
    }
   ],
   "source": [
    "data.info()"
   ]
  },
  {
   "cell_type": "code",
   "execution_count": 4,
   "id": "c2734bce",
   "metadata": {},
   "outputs": [
    {
     "data": {
      "text/plain": [
       "10000"
      ]
     },
     "execution_count": 4,
     "metadata": {},
     "output_type": "execute_result"
    }
   ],
   "source": [
    "# Проверка\n",
    "len(data['CustomerId'].unique())"
   ]
  },
  {
   "cell_type": "markdown",
   "id": "0e3ca044",
   "metadata": {},
   "source": [
    "Столбцы `RowNumber` и `Surname` не несут большой смысловой нагрузки, так как первый - номер строки, а второй - фамилия клиента, в то же время у каждого клиента есть свой уникальный ID, который можно использовать для анализа. Удалим их"
   ]
  },
  {
   "cell_type": "code",
   "execution_count": 5,
   "id": "7b47f75f",
   "metadata": {},
   "outputs": [],
   "source": [
    "var_non_informative = ['RowNumber', 'CustomerId', 'Surname']\n",
    "var_numeric = ['credit_score', 'age', 'tenure', 'balance', \n",
    "               'num_of_products', 'has_cr_card', 'is_active_member', \n",
    "               'estimated_salary']\n",
    "var_categorical = ['geography', 'gender']\n",
    "data = data.drop(var_non_informative, axis=1)"
   ]
  },
  {
   "cell_type": "markdown",
   "id": "ef2bb63f",
   "metadata": {},
   "source": [
    "Разберемся теперь с названиями столбцов. Для удобства переведем их все в нижний регистр"
   ]
  },
  {
   "cell_type": "code",
   "execution_count": 6,
   "id": "5642764b",
   "metadata": {},
   "outputs": [],
   "source": [
    "data = data.rename(\n",
    "    columns={\n",
    "        'CreditScore' : 'credit_score',\n",
    "        'Geography' : 'geography',\n",
    "        'Gender' : 'gender',\n",
    "        'Age' : 'age',\n",
    "        'Tenure' : 'tenure',\n",
    "        'Balance' : 'balance',\n",
    "        'NumOfProducts' : 'num_of_products',\n",
    "        'HasCrCard' : 'has_cr_card',\n",
    "        'IsActiveMember' : 'is_active_member',\n",
    "        'EstimatedSalary' : 'estimated_salary',\n",
    "        'Exited' : 'exited'\n",
    "    }\n",
    ")"
   ]
  },
  {
   "cell_type": "markdown",
   "id": "4eaedb57",
   "metadata": {},
   "source": [
    "В столбце `tenure` имеется 909 пропусков. Это 9% от общего числа данных... Заменим пропуски медианным значением. (Важные основания, чтобы не удалять данные, содержащие пропуски: таблица не заполняется клиентами, она заполняется автоматически, информационной системой банка, поэтому, если бы даже клиент недавно пришёл, число было бы маленьким, но оно было бы)"
   ]
  },
  {
   "cell_type": "code",
   "execution_count": 7,
   "id": "25268ef4",
   "metadata": {},
   "outputs": [],
   "source": [
    "data['tenure'] = data['tenure'].fillna(data['tenure'].median())"
   ]
  },
  {
   "cell_type": "code",
   "execution_count": 8,
   "id": "e39c5213",
   "metadata": {},
   "outputs": [
    {
     "name": "stdout",
     "output_type": "stream",
     "text": [
      "<class 'pandas.core.frame.DataFrame'>\n",
      "RangeIndex: 10000 entries, 0 to 9999\n",
      "Data columns (total 11 columns):\n",
      " #   Column            Non-Null Count  Dtype  \n",
      "---  ------            --------------  -----  \n",
      " 0   credit_score      10000 non-null  int64  \n",
      " 1   geography         10000 non-null  object \n",
      " 2   gender            10000 non-null  object \n",
      " 3   age               10000 non-null  int64  \n",
      " 4   tenure            10000 non-null  float64\n",
      " 5   balance           10000 non-null  float64\n",
      " 6   num_of_products   10000 non-null  int64  \n",
      " 7   has_cr_card       10000 non-null  int64  \n",
      " 8   is_active_member  10000 non-null  int64  \n",
      " 9   estimated_salary  10000 non-null  float64\n",
      " 10  exited            10000 non-null  int64  \n",
      "dtypes: float64(3), int64(6), object(2)\n",
      "memory usage: 859.5+ KB\n"
     ]
    }
   ],
   "source": [
    "data.info()"
   ]
  },
  {
   "cell_type": "code",
   "execution_count": 9,
   "id": "d85a1bc6",
   "metadata": {},
   "outputs": [
    {
     "data": {
      "text/html": [
       "<div>\n",
       "<style scoped>\n",
       "    .dataframe tbody tr th:only-of-type {\n",
       "        vertical-align: middle;\n",
       "    }\n",
       "\n",
       "    .dataframe tbody tr th {\n",
       "        vertical-align: top;\n",
       "    }\n",
       "\n",
       "    .dataframe thead th {\n",
       "        text-align: right;\n",
       "    }\n",
       "</style>\n",
       "<table border=\"1\" class=\"dataframe\">\n",
       "  <thead>\n",
       "    <tr style=\"text-align: right;\">\n",
       "      <th></th>\n",
       "      <th>credit_score</th>\n",
       "      <th>geography</th>\n",
       "      <th>gender</th>\n",
       "      <th>age</th>\n",
       "      <th>tenure</th>\n",
       "      <th>balance</th>\n",
       "      <th>num_of_products</th>\n",
       "      <th>has_cr_card</th>\n",
       "      <th>is_active_member</th>\n",
       "      <th>estimated_salary</th>\n",
       "      <th>exited</th>\n",
       "    </tr>\n",
       "  </thead>\n",
       "  <tbody>\n",
       "    <tr>\n",
       "      <th>0</th>\n",
       "      <td>619</td>\n",
       "      <td>France</td>\n",
       "      <td>Female</td>\n",
       "      <td>42</td>\n",
       "      <td>2.0</td>\n",
       "      <td>0.00</td>\n",
       "      <td>1</td>\n",
       "      <td>1</td>\n",
       "      <td>1</td>\n",
       "      <td>101348.88</td>\n",
       "      <td>1</td>\n",
       "    </tr>\n",
       "    <tr>\n",
       "      <th>1</th>\n",
       "      <td>608</td>\n",
       "      <td>Spain</td>\n",
       "      <td>Female</td>\n",
       "      <td>41</td>\n",
       "      <td>1.0</td>\n",
       "      <td>83807.86</td>\n",
       "      <td>1</td>\n",
       "      <td>0</td>\n",
       "      <td>1</td>\n",
       "      <td>112542.58</td>\n",
       "      <td>0</td>\n",
       "    </tr>\n",
       "    <tr>\n",
       "      <th>2</th>\n",
       "      <td>502</td>\n",
       "      <td>France</td>\n",
       "      <td>Female</td>\n",
       "      <td>42</td>\n",
       "      <td>8.0</td>\n",
       "      <td>159660.80</td>\n",
       "      <td>3</td>\n",
       "      <td>1</td>\n",
       "      <td>0</td>\n",
       "      <td>113931.57</td>\n",
       "      <td>1</td>\n",
       "    </tr>\n",
       "    <tr>\n",
       "      <th>3</th>\n",
       "      <td>699</td>\n",
       "      <td>France</td>\n",
       "      <td>Female</td>\n",
       "      <td>39</td>\n",
       "      <td>1.0</td>\n",
       "      <td>0.00</td>\n",
       "      <td>2</td>\n",
       "      <td>0</td>\n",
       "      <td>0</td>\n",
       "      <td>93826.63</td>\n",
       "      <td>0</td>\n",
       "    </tr>\n",
       "    <tr>\n",
       "      <th>4</th>\n",
       "      <td>850</td>\n",
       "      <td>Spain</td>\n",
       "      <td>Female</td>\n",
       "      <td>43</td>\n",
       "      <td>2.0</td>\n",
       "      <td>125510.82</td>\n",
       "      <td>1</td>\n",
       "      <td>1</td>\n",
       "      <td>1</td>\n",
       "      <td>79084.10</td>\n",
       "      <td>0</td>\n",
       "    </tr>\n",
       "  </tbody>\n",
       "</table>\n",
       "</div>"
      ],
      "text/plain": [
       "   credit_score geography  gender  age  tenure    balance  num_of_products  \\\n",
       "0           619    France  Female   42     2.0       0.00                1   \n",
       "1           608     Spain  Female   41     1.0   83807.86                1   \n",
       "2           502    France  Female   42     8.0  159660.80                3   \n",
       "3           699    France  Female   39     1.0       0.00                2   \n",
       "4           850     Spain  Female   43     2.0  125510.82                1   \n",
       "\n",
       "   has_cr_card  is_active_member  estimated_salary  exited  \n",
       "0            1                 1         101348.88       1  \n",
       "1            0                 1         112542.58       0  \n",
       "2            1                 0         113931.57       1  \n",
       "3            0                 0          93826.63       0  \n",
       "4            1                 1          79084.10       0  "
      ]
     },
     "execution_count": 9,
     "metadata": {},
     "output_type": "execute_result"
    }
   ],
   "source": [
    "data.head()"
   ]
  },
  {
   "cell_type": "markdown",
   "id": "46aeedc2",
   "metadata": {},
   "source": [
    "## Кодирование категориальных признаков"
   ]
  },
  {
   "cell_type": "markdown",
   "id": "c7942e71",
   "metadata": {},
   "source": [
    "Теперь займемся подготовкой данных к работе с моделями машинного обучения. Для начала произведем кодирование категориальных признаков, коих у нас два: страна и пол (еще есть колонки, говорящие о наличии кредитной карты и об активности клиента, но они уже, можно сказать, закодированы)."
   ]
  },
  {
   "cell_type": "code",
   "execution_count": 10,
   "id": "a966d8b3",
   "metadata": {},
   "outputs": [
    {
     "data": {
      "image/png": "[encoded data removed]",
      "text/plain": [
       "<Figure size 360x288 with 1 Axes>"
      ]
     },
     "metadata": {
      "needs_background": "light"
     },
     "output_type": "display_data"
    }
   ],
   "source": [
    "geography_pivot = data.pivot_table(index='geography', values='is_active_member', aggfunc='count')\n",
    "\n",
    "fig, ax = plt.subplots(figsize = (5, 4))\n",
    "graph = sns.barplot(x=geography_pivot.index, y=geography_pivot['is_active_member'], ax=ax)\n",
    "graph.set_ylabel('count', fontsize=10)\n",
    "graph.set_xlabel('country', fontsize=10)\n",
    "plt.show()"
   ]
  },
  {
   "cell_type": "markdown",
   "id": "1c6c6d50",
   "metadata": {},
   "source": [
    "Больше всего информации о клиентах из Франции. Примерно одинаково количество информации о клиентах из Германии и Испании"
   ]
  },
  {
   "cell_type": "code",
   "execution_count": 11,
   "id": "b34f91fa",
   "metadata": {},
   "outputs": [
    {
     "data": {
      "image/png": "[encoded data removed]",
      "text/plain": [
       "<Figure size 288x288 with 1 Axes>"
      ]
     },
     "metadata": {
      "needs_background": "light"
     },
     "output_type": "display_data"
    }
   ],
   "source": [
    "gender_pivot = data.pivot_table(index='gender', values='is_active_member', aggfunc='count')\n",
    "\n",
    "fig, ax = plt.subplots(figsize = (4, 4))\n",
    "graph = sns.barplot(x=gender_pivot.index, y=gender_pivot['is_active_member'], ax=ax)\n",
    "graph.set_ylabel('count', fontsize=10)\n",
    "graph.set_xlabel('gender', fontsize=10)\n",
    "plt.show()"
   ]
  },
  {
   "cell_type": "markdown",
   "id": "4900a742",
   "metadata": {},
   "source": [
    "Мужчины чаще становились клиентами в банке. В целом это довольно логично."
   ]
  },
  {
   "cell_type": "markdown",
   "id": "76ee9489",
   "metadata": {},
   "source": [
    "Разбиваем данные на 3 выборки: тренировочную, валидационную и тестовую. Соотношение 3:1:1."
   ]
  },
  {
   "cell_type": "code",
   "execution_count": 12,
   "id": "69f155ed",
   "metadata": {},
   "outputs": [],
   "source": [
    "X, y = data.drop(['exited'], axis=1), data['exited']\n",
    "\n",
    "X_train, X_prom, y_train, y_prom = train_test_split(X, y, test_size=0.4, stratify=y, random_state=42)\n",
    "X_valid, X_test, y_valid, y_test = train_test_split(X_prom, y_prom, test_size=0.5, stratify=y_prom, random_state=42)"
   ]
  },
  {
   "cell_type": "code",
   "execution_count": 13,
   "id": "e9256db9",
   "metadata": {},
   "outputs": [
    {
     "data": {
      "text/html": [
       "<div>\n",
       "<style scoped>\n",
       "    .dataframe tbody tr th:only-of-type {\n",
       "        vertical-align: middle;\n",
       "    }\n",
       "\n",
       "    .dataframe tbody tr th {\n",
       "        vertical-align: top;\n",
       "    }\n",
       "\n",
       "    .dataframe thead th {\n",
       "        text-align: right;\n",
       "    }\n",
       "</style>\n",
       "<table border=\"1\" class=\"dataframe\">\n",
       "  <thead>\n",
       "    <tr style=\"text-align: right;\">\n",
       "      <th></th>\n",
       "      <th>credit_score</th>\n",
       "      <th>geography</th>\n",
       "      <th>gender</th>\n",
       "      <th>age</th>\n",
       "      <th>tenure</th>\n",
       "      <th>balance</th>\n",
       "      <th>num_of_products</th>\n",
       "      <th>has_cr_card</th>\n",
       "      <th>is_active_member</th>\n",
       "      <th>estimated_salary</th>\n",
       "    </tr>\n",
       "  </thead>\n",
       "  <tbody>\n",
       "    <tr>\n",
       "      <th>6851</th>\n",
       "      <td>527</td>\n",
       "      <td>Germany</td>\n",
       "      <td>Female</td>\n",
       "      <td>39</td>\n",
       "      <td>9.0</td>\n",
       "      <td>96748.89</td>\n",
       "      <td>2</td>\n",
       "      <td>1</td>\n",
       "      <td>0</td>\n",
       "      <td>94711.43</td>\n",
       "    </tr>\n",
       "    <tr>\n",
       "      <th>7026</th>\n",
       "      <td>677</td>\n",
       "      <td>France</td>\n",
       "      <td>Female</td>\n",
       "      <td>27</td>\n",
       "      <td>5.0</td>\n",
       "      <td>0.00</td>\n",
       "      <td>2</td>\n",
       "      <td>0</td>\n",
       "      <td>1</td>\n",
       "      <td>114685.92</td>\n",
       "    </tr>\n",
       "    <tr>\n",
       "      <th>5705</th>\n",
       "      <td>628</td>\n",
       "      <td>Germany</td>\n",
       "      <td>Male</td>\n",
       "      <td>40</td>\n",
       "      <td>5.0</td>\n",
       "      <td>181768.32</td>\n",
       "      <td>2</td>\n",
       "      <td>1</td>\n",
       "      <td>1</td>\n",
       "      <td>129107.97</td>\n",
       "    </tr>\n",
       "    <tr>\n",
       "      <th>9058</th>\n",
       "      <td>470</td>\n",
       "      <td>Spain</td>\n",
       "      <td>Female</td>\n",
       "      <td>48</td>\n",
       "      <td>5.0</td>\n",
       "      <td>140576.11</td>\n",
       "      <td>1</td>\n",
       "      <td>1</td>\n",
       "      <td>1</td>\n",
       "      <td>116971.05</td>\n",
       "    </tr>\n",
       "    <tr>\n",
       "      <th>9415</th>\n",
       "      <td>768</td>\n",
       "      <td>Germany</td>\n",
       "      <td>Female</td>\n",
       "      <td>43</td>\n",
       "      <td>2.0</td>\n",
       "      <td>129264.05</td>\n",
       "      <td>2</td>\n",
       "      <td>0</td>\n",
       "      <td>0</td>\n",
       "      <td>19150.14</td>\n",
       "    </tr>\n",
       "  </tbody>\n",
       "</table>\n",
       "</div>"
      ],
      "text/plain": [
       "      credit_score geography  gender  age  tenure    balance  num_of_products  \\\n",
       "6851           527   Germany  Female   39     9.0   96748.89                2   \n",
       "7026           677    France  Female   27     5.0       0.00                2   \n",
       "5705           628   Germany    Male   40     5.0  181768.32                2   \n",
       "9058           470     Spain  Female   48     5.0  140576.11                1   \n",
       "9415           768   Germany  Female   43     2.0  129264.05                2   \n",
       "\n",
       "      has_cr_card  is_active_member  estimated_salary  \n",
       "6851            1                 0          94711.43  \n",
       "7026            0                 1         114685.92  \n",
       "5705            1                 1         129107.97  \n",
       "9058            1                 1         116971.05  \n",
       "9415            0                 0          19150.14  "
      ]
     },
     "execution_count": 13,
     "metadata": {},
     "output_type": "execute_result"
    }
   ],
   "source": [
    "X_train.head()"
   ]
  },
  {
   "cell_type": "code",
   "execution_count": 14,
   "id": "de95275f",
   "metadata": {},
   "outputs": [
    {
     "data": {
      "text/plain": [
       "6851    0\n",
       "7026    0\n",
       "5705    0\n",
       "9058    0\n",
       "9415    0\n",
       "Name: exited, dtype: int64"
      ]
     },
     "execution_count": 14,
     "metadata": {},
     "output_type": "execute_result"
    }
   ],
   "source": [
    "y_train.head()"
   ]
  },
  {
   "cell_type": "code",
   "execution_count": 15,
   "id": "8d367f49",
   "metadata": {},
   "outputs": [
    {
     "data": {
      "text/html": [
       "<div>\n",
       "<style scoped>\n",
       "    .dataframe tbody tr th:only-of-type {\n",
       "        vertical-align: middle;\n",
       "    }\n",
       "\n",
       "    .dataframe tbody tr th {\n",
       "        vertical-align: top;\n",
       "    }\n",
       "\n",
       "    .dataframe thead th {\n",
       "        text-align: right;\n",
       "    }\n",
       "</style>\n",
       "<table border=\"1\" class=\"dataframe\">\n",
       "  <thead>\n",
       "    <tr style=\"text-align: right;\">\n",
       "      <th></th>\n",
       "      <th>credit_score</th>\n",
       "      <th>geography</th>\n",
       "      <th>gender</th>\n",
       "      <th>age</th>\n",
       "      <th>tenure</th>\n",
       "      <th>balance</th>\n",
       "      <th>num_of_products</th>\n",
       "      <th>has_cr_card</th>\n",
       "      <th>is_active_member</th>\n",
       "      <th>estimated_salary</th>\n",
       "    </tr>\n",
       "  </thead>\n",
       "  <tbody>\n",
       "    <tr>\n",
       "      <th>8583</th>\n",
       "      <td>591</td>\n",
       "      <td>France</td>\n",
       "      <td>Female</td>\n",
       "      <td>38</td>\n",
       "      <td>2.0</td>\n",
       "      <td>142289.28</td>\n",
       "      <td>1</td>\n",
       "      <td>0</td>\n",
       "      <td>1</td>\n",
       "      <td>119638.85</td>\n",
       "    </tr>\n",
       "    <tr>\n",
       "      <th>1924</th>\n",
       "      <td>667</td>\n",
       "      <td>France</td>\n",
       "      <td>Male</td>\n",
       "      <td>44</td>\n",
       "      <td>8.0</td>\n",
       "      <td>122277.87</td>\n",
       "      <td>1</td>\n",
       "      <td>1</td>\n",
       "      <td>1</td>\n",
       "      <td>91810.71</td>\n",
       "    </tr>\n",
       "    <tr>\n",
       "      <th>3195</th>\n",
       "      <td>697</td>\n",
       "      <td>Germany</td>\n",
       "      <td>Male</td>\n",
       "      <td>29</td>\n",
       "      <td>0.0</td>\n",
       "      <td>172693.54</td>\n",
       "      <td>1</td>\n",
       "      <td>0</td>\n",
       "      <td>0</td>\n",
       "      <td>141798.98</td>\n",
       "    </tr>\n",
       "    <tr>\n",
       "      <th>5263</th>\n",
       "      <td>809</td>\n",
       "      <td>Germany</td>\n",
       "      <td>Male</td>\n",
       "      <td>41</td>\n",
       "      <td>1.0</td>\n",
       "      <td>79706.25</td>\n",
       "      <td>2</td>\n",
       "      <td>1</td>\n",
       "      <td>0</td>\n",
       "      <td>165675.01</td>\n",
       "    </tr>\n",
       "    <tr>\n",
       "      <th>1484</th>\n",
       "      <td>850</td>\n",
       "      <td>Spain</td>\n",
       "      <td>Female</td>\n",
       "      <td>29</td>\n",
       "      <td>1.0</td>\n",
       "      <td>0.00</td>\n",
       "      <td>2</td>\n",
       "      <td>1</td>\n",
       "      <td>1</td>\n",
       "      <td>197996.65</td>\n",
       "    </tr>\n",
       "  </tbody>\n",
       "</table>\n",
       "</div>"
      ],
      "text/plain": [
       "      credit_score geography  gender  age  tenure    balance  num_of_products  \\\n",
       "8583           591    France  Female   38     2.0  142289.28                1   \n",
       "1924           667    France    Male   44     8.0  122277.87                1   \n",
       "3195           697   Germany    Male   29     0.0  172693.54                1   \n",
       "5263           809   Germany    Male   41     1.0   79706.25                2   \n",
       "1484           850     Spain  Female   29     1.0       0.00                2   \n",
       "\n",
       "      has_cr_card  is_active_member  estimated_salary  \n",
       "8583            0                 1         119638.85  \n",
       "1924            1                 1          91810.71  \n",
       "3195            0                 0         141798.98  \n",
       "5263            1                 0         165675.01  \n",
       "1484            1                 1         197996.65  "
      ]
     },
     "execution_count": 15,
     "metadata": {},
     "output_type": "execute_result"
    }
   ],
   "source": [
    "X_valid.head()"
   ]
  },
  {
   "cell_type": "code",
   "execution_count": 16,
   "id": "e3a59e3e",
   "metadata": {},
   "outputs": [
    {
     "data": {
      "text/plain": [
       "8583    0\n",
       "1924    0\n",
       "3195    0\n",
       "5263    0\n",
       "1484    0\n",
       "Name: exited, dtype: int64"
      ]
     },
     "execution_count": 16,
     "metadata": {},
     "output_type": "execute_result"
    }
   ],
   "source": [
    "y_valid.head()"
   ]
  },
  {
   "cell_type": "code",
   "execution_count": 17,
   "id": "67f0366f",
   "metadata": {},
   "outputs": [
    {
     "data": {
      "text/html": [
       "<div>\n",
       "<style scoped>\n",
       "    .dataframe tbody tr th:only-of-type {\n",
       "        vertical-align: middle;\n",
       "    }\n",
       "\n",
       "    .dataframe tbody tr th {\n",
       "        vertical-align: top;\n",
       "    }\n",
       "\n",
       "    .dataframe thead th {\n",
       "        text-align: right;\n",
       "    }\n",
       "</style>\n",
       "<table border=\"1\" class=\"dataframe\">\n",
       "  <thead>\n",
       "    <tr style=\"text-align: right;\">\n",
       "      <th></th>\n",
       "      <th>credit_score</th>\n",
       "      <th>geography</th>\n",
       "      <th>gender</th>\n",
       "      <th>age</th>\n",
       "      <th>tenure</th>\n",
       "      <th>balance</th>\n",
       "      <th>num_of_products</th>\n",
       "      <th>has_cr_card</th>\n",
       "      <th>is_active_member</th>\n",
       "      <th>estimated_salary</th>\n",
       "    </tr>\n",
       "  </thead>\n",
       "  <tbody>\n",
       "    <tr>\n",
       "      <th>9167</th>\n",
       "      <td>607</td>\n",
       "      <td>France</td>\n",
       "      <td>Male</td>\n",
       "      <td>26</td>\n",
       "      <td>1.0</td>\n",
       "      <td>0.00</td>\n",
       "      <td>1</td>\n",
       "      <td>1</td>\n",
       "      <td>0</td>\n",
       "      <td>29818.20</td>\n",
       "    </tr>\n",
       "    <tr>\n",
       "      <th>9387</th>\n",
       "      <td>524</td>\n",
       "      <td>France</td>\n",
       "      <td>Male</td>\n",
       "      <td>32</td>\n",
       "      <td>1.0</td>\n",
       "      <td>144875.71</td>\n",
       "      <td>1</td>\n",
       "      <td>0</td>\n",
       "      <td>0</td>\n",
       "      <td>187740.04</td>\n",
       "    </tr>\n",
       "    <tr>\n",
       "      <th>6859</th>\n",
       "      <td>733</td>\n",
       "      <td>France</td>\n",
       "      <td>Female</td>\n",
       "      <td>38</td>\n",
       "      <td>3.0</td>\n",
       "      <td>157658.36</td>\n",
       "      <td>1</td>\n",
       "      <td>0</td>\n",
       "      <td>0</td>\n",
       "      <td>19658.43</td>\n",
       "    </tr>\n",
       "    <tr>\n",
       "      <th>3500</th>\n",
       "      <td>850</td>\n",
       "      <td>France</td>\n",
       "      <td>Female</td>\n",
       "      <td>32</td>\n",
       "      <td>5.0</td>\n",
       "      <td>106290.64</td>\n",
       "      <td>1</td>\n",
       "      <td>1</td>\n",
       "      <td>0</td>\n",
       "      <td>121982.73</td>\n",
       "    </tr>\n",
       "    <tr>\n",
       "      <th>6233</th>\n",
       "      <td>850</td>\n",
       "      <td>France</td>\n",
       "      <td>Male</td>\n",
       "      <td>34</td>\n",
       "      <td>2.0</td>\n",
       "      <td>72079.71</td>\n",
       "      <td>1</td>\n",
       "      <td>1</td>\n",
       "      <td>1</td>\n",
       "      <td>115767.93</td>\n",
       "    </tr>\n",
       "  </tbody>\n",
       "</table>\n",
       "</div>"
      ],
      "text/plain": [
       "      credit_score geography  gender  age  tenure    balance  num_of_products  \\\n",
       "9167           607    France    Male   26     1.0       0.00                1   \n",
       "9387           524    France    Male   32     1.0  144875.71                1   \n",
       "6859           733    France  Female   38     3.0  157658.36                1   \n",
       "3500           850    France  Female   32     5.0  106290.64                1   \n",
       "6233           850    France    Male   34     2.0   72079.71                1   \n",
       "\n",
       "      has_cr_card  is_active_member  estimated_salary  \n",
       "9167            1                 0          29818.20  \n",
       "9387            0                 0         187740.04  \n",
       "6859            0                 0          19658.43  \n",
       "3500            1                 0         121982.73  \n",
       "6233            1                 1         115767.93  "
      ]
     },
     "execution_count": 17,
     "metadata": {},
     "output_type": "execute_result"
    }
   ],
   "source": [
    "X_test.head()"
   ]
  },
  {
   "cell_type": "code",
   "execution_count": 18,
   "id": "8d317ae2",
   "metadata": {},
   "outputs": [
    {
     "data": {
      "text/plain": [
       "9167    0\n",
       "9387    0\n",
       "6859    0\n",
       "3500    0\n",
       "6233    0\n",
       "Name: exited, dtype: int64"
      ]
     },
     "execution_count": 18,
     "metadata": {},
     "output_type": "execute_result"
    }
   ],
   "source": [
    "y_test.head()"
   ]
  },
  {
   "cell_type": "code",
   "execution_count": 19,
   "id": "7b332c26",
   "metadata": {},
   "outputs": [],
   "source": [
    "encoder = OneHotEncoder(handle_unknown='ignore', drop='first')  # удаляем первый столбец чтобы не попасть в дамми-ловушку\n",
    "\n",
    "features_train_ohe = pd.DataFrame(\n",
    "    encoder.fit_transform(X_train[var_categorical]).toarray(),\n",
    "    columns=encoder.get_feature_names_out()\n",
    ")\n",
    "\n",
    "features_valid_ohe = pd.DataFrame(\n",
    "    encoder.transform(X_valid[var_categorical]).toarray(),\n",
    "    columns=encoder.get_feature_names_out()\n",
    ")\n",
    "\n",
    "features_test_ohe = pd.DataFrame(\n",
    "    encoder.transform(X_test[var_categorical]).toarray(),\n",
    "    columns=encoder.get_feature_names_out()\n",
    ")"
   ]
  },
  {
   "cell_type": "code",
   "execution_count": 20,
   "id": "f4667bd3",
   "metadata": {},
   "outputs": [
    {
     "data": {
      "text/html": [
       "<div>\n",
       "<style scoped>\n",
       "    .dataframe tbody tr th:only-of-type {\n",
       "        vertical-align: middle;\n",
       "    }\n",
       "\n",
       "    .dataframe tbody tr th {\n",
       "        vertical-align: top;\n",
       "    }\n",
       "\n",
       "    .dataframe thead th {\n",
       "        text-align: right;\n",
       "    }\n",
       "</style>\n",
       "<table border=\"1\" class=\"dataframe\">\n",
       "  <thead>\n",
       "    <tr style=\"text-align: right;\">\n",
       "      <th></th>\n",
       "      <th>geography_Germany</th>\n",
       "      <th>geography_Spain</th>\n",
       "      <th>gender_Male</th>\n",
       "    </tr>\n",
       "  </thead>\n",
       "  <tbody>\n",
       "    <tr>\n",
       "      <th>0</th>\n",
       "      <td>1.0</td>\n",
       "      <td>0.0</td>\n",
       "      <td>0.0</td>\n",
       "    </tr>\n",
       "    <tr>\n",
       "      <th>1</th>\n",
       "      <td>0.0</td>\n",
       "      <td>0.0</td>\n",
       "      <td>0.0</td>\n",
       "    </tr>\n",
       "    <tr>\n",
       "      <th>2</th>\n",
       "      <td>1.0</td>\n",
       "      <td>0.0</td>\n",
       "      <td>1.0</td>\n",
       "    </tr>\n",
       "    <tr>\n",
       "      <th>3</th>\n",
       "      <td>0.0</td>\n",
       "      <td>1.0</td>\n",
       "      <td>0.0</td>\n",
       "    </tr>\n",
       "    <tr>\n",
       "      <th>4</th>\n",
       "      <td>1.0</td>\n",
       "      <td>0.0</td>\n",
       "      <td>0.0</td>\n",
       "    </tr>\n",
       "  </tbody>\n",
       "</table>\n",
       "</div>"
      ],
      "text/plain": [
       "   geography_Germany  geography_Spain  gender_Male\n",
       "0                1.0              0.0          0.0\n",
       "1                0.0              0.0          0.0\n",
       "2                1.0              0.0          1.0\n",
       "3                0.0              1.0          0.0\n",
       "4                1.0              0.0          0.0"
      ]
     },
     "execution_count": 20,
     "metadata": {},
     "output_type": "execute_result"
    }
   ],
   "source": [
    "features_train_ohe.head()"
   ]
  },
  {
   "cell_type": "code",
   "execution_count": 21,
   "id": "c36630ad",
   "metadata": {},
   "outputs": [],
   "source": [
    "scaler = StandardScaler()\n",
    "\n",
    "features_train_numeric = pd.DataFrame(\n",
    "    scaler.fit_transform(X_train[var_numeric]),\n",
    "    columns=var_numeric\n",
    ")\n",
    "features_valid_numeric = pd.DataFrame(\n",
    "    scaler.transform(X_valid[var_numeric]),\n",
    "    columns=var_numeric\n",
    ")\n",
    "features_test_numeric = pd.DataFrame(\n",
    "    scaler.transform(X_test[var_numeric]),\n",
    "    columns=var_numeric\n",
    ")"
   ]
  },
  {
   "cell_type": "code",
   "execution_count": 22,
   "id": "86d6bc2a",
   "metadata": {},
   "outputs": [
    {
     "data": {
      "text/plain": [
       "((6000, 11), (2000, 11), (2000, 11))"
      ]
     },
     "execution_count": 22,
     "metadata": {},
     "output_type": "execute_result"
    }
   ],
   "source": [
    "features_train_enc = features_train_ohe.join(features_train_numeric)\n",
    "features_valid_enc = features_valid_ohe.join(features_valid_numeric)\n",
    "features_test_enc = features_test_ohe.join(features_test_numeric)\n",
    "\n",
    "features_train_enc.shape, features_valid_enc.shape, features_test_enc.shape"
   ]
  },
  {
   "cell_type": "code",
   "execution_count": 23,
   "id": "e0f98b54",
   "metadata": {},
   "outputs": [],
   "source": [
    "y_train.reset_index(inplace=True, drop=True)\n",
    "y_valid.reset_index(inplace=True, drop=True)\n",
    "y_test.reset_index(inplace=True, drop=True)"
   ]
  },
  {
   "cell_type": "markdown",
   "id": "8ac5d493",
   "metadata": {},
   "source": [
    "## Исследование баланса классов"
   ]
  },
  {
   "cell_type": "code",
   "execution_count": 24,
   "id": "d0ae922b",
   "metadata": {},
   "outputs": [
    {
     "data": {
      "text/plain": [
       "<AxesSubplot:>"
      ]
     },
     "execution_count": 24,
     "metadata": {},
     "output_type": "execute_result"
    },
    {
     "data": {
      "image/png": "[encoded data removed]",
      "text/plain": [
       "<Figure size 432x288 with 1 Axes>"
      ]
     },
     "metadata": {
      "needs_background": "light"
     },
     "output_type": "display_data"
    }
   ],
   "source": [
    "sns.barplot(x=[0, 1], y=[list(y_train).count(0), list(y_train).count(1)]);"
   ]
  },
  {
   "cell_type": "markdown",
   "id": "f0ae626d",
   "metadata": {},
   "source": [
    "Видно, что данные явно не сбалансированы: клиенты все-таки чаще остаются, чем уходят."
   ]
  },
  {
   "cell_type": "markdown",
   "id": "5d6bf4c0",
   "metadata": {},
   "source": [
    "## Обучение моделей без учета дисбаланса классов"
   ]
  },
  {
   "cell_type": "markdown",
   "id": "2638dc93",
   "metadata": {},
   "source": [
    "#### Логистическая регрессия"
   ]
  },
  {
   "cell_type": "code",
   "execution_count": 25,
   "id": "eded31e5",
   "metadata": {},
   "outputs": [
    {
     "name": "stdout",
     "output_type": "stream",
     "text": [
      "F1-мера на тренировочной выборке: 0.297480024585126\n",
      "F1-мера на валидационной выборке: 0.32792792792792796\n",
      "\n",
      "AUC-ROC на тренировочной выборке: 0.5819606571033769\n",
      "AUC-ROC на валидационной выборке: 0.5939316681446448\n"
     ]
    }
   ],
   "source": [
    "log_reg_disbalanced = LogisticRegression(solver='liblinear', random_state=42)\n",
    "log_reg_disbalanced.fit(features_train_enc, y_train)\n",
    "\n",
    "train_pred = log_reg_disbalanced.predict(features_train_enc)\n",
    "valid_pred = log_reg_disbalanced.predict(features_valid_enc)\n",
    "\n",
    "print('F1-мера на тренировочной выборке:', f1_score(y_train, train_pred))\n",
    "print('F1-мера на валидационной выборке:', f1_score(y_valid, valid_pred))\n",
    "print()\n",
    "print('AUC-ROC на тренировочной выборке:', roc_auc_score(y_train, train_pred))\n",
    "print('AUC-ROC на валидационной выборке:', roc_auc_score(y_valid, valid_pred))"
   ]
  },
  {
   "cell_type": "markdown",
   "id": "e6476652",
   "metadata": {},
   "source": [
    "Сравним теперь F1-меру нашей модели с F1-мерой константной модели. В качестве константной модели возьмем модель, которая предсказывает только нули или только 1."
   ]
  },
  {
   "cell_type": "code",
   "execution_count": 26,
   "id": "30211658",
   "metadata": {},
   "outputs": [
    {
     "name": "stdout",
     "output_type": "stream",
     "text": [
      "Только нули: 0.0\n",
      "Только единицы: 0.3388704318936877\n"
     ]
    }
   ],
   "source": [
    "print('Только нули:', f1_score(y_valid, [0] * y_valid.shape[0]))\n",
    "print('Только единицы:', f1_score(y_valid, [1] * y_valid.shape[0]))"
   ]
  },
  {
   "cell_type": "markdown",
   "id": "d4d23e9b",
   "metadata": {},
   "source": [
    "F1-мера нашей модели значительно хуже F1-меры константной модели... Значит, наша модель не прошла проверку на адекватность."
   ]
  },
  {
   "cell_type": "markdown",
   "id": "b883f2b1",
   "metadata": {},
   "source": [
    "#### Случайный лес"
   ]
  },
  {
   "cell_type": "markdown",
   "id": "bf2f5559",
   "metadata": {},
   "source": [
    "Будем перебирать различные комбинации количества деревьев в лесу и глубины каждого дерева, чтобы выявить наиболее оптимальные параметры."
   ]
  },
  {
   "cell_type": "code",
   "execution_count": 27,
   "id": "bfc9df53",
   "metadata": {},
   "outputs": [
    {
     "name": "stdout",
     "output_type": "stream",
     "text": [
      "Оптимальная глубина: 11\n",
      "Оптимальное количество деревьев: 70\n",
      "Метрика F1: 0.6266866566716642\n"
     ]
    }
   ],
   "source": [
    "best_score = 0\n",
    "best_number = 0\n",
    "best_depth = 0\n",
    "for number in range(10, 151, 10):\n",
    "    for depth in range(1, 12):\n",
    "        rf = RandomForestClassifier(n_estimators=number, max_depth=depth, random_state=42)\n",
    "        rf.fit(features_train_enc, y_train)\n",
    "        f1 = f1_score(y_valid, rf.predict(features_valid_enc))\n",
    "        if f1 > best_score:\n",
    "            best_score = f1\n",
    "            best_number = number\n",
    "            best_depth = depth\n",
    "\n",
    "print('Оптимальная глубина:', best_depth)\n",
    "print('Оптимальное количество деревьев:', best_number)\n",
    "print('Метрика F1:', best_score)"
   ]
  },
  {
   "cell_type": "code",
   "execution_count": 28,
   "id": "075a31f5",
   "metadata": {},
   "outputs": [
    {
     "name": "stdout",
     "output_type": "stream",
     "text": [
      "F1-мера на тренировочной выборке: 0.7732415150024595\n",
      "F1-мера на валидационной выборке: 0.6266866566716642\n",
      "\n",
      "AUC-ROC на тренировочной выборке: 0.8189877705988783\n",
      "AUC-ROC на валидационной выборке: 0.7404239333924525\n"
     ]
    }
   ],
   "source": [
    "rf_disbalanced = RandomForestClassifier(n_estimators=70, max_depth=11, random_state=42)\n",
    "rf_disbalanced.fit(features_train_enc, y_train)\n",
    "\n",
    "train_pred = rf_disbalanced.predict(features_train_enc)\n",
    "valid_pred = rf_disbalanced.predict(features_valid_enc)\n",
    "\n",
    "print('F1-мера на тренировочной выборке:', f1_score(y_train, train_pred))\n",
    "print('F1-мера на валидационной выборке:', f1_score(y_valid, valid_pred))\n",
    "print()\n",
    "print('AUC-ROC на тренировочной выборке:', roc_auc_score(y_train, train_pred))\n",
    "print('AUC-ROC на валидационной выборке:', roc_auc_score(y_valid, valid_pred))"
   ]
  },
  {
   "cell_type": "markdown",
   "id": "dad3782a",
   "metadata": {},
   "source": [
    "Что точно можно сказать, так это то, что данная модель сильно превосходит константную и по F1, и по AUC-ROC. Однако, судя по сильному разрыву ее результатов на тренировочной и валидационной выборках, она переобучена."
   ]
  },
  {
   "cell_type": "markdown",
   "id": "f5c6a459",
   "metadata": {},
   "source": [
    "#### Решающее дерево"
   ]
  },
  {
   "cell_type": "code",
   "execution_count": 29,
   "id": "4f19599e",
   "metadata": {},
   "outputs": [
    {
     "name": "stdout",
     "output_type": "stream",
     "text": [
      "Оптимальная глубина: 8\n",
      "Метрика F1: 0.5906432748538012\n"
     ]
    }
   ],
   "source": [
    "best_score = 0\n",
    "best_depth = 0\n",
    "for depth in range(1, 12):\n",
    "    tree = DecisionTreeClassifier(max_depth=depth, random_state=42)\n",
    "    tree.fit(features_train_enc, y_train)\n",
    "    f1 = f1_score(y_valid, tree.predict(features_valid_enc))\n",
    "    if f1 > best_score:\n",
    "        best_score = f1\n",
    "        best_depth = depth\n",
    "\n",
    "print('Оптимальная глубина:', best_depth)\n",
    "print('Метрика F1:', best_score)"
   ]
  },
  {
   "cell_type": "code",
   "execution_count": 30,
   "id": "b64bf7d4",
   "metadata": {},
   "outputs": [
    {
     "name": "stdout",
     "output_type": "stream",
     "text": [
      "F1-мера на тренировочной выборке: 0.6521953626048347\n",
      "F1-мера на валидационной выборке: 0.5906432748538012\n",
      "\n",
      "AUC-ROC на тренировочной выборке: 0.7553891985840723\n",
      "AUC-ROC на валидационной выборке: 0.7243078135776925\n"
     ]
    }
   ],
   "source": [
    "tree_disbalanced = DecisionTreeClassifier(max_depth=8, random_state=42)\n",
    "tree_disbalanced.fit(features_train_enc, y_train)\n",
    "\n",
    "train_pred = tree_disbalanced.predict(features_train_enc)\n",
    "valid_pred = tree_disbalanced.predict(features_valid_enc)\n",
    "\n",
    "print('F1-мера на тренировочной выборке:', f1_score(y_train, train_pred))\n",
    "print('F1-мера на валидационной выборке:', f1_score(y_valid, valid_pred))\n",
    "print()\n",
    "print('AUC-ROC на тренировочной выборке:', roc_auc_score(y_train, train_pred))\n",
    "print('AUC-ROC на валидационной выборке:', roc_auc_score(y_valid, valid_pred))"
   ]
  },
  {
   "cell_type": "markdown",
   "id": "8c7ca114",
   "metadata": {},
   "source": [
    "\"Деревянные\" модели показали более высокие результаты, чем логистическая регрессия. Правда, они несколько переобучились. Попробуем учесть дисбаланс классов"
   ]
  },
  {
   "cell_type": "markdown",
   "id": "e65f5af2",
   "metadata": {},
   "source": [
    "## Учет дисбаланса классов"
   ]
  },
  {
   "cell_type": "markdown",
   "id": "f87586eb",
   "metadata": {},
   "source": [
    "В ходе выполнения проекта будут испробованы три техники: upsampling, downsampling и выставление параметра `class_weight='balanced'`. Однако стоит отметить, что, согласно материалам статьи, техника downsampling часто дает менее хорошие результаты, чем upsampling, так как мы вынуждены отказываться от части данных. Также при работе с логистической регрессией можно попробовать поизменять порог классификации."
   ]
  },
  {
   "cell_type": "markdown",
   "id": "8180bfe4",
   "metadata": {},
   "source": [
    "### Balanced class weight"
   ]
  },
  {
   "cell_type": "markdown",
   "id": "1cc7f3e2",
   "metadata": {},
   "source": [
    "#### Логистическая регрессия"
   ]
  },
  {
   "cell_type": "code",
   "execution_count": 31,
   "id": "2723bf21",
   "metadata": {},
   "outputs": [
    {
     "name": "stdout",
     "output_type": "stream",
     "text": [
      "Оптимальный параметр регуляризации: 0.2\n",
      "Метрика F1: 0.5212947189097105\n"
     ]
    }
   ],
   "source": [
    "best_score = 0\n",
    "best_С = 0\n",
    "for c in np.arange(0.1, 2.0, 0.1):\n",
    "    log_reg = LogisticRegression(solver='liblinear', class_weight='balanced', C=c, random_state=42)\n",
    "    log_reg.fit(features_train_enc, y_train)\n",
    "    f1 = f1_score(y_valid, log_reg.predict(features_valid_enc))\n",
    "    if f1 > best_score:\n",
    "        best_score = f1\n",
    "        best_C = c\n",
    "\n",
    "print('Оптимальный параметр регуляризации:', best_C)\n",
    "print('Метрика F1:', best_score)"
   ]
  },
  {
   "cell_type": "code",
   "execution_count": 32,
   "id": "93648f3c",
   "metadata": {},
   "outputs": [
    {
     "name": "stdout",
     "output_type": "stream",
     "text": [
      "F1-мера на тренировочной выборке: 0.4870526622054117\n",
      "F1-мера на валидационной выборке: 0.5212947189097105\n",
      "\n",
      "AUC-ROC на тренировочной выборке: 0.6982687632006763\n",
      "AUC-ROC на валидационной выборке: 0.7305276381909548\n"
     ]
    }
   ],
   "source": [
    "log_reg = LogisticRegression(solver='liblinear', class_weight='balanced', C=0.2, random_state=42)\n",
    "log_reg.fit(features_train_enc, y_train)\n",
    "\n",
    "train_pred = log_reg.predict(features_train_enc)\n",
    "valid_pred = log_reg.predict(features_valid_enc)\n",
    "\n",
    "print('F1-мера на тренировочной выборке:', f1_score(y_train, train_pred))\n",
    "print('F1-мера на валидационной выборке:', f1_score(y_valid, valid_pred))\n",
    "print()\n",
    "print('AUC-ROC на тренировочной выборке:', roc_auc_score(y_train, train_pred))\n",
    "print('AUC-ROC на валидационной выборке:', roc_auc_score(y_valid, valid_pred))"
   ]
  },
  {
   "cell_type": "markdown",
   "id": "43716fe5",
   "metadata": {},
   "source": [
    "В результате сбалансирования классов все метрики логистической регрессии существенно повысились. Также стоит отметить, что метрики на тренировочной выборке ниже метрик на валидационной, что говорит об отсутствии переобучения. Ну и последнее замечание: наша новая модель предсказывает гораздо лучше константной модели, а значит, ее можно считать адекватной"
   ]
  },
  {
   "cell_type": "markdown",
   "id": "ef952fdd",
   "metadata": {},
   "source": [
    "#### Решающее дерево"
   ]
  },
  {
   "cell_type": "code",
   "execution_count": 33,
   "id": "a2484b3a",
   "metadata": {},
   "outputs": [
    {
     "name": "stdout",
     "output_type": "stream",
     "text": [
      "Оптимальная глубина: 6\n",
      "Метрика F1: 0.5754141238012207\n"
     ]
    }
   ],
   "source": [
    "best_score = 0\n",
    "best_depth = 0\n",
    "for depth in range(1, 12):\n",
    "    tree = DecisionTreeClassifier(max_depth=depth, class_weight='balanced', random_state=42)\n",
    "    tree.fit(features_train_enc, y_train)\n",
    "    f1 = f1_score(y_valid, tree.predict(features_valid_enc))\n",
    "    if f1 > best_score:\n",
    "        best_score = f1\n",
    "        best_depth = depth\n",
    "\n",
    "print('Оптимальная глубина:', best_depth)\n",
    "print('Метрика F1:', best_score)"
   ]
  },
  {
   "cell_type": "code",
   "execution_count": 34,
   "id": "f36c0db2",
   "metadata": {},
   "outputs": [
    {
     "name": "stdout",
     "output_type": "stream",
     "text": [
      "F1-мера на тренировочной выборке: 0.5974576271186441\n",
      "F1-мера на валидационной выборке: 0.5754141238012207\n",
      "\n",
      "AUC-ROC на тренировочной выборке: 0.7892584602505073\n",
      "AUC-ROC на валидационной выборке: 0.7759569908365356\n"
     ]
    }
   ],
   "source": [
    "tree = DecisionTreeClassifier(max_depth=6, class_weight='balanced', random_state=42)\n",
    "tree.fit(features_train_enc, y_train)\n",
    "\n",
    "train_pred = tree.predict(features_train_enc)\n",
    "valid_pred = tree.predict(features_valid_enc)\n",
    "\n",
    "print('F1-мера на тренировочной выборке:', f1_score(y_train, train_pred))\n",
    "print('F1-мера на валидационной выборке:', f1_score(y_valid, valid_pred))\n",
    "print()\n",
    "print('AUC-ROC на тренировочной выборке:', roc_auc_score(y_train, train_pred))\n",
    "print('AUC-ROC на валидационной выборке:', roc_auc_score(y_valid, valid_pred))"
   ]
  },
  {
   "cell_type": "markdown",
   "id": "af54127f",
   "metadata": {},
   "source": [
    "F1-мера ниже требуемой в задании"
   ]
  },
  {
   "cell_type": "markdown",
   "id": "5de55557",
   "metadata": {},
   "source": [
    "#### Случайный лес"
   ]
  },
  {
   "cell_type": "code",
   "execution_count": 35,
   "id": "9b04faef",
   "metadata": {},
   "outputs": [
    {
     "name": "stdout",
     "output_type": "stream",
     "text": [
      "Оптимальная глубина: 7\n",
      "Оптимальное количество деревьев: 20\n",
      "Метрика F1: 0.6348547717842323\n"
     ]
    }
   ],
   "source": [
    "best_score = 0\n",
    "best_number = 0\n",
    "best_depth = 0\n",
    "for number in range(10, 151, 10):\n",
    "    for depth in range(1, 12):\n",
    "        rf = RandomForestClassifier(n_estimators=number, max_depth=depth, class_weight='balanced', random_state=42)\n",
    "        rf.fit(features_train_enc, y_train)\n",
    "        f1 = f1_score(y_valid, rf.predict(features_valid_enc))\n",
    "        if f1 > best_score:\n",
    "            best_score = f1\n",
    "            best_number = number\n",
    "            best_depth = depth\n",
    "\n",
    "print('Оптимальная глубина:', best_depth)\n",
    "print('Оптимальное количество деревьев:', best_number)\n",
    "print('Метрика F1:', best_score)"
   ]
  },
  {
   "cell_type": "code",
   "execution_count": 36,
   "id": "ef1e2cd3",
   "metadata": {},
   "outputs": [
    {
     "name": "stdout",
     "output_type": "stream",
     "text": [
      "F1-мера на тренировочной выборке: 0.6585973656105376\n",
      "F1-мера на валидационной выборке: 0.6348547717842323\n",
      "\n",
      "AUC-ROC на тренировочной выборке: 0.809202057438656\n",
      "AUC-ROC на валидационной выборке: 0.7964824120603016\n"
     ]
    }
   ],
   "source": [
    "rf = RandomForestClassifier(n_estimators=20, max_depth=7, class_weight='balanced', random_state=42)\n",
    "rf.fit(features_train_enc, y_train)\n",
    "\n",
    "train_pred = rf.predict(features_train_enc)\n",
    "valid_pred = rf.predict(features_valid_enc)\n",
    "\n",
    "print('F1-мера на тренировочной выборке:', f1_score(y_train, train_pred))\n",
    "print('F1-мера на валидационной выборке:', f1_score(y_valid, valid_pred))\n",
    "print()\n",
    "print('AUC-ROC на тренировочной выборке:', roc_auc_score(y_train, train_pred))\n",
    "print('AUC-ROC на валидационной выборке:', roc_auc_score(y_valid, valid_pred))"
   ]
  },
  {
   "cell_type": "markdown",
   "id": "7af46160",
   "metadata": {},
   "source": [
    "Видно, что метрики довольно высокие, причем практически одинаковые на тренировочной и валидационной выборках. Судя по всему, переобучения нет."
   ]
  },
  {
   "cell_type": "markdown",
   "id": "60631ac1",
   "metadata": {},
   "source": [
    "**Вывод:** При учете дисбалансса классов с помощью установки параметра `class_weight='balanced'` лучший результат показывает модель случайного леса с параметрами:\n",
    "\n",
    "`RandomForestClassifier(\n",
    "    n_estimators=20,\n",
    "    max_depth=7,\n",
    "    class_weight='balanced',\n",
    "    random_state=42\n",
    ")`"
   ]
  },
  {
   "cell_type": "markdown",
   "id": "6535df76",
   "metadata": {},
   "source": [
    "Техники upsampling и downsampling представлены двумя типами: реализация \"вручную\", то есть просто повторением объектов меньшего класса и удалением случайных элементов большего, соответственно, и с помощью методов `SMOTE` и `RandomUnderSampler` библиотеки `imblearn`"
   ]
  },
  {
   "cell_type": "markdown",
   "id": "faefffd5",
   "metadata": {},
   "source": [
    "### Upsampling \"руками\""
   ]
  },
  {
   "cell_type": "code",
   "execution_count": 37,
   "id": "bff72712",
   "metadata": {},
   "outputs": [],
   "source": [
    "# Разделение обучающей выборки на \"положительные\" и \"отрицательные\" объекты\n",
    "features_zeros = features_train_enc[y_train == 0]\n",
    "features_ones = features_train_enc[y_train == 1]\n",
    "target_zeros = y_train[y_train == 0]\n",
    "target_ones = y_train[y_train == 1]\n",
    "\n",
    "# Собственно upsampling\n",
    "X_upsampled = pd.concat([features_zeros] + [features_ones] * 4)\n",
    "y_upsampled = pd.concat([target_zeros] + [target_ones] * 4)\n",
    "\n",
    "# Перемешивание данных\n",
    "X_upsampled, y_upsampled = shuffle(X_upsampled, y_upsampled, random_state=42)"
   ]
  },
  {
   "cell_type": "markdown",
   "id": "5b356d1c",
   "metadata": {},
   "source": [
    "#### Логистическая регрессия"
   ]
  },
  {
   "cell_type": "code",
   "execution_count": 38,
   "id": "6624452c",
   "metadata": {},
   "outputs": [
    {
     "name": "stdout",
     "output_type": "stream",
     "text": [
      "Оптимальный параметр регуляризации: 0.1\n",
      "Метрика F1: 0.5210084033613445\n"
     ]
    }
   ],
   "source": [
    "best_score = 0\n",
    "best_С = 0\n",
    "for c in np.arange(0.1, 2.0, 0.1):\n",
    "    log_reg = LogisticRegression(solver='liblinear', C=c, random_state=42)\n",
    "    log_reg.fit(X_upsampled, y_upsampled)\n",
    "    f1 = f1_score(y_valid, log_reg.predict(features_valid_enc))\n",
    "    if f1 > best_score:\n",
    "        best_score = f1\n",
    "        best_C = c\n",
    "\n",
    "print('Оптимальный параметр регуляризации:', best_C)\n",
    "print('Метрика F1:', best_score)"
   ]
  },
  {
   "cell_type": "code",
   "execution_count": 39,
   "id": "86995c39",
   "metadata": {},
   "outputs": [
    {
     "name": "stdout",
     "output_type": "stream",
     "text": [
      "F1-мера на тренировочной выборке: 0.48580441640378536\n",
      "F1-мера на валидационной выборке: 0.5210084033613445\n",
      "\n",
      "AUC-ROC на тренировочной выборке: 0.698174564407654\n",
      "AUC-ROC на валидационной выборке: 0.7316607547541629\n"
     ]
    }
   ],
   "source": [
    "log_reg = LogisticRegression(solver='liblinear', C=0.1, random_state=42)\n",
    "log_reg.fit(X_upsampled, y_upsampled)\n",
    "\n",
    "train_pred = log_reg.predict(features_train_enc)\n",
    "valid_pred = log_reg.predict(features_valid_enc)\n",
    "\n",
    "print('F1-мера на тренировочной выборке:', f1_score(y_train, train_pred))\n",
    "print('F1-мера на валидационной выборке:', f1_score(y_valid, valid_pred))\n",
    "print()\n",
    "print('AUC-ROC на тренировочной выборке:', roc_auc_score(y_train, train_pred))\n",
    "print('AUC-ROC на валидационной выборке:', roc_auc_score(y_valid, valid_pred))"
   ]
  },
  {
   "cell_type": "markdown",
   "id": "df2bb490",
   "metadata": {},
   "source": [
    "Логистическая регрессия показала примерно такой же результат, как в случае установки `class_weight='balanced'`."
   ]
  },
  {
   "cell_type": "markdown",
   "id": "22c863a4",
   "metadata": {},
   "source": [
    "#### Решающее дерево"
   ]
  },
  {
   "cell_type": "code",
   "execution_count": 40,
   "id": "fb08598d",
   "metadata": {},
   "outputs": [
    {
     "name": "stdout",
     "output_type": "stream",
     "text": [
      "Оптимальная глубина: 6\n",
      "Метрика F1: 0.5749128919860628\n"
     ]
    }
   ],
   "source": [
    "best_score = 0\n",
    "best_depth = 0\n",
    "for depth in range(1, 12):\n",
    "    tree = DecisionTreeClassifier(max_depth=depth, random_state=42)\n",
    "    tree.fit(X_upsampled, y_upsampled)\n",
    "    f1 = f1_score(y_valid, tree.predict(features_valid_enc))\n",
    "    if f1 > best_score:\n",
    "        best_score = f1\n",
    "        best_depth = depth\n",
    "\n",
    "print('Оптимальная глубина:', best_depth)\n",
    "print('Метрика F1:', best_score)"
   ]
  },
  {
   "cell_type": "code",
   "execution_count": 41,
   "id": "10cdd417",
   "metadata": {},
   "outputs": [
    {
     "name": "stdout",
     "output_type": "stream",
     "text": [
      "F1-мера на тренировочной выборке: 0.5974576271186441\n",
      "F1-мера на валидационной выборке: 0.5749128919860628\n",
      "\n",
      "AUC-ROC на тренировочной выборке: 0.7892584602505073\n",
      "AUC-ROC на валидационной выборке: 0.7756429204847768\n"
     ]
    }
   ],
   "source": [
    "tree = DecisionTreeClassifier(max_depth=6, random_state=42)\n",
    "tree.fit(X_upsampled, y_upsampled)\n",
    "\n",
    "train_pred = tree.predict(features_train_enc)\n",
    "valid_pred = tree.predict(features_valid_enc)\n",
    "\n",
    "print('F1-мера на тренировочной выборке:', f1_score(y_train, train_pred))\n",
    "print('F1-мера на валидационной выборке:', f1_score(y_valid, valid_pred))\n",
    "print()\n",
    "print('AUC-ROC на тренировочной выборке:', roc_auc_score(y_train, train_pred))\n",
    "print('AUC-ROC на валидационной выборке:', roc_auc_score(y_valid, valid_pred))"
   ]
  },
  {
   "cell_type": "markdown",
   "id": "db6b6b0a",
   "metadata": {},
   "source": [
    "Здесь результат такой же, как при установке `class_weight='balanced'`"
   ]
  },
  {
   "cell_type": "markdown",
   "id": "fe047fb4",
   "metadata": {},
   "source": [
    "#### Случайный лес"
   ]
  },
  {
   "cell_type": "code",
   "execution_count": 42,
   "id": "9ac5237f",
   "metadata": {},
   "outputs": [
    {
     "name": "stdout",
     "output_type": "stream",
     "text": [
      "Оптимальная глубина: 10\n",
      "Оптимальное количество деревьев: 130\n",
      "Метрика F1: 0.6362672322375397\n"
     ]
    }
   ],
   "source": [
    "# max_features принимает значение по умолчанию\n",
    "best_score = 0\n",
    "best_number = 0\n",
    "best_depth = 0\n",
    "for number in range(10, 151, 10):\n",
    "    for depth in range(1, 12):\n",
    "        rf = RandomForestClassifier(n_estimators=number, max_depth=depth, random_state=42)\n",
    "        rf.fit(X_upsampled, y_upsampled)\n",
    "        f1 = f1_score(y_valid, rf.predict(features_valid_enc))\n",
    "        if f1 > best_score:\n",
    "            best_score = f1\n",
    "            best_number = number\n",
    "            best_depth = depth\n",
    "\n",
    "print('Оптимальная глубина:', best_depth)\n",
    "print('Оптимальное количество деревьев:', best_number)\n",
    "print('Метрика F1:', best_score)"
   ]
  },
  {
   "cell_type": "code",
   "execution_count": 43,
   "id": "ad9b9b05",
   "metadata": {},
   "outputs": [
    {
     "name": "stdout",
     "output_type": "stream",
     "text": [
      "F1-мера на тренировочной выборке: 0.8042135851798038\n",
      "F1-мера на валидационной выборке: 0.6362672322375397\n",
      "\n",
      "AUC-ROC на тренировочной выборке: 0.9085759608790701\n",
      "AUC-ROC на валидационной выборке: 0.7938405261602128\n"
     ]
    }
   ],
   "source": [
    "rf = RandomForestClassifier(n_estimators=130, max_depth=10, random_state=42)\n",
    "rf.fit(X_upsampled, y_upsampled)\n",
    "\n",
    "train_pred = rf.predict(features_train_enc)\n",
    "valid_pred = rf.predict(features_valid_enc)\n",
    "\n",
    "print('F1-мера на тренировочной выборке:', f1_score(y_train, train_pred))\n",
    "print('F1-мера на валидационной выборке:', f1_score(y_valid, valid_pred))\n",
    "print()\n",
    "print('AUC-ROC на тренировочной выборке:', roc_auc_score(y_train, train_pred))\n",
    "print('AUC-ROC на валидационной выборке:', roc_auc_score(y_valid, valid_pred))"
   ]
  },
  {
   "cell_type": "markdown",
   "id": "263fcb7f",
   "metadata": {},
   "source": [
    "Модель явно переобучена. Попробуем снизить степень переобучения, экспериментируя с параметром `max_features`"
   ]
  },
  {
   "cell_type": "code",
   "execution_count": 44,
   "id": "7e8c6aff",
   "metadata": {},
   "outputs": [
    {
     "name": "stdout",
     "output_type": "stream",
     "text": [
      "Оптимальная глубина: 10\n",
      "Оптимальное количество деревьев: 110\n",
      "Метрика F1: 0.635593220338983\n"
     ]
    }
   ],
   "source": [
    "# max_features=4\n",
    "best_score = 0\n",
    "best_number = 0\n",
    "best_depth = 0\n",
    "for number in range(10, 151, 10):\n",
    "    for depth in range(1, 12):\n",
    "        rf = RandomForestClassifier(n_estimators=number, max_depth=depth, max_features=4, random_state=42)\n",
    "        rf.fit(X_upsampled, y_upsampled)\n",
    "        f1 = f1_score(y_valid, rf.predict(features_valid_enc))\n",
    "        if f1 > best_score:\n",
    "            best_score = f1\n",
    "            best_number = number\n",
    "            best_depth = depth\n",
    "\n",
    "print('Оптимальная глубина:', best_depth)\n",
    "print('Оптимальное количество деревьев:', best_number)\n",
    "print('Метрика F1:', best_score)"
   ]
  },
  {
   "cell_type": "code",
   "execution_count": 45,
   "id": "4cc8f14c",
   "metadata": {},
   "outputs": [
    {
     "name": "stdout",
     "output_type": "stream",
     "text": [
      "F1-мера на тренировочной выборке: 0.8099891422366993\n",
      "F1-мера на валидационной выборке: 0.635593220338983\n",
      "\n",
      "AUC-ROC на тренировочной выборке: 0.9136952371035002\n",
      "AUC-ROC на валидационной выборке: 0.7935264558084539\n"
     ]
    }
   ],
   "source": [
    "rf = RandomForestClassifier(n_estimators=110, max_depth=10, max_features=4, random_state=42)\n",
    "rf.fit(X_upsampled, y_upsampled)\n",
    "\n",
    "train_pred = rf.predict(features_train_enc)\n",
    "valid_pred = rf.predict(features_valid_enc)\n",
    "\n",
    "print('F1-мера на тренировочной выборке:', f1_score(y_train, train_pred))\n",
    "print('F1-мера на валидационной выборке:', f1_score(y_valid, valid_pred))\n",
    "print()\n",
    "print('AUC-ROC на тренировочной выборке:', roc_auc_score(y_train, train_pred))\n",
    "print('AUC-ROC на валидационной выборке:', roc_auc_score(y_valid, valid_pred))"
   ]
  },
  {
   "cell_type": "code",
   "execution_count": 46,
   "id": "fdebcb5a",
   "metadata": {},
   "outputs": [
    {
     "name": "stdout",
     "output_type": "stream",
     "text": [
      "Оптимальная глубина: 10\n",
      "Оптимальное количество деревьев: 150\n",
      "Метрика F1: 0.6293558606124603\n"
     ]
    }
   ],
   "source": [
    "# max_features=5\n",
    "best_score = 0\n",
    "best_number = 0\n",
    "best_depth = 0\n",
    "for number in range(10, 151, 10):\n",
    "    for depth in range(1, 12):\n",
    "        rf = RandomForestClassifier(n_estimators=number, max_depth=depth, max_features=5, random_state=42)\n",
    "        rf.fit(X_upsampled, y_upsampled)\n",
    "        f1 = f1_score(y_valid, rf.predict(features_valid_enc))\n",
    "        if f1 > best_score:\n",
    "            best_score = f1\n",
    "            best_number = number\n",
    "            best_depth = depth\n",
    "\n",
    "print('Оптимальная глубина:', best_depth)\n",
    "print('Оптимальное количество деревьев:', best_number)\n",
    "print('Метрика F1:', best_score)"
   ]
  },
  {
   "cell_type": "code",
   "execution_count": 47,
   "id": "32c62023",
   "metadata": {},
   "outputs": [
    {
     "name": "stdout",
     "output_type": "stream",
     "text": [
      "F1-мера на тренировочной выборке: 0.8094555873925502\n",
      "F1-мера на валидационной выборке: 0.6293558606124603\n",
      "\n",
      "AUC-ROC на тренировочной выборке: 0.9163124221147253\n",
      "AUC-ROC на валидационной выборке: 0.7895051236575032\n"
     ]
    }
   ],
   "source": [
    "rf = RandomForestClassifier(n_estimators=150, max_depth=10, max_features=5, random_state=42)\n",
    "rf.fit(X_upsampled, y_upsampled)\n",
    "\n",
    "train_pred = rf.predict(features_train_enc)\n",
    "valid_pred = rf.predict(features_valid_enc)\n",
    "\n",
    "print('F1-мера на тренировочной выборке:', f1_score(y_train, train_pred))\n",
    "print('F1-мера на валидационной выборке:', f1_score(y_valid, valid_pred))\n",
    "print()\n",
    "print('AUC-ROC на тренировочной выборке:', roc_auc_score(y_train, train_pred))\n",
    "print('AUC-ROC на валидационной выборке:', roc_auc_score(y_valid, valid_pred))"
   ]
  },
  {
   "cell_type": "code",
   "execution_count": 48,
   "id": "940e59bb",
   "metadata": {},
   "outputs": [
    {
     "name": "stdout",
     "output_type": "stream",
     "text": [
      "Оптимальная глубина: 11\n",
      "Оптимальное количество деревьев: 110\n",
      "Метрика F1: 0.6295081967213115\n"
     ]
    }
   ],
   "source": [
    "# max_features=6\n",
    "best_score = 0\n",
    "best_number = 0\n",
    "best_depth = 0\n",
    "for number in range(10, 151, 10):\n",
    "    for depth in range(1, 12):\n",
    "        rf = RandomForestClassifier(n_estimators=number, max_depth=depth, max_features=6, random_state=42)\n",
    "        rf.fit(X_upsampled, y_upsampled)\n",
    "        f1 = f1_score(y_valid, rf.predict(features_valid_enc))\n",
    "        if f1 > best_score:\n",
    "            best_score = f1\n",
    "            best_number = number\n",
    "            best_depth = depth\n",
    "\n",
    "print('Оптимальная глубина:', best_depth)\n",
    "print('Оптимальное количество деревьев:', best_number)\n",
    "print('Метрика F1:', best_score)"
   ]
  },
  {
   "cell_type": "code",
   "execution_count": 49,
   "id": "0fd710b2",
   "metadata": {},
   "outputs": [
    {
     "name": "stdout",
     "output_type": "stream",
     "text": [
      "F1-мера на тренировочной выборке: 0.8747236551215918\n",
      "F1-мера на валидационной выборке: 0.6295081967213115\n",
      "\n",
      "AUC-ROC на тренировочной выборке: 0.9537620942686713\n",
      "AUC-ROC на валидационной выборке: 0.7841597694354124\n"
     ]
    }
   ],
   "source": [
    "rf = RandomForestClassifier(n_estimators=110, max_depth=11, max_features=6, random_state=42)\n",
    "rf.fit(X_upsampled, y_upsampled)\n",
    "\n",
    "train_pred = rf.predict(features_train_enc)\n",
    "valid_pred = rf.predict(features_valid_enc)\n",
    "\n",
    "print('F1-мера на тренировочной выборке:', f1_score(y_train, train_pred))\n",
    "print('F1-мера на валидационной выборке:', f1_score(y_valid, valid_pred))\n",
    "print()\n",
    "print('AUC-ROC на тренировочной выборке:', roc_auc_score(y_train, train_pred))\n",
    "print('AUC-ROC на валидационной выборке:', roc_auc_score(y_valid, valid_pred))"
   ]
  },
  {
   "cell_type": "code",
   "execution_count": 50,
   "id": "2fd73cfd",
   "metadata": {},
   "outputs": [
    {
     "name": "stdout",
     "output_type": "stream",
     "text": [
      "Оптимальная глубина: 11\n",
      "Оптимальное количество деревьев: 80\n",
      "Метрика F1: 0.6376496191512514\n"
     ]
    }
   ],
   "source": [
    "# max_features=7\n",
    "best_score = 0\n",
    "best_number = 0\n",
    "best_depth = 0\n",
    "for number in range(10, 151, 10):\n",
    "    for depth in range(1, 12):\n",
    "        rf = RandomForestClassifier(n_estimators=number, max_depth=depth, max_features=7, random_state=42)\n",
    "        rf.fit(X_upsampled, y_upsampled)\n",
    "        f1 = f1_score(y_valid, rf.predict(features_valid_enc))\n",
    "        if f1 > best_score:\n",
    "            best_score = f1\n",
    "            best_number = number\n",
    "            best_depth = depth\n",
    "\n",
    "print('Оптимальная глубина:', best_depth)\n",
    "print('Оптимальное количество деревьев:', best_number)\n",
    "print('Метрика F1:', best_score)"
   ]
  },
  {
   "cell_type": "code",
   "execution_count": 51,
   "id": "907fef9b",
   "metadata": {},
   "outputs": [
    {
     "name": "stdout",
     "output_type": "stream",
     "text": [
      "F1-мера на тренировочной выборке: 0.8765294771968855\n",
      "F1-мера на валидационной выборке: 0.6376496191512514\n",
      "\n",
      "AUC-ROC на тренировочной выборке: 0.9529720233010135\n",
      "AUC-ROC на валидационной выборке: 0.7906012907675634\n"
     ]
    }
   ],
   "source": [
    "rf = RandomForestClassifier(n_estimators=80, max_depth=11, max_features=7, random_state=42)\n",
    "rf.fit(X_upsampled, y_upsampled)\n",
    "\n",
    "train_pred = rf.predict(features_train_enc)\n",
    "valid_pred = rf.predict(features_valid_enc)\n",
    "\n",
    "print('F1-мера на тренировочной выборке:', f1_score(y_train, train_pred))\n",
    "print('F1-мера на валидационной выборке:', f1_score(y_valid, valid_pred))\n",
    "print()\n",
    "print('AUC-ROC на тренировочной выборке:', roc_auc_score(y_train, train_pred))\n",
    "print('AUC-ROC на валидационной выборке:', roc_auc_score(y_valid, valid_pred))"
   ]
  },
  {
   "cell_type": "markdown",
   "id": "783e9825",
   "metadata": {},
   "source": [
    "Оптимальное значение параметра `max_features` - это значение по умолчанию. В этом случае переобучение самое низкое. Попробуем установить `min_samples_leaf=2`"
   ]
  },
  {
   "cell_type": "code",
   "execution_count": 52,
   "id": "1072c656",
   "metadata": {},
   "outputs": [
    {
     "name": "stdout",
     "output_type": "stream",
     "text": [
      "F1-мера на тренировочной выборке: 0.7924936845904006\n",
      "F1-мера на валидационной выборке: 0.6381647549530761\n",
      "\n",
      "AUC-ROC на тренировочной выборке: 0.9020680231749583\n",
      "AUC-ROC на валидационной выборке: 0.7980527638190956\n"
     ]
    }
   ],
   "source": [
    "rf = RandomForestClassifier(\n",
    "    n_estimators=130,\n",
    "    max_depth=10,\n",
    "    min_samples_leaf=2,\n",
    "    random_state=42\n",
    ")\n",
    "rf.fit(X_upsampled, y_upsampled)\n",
    "\n",
    "train_pred = rf.predict(features_train_enc)\n",
    "valid_pred = rf.predict(features_valid_enc)\n",
    "\n",
    "print('F1-мера на тренировочной выборке:', f1_score(y_train, train_pred))\n",
    "print('F1-мера на валидационной выборке:', f1_score(y_valid, valid_pred))\n",
    "print()\n",
    "print('AUC-ROC на тренировочной выборке:', roc_auc_score(y_train, train_pred))\n",
    "print('AUC-ROC на валидационной выборке:', roc_auc_score(y_valid, valid_pred))"
   ]
  },
  {
   "cell_type": "markdown",
   "id": "249a46a4",
   "metadata": {},
   "source": [
    "**Вывод:** При учете дисбалансса классов с помощью техники upsampling \"руками\" лучший результат показывает модель случайного леса с параметрами:\n",
    "\n",
    "`RandomForestClassifier(\n",
    "    n_estimators=130,\n",
    "    max_depth=10,\n",
    "    min_samples_leaf=2,\n",
    "    random_state=42\n",
    ")`\n",
    "\n",
    "Однако использование параметра `class_weight='balanced'` дает существенно лучшие результаты. И, к сожалению, все модели, которые были проработаны в этом разделе, оказались переобученными..."
   ]
  },
  {
   "cell_type": "markdown",
   "id": "d1a9bab9",
   "metadata": {},
   "source": [
    "### Downsampling \"руками\""
   ]
  },
  {
   "cell_type": "code",
   "execution_count": 53,
   "id": "f3816126",
   "metadata": {},
   "outputs": [],
   "source": [
    "# Разделение обучающей выборки на \"положительные\" и \"отрицательные\" объекты\n",
    "features_zeros = features_train_enc[y_train == 0]\n",
    "features_ones = features_train_enc[y_train == 1]\n",
    "target_zeros = y_train[y_train == 0]\n",
    "target_ones = y_train[y_train == 1]\n",
    "\n",
    "# Собственно downsampling\n",
    "X_downsampled = pd.concat([features_zeros.sample(frac=0.25, random_state=42)] + [features_ones])\n",
    "y_downsampled = pd.concat([target_zeros.sample(frac=0.25, random_state=42)] + [target_ones])\n",
    "\n",
    "# Перемешивание данных\n",
    "X_downsampled, y_downsampled = shuffle(X_downsampled, y_downsampled, random_state=42)"
   ]
  },
  {
   "cell_type": "markdown",
   "id": "325a51f7",
   "metadata": {},
   "source": [
    "#### Логистическая регрессия"
   ]
  },
  {
   "cell_type": "code",
   "execution_count": 54,
   "id": "ac16549d",
   "metadata": {},
   "outputs": [
    {
     "name": "stdout",
     "output_type": "stream",
     "text": [
      "Оптимальный параметр регуляризации: 0.9\n",
      "Метрика F1: 0.5234113712374583\n"
     ]
    }
   ],
   "source": [
    "best_score = 0\n",
    "best_С = 0\n",
    "for c in np.arange(0.1, 2.0, 0.1):\n",
    "    log_reg = LogisticRegression(solver='liblinear', C=c, random_state=42)\n",
    "    log_reg.fit(X_downsampled, y_downsampled)\n",
    "    f1 = f1_score(y_valid, log_reg.predict(features_valid_enc))\n",
    "    if f1 > best_score:\n",
    "        best_score = f1\n",
    "        best_C = c\n",
    "\n",
    "print('Оптимальный параметр регуляризации:', best_C)\n",
    "print('Метрика F1:', best_score)"
   ]
  },
  {
   "cell_type": "code",
   "execution_count": 55,
   "id": "74d9c40e",
   "metadata": {},
   "outputs": [
    {
     "name": "stdout",
     "output_type": "stream",
     "text": [
      "F1-мера на тренировочной выборке: 0.48943460879497425\n",
      "F1-мера на валидационной выборке: 0.5234113712374583\n",
      "\n",
      "AUC-ROC на тренировочной выборке: 0.7017429859578715\n",
      "AUC-ROC на валидационной выборке: 0.7343950142871218\n"
     ]
    }
   ],
   "source": [
    "log_reg = LogisticRegression(solver='liblinear', C=0.9, random_state=42)\n",
    "log_reg.fit(X_downsampled, y_downsampled)\n",
    "\n",
    "train_pred = log_reg.predict(features_train_enc)\n",
    "valid_pred = log_reg.predict(features_valid_enc)\n",
    "\n",
    "print('F1-мера на тренировочной выборке:', f1_score(y_train, train_pred))\n",
    "print('F1-мера на валидационной выборке:', f1_score(y_valid, valid_pred))\n",
    "print()\n",
    "print('AUC-ROC на тренировочной выборке:', roc_auc_score(y_train, train_pred))\n",
    "print('AUC-ROC на валидационной выборке:', roc_auc_score(y_valid, valid_pred))"
   ]
  },
  {
   "cell_type": "markdown",
   "id": "7ccb76d1",
   "metadata": {},
   "source": [
    "Результаты практически не отличаются от полученных ранее"
   ]
  },
  {
   "cell_type": "markdown",
   "id": "0dd8f71d",
   "metadata": {},
   "source": [
    "#### Решающее дерево"
   ]
  },
  {
   "cell_type": "code",
   "execution_count": 56,
   "id": "e240d25b",
   "metadata": {},
   "outputs": [
    {
     "name": "stdout",
     "output_type": "stream",
     "text": [
      "Оптимальная глубина: 6\n",
      "Метрика F1: 0.5827937095282146\n"
     ]
    }
   ],
   "source": [
    "best_score = 0\n",
    "best_depth = 0\n",
    "for depth in range(1, 12):\n",
    "    tree = DecisionTreeClassifier(max_depth=depth, random_state=42)\n",
    "    tree.fit(X_downsampled, y_downsampled)\n",
    "    f1 = f1_score(y_valid, tree.predict(features_valid_enc))\n",
    "    if f1 > best_score:\n",
    "        best_score = f1\n",
    "        best_depth = depth\n",
    "\n",
    "print('Оптимальная глубина:', best_depth)\n",
    "print('Метрика F1:', best_score)"
   ]
  },
  {
   "cell_type": "code",
   "execution_count": 57,
   "id": "3044d152",
   "metadata": {},
   "outputs": [
    {
     "name": "stdout",
     "output_type": "stream",
     "text": [
      "F1-мера на тренировочной выборке: 0.5939586645468998\n",
      "F1-мера на валидационной выборке: 0.5827937095282146\n",
      "\n",
      "AUC-ROC на тренировочной выборке: 0.7786652065282846\n",
      "AUC-ROC на валидационной выборке: 0.7735922258350576\n"
     ]
    }
   ],
   "source": [
    "tree = DecisionTreeClassifier(max_depth=6, random_state=42)\n",
    "tree.fit(X_downsampled, y_downsampled)\n",
    "\n",
    "train_pred = tree.predict(features_train_enc)\n",
    "valid_pred = tree.predict(features_valid_enc)\n",
    "\n",
    "print('F1-мера на тренировочной выборке:', f1_score(y_train, train_pred))\n",
    "print('F1-мера на валидационной выборке:', f1_score(y_valid, valid_pred))\n",
    "print()\n",
    "print('AUC-ROC на тренировочной выборке:', roc_auc_score(y_train, train_pred))\n",
    "print('AUC-ROC на валидационной выборке:', roc_auc_score(y_valid, valid_pred))"
   ]
  },
  {
   "cell_type": "markdown",
   "id": "ba76db08",
   "metadata": {},
   "source": [
    "Решающие деревья еще на одну сотую приблизились к пороговому для данного проекта значению метрики F1."
   ]
  },
  {
   "cell_type": "markdown",
   "id": "03a63c7f",
   "metadata": {},
   "source": [
    "#### Случайный лес"
   ]
  },
  {
   "cell_type": "code",
   "execution_count": 58,
   "id": "a764ea1a",
   "metadata": {},
   "outputs": [
    {
     "name": "stdout",
     "output_type": "stream",
     "text": [
      "Оптимальная глубина: 7\n",
      "Оптимальное количество деревьев: 130\n",
      "Метрика F1: 0.609942638623327\n"
     ]
    }
   ],
   "source": [
    "# max_features принимает значение по умолчанию\n",
    "best_score = 0\n",
    "best_number = 0\n",
    "best_depth = 0\n",
    "for number in range(10, 151, 10):\n",
    "    for depth in range(1, 12):\n",
    "        rf = RandomForestClassifier(n_estimators=number, max_depth=depth, random_state=42)\n",
    "        rf.fit(X_downsampled, y_downsampled)\n",
    "        f1 = f1_score(y_valid, rf.predict(features_valid_enc))\n",
    "        if f1 > best_score:\n",
    "            best_score = f1\n",
    "            best_number = number\n",
    "            best_depth = depth\n",
    "\n",
    "print('Оптимальная глубина:', best_depth)\n",
    "print('Оптимальное количество деревьев:', best_number)\n",
    "print('Метрика F1:', best_score)"
   ]
  },
  {
   "cell_type": "code",
   "execution_count": 59,
   "id": "860da91d",
   "metadata": {},
   "outputs": [
    {
     "name": "stdout",
     "output_type": "stream",
     "text": [
      "F1-мера на тренировочной выборке: 0.6364820846905537\n",
      "F1-мера на валидационной выборке: 0.609942638623327\n",
      "\n",
      "AUC-ROC на тренировочной выборке: 0.8086075774194188\n",
      "AUC-ROC на валидационной выборке: 0.7907429303379643\n"
     ]
    }
   ],
   "source": [
    "rf = RandomForestClassifier(n_estimators=130, max_depth=7, random_state=42)\n",
    "rf.fit(X_downsampled, y_downsampled)\n",
    "\n",
    "train_pred = rf.predict(features_train_enc)\n",
    "valid_pred = rf.predict(features_valid_enc)\n",
    "\n",
    "print('F1-мера на тренировочной выборке:', f1_score(y_train, train_pred))\n",
    "print('F1-мера на валидационной выборке:', f1_score(y_valid, valid_pred))\n",
    "print()\n",
    "print('AUC-ROC на тренировочной выборке:', roc_auc_score(y_train, train_pred))\n",
    "print('AUC-ROC на валидационной выборке:', roc_auc_score(y_valid, valid_pred))"
   ]
  },
  {
   "cell_type": "markdown",
   "id": "c48ff92a",
   "metadata": {},
   "source": [
    "Попробуем поработать с параметрами `max_features` и `min_samples_leaf`"
   ]
  },
  {
   "cell_type": "code",
   "execution_count": 60,
   "id": "077202b0",
   "metadata": {},
   "outputs": [
    {
     "name": "stdout",
     "output_type": "stream",
     "text": [
      "Оптимальная глубина: 6\n",
      "Оптимальное количество деревьев: 90\n",
      "Метрика F1: 0.6148007590132828\n"
     ]
    }
   ],
   "source": [
    "# max_features=4\n",
    "best_score = 0\n",
    "best_number = 0\n",
    "best_depth = 0\n",
    "for number in range(10, 151, 10):\n",
    "    for depth in range(1, 12):\n",
    "        rf = RandomForestClassifier(n_estimators=number, max_depth=depth, max_features=4, random_state=42)\n",
    "        rf.fit(X_downsampled, y_downsampled)\n",
    "        f1 = f1_score(y_valid, rf.predict(features_valid_enc))\n",
    "        if f1 > best_score:\n",
    "            best_score = f1\n",
    "            best_number = number\n",
    "            best_depth = depth\n",
    "\n",
    "print('Оптимальная глубина:', best_depth)\n",
    "print('Оптимальное количество деревьев:', best_number)\n",
    "print('Метрика F1:', best_score)"
   ]
  },
  {
   "cell_type": "code",
   "execution_count": 61,
   "id": "e6faec73",
   "metadata": {},
   "outputs": [
    {
     "name": "stdout",
     "output_type": "stream",
     "text": [
      "F1-мера на тренировочной выборке: 0.6208484051298915\n",
      "F1-мера на валидационной выборке: 0.6148007590132828\n",
      "\n",
      "AUC-ROC на тренировочной выборке: 0.7946865372455177\n",
      "AUC-ROC на валидационной выборке: 0.79592817026308\n"
     ]
    }
   ],
   "source": [
    "rf = RandomForestClassifier(n_estimators=90, max_depth=6, max_features=4, random_state=42)\n",
    "rf.fit(X_downsampled, y_downsampled)\n",
    "\n",
    "train_pred = rf.predict(features_train_enc)\n",
    "valid_pred = rf.predict(features_valid_enc)\n",
    "\n",
    "print('F1-мера на тренировочной выборке:', f1_score(y_train, train_pred))\n",
    "print('F1-мера на валидационной выборке:', f1_score(y_valid, valid_pred))\n",
    "print()\n",
    "print('AUC-ROC на тренировочной выборке:', roc_auc_score(y_train, train_pred))\n",
    "print('AUC-ROC на валидационной выборке:', roc_auc_score(y_valid, valid_pred))"
   ]
  },
  {
   "cell_type": "code",
   "execution_count": 62,
   "id": "6d788551",
   "metadata": {},
   "outputs": [
    {
     "name": "stdout",
     "output_type": "stream",
     "text": [
      "Оптимальная глубина: 5\n",
      "Оптимальное количество деревьев: 20\n",
      "Метрика F1: 0.6134852801519468\n"
     ]
    }
   ],
   "source": [
    "# max_features=5\n",
    "best_score = 0\n",
    "best_number = 0\n",
    "best_depth = 0\n",
    "for number in range(10, 151, 10):\n",
    "    for depth in range(1, 12):\n",
    "        rf = RandomForestClassifier(n_estimators=number, max_depth=depth, max_features=5, random_state=42)\n",
    "        rf.fit(X_downsampled, y_downsampled)\n",
    "        f1 = f1_score(y_valid, rf.predict(features_valid_enc))\n",
    "        if f1 > best_score:\n",
    "            best_score = f1\n",
    "            best_number = number\n",
    "            best_depth = depth\n",
    "\n",
    "print('Оптимальная глубина:', best_depth)\n",
    "print('Оптимальное количество деревьев:', best_number)\n",
    "print('Метрика F1:', best_score)"
   ]
  },
  {
   "cell_type": "code",
   "execution_count": 63,
   "id": "68e074c5",
   "metadata": {},
   "outputs": [
    {
     "name": "stdout",
     "output_type": "stream",
     "text": [
      "F1-мера на тренировочной выборке: 0.6011865524060647\n",
      "F1-мера на валидационной выборке: 0.6134852801519468\n",
      "\n",
      "AUC-ROC на тренировочной выборке: 0.778977090168455\n",
      "AUC-ROC на валидационной выборке: 0.7947026800670016\n"
     ]
    }
   ],
   "source": [
    "rf = RandomForestClassifier(n_estimators=20, max_depth=5, max_features=5, random_state=42)\n",
    "rf.fit(X_downsampled, y_downsampled)\n",
    "\n",
    "train_pred = rf.predict(features_train_enc)\n",
    "valid_pred = rf.predict(features_valid_enc)\n",
    "\n",
    "print('F1-мера на тренировочной выборке:', f1_score(y_train, train_pred))\n",
    "print('F1-мера на валидационной выборке:', f1_score(y_valid, valid_pred))\n",
    "print()\n",
    "print('AUC-ROC на тренировочной выборке:', roc_auc_score(y_train, train_pred))\n",
    "print('AUC-ROC на валидационной выборке:', roc_auc_score(y_valid, valid_pred))"
   ]
  },
  {
   "cell_type": "code",
   "execution_count": 64,
   "id": "7c8065ac",
   "metadata": {},
   "outputs": [
    {
     "name": "stdout",
     "output_type": "stream",
     "text": [
      "Оптимальная глубина: 4\n",
      "Оптимальное количество деревьев: 30\n",
      "Метрика F1: 0.61003861003861\n"
     ]
    }
   ],
   "source": [
    "# max_features=6\n",
    "best_score = 0\n",
    "best_number = 0\n",
    "best_depth = 0\n",
    "for number in range(10, 151, 10):\n",
    "    for depth in range(1, 12):\n",
    "        rf = RandomForestClassifier(n_estimators=number, max_depth=depth, max_features=6, random_state=42)\n",
    "        rf.fit(X_downsampled, y_downsampled)\n",
    "        f1 = f1_score(y_valid, rf.predict(features_valid_enc))\n",
    "        if f1 > best_score:\n",
    "            best_score = f1\n",
    "            best_number = number\n",
    "            best_depth = depth\n",
    "\n",
    "print('Оптимальная глубина:', best_depth)\n",
    "print('Оптимальное количество деревьев:', best_number)\n",
    "print('Метрика F1:', best_score)"
   ]
  },
  {
   "cell_type": "code",
   "execution_count": 65,
   "id": "a081cea9",
   "metadata": {},
   "outputs": [
    {
     "name": "stdout",
     "output_type": "stream",
     "text": [
      "F1-мера на тренировочной выборке: 0.587094617184888\n",
      "F1-мера на валидационной выборке: 0.61003861003861\n",
      "\n",
      "AUC-ROC на тренировочной выборке: 0.7660072865335461\n",
      "AUC-ROC на валидационной выборке: 0.7892649522120405\n"
     ]
    }
   ],
   "source": [
    "rf = RandomForestClassifier(n_estimators=30, max_depth=4, max_features=6, random_state=42)\n",
    "rf.fit(X_downsampled, y_downsampled)\n",
    "\n",
    "train_pred = rf.predict(features_train_enc)\n",
    "valid_pred = rf.predict(features_valid_enc)\n",
    "\n",
    "print('F1-мера на тренировочной выборке:', f1_score(y_train, train_pred))\n",
    "print('F1-мера на валидационной выборке:', f1_score(y_valid, valid_pred))\n",
    "print()\n",
    "print('AUC-ROC на тренировочной выборке:', roc_auc_score(y_train, train_pred))\n",
    "print('AUC-ROC на валидационной выборке:', roc_auc_score(y_valid, valid_pred))"
   ]
  },
  {
   "cell_type": "code",
   "execution_count": 66,
   "id": "c85eb1f8",
   "metadata": {},
   "outputs": [
    {
     "name": "stdout",
     "output_type": "stream",
     "text": [
      "Оптимальная глубина: 4\n",
      "Оптимальное количество деревьев: 40\n",
      "Метрика F1: 0.6010928961748634\n"
     ]
    }
   ],
   "source": [
    "# max_features=7\n",
    "best_score = 0\n",
    "best_number = 0\n",
    "best_depth = 0\n",
    "for number in range(10, 151, 10):\n",
    "    for depth in range(1, 12):\n",
    "        rf = RandomForestClassifier(n_estimators=number, max_depth=depth, max_features=7, random_state=42)\n",
    "        rf.fit(X_downsampled, y_downsampled)\n",
    "        f1 = f1_score(y_valid, rf.predict(features_valid_enc))\n",
    "        if f1 > best_score:\n",
    "            best_score = f1\n",
    "            best_number = number\n",
    "            best_depth = depth\n",
    "\n",
    "print('Оптимальная глубина:', best_depth)\n",
    "print('Оптимальное количество деревьев:', best_number)\n",
    "print('Метрика F1:', best_score)"
   ]
  },
  {
   "cell_type": "code",
   "execution_count": 67,
   "id": "29aa8831",
   "metadata": {},
   "outputs": [
    {
     "name": "stdout",
     "output_type": "stream",
     "text": [
      "F1-мера на тренировочной выборке: 0.58801261829653\n",
      "F1-мера на валидационной выборке: 0.6010928961748634\n",
      "\n",
      "AUC-ROC на тренировочной выборке: 0.7750214259436493\n",
      "AUC-ROC на валидационной выборке: 0.7913464380727167\n"
     ]
    }
   ],
   "source": [
    "rf = RandomForestClassifier(n_estimators=40, max_depth=4, max_features=7, random_state=42)\n",
    "rf.fit(X_downsampled, y_downsampled)\n",
    "\n",
    "train_pred = rf.predict(features_train_enc)\n",
    "valid_pred = rf.predict(features_valid_enc)\n",
    "\n",
    "print('F1-мера на тренировочной выборке:', f1_score(y_train, train_pred))\n",
    "print('F1-мера на валидационной выборке:', f1_score(y_valid, valid_pred))\n",
    "print()\n",
    "print('AUC-ROC на тренировочной выборке:', roc_auc_score(y_train, train_pred))\n",
    "print('AUC-ROC на валидационной выборке:', roc_auc_score(y_valid, valid_pred))"
   ]
  },
  {
   "cell_type": "markdown",
   "id": "e4088f0b",
   "metadata": {},
   "source": [
    "Оптимальное значение параметра `max_features=4`. В этом случае модель и не переобучается, и показывает самые высокие для данной техники результаты. Как и раньше, попробуем установить `min_samples_leaf=2`"
   ]
  },
  {
   "cell_type": "code",
   "execution_count": 68,
   "id": "128f3e1f",
   "metadata": {},
   "outputs": [
    {
     "name": "stdout",
     "output_type": "stream",
     "text": [
      "F1-мера на тренировочной выборке: 0.6220032840722497\n",
      "F1-мера на валидационной выборке: 0.610586011342155\n",
      "\n",
      "AUC-ROC на тренировочной выборке: 0.7958093868583435\n",
      "AUC-ROC на валидационной выборке: 0.7931323283082077\n"
     ]
    }
   ],
   "source": [
    "rf = RandomForestClassifier(\n",
    "    n_estimators=90,\n",
    "    max_depth=6,\n",
    "    max_features=4,\n",
    "    min_samples_leaf=2,\n",
    "    random_state=42\n",
    ")\n",
    "rf.fit(X_downsampled, y_downsampled)\n",
    "\n",
    "train_pred = rf.predict(features_train_enc)\n",
    "valid_pred = rf.predict(features_valid_enc)\n",
    "\n",
    "print('F1-мера на тренировочной выборке:', f1_score(y_train, train_pred))\n",
    "print('F1-мера на валидационной выборке:', f1_score(y_valid, valid_pred))\n",
    "print()\n",
    "print('AUC-ROC на тренировочной выборке:', roc_auc_score(y_train, train_pred))\n",
    "print('AUC-ROC на валидационной выборке:', roc_auc_score(y_valid, valid_pred))"
   ]
  },
  {
   "cell_type": "markdown",
   "id": "9d402fa6",
   "metadata": {},
   "source": [
    "**Вывод:** При учете дисбалансса классов с помощью техники downsampling \"руками\" лучший результат показывает модель случайного леса с параметрами:\n",
    "\n",
    "`RandomForestClassifier(\n",
    "    n_estimators=90,\n",
    "    max_depth=6,\n",
    "    max_features=4,\n",
    "    random_state=42\n",
    ")`"
   ]
  },
  {
   "cell_type": "markdown",
   "id": "45829910",
   "metadata": {},
   "source": [
    "### Изменение порога классификации для логистической регрессии"
   ]
  },
  {
   "cell_type": "code",
   "execution_count": 69,
   "id": "fd90629b",
   "metadata": {},
   "outputs": [
    {
     "name": "stdout",
     "output_type": "stream",
     "text": [
      "Порог = 0.00 | F1-мера = 0.339, AUC-ROC = 0.500\n",
      "Порог = 0.02 | F1-мера = 0.339, AUC-ROC = 0.501\n",
      "Порог = 0.04 | F1-мера = 0.352, AUC-ROC = 0.527\n",
      "Порог = 0.06 | F1-мера = 0.372, AUC-ROC = 0.569\n",
      "Порог = 0.08 | F1-мера = 0.388, AUC-ROC = 0.597\n",
      "Порог = 0.10 | F1-мера = 0.407, AUC-ROC = 0.626\n",
      "Порог = 0.12 | F1-мера = 0.435, AUC-ROC = 0.663\n",
      "Порог = 0.14 | F1-мера = 0.457, AUC-ROC = 0.688\n",
      "Порог = 0.16 | F1-мера = 0.473, AUC-ROC = 0.700\n",
      "Порог = 0.18 | F1-мера = 0.493, AUC-ROC = 0.715\n",
      "Порог = 0.20 | F1-мера = 0.510, AUC-ROC = 0.725\n",
      "Порог = 0.22 | F1-мера = 0.510, AUC-ROC = 0.717\n",
      "Порог = 0.24 | F1-мера = 0.514, AUC-ROC = 0.714\n",
      "Порог = 0.26 | F1-мера = 0.519, AUC-ROC = 0.711\n",
      "Порог = 0.28 | F1-мера = 0.536, AUC-ROC = 0.718\n",
      "Порог = 0.30 | F1-мера = 0.519, AUC-ROC = 0.701\n",
      "Порог = 0.32 | F1-мера = 0.522, AUC-ROC = 0.700\n",
      "Порог = 0.34 | F1-мера = 0.505, AUC-ROC = 0.686\n",
      "Порог = 0.36 | F1-мера = 0.491, AUC-ROC = 0.675\n",
      "Порог = 0.38 | F1-мера = 0.471, AUC-ROC = 0.663\n",
      "Порог = 0.40 | F1-мера = 0.443, AUC-ROC = 0.646\n",
      "Порог = 0.42 | F1-мера = 0.421, AUC-ROC = 0.635\n",
      "Порог = 0.44 | F1-мера = 0.392, AUC-ROC = 0.621\n",
      "Порог = 0.46 | F1-мера = 0.372, AUC-ROC = 0.612\n",
      "Порог = 0.48 | F1-мера = 0.342, AUC-ROC = 0.599\n",
      "Порог = 0.50 | F1-мера = 0.314, AUC-ROC = 0.589\n"
     ]
    }
   ],
   "source": [
    "log_reg = LogisticRegression(solver='liblinear', C=0.1, random_state=42)\n",
    "log_reg.fit(features_train_enc, y_train)\n",
    "\n",
    "probabilities_train = log_reg.predict_proba(features_train_enc)[:,1]\n",
    "probabilities_valid = log_reg.predict_proba(features_valid_enc)[:,1]\n",
    "\n",
    "for threshold in np.arange(0, 0.51, 0.02):\n",
    "    predicted_valid = [1 if i >= threshold else 0 for i in probabilities_valid]\n",
    "    f1 = f1_score(y_valid, predicted_valid)\n",
    "    auc_roc = roc_auc_score(y_valid, predicted_valid)\n",
    "\n",
    "    print(\"Порог = {:.2f} | F1-мера = {:.3f}, AUC-ROC = {:.3f}\".format(\n",
    "        threshold, f1, auc_roc))"
   ]
  },
  {
   "cell_type": "markdown",
   "id": "3ec748b3",
   "metadata": {},
   "source": [
    "Видно, что лучшие значения метрик достигаются при пороге, равном 0.28"
   ]
  },
  {
   "cell_type": "code",
   "execution_count": 70,
   "id": "58b28e81",
   "metadata": {},
   "outputs": [
    {
     "name": "stdout",
     "output_type": "stream",
     "text": [
      "F1-мера на тренировочной выборке: 0.4754158964879852\n",
      "F1-мера на валидационной выборке: 0.5361050328227571\n",
      "\n",
      "AUC-ROC на тренировочной выборке: 0.675190401451278\n",
      "AUC-ROC на валидационной выборке: 0.7182727362301705\n"
     ]
    }
   ],
   "source": [
    "train_pred = [1 if i >= 0.28 else 0 for i in probabilities_train]\n",
    "valid_pred = [1 if i >= 0.28 else 0 for i in probabilities_valid]\n",
    "\n",
    "print('F1-мера на тренировочной выборке:', f1_score(y_train, train_pred))\n",
    "print('F1-мера на валидационной выборке:', f1_score(y_valid, valid_pred))\n",
    "print()\n",
    "print('AUC-ROC на тренировочной выборке:', roc_auc_score(y_train, train_pred))\n",
    "print('AUC-ROC на валидационной выборке:', roc_auc_score(y_valid, valid_pred))"
   ]
  },
  {
   "cell_type": "markdown",
   "id": "6d654cbd",
   "metadata": {},
   "source": [
    "Как можно заметить, при применении этой техники результаты немного лучше, чем при применении других техник учета дисбаланса классов к модели логистической регрессии, однако такой результат все еще не является достаточно хорошим."
   ]
  },
  {
   "cell_type": "markdown",
   "id": "245108c6",
   "metadata": {},
   "source": [
    "### Upsampling с помощью SMOTE"
   ]
  },
  {
   "cell_type": "code",
   "execution_count": 71,
   "id": "30495604",
   "metadata": {},
   "outputs": [],
   "source": [
    "lst = ['geography_Germany', 'geography_Spain', 'gender_Male']\n",
    "for col in lst:\n",
    "    features_train_enc[col] = features_train_enc[col].astype('int')\n",
    "    features_valid_enc[col] = features_valid_enc[col].astype('int')\n",
    "    features_test_enc[col] = features_test_enc[col].astype('int')"
   ]
  },
  {
   "cell_type": "markdown",
   "id": "0e63c08a",
   "metadata": {},
   "source": [
    "Параметр k_neighbors подбирался вручную опытным путем. При этом я перебрал значения от 3 до 8 включительно. Оптимальный по метрикам и степени переобучения результат - 6"
   ]
  },
  {
   "cell_type": "code",
   "execution_count": 72,
   "id": "e65efbf8",
   "metadata": {},
   "outputs": [],
   "source": [
    "sm = SMOTE(k_neighbors=6, random_state=42)\n",
    "X_smote, y_smote = sm.fit_resample(features_train_enc, y_train)"
   ]
  },
  {
   "cell_type": "code",
   "execution_count": 73,
   "id": "ce16f514",
   "metadata": {},
   "outputs": [
    {
     "data": {
      "text/html": [
       "<div>\n",
       "<style scoped>\n",
       "    .dataframe tbody tr th:only-of-type {\n",
       "        vertical-align: middle;\n",
       "    }\n",
       "\n",
       "    .dataframe tbody tr th {\n",
       "        vertical-align: top;\n",
       "    }\n",
       "\n",
       "    .dataframe thead th {\n",
       "        text-align: right;\n",
       "    }\n",
       "</style>\n",
       "<table border=\"1\" class=\"dataframe\">\n",
       "  <thead>\n",
       "    <tr style=\"text-align: right;\">\n",
       "      <th></th>\n",
       "      <th>geography_Germany</th>\n",
       "      <th>geography_Spain</th>\n",
       "      <th>gender_Male</th>\n",
       "      <th>credit_score</th>\n",
       "      <th>age</th>\n",
       "      <th>tenure</th>\n",
       "      <th>balance</th>\n",
       "      <th>num_of_products</th>\n",
       "      <th>has_cr_card</th>\n",
       "      <th>is_active_member</th>\n",
       "      <th>estimated_salary</th>\n",
       "    </tr>\n",
       "  </thead>\n",
       "  <tbody>\n",
       "    <tr>\n",
       "      <th>0</th>\n",
       "      <td>1</td>\n",
       "      <td>0</td>\n",
       "      <td>0</td>\n",
       "      <td>-1.283897</td>\n",
       "      <td>0.008566</td>\n",
       "      <td>1.449637</td>\n",
       "      <td>0.330105</td>\n",
       "      <td>0.783996</td>\n",
       "      <td>0.640913</td>\n",
       "      <td>-1.033563</td>\n",
       "      <td>-0.084061</td>\n",
       "    </tr>\n",
       "    <tr>\n",
       "      <th>1</th>\n",
       "      <td>0</td>\n",
       "      <td>0</td>\n",
       "      <td>0</td>\n",
       "      <td>0.271537</td>\n",
       "      <td>-1.139895</td>\n",
       "      <td>-0.001572</td>\n",
       "      <td>-1.220584</td>\n",
       "      <td>0.783996</td>\n",
       "      <td>-1.560275</td>\n",
       "      <td>0.967527</td>\n",
       "      <td>0.264021</td>\n",
       "    </tr>\n",
       "    <tr>\n",
       "      <th>2</th>\n",
       "      <td>1</td>\n",
       "      <td>0</td>\n",
       "      <td>1</td>\n",
       "      <td>-0.236571</td>\n",
       "      <td>0.104271</td>\n",
       "      <td>-0.001572</td>\n",
       "      <td>1.692794</td>\n",
       "      <td>0.783996</td>\n",
       "      <td>0.640913</td>\n",
       "      <td>0.967527</td>\n",
       "      <td>0.515344</td>\n",
       "    </tr>\n",
       "    <tr>\n",
       "      <th>3</th>\n",
       "      <td>0</td>\n",
       "      <td>1</td>\n",
       "      <td>0</td>\n",
       "      <td>-1.874962</td>\n",
       "      <td>0.869911</td>\n",
       "      <td>-0.001572</td>\n",
       "      <td>1.032566</td>\n",
       "      <td>-0.919109</td>\n",
       "      <td>0.640913</td>\n",
       "      <td>0.967527</td>\n",
       "      <td>0.303842</td>\n",
       "    </tr>\n",
       "    <tr>\n",
       "      <th>4</th>\n",
       "      <td>1</td>\n",
       "      <td>0</td>\n",
       "      <td>0</td>\n",
       "      <td>1.215167</td>\n",
       "      <td>0.391386</td>\n",
       "      <td>-1.089979</td>\n",
       "      <td>0.851257</td>\n",
       "      <td>0.783996</td>\n",
       "      <td>-1.560275</td>\n",
       "      <td>-1.033563</td>\n",
       "      <td>-1.400817</td>\n",
       "    </tr>\n",
       "  </tbody>\n",
       "</table>\n",
       "</div>"
      ],
      "text/plain": [
       "   geography_Germany  geography_Spain  gender_Male  credit_score       age  \\\n",
       "0                  1                0            0     -1.283897  0.008566   \n",
       "1                  0                0            0      0.271537 -1.139895   \n",
       "2                  1                0            1     -0.236571  0.104271   \n",
       "3                  0                1            0     -1.874962  0.869911   \n",
       "4                  1                0            0      1.215167  0.391386   \n",
       "\n",
       "     tenure   balance  num_of_products  has_cr_card  is_active_member  \\\n",
       "0  1.449637  0.330105         0.783996     0.640913         -1.033563   \n",
       "1 -0.001572 -1.220584         0.783996    -1.560275          0.967527   \n",
       "2 -0.001572  1.692794         0.783996     0.640913          0.967527   \n",
       "3 -0.001572  1.032566        -0.919109     0.640913          0.967527   \n",
       "4 -1.089979  0.851257         0.783996    -1.560275         -1.033563   \n",
       "\n",
       "   estimated_salary  \n",
       "0         -0.084061  \n",
       "1          0.264021  \n",
       "2          0.515344  \n",
       "3          0.303842  \n",
       "4         -1.400817  "
      ]
     },
     "execution_count": 73,
     "metadata": {},
     "output_type": "execute_result"
    }
   ],
   "source": [
    "X_smote.head()"
   ]
  },
  {
   "cell_type": "code",
   "execution_count": 74,
   "id": "425d7ee0",
   "metadata": {},
   "outputs": [
    {
     "data": {
      "text/plain": [
       "0    0\n",
       "1    0\n",
       "2    0\n",
       "3    0\n",
       "4    0\n",
       "Name: exited, dtype: int64"
      ]
     },
     "execution_count": 74,
     "metadata": {},
     "output_type": "execute_result"
    }
   ],
   "source": [
    "y_smote.head()"
   ]
  },
  {
   "cell_type": "markdown",
   "id": "7fd1161c",
   "metadata": {},
   "source": [
    "#### Логистическая регрессия"
   ]
  },
  {
   "cell_type": "code",
   "execution_count": 75,
   "id": "08520dc5",
   "metadata": {},
   "outputs": [
    {
     "name": "stdout",
     "output_type": "stream",
     "text": [
      "Оптимальный параметр регуляризации: 0.2\n",
      "Метрика F1: 0.5104529616724739\n"
     ]
    }
   ],
   "source": [
    "best_score = 0\n",
    "best_С = 0\n",
    "for c in np.arange(0.1, 2.0, 0.1):\n",
    "    log_reg = LogisticRegression(solver='liblinear', C=c, random_state=42)\n",
    "    log_reg.fit(X_smote, y_smote)\n",
    "    f1 = f1_score(y_valid, log_reg.predict(features_valid_enc))\n",
    "    if f1 > best_score:\n",
    "        best_score = f1\n",
    "        best_C = c\n",
    "\n",
    "print('Оптимальный параметр регуляризации:', best_C)\n",
    "print('Метрика F1:', best_score)"
   ]
  },
  {
   "cell_type": "code",
   "execution_count": 76,
   "id": "b6ae1aba",
   "metadata": {},
   "outputs": [
    {
     "name": "stdout",
     "output_type": "stream",
     "text": [
      "F1-мера на тренировочной выборке: 0.4793584793584794\n",
      "F1-мера на валидационной выборке: 0.5104529616724739\n",
      "\n",
      "AUC-ROC на тренировочной выборке: 0.6901796559380521\n",
      "AUC-ROC на валидационной выборке: 0.7186791802147996\n"
     ]
    }
   ],
   "source": [
    "log_reg = LogisticRegression(solver='liblinear', C=0.2, random_state=42)\n",
    "log_reg.fit(X_smote, y_smote)\n",
    "\n",
    "train_pred = log_reg.predict(features_train_enc)\n",
    "valid_pred = log_reg.predict(features_valid_enc)\n",
    "\n",
    "print('F1-мера на тренировочной выборке:', f1_score(y_train, train_pred))\n",
    "print('F1-мера на валидационной выборке:', f1_score(y_valid, valid_pred))\n",
    "print()\n",
    "print('AUC-ROC на тренировочной выборке:', roc_auc_score(y_train, train_pred))\n",
    "print('AUC-ROC на валидационной выборке:', roc_auc_score(y_valid, valid_pred))"
   ]
  },
  {
   "cell_type": "markdown",
   "id": "b8407b21",
   "metadata": {},
   "source": [
    "Логистическая регрессия, как всегда, показала невысокий результат"
   ]
  },
  {
   "cell_type": "markdown",
   "id": "465be688",
   "metadata": {},
   "source": [
    "#### Решающее дерево"
   ]
  },
  {
   "cell_type": "code",
   "execution_count": 77,
   "id": "7717c49c",
   "metadata": {},
   "outputs": [
    {
     "name": "stdout",
     "output_type": "stream",
     "text": [
      "Оптимальная глубина: 7\n",
      "Метрика F1: 0.5859375000000001\n"
     ]
    }
   ],
   "source": [
    "best_score = 0\n",
    "best_depth = 0\n",
    "for depth in range(1, 12):\n",
    "    tree = DecisionTreeClassifier(max_depth=depth, random_state=42)\n",
    "    tree.fit(X_smote, y_smote)\n",
    "    f1 = f1_score(y_valid, tree.predict(features_valid_enc))\n",
    "    if f1 > best_score:\n",
    "        best_score = f1\n",
    "        best_depth = depth\n",
    "\n",
    "print('Оптимальная глубина:', best_depth)\n",
    "print('Метрика F1:', best_score)"
   ]
  },
  {
   "cell_type": "code",
   "execution_count": 78,
   "id": "5a79a551",
   "metadata": {},
   "outputs": [
    {
     "name": "stdout",
     "output_type": "stream",
     "text": [
      "F1-мера на тренировочной выборке: 0.5942173479561316\n",
      "F1-мера на валидационной выборке: 0.5859375000000001\n",
      "\n",
      "AUC-ROC на тренировочной выборке: 0.7723446387870209\n",
      "AUC-ROC на валидационной выборке: 0.7684008276677505\n"
     ]
    }
   ],
   "source": [
    "tree = DecisionTreeClassifier(max_depth=7, random_state=42)\n",
    "tree.fit(X_smote, y_smote)\n",
    "\n",
    "train_pred = tree.predict(features_train_enc)\n",
    "valid_pred = tree.predict(features_valid_enc)\n",
    "\n",
    "print('F1-мера на тренировочной выборке:', f1_score(y_train, train_pred))\n",
    "print('F1-мера на валидационной выборке:', f1_score(y_valid, valid_pred))\n",
    "print()\n",
    "print('AUC-ROC на тренировочной выборке:', roc_auc_score(y_train, train_pred))\n",
    "print('AUC-ROC на валидационной выборке:', roc_auc_score(y_valid, valid_pred))"
   ]
  },
  {
   "cell_type": "markdown",
   "id": "491f92a8",
   "metadata": {},
   "source": [
    "Дерево уже лучше"
   ]
  },
  {
   "cell_type": "markdown",
   "id": "98744ff7",
   "metadata": {},
   "source": [
    "#### Случайный лес"
   ]
  },
  {
   "cell_type": "code",
   "execution_count": 79,
   "id": "a2e5ee7a",
   "metadata": {},
   "outputs": [
    {
     "name": "stdout",
     "output_type": "stream",
     "text": [
      "Оптимальная глубина: 7\n",
      "Оптимальное количество деревьев: 80\n",
      "Метрика F1: 0.6031746031746031\n"
     ]
    }
   ],
   "source": [
    "best_score = 0\n",
    "best_number = 0\n",
    "best_depth = 0\n",
    "for number in range(10, 151, 10):\n",
    "    for depth in range(1, 12):\n",
    "        rf = RandomForestClassifier(n_estimators=number, max_depth=depth, random_state=42)\n",
    "        rf.fit(X_smote, y_smote)\n",
    "        f1 = f1_score(y_valid, rf.predict(features_valid_enc))\n",
    "        if f1 > best_score:\n",
    "            best_score = f1\n",
    "            best_number = number\n",
    "            best_depth = depth\n",
    "\n",
    "print('Оптимальная глубина:', best_depth)\n",
    "print('Оптимальное количество деревьев:', best_number)\n",
    "print('Метрика F1:', best_score)"
   ]
  },
  {
   "cell_type": "code",
   "execution_count": 80,
   "id": "8dfcfb3a",
   "metadata": {},
   "outputs": [
    {
     "name": "stdout",
     "output_type": "stream",
     "text": [
      "F1-мера на тренировочной выборке: 0.6260445682451253\n",
      "F1-мера на валидационной выборке: 0.6031746031746031\n",
      "\n",
      "AUC-ROC на тренировочной выборке: 0.7892502392649342\n",
      "AUC-ROC на валидационной выборке: 0.7795841954872401\n"
     ]
    }
   ],
   "source": [
    "rf = RandomForestClassifier(n_estimators=80, max_depth=7, random_state=42)\n",
    "rf.fit(X_smote, y_smote)\n",
    "\n",
    "train_pred = rf.predict(features_train_enc)\n",
    "valid_pred = rf.predict(features_valid_enc)\n",
    "\n",
    "print('F1-мера на тренировочной выборке:', f1_score(y_train, train_pred))\n",
    "print('F1-мера на валидационной выборке:', f1_score(y_valid, valid_pred))\n",
    "print()\n",
    "print('AUC-ROC на тренировочной выборке:', roc_auc_score(y_train, train_pred))\n",
    "print('AUC-ROC на валидационной выборке:', roc_auc_score(y_valid, valid_pred))"
   ]
  },
  {
   "cell_type": "markdown",
   "id": "ba9ffe13",
   "metadata": {},
   "source": [
    "**Вывод:** При учете дисбалансса классов с помощью техники upsampling с использованием `SMOTE(k_neighbors=6, random_state=42)` лучший результат показывает модель случайного леса с параметрами:\n",
    "\n",
    "`RandomForestClassifier(\n",
    "    n_estimators=80,\n",
    "    max_depth=7,\n",
    "    random_state=42\n",
    ")`"
   ]
  },
  {
   "cell_type": "markdown",
   "id": "c11a4204",
   "metadata": {},
   "source": [
    "### Downsampling с помощью RandomUnderSampler"
   ]
  },
  {
   "cell_type": "code",
   "execution_count": 81,
   "id": "81319647",
   "metadata": {},
   "outputs": [
    {
     "data": {
      "text/plain": [
       "((2444, 11), (2444,))"
      ]
     },
     "execution_count": 81,
     "metadata": {},
     "output_type": "execute_result"
    }
   ],
   "source": [
    "rus = RandomUnderSampler(random_state=42)\n",
    "X_rus, y_rus = rus.fit_resample(features_train_enc, y_train)\n",
    "X_rus.shape, y_rus.shape"
   ]
  },
  {
   "cell_type": "code",
   "execution_count": 82,
   "id": "7cf8efb3",
   "metadata": {},
   "outputs": [
    {
     "data": {
      "text/html": [
       "<div>\n",
       "<style scoped>\n",
       "    .dataframe tbody tr th:only-of-type {\n",
       "        vertical-align: middle;\n",
       "    }\n",
       "\n",
       "    .dataframe tbody tr th {\n",
       "        vertical-align: top;\n",
       "    }\n",
       "\n",
       "    .dataframe thead th {\n",
       "        text-align: right;\n",
       "    }\n",
       "</style>\n",
       "<table border=\"1\" class=\"dataframe\">\n",
       "  <thead>\n",
       "    <tr style=\"text-align: right;\">\n",
       "      <th></th>\n",
       "      <th>geography_Germany</th>\n",
       "      <th>geography_Spain</th>\n",
       "      <th>gender_Male</th>\n",
       "      <th>credit_score</th>\n",
       "      <th>age</th>\n",
       "      <th>tenure</th>\n",
       "      <th>balance</th>\n",
       "      <th>num_of_products</th>\n",
       "      <th>has_cr_card</th>\n",
       "      <th>is_active_member</th>\n",
       "      <th>estimated_salary</th>\n",
       "    </tr>\n",
       "  </thead>\n",
       "  <tbody>\n",
       "    <tr>\n",
       "      <th>0</th>\n",
       "      <td>1</td>\n",
       "      <td>0</td>\n",
       "      <td>1</td>\n",
       "      <td>-1.594984</td>\n",
       "      <td>-1.427010</td>\n",
       "      <td>0.361230</td>\n",
       "      <td>0.570849</td>\n",
       "      <td>0.783996</td>\n",
       "      <td>0.640913</td>\n",
       "      <td>-1.033563</td>\n",
       "      <td>-0.761112</td>\n",
       "    </tr>\n",
       "    <tr>\n",
       "      <th>1</th>\n",
       "      <td>0</td>\n",
       "      <td>0</td>\n",
       "      <td>1</td>\n",
       "      <td>0.727798</td>\n",
       "      <td>0.199976</td>\n",
       "      <td>-1.089979</td>\n",
       "      <td>-1.220584</td>\n",
       "      <td>0.783996</td>\n",
       "      <td>0.640913</td>\n",
       "      <td>-1.033563</td>\n",
       "      <td>1.196919</td>\n",
       "    </tr>\n",
       "    <tr>\n",
       "      <th>2</th>\n",
       "      <td>1</td>\n",
       "      <td>0</td>\n",
       "      <td>0</td>\n",
       "      <td>-0.101767</td>\n",
       "      <td>-0.182844</td>\n",
       "      <td>0.724032</td>\n",
       "      <td>-0.211228</td>\n",
       "      <td>0.783996</td>\n",
       "      <td>-1.560275</td>\n",
       "      <td>0.967527</td>\n",
       "      <td>-1.054621</td>\n",
       "    </tr>\n",
       "    <tr>\n",
       "      <th>3</th>\n",
       "      <td>0</td>\n",
       "      <td>0</td>\n",
       "      <td>0</td>\n",
       "      <td>-1.346114</td>\n",
       "      <td>0.199976</td>\n",
       "      <td>-1.089979</td>\n",
       "      <td>-1.220584</td>\n",
       "      <td>0.783996</td>\n",
       "      <td>0.640913</td>\n",
       "      <td>0.967527</td>\n",
       "      <td>0.236200</td>\n",
       "    </tr>\n",
       "    <tr>\n",
       "      <th>4</th>\n",
       "      <td>0</td>\n",
       "      <td>1</td>\n",
       "      <td>1</td>\n",
       "      <td>0.250798</td>\n",
       "      <td>-0.278549</td>\n",
       "      <td>1.449637</td>\n",
       "      <td>0.481436</td>\n",
       "      <td>-0.919109</td>\n",
       "      <td>-1.560275</td>\n",
       "      <td>0.967527</td>\n",
       "      <td>-1.333827</td>\n",
       "    </tr>\n",
       "  </tbody>\n",
       "</table>\n",
       "</div>"
      ],
      "text/plain": [
       "   geography_Germany  geography_Spain  gender_Male  credit_score       age  \\\n",
       "0                  1                0            1     -1.594984 -1.427010   \n",
       "1                  0                0            1      0.727798  0.199976   \n",
       "2                  1                0            0     -0.101767 -0.182844   \n",
       "3                  0                0            0     -1.346114  0.199976   \n",
       "4                  0                1            1      0.250798 -0.278549   \n",
       "\n",
       "     tenure   balance  num_of_products  has_cr_card  is_active_member  \\\n",
       "0  0.361230  0.570849         0.783996     0.640913         -1.033563   \n",
       "1 -1.089979 -1.220584         0.783996     0.640913         -1.033563   \n",
       "2  0.724032 -0.211228         0.783996    -1.560275          0.967527   \n",
       "3 -1.089979 -1.220584         0.783996     0.640913          0.967527   \n",
       "4  1.449637  0.481436        -0.919109    -1.560275          0.967527   \n",
       "\n",
       "   estimated_salary  \n",
       "0         -0.761112  \n",
       "1          1.196919  \n",
       "2         -1.054621  \n",
       "3          0.236200  \n",
       "4         -1.333827  "
      ]
     },
     "execution_count": 82,
     "metadata": {},
     "output_type": "execute_result"
    }
   ],
   "source": [
    "X_rus.head()"
   ]
  },
  {
   "cell_type": "code",
   "execution_count": 83,
   "id": "7d5baadc",
   "metadata": {},
   "outputs": [
    {
     "data": {
      "text/plain": [
       "0    0\n",
       "1    0\n",
       "2    0\n",
       "3    0\n",
       "4    0\n",
       "Name: exited, dtype: int64"
      ]
     },
     "execution_count": 83,
     "metadata": {},
     "output_type": "execute_result"
    }
   ],
   "source": [
    "y_rus.head()"
   ]
  },
  {
   "cell_type": "markdown",
   "id": "0ebd9d4e",
   "metadata": {},
   "source": [
    "#### Логистическая регрессия"
   ]
  },
  {
   "cell_type": "code",
   "execution_count": 84,
   "id": "24a73434",
   "metadata": {},
   "outputs": [
    {
     "name": "stdout",
     "output_type": "stream",
     "text": [
      "Оптимальный параметр регуляризации: 0.1\n",
      "Метрика F1: 0.5184563758389261\n"
     ]
    }
   ],
   "source": [
    "best_score = 0\n",
    "best_С = 0\n",
    "for c in np.arange(0.1, 2.0, 0.1):\n",
    "    log_reg = LogisticRegression(solver='liblinear', C=c, random_state=42)\n",
    "    log_reg.fit(X_rus, y_rus)\n",
    "    f1 = f1_score(y_valid, log_reg.predict(features_valid_enc))\n",
    "    if f1 > best_score:\n",
    "        best_score = f1\n",
    "        best_C = c\n",
    "\n",
    "print('Оптимальный параметр регуляризации:', best_C)\n",
    "print('Метрика F1:', best_score)"
   ]
  },
  {
   "cell_type": "code",
   "execution_count": 85,
   "id": "bd693d9c",
   "metadata": {},
   "outputs": [
    {
     "name": "stdout",
     "output_type": "stream",
     "text": [
      "F1-мера на тренировочной выборке: 0.48729792147806006\n",
      "F1-мера на валидационной выборке: 0.5184563758389261\n",
      "\n",
      "AUC-ROC на тренировочной выборке: 0.6990399944097299\n",
      "AUC-ROC на валидационной выборке: 0.7294930535028081\n"
     ]
    }
   ],
   "source": [
    "log_reg = LogisticRegression(solver='liblinear', C=0.1, random_state=42)\n",
    "log_reg.fit(X_rus, y_rus)\n",
    "\n",
    "train_pred = log_reg.predict(features_train_enc)\n",
    "valid_pred = log_reg.predict(features_valid_enc)\n",
    "\n",
    "print('F1-мера на тренировочной выборке:', f1_score(y_train, train_pred))\n",
    "print('F1-мера на валидационной выборке:', f1_score(y_valid, valid_pred))\n",
    "print()\n",
    "print('AUC-ROC на тренировочной выборке:', roc_auc_score(y_train, train_pred))\n",
    "print('AUC-ROC на валидационной выборке:', roc_auc_score(y_valid, valid_pred))"
   ]
  },
  {
   "cell_type": "markdown",
   "id": "5e045797",
   "metadata": {},
   "source": [
    "Логистическая регрессия вновь показала невысокий результат"
   ]
  },
  {
   "cell_type": "markdown",
   "id": "c842261d",
   "metadata": {},
   "source": [
    "#### Решающее дерево"
   ]
  },
  {
   "cell_type": "code",
   "execution_count": 86,
   "id": "d225761f",
   "metadata": {},
   "outputs": [
    {
     "name": "stdout",
     "output_type": "stream",
     "text": [
      "Оптимальная глубина: 6\n",
      "Метрика F1: 0.5941499085923218\n"
     ]
    }
   ],
   "source": [
    "best_score = 0\n",
    "best_depth = 0\n",
    "for depth in range(1, 12):\n",
    "    tree = DecisionTreeClassifier(max_depth=depth, random_state=42)\n",
    "    tree.fit(X_rus, y_rus)\n",
    "    f1 = f1_score(y_valid, tree.predict(features_valid_enc))\n",
    "    if f1 > best_score:\n",
    "        best_score = f1\n",
    "        best_depth = depth\n",
    "\n",
    "print('Оптимальная глубина:', best_depth)\n",
    "print('Метрика F1:', best_score)"
   ]
  },
  {
   "cell_type": "code",
   "execution_count": 87,
   "id": "eb20176f",
   "metadata": {},
   "outputs": [
    {
     "name": "stdout",
     "output_type": "stream",
     "text": [
      "F1-мера на тренировочной выборке: 0.5942307692307692\n",
      "F1-мера на валидационной выборке: 0.5941499085923218\n",
      "\n",
      "AUC-ROC на тренировочной выборке: 0.7776846827281889\n",
      "AUC-ROC на валидационной выборке: 0.7849049167405655\n"
     ]
    }
   ],
   "source": [
    "tree = DecisionTreeClassifier(max_depth=6, random_state=42)\n",
    "tree.fit(X_rus, y_rus)\n",
    "\n",
    "train_pred = tree.predict(features_train_enc)\n",
    "valid_pred = tree.predict(features_valid_enc)\n",
    "\n",
    "print('F1-мера на тренировочной выборке:', f1_score(y_train, train_pred))\n",
    "print('F1-мера на валидационной выборке:', f1_score(y_valid, valid_pred))\n",
    "print()\n",
    "print('AUC-ROC на тренировочной выборке:', roc_auc_score(y_train, train_pred))\n",
    "print('AUC-ROC на валидационной выборке:', roc_auc_score(y_valid, valid_pred))"
   ]
  },
  {
   "cell_type": "markdown",
   "id": "481f41aa",
   "metadata": {},
   "source": [
    "Дерево лучше, чем регрессия. Причем оно даже не переобучено, судя по всему. Но результаты близки к пороговым"
   ]
  },
  {
   "cell_type": "markdown",
   "id": "ff78431a",
   "metadata": {},
   "source": [
    "#### Случайный лес"
   ]
  },
  {
   "cell_type": "code",
   "execution_count": 88,
   "id": "9235fa28",
   "metadata": {},
   "outputs": [
    {
     "name": "stdout",
     "output_type": "stream",
     "text": [
      "Оптимальная глубина: 6\n",
      "Оптимальное количество деревьев: 90\n",
      "Метрика F1: 0.6150907354345748\n"
     ]
    }
   ],
   "source": [
    "# max_features принимает значение по умолчанию\n",
    "best_score = 0\n",
    "best_number = 0\n",
    "best_depth = 0\n",
    "for number in range(10, 151, 10):\n",
    "    for depth in range(1, 12):\n",
    "        rf = RandomForestClassifier(n_estimators=number, max_depth=depth, random_state=42)\n",
    "        rf.fit(X_rus, y_rus)\n",
    "        f1 = f1_score(y_valid, rf.predict(features_valid_enc))\n",
    "        if f1 > best_score:\n",
    "            best_score = f1\n",
    "            best_number = number\n",
    "            best_depth = depth\n",
    "\n",
    "print('Оптимальная глубина:', best_depth)\n",
    "print('Оптимальное количество деревьев:', best_number)\n",
    "print('Метрика F1:', best_score)"
   ]
  },
  {
   "cell_type": "code",
   "execution_count": 89,
   "id": "df132099",
   "metadata": {},
   "outputs": [
    {
     "name": "stdout",
     "output_type": "stream",
     "text": [
      "F1-мера на тренировочной выборке: 0.6211424819435325\n",
      "F1-мера на валидационной выборке: 0.6150907354345748\n",
      "\n",
      "AUC-ROC на тренировочной выборке: 0.7951909289645189\n",
      "AUC-ROC на валидационной выборке: 0.7950475416297171\n"
     ]
    }
   ],
   "source": [
    "rf = RandomForestClassifier(n_estimators=90, max_depth=6, random_state=42)\n",
    "rf.fit(X_rus, y_rus)\n",
    "\n",
    "train_pred = rf.predict(features_train_enc)\n",
    "valid_pred = rf.predict(features_valid_enc)\n",
    "\n",
    "print('F1-мера на тренировочной выборке:', f1_score(y_train, train_pred))\n",
    "print('F1-мера на валидационной выборке:', f1_score(y_valid, valid_pred))\n",
    "print()\n",
    "print('AUC-ROC на тренировочной выборке:', roc_auc_score(y_train, train_pred))\n",
    "print('AUC-ROC на валидационной выборке:', roc_auc_score(y_valid, valid_pred))"
   ]
  },
  {
   "cell_type": "markdown",
   "id": "6f984c59",
   "metadata": {},
   "source": [
    "Случайный лес не переобучился, как и решающее дерево, но его результаты получше."
   ]
  },
  {
   "cell_type": "markdown",
   "id": "9094c5ab",
   "metadata": {},
   "source": [
    "**Вывод:** При учете дисбалансса классов с помощью техники downsampling с использованием `RandomUnderSampler` лучший результат показывает модель случайного леса с параметрами:\n",
    "\n",
    "`RandomForestClassifier(\n",
    "    n_estimators=90,\n",
    "    max_depth=6,\n",
    "    random_state=42\n",
    ")`"
   ]
  },
  {
   "cell_type": "markdown",
   "id": "a225ed23",
   "metadata": {},
   "source": [
    "## Выбор нескольких лучших моделей и итоговое тестирование"
   ]
  },
  {
   "cell_type": "markdown",
   "id": "214f404a",
   "metadata": {},
   "source": [
    "Подведем предварительные итоги.\n",
    "\n",
    "Модели, которые не учитывают дисбаланс классов, справляются с задачей хуже, чем модели, учитывающие этот момент. Хочется отметить, что \"деревянные\" модели показывают более высокие результаты, чем модели логистической регрессии, однако логистическая регрессия более устойчива к переобучению.\n",
    "\n",
    "В ходе исследования были опробованы несколько техник учета дисбаланса классов: установка параметра `class_weight='balanced'`, upsampling, downsampling и изменение порога классификации у логистической регрессии. Техники upsampling и downsampling были реализованы двумя способами: вручную и с помощью библиотеки `imblearn`. В каждой из первых трех техник была выявлена своя лучшая модель, и именно эти модели мы возьмем для проведения итогового тестирования"
   ]
  },
  {
   "cell_type": "code",
   "execution_count": 90,
   "id": "8d4eca9d",
   "metadata": {},
   "outputs": [],
   "source": [
    "features_train = pd.concat([features_train_enc, features_valid_enc]).reset_index(drop=True)\n",
    "target_train = pd.concat([y_train, y_valid]).reset_index(drop=True)\n",
    "\n",
    "#features_test_enc, y_test - тестовый набор данных"
   ]
  },
  {
   "cell_type": "markdown",
   "id": "e0889766",
   "metadata": {},
   "source": [
    "### Balanced class weight"
   ]
  },
  {
   "cell_type": "code",
   "execution_count": 91,
   "id": "426d8213",
   "metadata": {
    "scrolled": true
   },
   "outputs": [
    {
     "name": "stdout",
     "output_type": "stream",
     "text": [
      "F1-мера на тренировочной выборке: 0.6447916666666668\n",
      "F1-мера на тестовой выборке: 0.5947643979057591\n",
      "\n",
      "AUC-ROC на тренировочной выборке: 0.8034594677890033\n",
      "AUC-ROC на тестовой выборке: 0.7660318253538594\n"
     ]
    }
   ],
   "source": [
    "rf = RandomForestClassifier(n_estimators=20, max_depth=7, class_weight='balanced', random_state=42)\n",
    "rf.fit(features_train, target_train)\n",
    "\n",
    "train_pred = rf.predict(features_train)\n",
    "test_pred = rf.predict(features_test_enc)\n",
    "\n",
    "print('F1-мера на тренировочной выборке:', f1_score(target_train, train_pred))\n",
    "print('F1-мера на тестовой выборке:', f1_score(y_test, test_pred))\n",
    "print()\n",
    "print('AUC-ROC на тренировочной выборке:', roc_auc_score(target_train, train_pred))\n",
    "print('AUC-ROC на тестовой выборке:', roc_auc_score(y_test, test_pred))"
   ]
  },
  {
   "cell_type": "markdown",
   "id": "41a49383",
   "metadata": {},
   "source": [
    "### Upsampling \"руками\""
   ]
  },
  {
   "cell_type": "code",
   "execution_count": 92,
   "id": "384c069b",
   "metadata": {},
   "outputs": [],
   "source": [
    "# Разделение обучающей выборки на \"положительные\" и \"отрицательные\" объекты\n",
    "features_zeros = features_train[target_train == 0]\n",
    "features_ones = features_train[target_train == 1]\n",
    "target_zeros = target_train[target_train == 0]\n",
    "target_ones = target_train[target_train == 1]\n",
    "\n",
    "# Собственно downsampling\n",
    "X_upsampled = pd.concat([features_zeros] + [features_ones] * 4)\n",
    "y_upsampled = pd.concat([target_zeros] + [target_ones] * 4)\n",
    "\n",
    "# Перемешивание данных\n",
    "X_upsampled, y_upsampled = shuffle(X_upsampled, y_upsampled, random_state=42)"
   ]
  },
  {
   "cell_type": "code",
   "execution_count": 93,
   "id": "1d4d25d8",
   "metadata": {},
   "outputs": [
    {
     "name": "stdout",
     "output_type": "stream",
     "text": [
      "F1-мера на тренировочной выборке: 0.7633342267488609\n",
      "F1-мера на тестовой выборке: 0.6131868131868132\n",
      "\n",
      "AUC-ROC на тренировочной выборке: 0.8836700985254885\n",
      "AUC-ROC на тестовой выборке: 0.7724442470205182\n"
     ]
    }
   ],
   "source": [
    "rf = RandomForestClassifier(\n",
    "    n_estimators=130,\n",
    "    max_depth=10,\n",
    "    min_samples_leaf=2,\n",
    "    random_state=42\n",
    ")\n",
    "rf.fit(X_upsampled, y_upsampled)\n",
    "\n",
    "train_pred = rf.predict(features_train)\n",
    "test_pred = rf.predict(features_test_enc)\n",
    "\n",
    "print('F1-мера на тренировочной выборке:', f1_score(target_train, train_pred))\n",
    "print('F1-мера на тестовой выборке:', f1_score(y_test, test_pred))\n",
    "print()\n",
    "print('AUC-ROC на тренировочной выборке:', roc_auc_score(target_train, train_pred))\n",
    "print('AUC-ROC на тестовой выборке:', roc_auc_score(y_test, test_pred))"
   ]
  },
  {
   "cell_type": "markdown",
   "id": "5edef8cf",
   "metadata": {},
   "source": [
    "### Upsampling с помощью SMOTE"
   ]
  },
  {
   "cell_type": "code",
   "execution_count": 94,
   "id": "9aaadde8",
   "metadata": {},
   "outputs": [],
   "source": [
    "sm = SMOTE(k_neighbors=6, random_state=42)\n",
    "X_smote, y_smote = sm.fit_resample(features_train, target_train)"
   ]
  },
  {
   "cell_type": "code",
   "execution_count": 95,
   "id": "f3b6165d",
   "metadata": {},
   "outputs": [
    {
     "name": "stdout",
     "output_type": "stream",
     "text": [
      "F1-мера на тренировочной выборке: 0.6260778677815522\n",
      "F1-мера на тестовой выборке: 0.5991471215351812\n",
      "\n",
      "AUC-ROC на тренировочной выборке: 0.7890702198765301\n",
      "AUC-ROC на тестовой выборке: 0.7667405464015633\n"
     ]
    }
   ],
   "source": [
    "rf = RandomForestClassifier(\n",
    "    n_estimators=80,\n",
    "    max_depth=7,\n",
    "    random_state=42\n",
    ")\n",
    "rf.fit(X_smote, y_smote)\n",
    "\n",
    "train_pred = rf.predict(features_train)\n",
    "test_pred = rf.predict(features_test_enc)\n",
    "\n",
    "print('F1-мера на тренировочной выборке:', f1_score(target_train, train_pred))\n",
    "print('F1-мера на тестовой выборке:', f1_score(y_test, test_pred))\n",
    "print()\n",
    "print('AUC-ROC на тренировочной выборке:', roc_auc_score(target_train, train_pred))\n",
    "print('AUC-ROC на тестовой выборке:', roc_auc_score(y_test, test_pred))"
   ]
  },
  {
   "cell_type": "markdown",
   "id": "e422d1ee",
   "metadata": {},
   "source": [
    "### Downsampling \"руками\""
   ]
  },
  {
   "cell_type": "code",
   "execution_count": 96,
   "id": "d12dae29",
   "metadata": {},
   "outputs": [],
   "source": [
    "# Разделение обучающей выборки на \"положительные\" и \"отрицательные\" объекты\n",
    "features_zeros = features_train[target_train == 0]\n",
    "features_ones = features_train[target_train == 1]\n",
    "target_zeros = target_train[target_train == 0]\n",
    "target_ones = target_train[target_train == 1]\n",
    "\n",
    "# Собственно downsampling\n",
    "X_downsampled = pd.concat([features_zeros.sample(frac=0.25, random_state=42)] + [features_ones])\n",
    "y_downsampled = pd.concat([target_zeros.sample(frac=0.25, random_state=42)] + [target_ones])\n",
    "\n",
    "# Перемешивание данных\n",
    "X_downsampled, y_downsampled = shuffle(X_downsampled, y_downsampled, random_state=42)"
   ]
  },
  {
   "cell_type": "code",
   "execution_count": 97,
   "id": "aa8c5e20",
   "metadata": {},
   "outputs": [
    {
     "name": "stdout",
     "output_type": "stream",
     "text": [
      "F1-мера на тренировочной выборке: 0.6158315177923022\n",
      "F1-мера на тестовой выборке: 0.5717073170731707\n",
      "\n",
      "AUC-ROC на тренировочной выборке: 0.7937162311833653\n",
      "AUC-ROC на тестовой выборке: 0.7579420715013935\n"
     ]
    }
   ],
   "source": [
    "rf = RandomForestClassifier(\n",
    "    n_estimators=90,\n",
    "    max_depth=6,\n",
    "    max_features=4,\n",
    "    random_state=42\n",
    ")\n",
    "rf.fit(X_downsampled, y_downsampled)\n",
    "\n",
    "train_pred = rf.predict(features_train)\n",
    "test_pred = rf.predict(features_test_enc)\n",
    "\n",
    "print('F1-мера на тренировочной выборке:', f1_score(target_train, train_pred))\n",
    "print('F1-мера на тестовой выборке:', f1_score(y_test, test_pred))\n",
    "print()\n",
    "print('AUC-ROC на тренировочной выборке:', roc_auc_score(target_train, train_pred))\n",
    "print('AUC-ROC на тестовой выборке:', roc_auc_score(y_test, test_pred))"
   ]
  },
  {
   "cell_type": "markdown",
   "id": "65b4ede2",
   "metadata": {},
   "source": [
    "### Downsampling с помощью RandomUnderSampler"
   ]
  },
  {
   "cell_type": "code",
   "execution_count": 98,
   "id": "8c9f00c7",
   "metadata": {},
   "outputs": [],
   "source": [
    "rus = RandomUnderSampler(random_state=42)\n",
    "X_rus, y_rus = rus.fit_resample(features_train, target_train)"
   ]
  },
  {
   "cell_type": "code",
   "execution_count": 99,
   "id": "bc46c310",
   "metadata": {},
   "outputs": [
    {
     "name": "stdout",
     "output_type": "stream",
     "text": [
      "F1-мера на тренировочной выборке: 0.6211787723159697\n",
      "F1-мера на тестовой выборке: 0.5787401574803149\n",
      "\n",
      "AUC-ROC на тренировочной выборке: 0.7962424516762816\n",
      "AUC-ROC на тестовой выборке: 0.7623093046821859\n"
     ]
    }
   ],
   "source": [
    "rf = RandomForestClassifier(\n",
    "    n_estimators=90,\n",
    "    max_depth=6,\n",
    "    random_state=42\n",
    ")\n",
    "rf.fit(X_rus, y_rus)\n",
    "\n",
    "train_pred = rf.predict(features_train)\n",
    "test_pred = rf.predict(features_test_enc)\n",
    "\n",
    "print('F1-мера на тренировочной выборке:', f1_score(target_train, train_pred))\n",
    "print('F1-мера на тестовой выборке:', f1_score(y_test, test_pred))\n",
    "print()\n",
    "print('AUC-ROC на тренировочной выборке:', roc_auc_score(target_train, train_pred))\n",
    "print('AUC-ROC на тестовой выборке:', roc_auc_score(y_test, test_pred))"
   ]
  },
  {
   "cell_type": "markdown",
   "id": "4b4b9a5a",
   "metadata": {},
   "source": [
    "## Вывод"
   ]
  },
  {
   "cell_type": "markdown",
   "id": "abb34914",
   "metadata": {},
   "source": [
    "1) По итогам тестирования можно сказать следующее: самый лучший по метрикам результат показала модель случайного леса с техникой upsampling \"руками\" (однако она в какой-то степени переобучена), на втором месте - случайный лес с техникой upsampling с помощью `SMOTE` (тут метрики пониже, чем в первом случае, но зато нет переобучения), на третьем - случайный лес с параметром `class_weight='balanced'`, за ними следуют оба варианта техники downsampling (которые, кстати, оба не переобучились, но их результат немного ниже порогового)\n",
    "\n",
    "2) Что касается логистической регрессии, тут ситуация следующая: были испробованы 4 техники учета дисбаланса классов: параметр `class_weight='balanced'`, upsampling, downsampling и изменение порога классификации. Все они показали примерно одинаковый довольно низкий результат (F1-мера около 0.48-0.52).\n",
    "\n",
    "3) У всех моделей, взятых в итоговое тестирование метрика AUC-ROC довольно высокая, причем ее значения ближе к 1, чем значения F1-меры."
   ]
  },
  {
   "cell_type": "code",
   "execution_count": null,
   "id": "c5c448b7",
   "metadata": {},
   "outputs": [],
   "source": []
  }
 ],
 "metadata": {
  "ExecuteTimeLog": [
   {
    "duration": 2192,
    "start_time": "2023-01-28T09:02:15.327Z"
   },
   {
    "duration": 203,
    "start_time": "2023-01-28T09:02:17.523Z"
   },
   {
    "duration": 22,
    "start_time": "2023-01-28T09:02:18.233Z"
   }
  ],
  "kernelspec": {
   "display_name": "Python 3 (ipykernel)",
   "language": "python",
   "name": "python3"
  },
  "language_info": {
   "codemirror_mode": {
    "name": "ipython",
    "version": 3
   },
   "file_extension": ".py",
   "mimetype": "text/x-python",
   "name": "python",
   "nbconvert_exporter": "python",
   "pygments_lexer": "ipython3",
   "version": "3.9.12"
  },
  "toc": {
   "base_numbering": 1,
   "nav_menu": {},
   "number_sections": true,
   "sideBar": true,
   "skip_h1_title": true,
   "title_cell": "Table of Contents",
   "title_sidebar": "Contents",
   "toc_cell": false,
   "toc_position": {},
   "toc_section_display": true,
   "toc_window_display": false
  }
 },
 "nbformat": 4,
 "nbformat_minor": 5
}
