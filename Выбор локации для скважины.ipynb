{
 "cells": [
  {
   "cell_type": "markdown",
   "id": "ec99cc1f",
   "metadata": {},
   "source": [
    "# Выбор локации для скважины"
   ]
  },
  {
   "cell_type": "markdown",
   "id": "770a5b22",
   "metadata": {},
   "source": [
    "## Описание задачи и данных\n",
    "\n",
    "**Задача:**\n",
    "\n",
    "Компании «ГлавРосГосНефть» нужно решить, где бурить новую скважину. Имеются пробы нефти в трёх регионах. Характеристики для каждой скважины в регионе уже известны. Необходимо построить модель для определения региона, где добыча принесёт наибольшую прибыль.\n",
    "\n",
    "**Описание данных:**\n",
    "* `id` — уникальный идентификатор скважины\n",
    "\n",
    "* `f0, f1, f2` — три признака точек (неважно, что они означают, но сами признаки значимы)\n",
    "\n",
    "* `product` — объём запасов в скважине (тыс. баррелей)\n",
    "\n",
    "**Условия:**\n",
    "* Для обучения модели подходит только линейная регрессия (остальные — недостаточно предсказуемые).\n",
    "\n",
    "* При разведке региона исследуют 500 точек, из которых с помощью машинного обучения выбирают 200 лучших для разработки.\n",
    "\n",
    "* Бюджет на разработку скважин в регионе — 10 млрд рублей.\n",
    "\n",
    "* При нынешних ценах один баррель сырья приносит 450 рублей дохода. Доход с каждой единицы продукта составляет 450 тыс. рублей, поскольку объём указан в тысячах баррелей.\n",
    "\n",
    "* После оценки рисков нужно оставить лишь те регионы, в которых вероятность убытков меньше 2.5%. Среди них выбирают регион с наибольшей средней прибылью."
   ]
  },
  {
   "cell_type": "markdown",
   "id": "a5f48c75",
   "metadata": {},
   "source": [
    "## Импорт библиотек, загрузка данных и изучение общей информации о них"
   ]
  },
  {
   "cell_type": "code",
   "execution_count": 23,
   "id": "dffc34c3",
   "metadata": {},
   "outputs": [],
   "source": [
    "import pandas as pd\n",
    "import numpy as np\n",
    "from numpy.random import RandomState\n",
    "\n",
    "from sklearn.model_selection import train_test_split\n",
    "from sklearn.preprocessing import StandardScaler, MinMaxScaler\n",
    "from sklearn.metrics import mean_squared_error, r2_score\n",
    "\n",
    "from sklearn.linear_model import LinearRegression"
   ]
  },
  {
   "cell_type": "code",
   "execution_count": 49,
   "id": "2c13a358",
   "metadata": {},
   "outputs": [],
   "source": [
    "reg_1 = pd.read_csv('geo_data_0.csv')\n",
    "reg_2 = pd.read_csv('geo_data_1.csv')\n",
    "reg_3 = pd.read_csv('geo_data_2.csv')"
   ]
  },
  {
   "cell_type": "code",
   "execution_count": 50,
   "id": "2d47e979",
   "metadata": {},
   "outputs": [
    {
     "data": {
      "text/html": [
       "<div>\n",
       "<style scoped>\n",
       "    .dataframe tbody tr th:only-of-type {\n",
       "        vertical-align: middle;\n",
       "    }\n",
       "\n",
       "    .dataframe tbody tr th {\n",
       "        vertical-align: top;\n",
       "    }\n",
       "\n",
       "    .dataframe thead th {\n",
       "        text-align: right;\n",
       "    }\n",
       "</style>\n",
       "<table border=\"1\" class=\"dataframe\">\n",
       "  <thead>\n",
       "    <tr style=\"text-align: right;\">\n",
       "      <th></th>\n",
       "      <th>id</th>\n",
       "      <th>f0</th>\n",
       "      <th>f1</th>\n",
       "      <th>f2</th>\n",
       "      <th>product</th>\n",
       "    </tr>\n",
       "  </thead>\n",
       "  <tbody>\n",
       "    <tr>\n",
       "      <th>0</th>\n",
       "      <td>txEyH</td>\n",
       "      <td>0.705745</td>\n",
       "      <td>-0.497823</td>\n",
       "      <td>1.221170</td>\n",
       "      <td>105.280062</td>\n",
       "    </tr>\n",
       "    <tr>\n",
       "      <th>1</th>\n",
       "      <td>2acmU</td>\n",
       "      <td>1.334711</td>\n",
       "      <td>-0.340164</td>\n",
       "      <td>4.365080</td>\n",
       "      <td>73.037750</td>\n",
       "    </tr>\n",
       "    <tr>\n",
       "      <th>2</th>\n",
       "      <td>409Wp</td>\n",
       "      <td>1.022732</td>\n",
       "      <td>0.151990</td>\n",
       "      <td>1.419926</td>\n",
       "      <td>85.265647</td>\n",
       "    </tr>\n",
       "    <tr>\n",
       "      <th>3</th>\n",
       "      <td>iJLyR</td>\n",
       "      <td>-0.032172</td>\n",
       "      <td>0.139033</td>\n",
       "      <td>2.978566</td>\n",
       "      <td>168.620776</td>\n",
       "    </tr>\n",
       "    <tr>\n",
       "      <th>4</th>\n",
       "      <td>Xdl7t</td>\n",
       "      <td>1.988431</td>\n",
       "      <td>0.155413</td>\n",
       "      <td>4.751769</td>\n",
       "      <td>154.036647</td>\n",
       "    </tr>\n",
       "  </tbody>\n",
       "</table>\n",
       "</div>"
      ],
      "text/plain": [
       "      id        f0        f1        f2     product\n",
       "0  txEyH  0.705745 -0.497823  1.221170  105.280062\n",
       "1  2acmU  1.334711 -0.340164  4.365080   73.037750\n",
       "2  409Wp  1.022732  0.151990  1.419926   85.265647\n",
       "3  iJLyR -0.032172  0.139033  2.978566  168.620776\n",
       "4  Xdl7t  1.988431  0.155413  4.751769  154.036647"
      ]
     },
     "execution_count": 50,
     "metadata": {},
     "output_type": "execute_result"
    }
   ],
   "source": [
    "reg_1.head()"
   ]
  },
  {
   "cell_type": "code",
   "execution_count": 51,
   "id": "4718c86f",
   "metadata": {},
   "outputs": [
    {
     "name": "stdout",
     "output_type": "stream",
     "text": [
      "<class 'pandas.core.frame.DataFrame'>\n",
      "RangeIndex: 100000 entries, 0 to 99999\n",
      "Data columns (total 5 columns):\n",
      " #   Column   Non-Null Count   Dtype  \n",
      "---  ------   --------------   -----  \n",
      " 0   id       100000 non-null  object \n",
      " 1   f0       100000 non-null  float64\n",
      " 2   f1       100000 non-null  float64\n",
      " 3   f2       100000 non-null  float64\n",
      " 4   product  100000 non-null  float64\n",
      "dtypes: float64(4), object(1)\n",
      "memory usage: 3.8+ MB\n"
     ]
    }
   ],
   "source": [
    "reg_1.info()"
   ]
  },
  {
   "cell_type": "code",
   "execution_count": 52,
   "id": "5abda942",
   "metadata": {},
   "outputs": [
    {
     "data": {
      "text/html": [
       "<div>\n",
       "<style scoped>\n",
       "    .dataframe tbody tr th:only-of-type {\n",
       "        vertical-align: middle;\n",
       "    }\n",
       "\n",
       "    .dataframe tbody tr th {\n",
       "        vertical-align: top;\n",
       "    }\n",
       "\n",
       "    .dataframe thead th {\n",
       "        text-align: right;\n",
       "    }\n",
       "</style>\n",
       "<table border=\"1\" class=\"dataframe\">\n",
       "  <thead>\n",
       "    <tr style=\"text-align: right;\">\n",
       "      <th></th>\n",
       "      <th>id</th>\n",
       "      <th>f0</th>\n",
       "      <th>f1</th>\n",
       "      <th>f2</th>\n",
       "      <th>product</th>\n",
       "    </tr>\n",
       "  </thead>\n",
       "  <tbody>\n",
       "    <tr>\n",
       "      <th>0</th>\n",
       "      <td>kBEdx</td>\n",
       "      <td>-15.001348</td>\n",
       "      <td>-8.276000</td>\n",
       "      <td>-0.005876</td>\n",
       "      <td>3.179103</td>\n",
       "    </tr>\n",
       "    <tr>\n",
       "      <th>1</th>\n",
       "      <td>62mP7</td>\n",
       "      <td>14.272088</td>\n",
       "      <td>-3.475083</td>\n",
       "      <td>0.999183</td>\n",
       "      <td>26.953261</td>\n",
       "    </tr>\n",
       "    <tr>\n",
       "      <th>2</th>\n",
       "      <td>vyE1P</td>\n",
       "      <td>6.263187</td>\n",
       "      <td>-5.948386</td>\n",
       "      <td>5.001160</td>\n",
       "      <td>134.766305</td>\n",
       "    </tr>\n",
       "    <tr>\n",
       "      <th>3</th>\n",
       "      <td>KcrkZ</td>\n",
       "      <td>-13.081196</td>\n",
       "      <td>-11.506057</td>\n",
       "      <td>4.999415</td>\n",
       "      <td>137.945408</td>\n",
       "    </tr>\n",
       "    <tr>\n",
       "      <th>4</th>\n",
       "      <td>AHL4O</td>\n",
       "      <td>12.702195</td>\n",
       "      <td>-8.147433</td>\n",
       "      <td>5.004363</td>\n",
       "      <td>134.766305</td>\n",
       "    </tr>\n",
       "  </tbody>\n",
       "</table>\n",
       "</div>"
      ],
      "text/plain": [
       "      id         f0         f1        f2     product\n",
       "0  kBEdx -15.001348  -8.276000 -0.005876    3.179103\n",
       "1  62mP7  14.272088  -3.475083  0.999183   26.953261\n",
       "2  vyE1P   6.263187  -5.948386  5.001160  134.766305\n",
       "3  KcrkZ -13.081196 -11.506057  4.999415  137.945408\n",
       "4  AHL4O  12.702195  -8.147433  5.004363  134.766305"
      ]
     },
     "execution_count": 52,
     "metadata": {},
     "output_type": "execute_result"
    }
   ],
   "source": [
    "reg_2.head()"
   ]
  },
  {
   "cell_type": "code",
   "execution_count": 53,
   "id": "8d375853",
   "metadata": {},
   "outputs": [
    {
     "name": "stdout",
     "output_type": "stream",
     "text": [
      "<class 'pandas.core.frame.DataFrame'>\n",
      "RangeIndex: 100000 entries, 0 to 99999\n",
      "Data columns (total 5 columns):\n",
      " #   Column   Non-Null Count   Dtype  \n",
      "---  ------   --------------   -----  \n",
      " 0   id       100000 non-null  object \n",
      " 1   f0       100000 non-null  float64\n",
      " 2   f1       100000 non-null  float64\n",
      " 3   f2       100000 non-null  float64\n",
      " 4   product  100000 non-null  float64\n",
      "dtypes: float64(4), object(1)\n",
      "memory usage: 3.8+ MB\n"
     ]
    }
   ],
   "source": [
    "reg_2.info()"
   ]
  },
  {
   "cell_type": "code",
   "execution_count": 54,
   "id": "4eb2079c",
   "metadata": {},
   "outputs": [
    {
     "data": {
      "text/html": [
       "<div>\n",
       "<style scoped>\n",
       "    .dataframe tbody tr th:only-of-type {\n",
       "        vertical-align: middle;\n",
       "    }\n",
       "\n",
       "    .dataframe tbody tr th {\n",
       "        vertical-align: top;\n",
       "    }\n",
       "\n",
       "    .dataframe thead th {\n",
       "        text-align: right;\n",
       "    }\n",
       "</style>\n",
       "<table border=\"1\" class=\"dataframe\">\n",
       "  <thead>\n",
       "    <tr style=\"text-align: right;\">\n",
       "      <th></th>\n",
       "      <th>id</th>\n",
       "      <th>f0</th>\n",
       "      <th>f1</th>\n",
       "      <th>f2</th>\n",
       "      <th>product</th>\n",
       "    </tr>\n",
       "  </thead>\n",
       "  <tbody>\n",
       "    <tr>\n",
       "      <th>0</th>\n",
       "      <td>fwXo0</td>\n",
       "      <td>-1.146987</td>\n",
       "      <td>0.963328</td>\n",
       "      <td>-0.828965</td>\n",
       "      <td>27.758673</td>\n",
       "    </tr>\n",
       "    <tr>\n",
       "      <th>1</th>\n",
       "      <td>WJtFt</td>\n",
       "      <td>0.262778</td>\n",
       "      <td>0.269839</td>\n",
       "      <td>-2.530187</td>\n",
       "      <td>56.069697</td>\n",
       "    </tr>\n",
       "    <tr>\n",
       "      <th>2</th>\n",
       "      <td>ovLUW</td>\n",
       "      <td>0.194587</td>\n",
       "      <td>0.289035</td>\n",
       "      <td>-5.586433</td>\n",
       "      <td>62.871910</td>\n",
       "    </tr>\n",
       "    <tr>\n",
       "      <th>3</th>\n",
       "      <td>q6cA6</td>\n",
       "      <td>2.236060</td>\n",
       "      <td>-0.553760</td>\n",
       "      <td>0.930038</td>\n",
       "      <td>114.572842</td>\n",
       "    </tr>\n",
       "    <tr>\n",
       "      <th>4</th>\n",
       "      <td>WPMUX</td>\n",
       "      <td>-0.515993</td>\n",
       "      <td>1.716266</td>\n",
       "      <td>5.899011</td>\n",
       "      <td>149.600746</td>\n",
       "    </tr>\n",
       "  </tbody>\n",
       "</table>\n",
       "</div>"
      ],
      "text/plain": [
       "      id        f0        f1        f2     product\n",
       "0  fwXo0 -1.146987  0.963328 -0.828965   27.758673\n",
       "1  WJtFt  0.262778  0.269839 -2.530187   56.069697\n",
       "2  ovLUW  0.194587  0.289035 -5.586433   62.871910\n",
       "3  q6cA6  2.236060 -0.553760  0.930038  114.572842\n",
       "4  WPMUX -0.515993  1.716266  5.899011  149.600746"
      ]
     },
     "execution_count": 54,
     "metadata": {},
     "output_type": "execute_result"
    }
   ],
   "source": [
    "reg_3.head()"
   ]
  },
  {
   "cell_type": "code",
   "execution_count": 55,
   "id": "14283836",
   "metadata": {},
   "outputs": [
    {
     "name": "stdout",
     "output_type": "stream",
     "text": [
      "<class 'pandas.core.frame.DataFrame'>\n",
      "RangeIndex: 100000 entries, 0 to 99999\n",
      "Data columns (total 5 columns):\n",
      " #   Column   Non-Null Count   Dtype  \n",
      "---  ------   --------------   -----  \n",
      " 0   id       100000 non-null  object \n",
      " 1   f0       100000 non-null  float64\n",
      " 2   f1       100000 non-null  float64\n",
      " 3   f2       100000 non-null  float64\n",
      " 4   product  100000 non-null  float64\n",
      "dtypes: float64(4), object(1)\n",
      "memory usage: 3.8+ MB\n"
     ]
    }
   ],
   "source": [
    "reg_3.info()"
   ]
  },
  {
   "cell_type": "markdown",
   "id": "98dcad85",
   "metadata": {},
   "source": [
    "#### Работа с дубликатами"
   ]
  },
  {
   "cell_type": "code",
   "execution_count": 56,
   "id": "37f7badd",
   "metadata": {},
   "outputs": [
    {
     "name": "stdout",
     "output_type": "stream",
     "text": [
      "         id        f0        f1         f2     product\n",
      "931   HZww2  0.755284  0.368511   1.863211   30.681774\n",
      "7530  HZww2  1.061194 -0.373969  10.430210  158.828695\n",
      "\n",
      "          id        f0        f1        f2    product\n",
      "1364   bxg6G  0.411645  0.856830 -3.653440  73.604260\n",
      "41724  bxg6G -0.823752  0.546319  3.630479  93.007798\n",
      "\n",
      "          id        f0        f1        f2    product\n",
      "3389   A5aEY -0.039949  0.156872  0.209861  89.249364\n",
      "51970  A5aEY -0.180335  0.935548 -2.094773  33.020205\n",
      "\n",
      "          id        f0        f1        f2    product\n",
      "1949   QcMuo  0.506563 -0.323775 -2.215583  75.496502\n",
      "63593  QcMuo  0.635635 -0.473422  0.862670  64.578675\n",
      "\n",
      "          id        f0        f1        f2     product\n",
      "64022  74z30  0.741456  0.459229  5.153109  140.771492\n",
      "66136  74z30  1.084962 -0.312358  6.990771  127.643327\n",
      "\n",
      "          id        f0        f1        f2     product\n",
      "42529  AGS9W  1.454747 -0.479651  0.683380  126.370504\n",
      "69163  AGS9W -0.933795  0.116194 -3.655896   19.230453\n",
      "\n",
      "          id        f0        f1        f2    product\n",
      "21426  Tdehs  0.829407  0.298807 -0.049563  96.035308\n",
      "75715  Tdehs  0.112079  0.430296  3.218993  60.964018\n",
      "\n",
      "          id        f0        f1        f2     product\n",
      "16633  fiKDv  0.157341  1.028359  5.585586   95.817889\n",
      "90815  fiKDv  0.049883  0.841313  6.394613  137.346586\n",
      "\n",
      "          id        f0        f1        f2     product\n",
      "60140  TtcGQ  0.569276 -0.104876  6.440215   85.350186\n",
      "92341  TtcGQ  0.110711  1.022689  0.911381  101.318008\n",
      "\n",
      "          id        f0        f1         f2     product\n",
      "89582  bsk9y  0.398908 -0.400253  10.122376  163.433078\n",
      "97785  bsk9y  0.378429  0.005837   0.160827  160.637302\n",
      "\n"
     ]
    }
   ],
   "source": [
    "duplicated_ids = reg_1.loc[reg_1['id'].duplicated(), 'id']\n",
    "for i in duplicated_ids:\n",
    "    print(reg_1[reg_1['id'] == i])\n",
    "    print()"
   ]
  },
  {
   "cell_type": "markdown",
   "id": "02d208b2",
   "metadata": {},
   "source": [
    "В описании данных сказано, что столбец `'id'` содержит уникальный идентификатор скважины. Странно, что в файле `geo_data_0.csv`\n",
    "некоторые скважины встречаются дважды... Удалим их"
   ]
  },
  {
   "cell_type": "code",
   "execution_count": 57,
   "id": "7beedfe5",
   "metadata": {},
   "outputs": [],
   "source": [
    "for i in duplicated_ids:\n",
    "    reg_1 = reg_1.loc[reg_1['id'] != i].reset_index(drop=True)"
   ]
  },
  {
   "cell_type": "markdown",
   "id": "bcaeb17b",
   "metadata": {},
   "source": [
    "Аналогичным образом поступим и с другими двумя датафреймами"
   ]
  },
  {
   "cell_type": "code",
   "execution_count": 58,
   "id": "b975e02f",
   "metadata": {},
   "outputs": [
    {
     "name": "stdout",
     "output_type": "stream",
     "text": [
      "          id         f0        f1        f2    product\n",
      "1305   LHZR0  11.170835 -1.945066  3.002872  80.859783\n",
      "41906  LHZR0  -8.989672 -4.286607  2.009139  57.085625\n",
      "\n",
      "          id        f0        f1        f2     product\n",
      "2721   bfPNe -9.494442 -5.463692  4.006042  110.992147\n",
      "82178  bfPNe -6.202799 -4.820045  2.995107   84.038886\n",
      "\n",
      "          id         f0        f1        f2     product\n",
      "47591  wt4Uk  -9.091098 -8.109279 -0.002314    3.179103\n",
      "82873  wt4Uk  10.259972 -9.376355  4.994297  134.766305\n",
      "\n",
      "          id         f0         f1        f2     product\n",
      "5849   5ltQ6  -3.435401 -12.296043  1.999796   57.085625\n",
      "84461  5ltQ6  18.213839   2.191999  3.993869  107.813044\n",
      "\n"
     ]
    }
   ],
   "source": [
    "duplicated_ids = reg_2.loc[reg_2['id'].duplicated(), 'id']\n",
    "for i in duplicated_ids:\n",
    "    print(reg_2[reg_2['id'] == i])\n",
    "    print()"
   ]
  },
  {
   "cell_type": "code",
   "execution_count": 59,
   "id": "4bf4967a",
   "metadata": {},
   "outputs": [],
   "source": [
    "for i in duplicated_ids:\n",
    "    reg_2 = reg_2.loc[reg_2['id'] != i].reset_index(drop=True)"
   ]
  },
  {
   "cell_type": "code",
   "execution_count": 60,
   "id": "56d3aa47",
   "metadata": {},
   "outputs": [
    {
     "name": "stdout",
     "output_type": "stream",
     "text": [
      "          id        f0        f1        f2     product\n",
      "28039  xCHr8  1.633027  0.368135 -2.378367    6.120525\n",
      "43233  xCHr8 -0.847066  2.101796  5.597130  184.388641\n",
      "\n",
      "          id        f0        f1        f2     product\n",
      "11449  VF7Jo  2.122656 -0.858275  5.746001  181.716817\n",
      "49564  VF7Jo -0.883115  0.560537  0.723601  136.233420\n",
      "\n",
      "          id        f0        f1        f2     product\n",
      "45404  KUPhW  0.231846 -1.698941  4.990775   11.716299\n",
      "55967  KUPhW  1.211150  3.176408  5.543540  132.831802\n",
      "\n",
      "          id        f0        f1        f2     product\n",
      "44378  Vcm5J -1.229484 -2.439204  1.222909  137.968290\n",
      "95090  Vcm5J  2.587702  1.986875  2.482245   92.327572\n",
      "\n"
     ]
    }
   ],
   "source": [
    "duplicated_ids = reg_3.loc[reg_3['id'].duplicated(), 'id']\n",
    "for i in duplicated_ids:\n",
    "    print(reg_3[reg_3['id'] == i])\n",
    "    print()"
   ]
  },
  {
   "cell_type": "code",
   "execution_count": 61,
   "id": "2566c50e",
   "metadata": {},
   "outputs": [],
   "source": [
    "for i in duplicated_ids:\n",
    "    reg_3 = reg_3.loc[reg_3['id'] != i].reset_index(drop=True)"
   ]
  },
  {
   "cell_type": "markdown",
   "id": "6ece5ddb",
   "metadata": {},
   "source": [
    "## Подготовка данных и обучение моделей поочереди для всех регионов"
   ]
  },
  {
   "cell_type": "markdown",
   "id": "080e67e2",
   "metadata": {},
   "source": [
    "В наших данных нет пропусков, что уже хорошо. Категориальных столбцов у нас тоже нет, однако есть числовые: `f0, f1, f2`. Попробуем их масштабировать и для каждого региона посмотрим, какая модель лучше справляется: которая учится на масштабированных данных или которая учится на \"сырых\" данных. И последнее, касающееся предобработки: столбец, содержащий ID скважины не является информативным, поэтому использовать его для обучения моделей смысла нет."
   ]
  },
  {
   "cell_type": "markdown",
   "id": "bb30e1e6",
   "metadata": {},
   "source": [
    "<div class=\"alert alert-block alert-info\">\n",
    "<b>Совет:</b>  А изучить распределения данных? А корреляции? Изучение корреляций в данных очень важно для линейных моделей, потому что оно помогает оценить силу и направление связи между различными переменными в данных. Это может помочь избежать включения в модель переменных с высокой корреляцией между обучающими данными, что может привести к переобучению и потере точности предсказаний. Также изучение корреляций может помочь выбрать наиболее значимые переменные для включения в модель. \n",
    "</div>"
   ]
  },
  {
   "cell_type": "code",
   "execution_count": 62,
   "id": "46413124",
   "metadata": {},
   "outputs": [],
   "source": [
    "reg_1 = reg_1.drop('id', axis=1)\n",
    "reg_2 = reg_2.drop('id', axis=1)\n",
    "reg_3 = reg_3.drop('id', axis=1)"
   ]
  },
  {
   "cell_type": "markdown",
   "id": "956aaf3f",
   "metadata": {},
   "source": [
    "### Функция для обучения модели"
   ]
  },
  {
   "cell_type": "code",
   "execution_count": 63,
   "id": "6f6b1a22",
   "metadata": {},
   "outputs": [],
   "source": [
    "# Данная функция предполагалась более-менее универсальной, то есть она включает в себя не только обучение модели,\n",
    "# но и возможности масштабирования разными методами (параметр scale=True; scaler=\"Standard\" или \"MinMax\" - использование\n",
    "# StandardScaler или MinMaxScaler, соответственно)\n",
    "#\n",
    "# Возвращает: правильные ответы на валидационной выборке, предсказания модели, RMSE, r2_score и саму модель\n",
    "def LinearRegressionFitting(features, target, scale=True, scaler='Standard'):\n",
    "    # Разбиваем на обучающую и валидационную выборки\n",
    "    X_train, X_valid, y_train, y_valid = train_test_split(features, target, test_size=0.25, random_state=42)\n",
    "    \n",
    "    # При необходимости масштабируем\n",
    "    if scale:\n",
    "        if scaler == 'Standard':\n",
    "            scaler = StandardScaler(with_mean=True)\n",
    "        else:\n",
    "            scaler = MinMaxScaler()\n",
    "        \n",
    "        X_train = pd.DataFrame(\n",
    "            scaler.fit_transform(X_train),\n",
    "            columns=['f0', 'f1', 'f2']\n",
    "        )\n",
    "        X_valid = pd.DataFrame(\n",
    "            scaler.transform(X_valid),\n",
    "            columns=['f0', 'f1', 'f2']\n",
    "        )\n",
    "    \n",
    "    # Обучаем модель, выполненяем предсказания и подсчет метрик\n",
    "    model = LinearRegression()\n",
    "    model.fit(X_train, y_train)\n",
    "    pred = model.predict(X_valid)\n",
    "    \n",
    "    rmse = mean_squared_error(y_valid, pred)**0.5\n",
    "    r2 = r2_score(y_valid, pred)\n",
    "    \n",
    "    # Предсказание константной модели (всегда предсказывает медианное значение из обучающего набора)\n",
    "    const_model_pred = [y_train.median()] * y_valid.shape[0]\n",
    "    \n",
    "    return y_valid, pred, const_model_pred, rmse, r2, model"
   ]
  },
  {
   "cell_type": "markdown",
   "id": "6a6c0638",
   "metadata": {},
   "source": [
    "### Регион 1 (файл geo_data_0.csv)"
   ]
  },
  {
   "cell_type": "code",
   "execution_count": 64,
   "id": "5e2d996a",
   "metadata": {},
   "outputs": [],
   "source": [
    "X, y = reg_1.drop('product', axis=1), reg_1['product']"
   ]
  },
  {
   "cell_type": "code",
   "execution_count": 65,
   "id": "7c34c2ed",
   "metadata": {},
   "outputs": [
    {
     "name": "stdout",
     "output_type": "stream",
     "text": [
      "Средний запас предсказанного сырья: 92.2865385223536\n",
      "RMSE: 37.76114714593895\n",
      "r2_score: 0.2720543226893649\n",
      "\n",
      "RMSE константной модели: 44.25865263278167\n"
     ]
    }
   ],
   "source": [
    "# Без масштабирования\n",
    "y_valid, pred, const_model_pred, rmse, r2, model = LinearRegressionFitting(X, y, scale=False)\n",
    "print('Средний запас предсказанного сырья:', np.mean(pred))\n",
    "print('RMSE:', rmse)\n",
    "print('r2_score:', r2)\n",
    "print()\n",
    "print('RMSE константной модели:', mean_squared_error(y_valid, const_model_pred)**0.5)"
   ]
  },
  {
   "cell_type": "code",
   "execution_count": 66,
   "id": "f13268c4",
   "metadata": {},
   "outputs": [
    {
     "name": "stdout",
     "output_type": "stream",
     "text": [
      "Средний запас предсказанного сырья: 92.2865385223536\n",
      "RMSE: 37.76114714593895\n",
      "r2_score: 0.2720543226893649\n",
      "\n",
      "RMSE константной модели: 44.25865263278167\n"
     ]
    }
   ],
   "source": [
    "# Пробуем StandardScaler\n",
    "y_valid, pred, const_model_pred, rmse, r2, model = LinearRegressionFitting(X, y)\n",
    "print('Средний запас предсказанного сырья:', np.mean(pred))\n",
    "print('RMSE:', rmse)\n",
    "print('r2_score:', r2)\n",
    "print()\n",
    "print('RMSE константной модели:', mean_squared_error(y_valid, const_model_pred)**0.5)"
   ]
  },
  {
   "cell_type": "code",
   "execution_count": 67,
   "id": "4510943b",
   "metadata": {},
   "outputs": [
    {
     "name": "stdout",
     "output_type": "stream",
     "text": [
      "Средний запас предсказанного сырья: 92.2865385223536\n",
      "RMSE: 37.76114714593895\n",
      "r2_score: 0.2720543226893649\n",
      "\n",
      "RMSE константной модели: 44.25865263278167\n"
     ]
    }
   ],
   "source": [
    "# Пробуем MinMaxScaler\n",
    "y_valid, pred, const_model_pred, rmse, r2, model = LinearRegressionFitting(X, y, scale=True, scaler='MinMax')\n",
    "print('Средний запас предсказанного сырья:', np.mean(pred))\n",
    "print('RMSE:', rmse)\n",
    "print('r2_score:', r2)\n",
    "print()\n",
    "print('RMSE константной модели:', mean_squared_error(y_valid, const_model_pred)**0.5)"
   ]
  },
  {
   "cell_type": "markdown",
   "id": "9e44aa28",
   "metadata": {},
   "source": [
    "### Регион 2 (файл geo_data_1.csv)"
   ]
  },
  {
   "cell_type": "code",
   "execution_count": 68,
   "id": "8e0008c4",
   "metadata": {},
   "outputs": [],
   "source": [
    "X, y = reg_2.drop('product', axis=1), reg_2['product']"
   ]
  },
  {
   "cell_type": "code",
   "execution_count": 69,
   "id": "45575ba4",
   "metadata": {},
   "outputs": [
    {
     "name": "stdout",
     "output_type": "stream",
     "text": [
      "Средний запас предсказанного сырья: 69.16894101447984\n",
      "RMSE: 0.892863589877732\n",
      "r2_score: 0.9996227439716872\n",
      "\n",
      "RMSE константной модели: 47.52975727437665\n"
     ]
    }
   ],
   "source": [
    "# Без масштабирования\n",
    "y_valid, pred, const_model_pred, rmse, r2, model = LinearRegressionFitting(X, y, scale=False)\n",
    "print('Средний запас предсказанного сырья:', np.mean(pred))\n",
    "print('RMSE:', rmse)\n",
    "print('r2_score:', r2)\n",
    "print()\n",
    "print('RMSE константной модели:', mean_squared_error(y_valid, const_model_pred)**0.5)"
   ]
  },
  {
   "cell_type": "code",
   "execution_count": 70,
   "id": "a3680b98",
   "metadata": {},
   "outputs": [
    {
     "name": "stdout",
     "output_type": "stream",
     "text": [
      "Средний запас предсказанного сырья: 69.16894101447984\n",
      "RMSE: 0.892863589877732\n",
      "r2_score: 0.9996227439716872\n",
      "\n",
      "RMSE константной модели: 47.52975727437665\n"
     ]
    }
   ],
   "source": [
    "# Пробуем StandardScaler\n",
    "y_valid, pred, const_model_pred, rmse, r2, model = LinearRegressionFitting(X, y)\n",
    "print('Средний запас предсказанного сырья:', np.mean(pred))\n",
    "print('RMSE:', rmse)\n",
    "print('r2_score:', r2)\n",
    "print()\n",
    "print('RMSE константной модели:', mean_squared_error(y_valid, const_model_pred)**0.5)"
   ]
  },
  {
   "cell_type": "code",
   "execution_count": 71,
   "id": "919c1a01",
   "metadata": {},
   "outputs": [
    {
     "name": "stdout",
     "output_type": "stream",
     "text": [
      "Средний запас предсказанного сырья: 69.16894101447987\n",
      "RMSE: 0.8928635898777322\n",
      "r2_score: 0.9996227439716872\n",
      "\n",
      "RMSE константной модели: 47.52975727437665\n"
     ]
    }
   ],
   "source": [
    "# Пробуем MinMaxScaler\n",
    "y_valid, pred, const_model_pred, rmse, r2, model = LinearRegressionFitting(X, y, scale=True, scaler='MinMax')\n",
    "print('Средний запас предсказанного сырья:', np.mean(pred))\n",
    "print('RMSE:', rmse)\n",
    "print('r2_score:', r2)\n",
    "print()\n",
    "print('RMSE константной модели:', mean_squared_error(y_valid, const_model_pred)**0.5)"
   ]
  },
  {
   "cell_type": "markdown",
   "id": "90c723c9",
   "metadata": {},
   "source": [
    "### Регион 3 (файл geo_data_2.csv)"
   ]
  },
  {
   "cell_type": "code",
   "execution_count": 72,
   "id": "c7a06f9c",
   "metadata": {},
   "outputs": [],
   "source": [
    "X, y = reg_3.drop('product', axis=1), reg_3['product']"
   ]
  },
  {
   "cell_type": "code",
   "execution_count": 73,
   "id": "54de724e",
   "metadata": {},
   "outputs": [
    {
     "name": "stdout",
     "output_type": "stream",
     "text": [
      "Средний запас предсказанного сырья: 94.82069136328788\n",
      "RMSE: 40.13115560413051\n",
      "r2_score: 0.19488984966240108\n",
      "\n",
      "RMSE константной модели: 44.72575932729128\n"
     ]
    }
   ],
   "source": [
    "# Без масштабирования\n",
    "y_valid, pred, const_model_pred, rmse, r2, model = LinearRegressionFitting(X, y, scale=False)\n",
    "print('Средний запас предсказанного сырья:', np.mean(pred))\n",
    "print('RMSE:', rmse)\n",
    "print('r2_score:', r2)\n",
    "print()\n",
    "print('RMSE константной модели:', mean_squared_error(y_valid, const_model_pred)**0.5)"
   ]
  },
  {
   "cell_type": "code",
   "execution_count": 74,
   "id": "ce345abf",
   "metadata": {},
   "outputs": [
    {
     "name": "stdout",
     "output_type": "stream",
     "text": [
      "Средний запас предсказанного сырья: 94.82069136328788\n",
      "RMSE: 40.131155604130505\n",
      "r2_score: 0.1948898496624013\n",
      "\n",
      "RMSE константной модели: 44.72575932729128\n"
     ]
    }
   ],
   "source": [
    "# Пробуем StandardScaler\n",
    "y_valid, pred, const_model_pred, rmse, r2, model = LinearRegressionFitting(X, y)\n",
    "print('Средний запас предсказанного сырья:', np.mean(pred))\n",
    "print('RMSE:', rmse)\n",
    "print('r2_score:', r2)\n",
    "print()\n",
    "print('RMSE константной модели:', mean_squared_error(y_valid, const_model_pred)**0.5)"
   ]
  },
  {
   "cell_type": "code",
   "execution_count": 75,
   "id": "e51b98fc",
   "metadata": {},
   "outputs": [
    {
     "name": "stdout",
     "output_type": "stream",
     "text": [
      "Средний запас предсказанного сырья: 94.82069136328789\n",
      "RMSE: 40.13115560413051\n",
      "r2_score: 0.19488984966240108\n",
      "\n",
      "RMSE константной модели: 44.72575932729128\n"
     ]
    }
   ],
   "source": [
    "# Пробуем MinMaxScaler\n",
    "y_valid, pred, const_model_pred, rmse, r2, model = LinearRegressionFitting(X, y, scale=True, scaler='MinMax')\n",
    "print('Средний запас предсказанного сырья:', np.mean(pred))\n",
    "print('RMSE:', rmse)\n",
    "print('r2_score:', r2)\n",
    "print()\n",
    "print('RMSE константной модели:', mean_squared_error(y_valid, const_model_pred)**0.5)"
   ]
  },
  {
   "cell_type": "markdown",
   "id": "cb270d6b",
   "metadata": {},
   "source": [
    "**Вывод:**\n",
    "\n",
    "Видно, что масштабирование данных не повышает точность модели. \n",
    "\n",
    "Средний запас предсказанного сырья (тыс баррелей) по регионам:\n",
    "\n",
    "* Регион 1: 92.29\n",
    "* Регион 2: 69.17\n",
    "* Регион 3: 94.82\n",
    "\n",
    "Также хочется отметить, что единственный регион, который хорошо предсказывается нашей моделью - регион 2. На регионах 1 и 3 метрики RMSE и R2 оставляют желать лучшего. Однако все модели справляются со своей задачей лучше, чем константные, предсказывающие медиану обучающего набора."
   ]
  },
  {
   "cell_type": "markdown",
   "id": "44dce313",
   "metadata": {},
   "source": [
    "## Подготовка к рассчету прибыли"
   ]
  },
  {
   "cell_type": "markdown",
   "id": "6fdb147f",
   "metadata": {},
   "source": [
    "Сохраним некоторые важные для вычисления прибыли значения в отдельных переменных"
   ]
  },
  {
   "cell_type": "code",
   "execution_count": 76,
   "id": "1946d6f2",
   "metadata": {},
   "outputs": [],
   "source": [
    "budget = 10**10  # бюджет на разработку 200 скважин (в рублях)\n",
    "cost = 450_000  # стоимость единицы продукта (в рублях)"
   ]
  },
  {
   "cell_type": "markdown",
   "id": "92fe600d",
   "metadata": {},
   "source": [
    "Рассчитаем достаточный объём сырья для безубыточной разработки новой скважины и сравним полученный объём сырья со средним запасом в каждом регионе"
   ]
  },
  {
   "cell_type": "code",
   "execution_count": 77,
   "id": "d3721f9c",
   "metadata": {},
   "outputs": [
    {
     "name": "stdout",
     "output_type": "stream",
     "text": [
      " 111.11\n"
     ]
    }
   ],
   "source": [
    "min_volume = budget / cost / 200  # минимальный достаточный объем для безубыточной разработки новой скважины (в тыс баррелей)\n",
    "print(f'{min_volume : .2f}')"
   ]
  },
  {
   "cell_type": "code",
   "execution_count": 78,
   "id": "8cd30cbe",
   "metadata": {},
   "outputs": [
    {
     "name": "stdout",
     "output_type": "stream",
     "text": [
      "Средний запас сырья в первом регионе:  92.50\n",
      "Средний запас сырья во втором регионе:  68.82\n",
      "Средний запас сырья в третьем регионе:  95.00\n"
     ]
    }
   ],
   "source": [
    "print(f\"Средний запас сырья в первом регионе: {reg_1['product'].mean() : .2f}\")\n",
    "print(f\"Средний запас сырья во втором регионе: {reg_2['product'].mean() : .2f}\")\n",
    "print(f\"Средний запас сырья в третьем регионе: {reg_3['product'].mean() : .2f}\")"
   ]
  },
  {
   "cell_type": "markdown",
   "id": "6641f3ca",
   "metadata": {},
   "source": [
    "**Вывод:**\n",
    "\n",
    "Минимальный достаточный объем сырья для безубыточной разработки скважины составляет примерно 111 тыс баррелей. Это выше среднего запаса в скважине в каждом регионе."
   ]
  },
  {
   "cell_type": "markdown",
   "id": "8e8d29ef",
   "metadata": {},
   "source": [
    "#### Функция для рассчета прибыли"
   ]
  },
  {
   "cell_type": "code",
   "execution_count": 79,
   "id": "fe1dcb76",
   "metadata": {},
   "outputs": [],
   "source": [
    "def profit_calc(data, predictions, budget=budget, cost=cost):\n",
    "    data = data\n",
    "    data['prediction'] = predictions\n",
    "    data = data.sort_values(by='prediction', ascending=False)[:200]\n",
    "    volume = data['product'].sum()\n",
    "    profit = volume * cost - budget\n",
    "    return profit"
   ]
  },
  {
   "cell_type": "markdown",
   "id": "740b090f",
   "metadata": {},
   "source": [
    "## Рассчет прибыли и рисков с помощью техники Bootstrap"
   ]
  },
  {
   "cell_type": "code",
   "execution_count": 80,
   "id": "e84de668",
   "metadata": {},
   "outputs": [],
   "source": [
    "# Функция для применения техники bootstrap для рассчета прибыли\n",
    "def Bootstrap(reg):\n",
    "    # Обучение модели для соответствующего региона\n",
    "    X, y = reg.drop('product', axis=1), reg['product']\n",
    "    y_valid, pred, const_model_pred, rmse, r2, model = LinearRegressionFitting(X, y)\n",
    "    \n",
    "    # Собственно bootstrap\n",
    "    profits = []\n",
    "    state = RandomState(42)\n",
    "    for i in range(1000):\n",
    "        # Делаем выборку из 500 точек\n",
    "        subsample = reg.sample(n=500, replace=True, random_state=state)\n",
    "\n",
    "        # Выполняем предсказания объема сырья в этих 500 точках и выбираем лучшие 200 по мнению модели\n",
    "        features = subsample.drop('product', axis=1)\n",
    "        pred = model.predict(features)\n",
    "\n",
    "        # Считаем прибыль\n",
    "        profit = profit_calc(subsample, pred)\n",
    "        profits.append(profit)\n",
    "\n",
    "    profits = pd.Series(profits)\n",
    "    \n",
    "    # Считаем среднюю прибыль, 95%-й доверительный интервал для прибыли и риски убытков\n",
    "    mean_profit = profits.mean()\n",
    "    lower, upper = round(profits.quantile(0.025), 2), round(profits.quantile(0.975), 2)\n",
    "    risk = (profits < 0).astype('int').mean() * 100\n",
    "    \n",
    "    return mean_profit, (lower, upper), risk"
   ]
  },
  {
   "cell_type": "code",
   "execution_count": 81,
   "id": "30e47a5c",
   "metadata": {
    "scrolled": true
   },
   "outputs": [
    {
     "name": "stdout",
     "output_type": "stream",
     "text": [
      "Регион 1\n",
      "Средняя прибыль: 335511635.70\n",
      "95%-й доверительный интервал для прибыли: (-153419786.97, 865119610.28)\n",
      "Риски убытков: 9.6%\n",
      "--------------------------------------------------\n",
      "Регион 2\n",
      "Средняя прибыль: 454097691.21\n",
      "95%-й доверительный интервал для прибыли: (48196445.84, 845190897.91)\n",
      "Риски убытков: 1.2%\n",
      "--------------------------------------------------\n",
      "Регион 3\n",
      "Средняя прибыль: 371762620.36\n",
      "95%-й доверительный интервал для прибыли: (-128004534.02, 880666247.08)\n",
      "Риски убытков: 8.2%\n",
      "--------------------------------------------------\n"
     ]
    }
   ],
   "source": [
    "regions = [reg_1, reg_2, reg_3]\n",
    "for i in range(3):\n",
    "    mean_profit, confidence_interval, risk = Bootstrap(regions[i])\n",
    "    print(f'Регион {i + 1}')\n",
    "    print(f'Средняя прибыль: {mean_profit:.2f}')\n",
    "    print(f'95%-й доверительный интервал для прибыли: {confidence_interval}')\n",
    "    print(f'Риски убытков: {risk:.1f}%')\n",
    "    print('--------------------------------------------------')"
   ]
  },
  {
   "cell_type": "markdown",
   "id": "6cbaa178",
   "metadata": {},
   "source": [
    "## Вывод"
   ]
  },
  {
   "cell_type": "markdown",
   "id": "acd8b9d6",
   "metadata": {},
   "source": [
    "1) При подготовке моделей для каждого региона выяснилось, что масштабирование признаков не влияет на результат\n",
    "\n",
    "2) Единственный регион, который хорошо описывается линейной регрессией - это регион 2 (файл `geo_data_1.csv`), однако все модели справляются со своей задачей лучше, чем константная модель, предсказывающая медианное значение\n",
    "\n",
    "3) Средний запас предсказанного сырья в скважине(тыс баррелей) по регионам:\n",
    "\n",
    "* Регион 1: 92.29\n",
    "* Регион 2: 69.17\n",
    "* Регион 3: 94.82\n",
    "\n",
    "4) Для каждого региона посчитаны средняя прибыль (на 200 скважин), 95%-й доверительный интервал для прибыли и риски убытков. Результаты:\n",
    "\n",
    "* Регион 1\n",
    "  * Средняя прибыль: 335511635.7\n",
    "  * 95%-й доверительный интервал для прибыли: (-153419786.97, 865119610.28)\n",
    "  * Риски убытков: 9.6%\n",
    "\n",
    "* Регион 2\n",
    "  * Средняя прибыль: 454097691.21\n",
    "  * 95%-й доверительный интервал для прибыли: (48196445.84, 845190897.91)\n",
    "  * Риски убытков: 1.2%\n",
    "\n",
    "* Регион 3\n",
    "  * Средняя прибыль: 371762620.36\n",
    "  * 95%-й доверительный интервал для прибыли: (-128004534.02, 880666247.08)\n",
    "  * Риски убытков: 8.2%\n",
    "\n",
    "5) По результатам исследования можно предложить для бурения новой скважины регион 2 (файл `geo_data_1.csv`). Основания: самая высокая средняя прибыль, 95%-й доверительный интервал не содержит отрицательных значений, риски убытков самые низкие среди исследованных регионов и составляют всего 1.2%, помимо всего прочего, это единственный регион, который хорошо описывается разрешенными моделями (линейной регрессией)"
   ]
  },
  {
   "cell_type": "code",
   "execution_count": null,
   "id": "98850804",
   "metadata": {},
   "outputs": [],
   "source": []
  }
 ],
 "metadata": {
  "ExecuteTimeLog": [
   {
    "duration": 73,
    "start_time": "2023-02-08T16:30:48.770Z"
   }
  ],
  "kernelspec": {
   "display_name": "Python 3 (ipykernel)",
   "language": "python",
   "name": "python3"
  },
  "language_info": {
   "codemirror_mode": {
    "name": "ipython",
    "version": 3
   },
   "file_extension": ".py",
   "mimetype": "text/x-python",
   "name": "python",
   "nbconvert_exporter": "python",
   "pygments_lexer": "ipython3",
   "version": "3.9.12"
  },
  "toc": {
   "base_numbering": 1,
   "nav_menu": {},
   "number_sections": true,
   "sideBar": true,
   "skip_h1_title": true,
   "title_cell": "Table of Contents",
   "title_sidebar": "Contents",
   "toc_cell": false,
   "toc_position": {},
   "toc_section_display": true,
   "toc_window_display": false
  }
 },
 "nbformat": 4,
 "nbformat_minor": 5
}
