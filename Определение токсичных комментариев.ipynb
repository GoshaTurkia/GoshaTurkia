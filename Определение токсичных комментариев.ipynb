{
 "cells": [
  {
   "cell_type": "markdown",
   "id": "15a076c1-096a-443e-a12a-4a67b6086ec0",
   "metadata": {},
   "source": [
    "# Определение токсичных комментариев для интернет-сервиса магазина\n",
    "\n",
    "**Описание проекта**\n",
    "\n",
    "Интернет-магазин запускает новый сервис. Теперь пользователи могут редактировать и дополнять описания товаров, как в вики-сообществах. То есть клиенты предлагают свои правки и комментируют изменения других. Магазину нужен инструмент, который будет искать токсичные комментарии и отправлять их на модерацию. \n",
    "\n",
    "Необходимо обучить модель классифицировать комментарии на позитивные и негативные\n",
    "\n",
    "**Описание данных**\n",
    "\n",
    "* `text` - текст комментария\n",
    "* `toxic` - целевой признак"
   ]
  },
  {
   "cell_type": "markdown",
   "id": "183c1184-ab29-43a6-b049-d677dff0143d",
   "metadata": {},
   "source": [
    "## Подготовка данных"
   ]
  },
  {
   "cell_type": "code",
   "execution_count": 1,
   "id": "e21601e6-21c3-412f-a7f3-44a4c1c99889",
   "metadata": {},
   "outputs": [
    {
     "name": "stderr",
     "output_type": "stream",
     "text": [
      "[nltk_data] Downloading package stopwords to\n",
      "[nltk_data]     C:\\Users\\gturk\\AppData\\Roaming\\nltk_data...\n",
      "[nltk_data]   Package stopwords is already up-to-date!\n",
      "[nltk_data] Downloading package wordnet to\n",
      "[nltk_data]     C:\\Users\\gturk\\AppData\\Roaming\\nltk_data...\n",
      "[nltk_data]   Package wordnet is already up-to-date!\n",
      "[nltk_data] Downloading package punkt to\n",
      "[nltk_data]     C:\\Users\\gturk\\AppData\\Roaming\\nltk_data...\n",
      "[nltk_data]   Package punkt is already up-to-date!\n",
      "[nltk_data] Downloading package omw-1.4 to\n",
      "[nltk_data]     C:\\Users\\gturk\\AppData\\Roaming\\nltk_data...\n",
      "[nltk_data]   Package omw-1.4 is already up-to-date!\n"
     ]
    }
   ],
   "source": [
    "import pandas as pd\n",
    "import numpy as np\n",
    "import seaborn as sns\n",
    "\n",
    "import re\n",
    "from sklearn.feature_extraction.text import TfidfVectorizer\n",
    "\n",
    "import nltk\n",
    "nltk.download('stopwords')\n",
    "nltk.download('wordnet')\n",
    "nltk.download('punkt')\n",
    "nltk.download('omw-1.4')\n",
    "\n",
    "from nltk.stem import WordNetLemmatizer\n",
    "from nltk.tokenize import word_tokenize\n",
    "from nltk.corpus import stopwords\n",
    "\n",
    "from sklearn.model_selection import train_test_split, GridSearchCV\n",
    "from sklearn.metrics import f1_score\n",
    "from sklearn.dummy import DummyClassifier\n",
    "\n",
    "from sklearn.linear_model import LogisticRegression\n",
    "from sklearn.tree import DecisionTreeClassifier\n",
    "from sklearn.ensemble import RandomForestClassifier\n",
    "\n",
    "from lightgbm import LGBMClassifier\n",
    "\n",
    "RANDOM_STATE = 42"
   ]
  },
  {
   "cell_type": "code",
   "execution_count": 30,
   "id": "8e24cd31-da1e-4f20-8f96-ce24abffe673",
   "metadata": {},
   "outputs": [
    {
     "data": {
      "text/html": [
       "<div>\n",
       "<style scoped>\n",
       "    .dataframe tbody tr th:only-of-type {\n",
       "        vertical-align: middle;\n",
       "    }\n",
       "\n",
       "    .dataframe tbody tr th {\n",
       "        vertical-align: top;\n",
       "    }\n",
       "\n",
       "    .dataframe thead th {\n",
       "        text-align: right;\n",
       "    }\n",
       "</style>\n",
       "<table border=\"1\" class=\"dataframe\">\n",
       "  <thead>\n",
       "    <tr style=\"text-align: right;\">\n",
       "      <th></th>\n",
       "      <th>Unnamed: 0</th>\n",
       "      <th>text</th>\n",
       "      <th>toxic</th>\n",
       "    </tr>\n",
       "  </thead>\n",
       "  <tbody>\n",
       "    <tr>\n",
       "      <th>0</th>\n",
       "      <td>0</td>\n",
       "      <td>Explanation\\nWhy the edits made under my usern...</td>\n",
       "      <td>0</td>\n",
       "    </tr>\n",
       "    <tr>\n",
       "      <th>1</th>\n",
       "      <td>1</td>\n",
       "      <td>D'aww! He matches this background colour I'm s...</td>\n",
       "      <td>0</td>\n",
       "    </tr>\n",
       "    <tr>\n",
       "      <th>2</th>\n",
       "      <td>2</td>\n",
       "      <td>Hey man, I'm really not trying to edit war. It...</td>\n",
       "      <td>0</td>\n",
       "    </tr>\n",
       "    <tr>\n",
       "      <th>3</th>\n",
       "      <td>3</td>\n",
       "      <td>\"\\nMore\\nI can't make any real suggestions on ...</td>\n",
       "      <td>0</td>\n",
       "    </tr>\n",
       "    <tr>\n",
       "      <th>4</th>\n",
       "      <td>4</td>\n",
       "      <td>You, sir, are my hero. Any chance you remember...</td>\n",
       "      <td>0</td>\n",
       "    </tr>\n",
       "    <tr>\n",
       "      <th>5</th>\n",
       "      <td>5</td>\n",
       "      <td>\"\\n\\nCongratulations from me as well, use the ...</td>\n",
       "      <td>0</td>\n",
       "    </tr>\n",
       "    <tr>\n",
       "      <th>6</th>\n",
       "      <td>6</td>\n",
       "      <td>COCKSUCKER BEFORE YOU PISS AROUND ON MY WORK</td>\n",
       "      <td>1</td>\n",
       "    </tr>\n",
       "    <tr>\n",
       "      <th>7</th>\n",
       "      <td>7</td>\n",
       "      <td>Your vandalism to the Matt Shirvington article...</td>\n",
       "      <td>0</td>\n",
       "    </tr>\n",
       "    <tr>\n",
       "      <th>8</th>\n",
       "      <td>8</td>\n",
       "      <td>Sorry if the word 'nonsense' was offensive to ...</td>\n",
       "      <td>0</td>\n",
       "    </tr>\n",
       "    <tr>\n",
       "      <th>9</th>\n",
       "      <td>9</td>\n",
       "      <td>alignment on this subject and which are contra...</td>\n",
       "      <td>0</td>\n",
       "    </tr>\n",
       "  </tbody>\n",
       "</table>\n",
       "</div>"
      ],
      "text/plain": [
       "   Unnamed: 0                                               text  toxic\n",
       "0           0  Explanation\\nWhy the edits made under my usern...      0\n",
       "1           1  D'aww! He matches this background colour I'm s...      0\n",
       "2           2  Hey man, I'm really not trying to edit war. It...      0\n",
       "3           3  \"\\nMore\\nI can't make any real suggestions on ...      0\n",
       "4           4  You, sir, are my hero. Any chance you remember...      0\n",
       "5           5  \"\\n\\nCongratulations from me as well, use the ...      0\n",
       "6           6       COCKSUCKER BEFORE YOU PISS AROUND ON MY WORK      1\n",
       "7           7  Your vandalism to the Matt Shirvington article...      0\n",
       "8           8  Sorry if the word 'nonsense' was offensive to ...      0\n",
       "9           9  alignment on this subject and which are contra...      0"
      ]
     },
     "execution_count": 30,
     "metadata": {},
     "output_type": "execute_result"
    }
   ],
   "source": [
    "data = pd.read_csv('toxic_comments.csv')\n",
    "data.head(10)"
   ]
  },
  {
   "cell_type": "code",
   "execution_count": 31,
   "id": "40d9a25a-5e5c-425f-ad92-fd013817a1c7",
   "metadata": {},
   "outputs": [],
   "source": [
    "data = data.drop(['Unnamed: 0'], axis=1)"
   ]
  },
  {
   "cell_type": "code",
   "execution_count": 32,
   "id": "ccb1cc94-39e5-4d85-892c-c9d99d726a49",
   "metadata": {},
   "outputs": [],
   "source": [
    "# Очистка текста от ненужных символов, токенизация и лемматизация\n",
    "def prepare_text(text):\n",
    "    txt = text.lower()\n",
    "    txt = re.sub(r'[^a-zA-Z]', ' ', txt)\n",
    "    txt = ' '.join(txt.split())\n",
    "    \n",
    "    tokenized = word_tokenize(txt)\n",
    "    \n",
    "    wnl = WordNetLemmatizer()\n",
    "    \n",
    "    lemm_list = [wnl.lemmatize(word) for word in tokenized]\n",
    "    lemm_text = ' '.join(lemm_list)\n",
    "    \n",
    "    return lemm_text"
   ]
  },
  {
   "cell_type": "code",
   "execution_count": 33,
   "id": "b569235f-54f0-40fe-bad6-48f50f2a4206",
   "metadata": {},
   "outputs": [],
   "source": [
    "# Очистка текста и создание корпуса\n",
    "corpus = data['text'].apply(lambda x: prepare_text(x))"
   ]
  },
  {
   "cell_type": "code",
   "execution_count": 34,
   "id": "851d3315-5363-4538-b950-2d5354b8e6f1",
   "metadata": {},
   "outputs": [
    {
     "data": {
      "text/plain": [
       "0    explanation why the edits made under my userna...\n",
       "1    d aww he match this background colour i m seem...\n",
       "2    hey man i m really not trying to edit war it s...\n",
       "3    more i can t make any real suggestion on impro...\n",
       "4    you sir are my hero any chance you remember wh...\n",
       "Name: text, dtype: object"
      ]
     },
     "execution_count": 34,
     "metadata": {},
     "output_type": "execute_result"
    }
   ],
   "source": [
    "corpus.head()"
   ]
  },
  {
   "cell_type": "code",
   "execution_count": 35,
   "id": "ef4b5856-4112-4f35-98cc-95eb8c579c81",
   "metadata": {},
   "outputs": [
    {
     "data": {
      "text/plain": [
       "(159292,)"
      ]
     },
     "execution_count": 35,
     "metadata": {},
     "output_type": "execute_result"
    }
   ],
   "source": [
    "corpus.shape"
   ]
  },
  {
   "cell_type": "code",
   "execution_count": 36,
   "id": "45ea3b8f-a388-462d-96a1-9c372f4d03ae",
   "metadata": {},
   "outputs": [],
   "source": [
    "# Создание списка стоп-слов\n",
    "stop_words = stopwords.words('english')"
   ]
  },
  {
   "cell_type": "code",
   "execution_count": 37,
   "id": "c773fa3a-5c48-4b89-9e9a-8bff410dab21",
   "metadata": {},
   "outputs": [],
   "source": [
    "# Деление на тренировочную, валидационную и тестовую выборки в соотношении 3:1\n",
    "X_train, X_test, y_train, y_test = train_test_split(corpus, data['toxic'], test_size=0.25, stratify=data['toxic'], random_state=RANDOM_STATE)"
   ]
  },
  {
   "cell_type": "code",
   "execution_count": 38,
   "id": "10f2e9e3-64e1-4ee9-a008-f416b57f8467",
   "metadata": {},
   "outputs": [
    {
     "data": {
      "text/plain": [
       "(119469,)"
      ]
     },
     "execution_count": 38,
     "metadata": {},
     "output_type": "execute_result"
    }
   ],
   "source": [
    "X_train.shape"
   ]
  },
  {
   "cell_type": "code",
   "execution_count": 39,
   "id": "7dba6954-d2c7-4b16-b2a0-05abda395224",
   "metadata": {},
   "outputs": [
    {
     "data": {
      "text/plain": [
       "119339    it is obvious you do not give a crap about act...\n",
       "116426    note also that the policy doe not say to avoid...\n",
       "56586     he ha shown u the connection between aa and b ...\n",
       "61960     bias why is this nutcase changing my truthful ...\n",
       "64264     sysiq page edits hasteur thank you for reminde...\n",
       "Name: text, dtype: object"
      ]
     },
     "execution_count": 39,
     "metadata": {},
     "output_type": "execute_result"
    }
   ],
   "source": [
    "X_train.head()"
   ]
  },
  {
   "cell_type": "code",
   "execution_count": 41,
   "id": "4fc0fd0d-894e-4b7f-999b-efd3a6500a51",
   "metadata": {},
   "outputs": [
    {
     "data": {
      "text/plain": [
       "124823    self promotion is it then there is no jacobite...\n",
       "56809     here s an article but i m sure a better source...\n",
       "123275    utc why not ahmadinejad ha been accused of ant...\n",
       "64673     what for thing i didnt vandelize stop talkin t...\n",
       "123056    january utc agree with coltsfan nobody is sayi...\n",
       "Name: text, dtype: object"
      ]
     },
     "execution_count": 41,
     "metadata": {},
     "output_type": "execute_result"
    }
   ],
   "source": [
    "X_test.head()"
   ]
  },
  {
   "cell_type": "code",
   "execution_count": 42,
   "id": "c01c808a-ee09-4132-b2c6-30134834b057",
   "metadata": {},
   "outputs": [
    {
     "data": {
      "text/plain": [
       "((119469,), (39823,))"
      ]
     },
     "execution_count": 42,
     "metadata": {},
     "output_type": "execute_result"
    }
   ],
   "source": [
    "y_train.shape, y_test.shape"
   ]
  },
  {
   "cell_type": "code",
   "execution_count": 44,
   "id": "5faffcb7-3c5a-416a-9ffc-4b8cff915d6c",
   "metadata": {},
   "outputs": [],
   "source": [
    "# Применение TF-IDF\n",
    "count_tf_idf = TfidfVectorizer(stop_words=stop_words)\n",
    "train_tf_idf = count_tf_idf.fit_transform(X_train)\n",
    "test_tf_idf = count_tf_idf.transform(X_test)"
   ]
  },
  {
   "cell_type": "markdown",
   "id": "9dcebd4f-f05d-4e0d-a070-f317a24cdfb9",
   "metadata": {},
   "source": [
    "## Работа с моделями машинного обучения\n",
    "\n",
    "### Изучение баланса классов"
   ]
  },
  {
   "cell_type": "code",
   "execution_count": 45,
   "id": "34ee888e-8b42-42cb-9686-fe441a49f75d",
   "metadata": {},
   "outputs": [
    {
     "data": {
      "image/png": "[encoded data removed]",
      "text/plain": [
       "<Figure size 640x480 with 1 Axes>"
      ]
     },
     "metadata": {},
     "output_type": "display_data"
    }
   ],
   "source": [
    "sns.barplot(x=[0, 1], y=[list(y_train).count(0), list(y_train).count(1)]);"
   ]
  },
  {
   "cell_type": "code",
   "execution_count": 46,
   "id": "529e4dc6-2a51-49ea-90a7-cdf40e44af12",
   "metadata": {},
   "outputs": [
    {
     "data": {
      "text/plain": [
       "toxic\n",
       "0    0.898384\n",
       "1    0.101616\n",
       "Name: proportion, dtype: float64"
      ]
     },
     "execution_count": 46,
     "metadata": {},
     "output_type": "execute_result"
    }
   ],
   "source": [
    "y_train.value_counts(normalize=True)"
   ]
  },
  {
   "cell_type": "markdown",
   "id": "fead3394-17aa-4fa9-971b-07d01a3f3797",
   "metadata": {},
   "source": [
    "Данные явно не сбалансированы. Попробуем два варианта: обучение на несбалансированных данных и учет дисбаланса классов с помощью указания `class_weight='balanced'`\n",
    "\n",
    "#### Базовая модель - DummyClassifier"
   ]
  },
  {
   "cell_type": "code",
   "execution_count": 47,
   "id": "bc450d5d-4e32-454f-b89f-d45cf7901484",
   "metadata": {},
   "outputs": [
    {
     "name": "stdout",
     "output_type": "stream",
     "text": [
      "F1-score:  0.00\n"
     ]
    }
   ],
   "source": [
    "dummy = DummyClassifier()\n",
    "dummy.fit(train_tf_idf, y_train)\n",
    "dummy_pred = dummy.predict(valid_tf_idf)\n",
    "print(f'F1-score: {f1_score(y_valid, dummy_pred) : .2f}')"
   ]
  },
  {
   "cell_type": "markdown",
   "id": "c0e0ae09-421e-47de-aa2d-5f547eac3441",
   "metadata": {},
   "source": [
    "### Без учета дисбаланса\n",
    "\n",
    "#### LogisticRegression"
   ]
  },
  {
   "cell_type": "code",
   "execution_count": 49,
   "id": "a89def91-b123-4ab8-9932-34a62a531d39",
   "metadata": {},
   "outputs": [
    {
     "name": "stdout",
     "output_type": "stream",
     "text": [
      "Best params: {'C': 1}, best F1-score: 0.7120089079006348\n"
     ]
    }
   ],
   "source": [
    "log_reg = LogisticRegression(max_iter=500, random_state=RANDOM_STATE, n_jobs=-1)\n",
    "\n",
    "params = {\n",
    "    'C': [0.01, 0.05, 0.1, 0.3, 0.5, 0.7, 1]\n",
    "}\n",
    "\n",
    "clf = GridSearchCV(log_reg, params, scoring='f1', cv=5)\n",
    "clf.fit(train_tf_idf, y_train)\n",
    "print(f'Best params: {clf.best_params_}, best F1-score: {clf.best_score_}')"
   ]
  },
  {
   "cell_type": "markdown",
   "id": "ee677c85-f404-47c8-87f7-9574cd50e386",
   "metadata": {},
   "source": [
    "#### DecisionTreeClassifier"
   ]
  },
  {
   "cell_type": "code",
   "execution_count": 50,
   "id": "72d0cd7a-25fa-43a1-9c6e-b5930e986647",
   "metadata": {},
   "outputs": [
    {
     "name": "stdout",
     "output_type": "stream",
     "text": [
      "Best params: {'max_depth': 9}, best F1-score: 0.5741724584307571\n"
     ]
    }
   ],
   "source": [
    "tree = DecisionTreeClassifier(random_state=RANDOM_STATE)\n",
    "\n",
    "params = {\n",
    "    'max_depth': list(range(4, 10))\n",
    "}\n",
    "\n",
    "clf = GridSearchCV(tree, params, scoring='f1', cv=5, n_jobs=-1)\n",
    "clf.fit(train_tf_idf, y_train)\n",
    "print(f'Best params: {clf.best_params_}, best F1-score: {clf.best_score_}')"
   ]
  },
  {
   "cell_type": "markdown",
   "id": "b978558e-f58d-4c74-bd76-0e8d088cfbff",
   "metadata": {},
   "source": [
    "#### RandomForestClassifier"
   ]
  },
  {
   "cell_type": "code",
   "execution_count": 51,
   "id": "9244a328-3d68-4de2-b45b-f59648724b70",
   "metadata": {},
   "outputs": [
    {
     "name": "stdout",
     "output_type": "stream",
     "text": [
      "Best params: {'max_depth': 4, 'n_estimators': 30}, best F1-score: 0.0\n"
     ]
    }
   ],
   "source": [
    "rf = RandomForestClassifier(random_state=RANDOM_STATE)\n",
    "\n",
    "params = {\n",
    "    'n_estimators': list(range(30, 151, 30)),\n",
    "    'max_depth': list(range(4, 10))\n",
    "}\n",
    "\n",
    "clf = GridSearchCV(rf, params, scoring='f1', cv=5, n_jobs=-1)\n",
    "clf.fit(train_tf_idf, y_train)\n",
    "print(f'Best params: {clf.best_params_}, best F1-score: {clf.best_score_}')"
   ]
  },
  {
   "cell_type": "markdown",
   "id": "c0adc7e1-f8d2-4f59-b65b-851790b0096d",
   "metadata": {},
   "source": [
    "#### LGBMClassifier"
   ]
  },
  {
   "cell_type": "code",
   "execution_count": 52,
   "id": "2b6aa07a-3938-4351-84f6-7e0577937a08",
   "metadata": {},
   "outputs": [
    {
     "name": "stdout",
     "output_type": "stream",
     "text": [
      "Best params: {'n_estimators': 200}, best F1-score: 0.7616907888178417\n"
     ]
    }
   ],
   "source": [
    "lgb = LGBMClassifier(random_state=RANDOM_STATE, verbosity=-1)\n",
    "\n",
    "params = {\n",
    "    'n_estimators': list(range(20, 201, 20))\n",
    "}\n",
    "\n",
    "clf = GridSearchCV(lgb, params, scoring='f1', cv=5, n_jobs=-1)\n",
    "clf.fit(train_tf_idf, y_train)\n",
    "print(f'Best params: {clf.best_params_}, best F1-score: {clf.best_score_}')"
   ]
  },
  {
   "cell_type": "markdown",
   "id": "63bbe7ae-34df-49e8-ba7b-6771008b40f4",
   "metadata": {},
   "source": [
    "### Учет дисбаланса классов\n",
    "\n",
    "#### LogisticRegression"
   ]
  },
  {
   "cell_type": "code",
   "execution_count": 53,
   "id": "1fb69254-8b14-487d-aec4-d47c0e49b703",
   "metadata": {},
   "outputs": [
    {
     "name": "stdout",
     "output_type": "stream",
     "text": [
      "Best params: {'C': 1}, best F1-score: 0.7484213990920322\n"
     ]
    }
   ],
   "source": [
    "log_reg = LogisticRegression(max_iter=500, class_weight='balanced', random_state=RANDOM_STATE, n_jobs=-1)\n",
    "\n",
    "params = {\n",
    "    'C': [0.01, 0.05, 0.1, 0.3, 0.5, 0.7, 1]\n",
    "}\n",
    "\n",
    "clf = GridSearchCV(log_reg, params, scoring='f1', cv=5)\n",
    "clf.fit(train_tf_idf, y_train)\n",
    "print(f'Best params: {clf.best_params_}, best F1-score: {clf.best_score_}')"
   ]
  },
  {
   "cell_type": "markdown",
   "id": "5c5d7ce0-566e-49fc-8c2c-83df2c757ec0",
   "metadata": {},
   "source": [
    "#### DecisionTreeClassifier"
   ]
  },
  {
   "cell_type": "code",
   "execution_count": 54,
   "id": "c3fb624f-22ac-4f24-93ad-8d1b163ba2c7",
   "metadata": {},
   "outputs": [
    {
     "name": "stdout",
     "output_type": "stream",
     "text": [
      "Best params: {'max_depth': 9}, best F1-score: 0.5468974881398558\n"
     ]
    }
   ],
   "source": [
    "tree = DecisionTreeClassifier(class_weight='balanced', random_state=RANDOM_STATE)\n",
    "\n",
    "params = {\n",
    "    'max_depth': list(range(4, 10))\n",
    "}\n",
    "\n",
    "clf = GridSearchCV(tree, params, scoring='f1', cv=5, n_jobs=-1)\n",
    "clf.fit(train_tf_idf, y_train)\n",
    "print(f'Best params: {clf.best_params_}, best F1-score: {clf.best_score_}')"
   ]
  },
  {
   "cell_type": "markdown",
   "id": "a901b3d6-85c3-40ac-b601-e7e56dae5098",
   "metadata": {},
   "source": [
    "#### RandomForestClassifier"
   ]
  },
  {
   "cell_type": "code",
   "execution_count": 55,
   "id": "d398f9ac-22b0-4c3f-9dec-9efa881ee74f",
   "metadata": {},
   "outputs": [
    {
     "name": "stdout",
     "output_type": "stream",
     "text": [
      "Best params: {'max_depth': 9, 'n_estimators': 150}, best F1-score: 0.35370786783618374\n"
     ]
    }
   ],
   "source": [
    "rf = RandomForestClassifier(class_weight='balanced', random_state=RANDOM_STATE)\n",
    "\n",
    "params = {\n",
    "    'n_estimators': list(range(30, 151, 30)),\n",
    "    'max_depth': list(range(4, 10))\n",
    "}\n",
    "\n",
    "clf = GridSearchCV(rf, params, scoring='f1', cv=5, n_jobs=-1)\n",
    "clf.fit(train_tf_idf, y_train)\n",
    "print(f'Best params: {clf.best_params_}, best F1-score: {clf.best_score_}')"
   ]
  },
  {
   "cell_type": "markdown",
   "id": "1df00a8d-8233-49b3-a4f2-0851373a9ac6",
   "metadata": {},
   "source": [
    "#### LGBMClassifier"
   ]
  },
  {
   "cell_type": "code",
   "execution_count": 56,
   "id": "c2ab923f-c67a-4f5c-a8db-8e9d111e9a2d",
   "metadata": {},
   "outputs": [
    {
     "name": "stdout",
     "output_type": "stream",
     "text": [
      "Best params: {'n_estimators': 200}, best F1-score: 0.7465906985589795\n"
     ]
    }
   ],
   "source": [
    "lgb = LGBMClassifier(class_weight='balanced', random_state=RANDOM_STATE, verbosity=-1)\n",
    "\n",
    "params = {\n",
    "    'n_estimators': list(range(40, 201, 40))\n",
    "}\n",
    "\n",
    "clf = GridSearchCV(lgb, params, scoring='f1', cv=5, n_jobs=-1)\n",
    "clf.fit(train_tf_idf, y_train)\n",
    "print(f'Best params: {clf.best_params_}, best F1-score: {clf.best_score_}')"
   ]
  },
  {
   "cell_type": "markdown",
   "id": "05987f98-3903-4576-8665-067a376dd6ea",
   "metadata": {},
   "source": [
    "#### Вывод\n",
    "\n",
    "В ходе исследования были перепробованы различные модели: логистическая регрессия, деревья решений, случайный лес и бустинг в реализации lightgbm. Лучший результат показала модель логистической регрессии, учитывавшая дисбаланс классов. Ее возьмем для проведения итогового тестирования\n",
    "\n",
    "### Итоговое тестирование"
   ]
  },
  {
   "cell_type": "code",
   "execution_count": 57,
   "id": "50e4a6da-da2e-4950-bc36-6830a8ba6367",
   "metadata": {},
   "outputs": [
    {
     "name": "stdout",
     "output_type": "stream",
     "text": [
      "F1-score: 0.7441758722519961\n"
     ]
    }
   ],
   "source": [
    "model = LogisticRegression(C=1, max_iter=500, random_state=RANDOM_STATE, class_weight='balanced')\n",
    "model.fit(train_tf_idf, y_train)\n",
    "pred = model.predict(test_tf_idf)\n",
    "print('F1-score:', f1_score(y_test, pred))"
   ]
  },
  {
   "cell_type": "markdown",
   "id": "d5b1bc19-3716-4dae-b824-2d00ad8f9535",
   "metadata": {},
   "source": [
    "По итогам тестирования логистическая регрессия показала результат, сравнимый с полученным на кросс-валидации."
   ]
  },
  {
   "cell_type": "markdown",
   "id": "c2670063-8187-43e7-b363-ec5225e1b708",
   "metadata": {},
   "source": [
    "### Итоговый вывод\n",
    "\n",
    "* В ходе исследования были изучены разные модели машинного обучения, начиная от `LogisticRegression` и кончая `LGBMClassifier`\n",
    "\n",
    "* Обучение моделей проводилось двумя способами: без учета дисбаланса классов и с учетом этого дисбаланса\n",
    "\n",
    "* Лучший результат показала логистическая регрессия, обученная с учетом дисбаланса классов\n",
    "\n",
    "* Результаты итогового тестирования лучшей модели:\n",
    "  \n",
    "    * параметры: `C=1, max_iter=500, random_state=42, class_weight='balanced'`\n",
    "    \n",
    "    * F1-score: 0.74"
   ]
  },
  {
   "cell_type": "code",
   "execution_count": null,
   "id": "3e3e7353-b110-4508-a315-1915ab433638",
   "metadata": {},
   "outputs": [],
   "source": []
  }
 ],
 "metadata": {
  "kernelspec": {
   "display_name": "Python 3 (ipykernel)",
   "language": "python",
   "name": "python3"
  },
  "language_info": {
   "codemirror_mode": {
    "name": "ipython",
    "version": 3
   },
   "file_extension": ".py",
   "mimetype": "text/x-python",
   "name": "python",
   "nbconvert_exporter": "python",
   "pygments_lexer": "ipython3",
   "version": "3.11.7"
  }
 },
 "nbformat": 4,
 "nbformat_minor": 5
}
